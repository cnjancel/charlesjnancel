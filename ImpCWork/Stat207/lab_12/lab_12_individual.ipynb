{
 "cells": [
  {
   "cell_type": "markdown",
   "metadata": {},
   "source": [
    "# STAT 207 Lab Assignment 12 - Individual Part - [21 Points]\n",
    "\n",
    "\n",
    "\n",
    "## <u>Case Study</u>: Classifying Airbnb Superhost Status\n",
    "\n",
    "Suppose that you have a spare room in your house (in Seattle) and you are considering advertising this room to guests on Airbnb. Airbnb superhosts are considered to be experienced hosts who provide a shining example for other hosts, and extraordinary experiences for their guests. Once a host reaches Superhost status, a superhost badge will automatically appear on their listing and profile to help guests identify them. You would like to assess your chances of being named a superhost with your property.\n",
    "\n",
    "The following dataset is a sample (assume random) of available Airbnb listings in Seattle, WA. These listings were collected in January 2016, and filtered to just contain listings from the five most popular Seattlbe neighborhoods (for Airbnb listings) and just contain listings that are either in a house or apartment property.\n",
    "\n",
    "This dataset contains the following variables.\n",
    "\n",
    "**Listing Information**\n",
    "The dataset contains the following information about the Airbnb *listing*:\n",
    "* <u>price</u>: price of the listing (per night)(in US dollars)\n",
    "* <u>review_scores_rating</u>: the average rating of the listing [0,100] (100 is the best)\n",
    "* <u>number_of_reviews</u>: the number of reviews for the listing\n",
    "* <u>security_deposit</u>: the security deposit required for the listing (in US dollars)\n",
    "* <u>cleaning_fee</u>: the cleaning fee required for the listing (in US dollars)\n",
    "* <u>neighborhood</u>: the neighborhood of Seattle the listing is located in\n",
    "* <u>property_type</u>: is the listing in a 'House' or 'Apartment'\n",
    "* <u>room_type</u>: is the listing a 'Entire home/apt', 'Private room', or 'Shared room'\n",
    "* <u>accommodates</u>: how many guests will the listing accommodate\n",
    "* <u>bathrooms</u>:how many bathrooms does the listing have\n",
    "* <u>beds</u>: how many beds does the listing have\n",
    "\n",
    "**Host Information**\n",
    "The dataset also contains the following information about the *host* of the given Airbnb listing:\n",
    "* <u>host_is_superhost</u>: is the host a \"superhost\": t=True, f=False\n",
    "* <u>host_has_profile_pic</u>: does the host have a profile pic in their bio: t=True, f=False\n",
    "* <u>host_response_time</u>: how fast will the host respond to requests (on average)\n",
    "\n",
    "## Research Goals\n",
    "\n",
    "### Primary Research Goal\n",
    "The primary research goal that we will pursue in this lab will be to build a predictive model that effectively predicts the `probability a Seattle Airbnb host is a **superhost**` for *new Seattle Airbnb listings/hosts* given some combination of the `remaining explanatory variables`.\n",
    "\n",
    "### Secondary Research Goal\n",
    "\n",
    "Ideally, we would also like to interpret our final model.\n",
    "\n",
    "\n",
    "\n",
    "## Points\n",
    "\n",
    "<p>&nbsp;</p>\n",
    "<table style=\"border: none;border-collapse: collapse;width:102pt;\">\n",
    "    <tbody>\n",
    "        <tr>\n",
    "            <td style=\"padding:0px;color:black;font-size:15px;font-weight:700;font-style:normal;text-decoration:none;font-family:Calibri, sans-serif;text-align:right;vertical-align:bottom;border:.5pt solid windowtext;height:14.25pt;width:51pt;\">Problem</td>\n",
    "            <td style=\"padding:0px;color:black;font-size:15px;font-weight:700;font-style:normal;text-decoration:none;font-family:Calibri, sans-serif;text-align:general;vertical-align:bottom;border:.5pt solid windowtext;border-left:none;width:51pt;\">Points</td>\n",
    "        </tr>\n",
    "        <tr>\n",
    "            <td style=\"padding:0px;color:black;font-size:15px;font-weight:400;font-style:normal;text-decoration:none;font-family:Calibri, sans-serif;text-align:right;vertical-align:bottom;border:.5pt solid windowtext;height:14.25pt;border-top:none;\">1.1</td>\n",
    "            <td style=\"padding:0px;color:black;font-size:15px;font-weight:400;font-style:normal;text-decoration:none;font-family:Calibri, sans-serif;text-align:right;vertical-align:bottom;border:.5pt solid windowtext;border-top:none;border-left:none;\">0.25</td>\n",
    "        </tr>\n",
    "        <tr>\n",
    "            <td style=\"padding:0px;color:black;font-size:15px;font-weight:400;font-style:normal;text-decoration:none;font-family:Calibri, sans-serif;text-align:right;vertical-align:bottom;border:.5pt solid windowtext;height:14.25pt;border-top:none;\">1.2</td>\n",
    "            <td style=\"padding:0px;color:black;font-size:15px;font-weight:400;font-style:normal;text-decoration:none;font-family:Calibri, sans-serif;text-align:right;vertical-align:bottom;border:.5pt solid windowtext;border-top:none;border-left:none;\">0.25</td>\n",
    "        </tr>\n",
    "        <tr>\n",
    "            <td style=\"padding:0px;color:black;font-size:15px;font-weight:400;font-style:normal;text-decoration:none;font-family:Calibri, sans-serif;text-align:right;vertical-align:bottom;border:.5pt solid windowtext;height:14.25pt;border-top:none;\">1.3</td>\n",
    "            <td style=\"padding:0px;color:black;font-size:15px;font-weight:400;font-style:normal;text-decoration:none;font-family:Calibri, sans-serif;text-align:right;vertical-align:bottom;border:.5pt solid windowtext;border-top:none;border-left:none;\">0.5</td>\n",
    "        </tr>\n",
    "        <tr>\n",
    "            <td style=\"padding:0px;color:black;font-size:15px;font-weight:400;font-style:normal;text-decoration:none;font-family:Calibri, sans-serif;text-align:right;vertical-align:bottom;border:.5pt solid windowtext;height:14.25pt;border-top:none;\">1.4.1</td>\n",
    "            <td style=\"padding:0px;color:black;font-size:15px;font-weight:400;font-style:normal;text-decoration:none;font-family:Calibri, sans-serif;text-align:right;vertical-align:bottom;border:.5pt solid windowtext;border-top:none;border-left:none;\">0.5</td>\n",
    "        </tr>\n",
    "        <tr>\n",
    "            <td style=\"padding:0px;color:black;font-size:15px;font-weight:400;font-style:normal;text-decoration:none;font-family:Calibri, sans-serif;text-align:right;vertical-align:bottom;border:.5pt solid windowtext;height:14.25pt;border-top:none;\">1.4.2</td>\n",
    "            <td style=\"padding:0px;color:black;font-size:15px;font-weight:400;font-style:normal;text-decoration:none;font-family:Calibri, sans-serif;text-align:right;vertical-align:bottom;border:.5pt solid windowtext;border-top:none;border-left:none;\">1</td>\n",
    "        </tr>\n",
    "        <tr>\n",
    "            <td style=\"padding:0px;color:black;font-size:15px;font-weight:400;font-style:normal;text-decoration:none;font-family:Calibri, sans-serif;text-align:right;vertical-align:bottom;border:.5pt solid windowtext;height:14.25pt;border-top:none;\">1.4.3</td>\n",
    "            <td style=\"padding:0px;color:black;font-size:15px;font-weight:400;font-style:normal;text-decoration:none;font-family:Calibri, sans-serif;text-align:right;vertical-align:bottom;border:.5pt solid windowtext;border-top:none;border-left:none;\">1</td>\n",
    "        </tr>\n",
    "        <tr>\n",
    "            <td style=\"padding:0px;color:black;font-size:15px;font-weight:400;font-style:normal;text-decoration:none;font-family:Calibri, sans-serif;text-align:right;vertical-align:bottom;border:.5pt solid windowtext;height:14.25pt;border-top:none;\">2.1</td>\n",
    "            <td style=\"padding:0px;color:black;font-size:15px;font-weight:400;font-style:normal;text-decoration:none;font-family:Calibri, sans-serif;text-align:right;vertical-align:bottom;border:.5pt solid windowtext;border-top:none;border-left:none;\">1</td>\n",
    "        </tr>\n",
    "        <tr>\n",
    "            <td style=\"padding:0px;color:black;font-size:15px;font-weight:400;font-style:normal;text-decoration:none;font-family:Calibri, sans-serif;text-align:right;vertical-align:bottom;border:.5pt solid windowtext;height:14.25pt;border-top:none;\">2.2</td>\n",
    "            <td style=\"padding:0px;color:black;font-size:15px;font-weight:400;font-style:normal;text-decoration:none;font-family:Calibri, sans-serif;text-align:right;vertical-align:bottom;border:.5pt solid windowtext;border-top:none;border-left:none;\">2</td>\n",
    "        </tr>\n",
    "        <tr>\n",
    "            <td style=\"padding:0px;color:black;font-size:15px;font-weight:400;font-style:normal;text-decoration:none;font-family:Calibri, sans-serif;text-align:right;vertical-align:bottom;border:.5pt solid windowtext;height:14.25pt;border-top:none;\">2.3</td>\n",
    "            <td style=\"padding:0px;color:black;font-size:15px;font-weight:400;font-style:normal;text-decoration:none;font-family:Calibri, sans-serif;text-align:right;vertical-align:bottom;border:.5pt solid windowtext;border-top:none;border-left:none;\">1</td>\n",
    "        </tr>\n",
    "        <tr>\n",
    "            <td style=\"padding:0px;color:black;font-size:15px;font-weight:400;font-style:normal;text-decoration:none;font-family:Calibri, sans-serif;text-align:right;vertical-align:bottom;border:.5pt solid windowtext;height:14.25pt;border-top:none;\">2.4</td>\n",
    "            <td style=\"padding:0px;color:black;font-size:15px;font-weight:400;font-style:normal;text-decoration:none;font-family:Calibri, sans-serif;text-align:right;vertical-align:bottom;border:.5pt solid windowtext;border-top:none;border-left:none;\">1</td>\n",
    "        </tr>\n",
    "        <tr>\n",
    "            <td style=\"padding:0px;color:black;font-size:15px;font-weight:400;font-style:normal;text-decoration:none;font-family:Calibri, sans-serif;text-align:right;vertical-align:bottom;border:.5pt solid windowtext;height:14.25pt;border-top:none;\">3</td>\n",
    "            <td style=\"padding:0px;color:black;font-size:15px;font-weight:400;font-style:normal;text-decoration:none;font-family:Calibri, sans-serif;text-align:right;vertical-align:bottom;border:.5pt solid windowtext;border-top:none;border-left:none;\">3.5</td>\n",
    "        </tr>\n",
    "        <tr>\n",
    "            <td style=\"padding:0px;color:black;font-size:15px;font-weight:400;font-style:normal;text-decoration:none;font-family:Calibri, sans-serif;text-align:right;vertical-align:bottom;border:.5pt solid windowtext;height:14.25pt;border-top:none;\">4.1</td>\n",
    "            <td style=\"padding:0px;color:black;font-size:15px;font-weight:400;font-style:normal;text-decoration:none;font-family:Calibri, sans-serif;text-align:right;vertical-align:bottom;border:.5pt solid windowtext;border-top:none;border-left:none;\">2</td>\n",
    "        </tr>\n",
    "        <tr>\n",
    "            <td style=\"padding:0px;color:black;font-size:15px;font-weight:400;font-style:normal;text-decoration:none;font-family:Calibri, sans-serif;text-align:right;vertical-align:bottom;border:.5pt solid windowtext;height:14.25pt;border-top:none;\">4.2</td>\n",
    "            <td style=\"padding:0px;color:black;font-size:15px;font-weight:400;font-style:normal;text-decoration:none;font-family:Calibri, sans-serif;text-align:right;vertical-align:bottom;border:.5pt solid windowtext;border-top:none;border-left:none;\">2</td>\n",
    "        </tr>\n",
    "        <tr>\n",
    "            <td style=\"padding:0px;color:black;font-size:15px;font-weight:400;font-style:normal;text-decoration:none;font-family:Calibri, sans-serif;text-align:right;vertical-align:bottom;border:.5pt solid windowtext;height:14.25pt;border-top:none;\">4.3</td>\n",
    "            <td style=\"padding:0px;color:black;font-size:15px;font-weight:400;font-style:normal;text-decoration:none;font-family:Calibri, sans-serif;text-align:right;vertical-align:bottom;border:.5pt solid windowtext;border-top:none;border-left:none;\">1</td>\n",
    "        </tr>\n",
    "        <tr>\n",
    "            <td style=\"padding:0px;color:black;font-size:15px;font-weight:400;font-style:normal;text-decoration:none;font-family:Calibri, sans-serif;text-align:right;vertical-align:bottom;border:.5pt solid windowtext;height:14.25pt;border-top:none;\">5.1</td>\n",
    "            <td style=\"padding:0px;color:black;font-size:15px;font-weight:400;font-style:normal;text-decoration:none;font-family:Calibri, sans-serif;text-align:right;vertical-align:bottom;border:.5pt solid windowtext;border-top:none;border-left:none;\">1</td>\n",
    "        </tr>\n",
    "        <tr>\n",
    "            <td style=\"padding:0px;color:black;font-size:15px;font-weight:400;font-style:normal;text-decoration:none;font-family:Calibri, sans-serif;text-align:right;vertical-align:bottom;border:.5pt solid windowtext;height:14.25pt;border-top:none;\">5.2</td>\n",
    "            <td style=\"padding:0px;color:black;font-size:15px;font-weight:400;font-style:normal;text-decoration:none;font-family:Calibri, sans-serif;text-align:right;vertical-align:bottom;border:.5pt solid windowtext;border-top:none;border-left:none;\">1</td>\n",
    "        </tr>\n",
    "        <tr>\n",
    "            <td style=\"padding:0px;color:black;font-size:15px;font-weight:400;font-style:normal;text-decoration:none;font-family:Calibri, sans-serif;text-align:right;vertical-align:bottom;border:.5pt solid windowtext;height:14.25pt;border-top:none;\">5.3</td>\n",
    "            <td style=\"padding:0px;color:black;font-size:15px;font-weight:400;font-style:normal;text-decoration:none;font-family:Calibri, sans-serif;text-align:right;vertical-align:bottom;border:.5pt solid windowtext;border-top:none;border-left:none;\">1</td>\n",
    "        </tr>\n",
    "        <tr>\n",
    "            <td style=\"padding:0px;color:black;font-size:15px;font-weight:400;font-style:normal;text-decoration:none;font-family:Calibri, sans-serif;text-align:right;vertical-align:bottom;border:.5pt solid windowtext;height:14.25pt;border-top:none;\">5.4</td>\n",
    "            <td style=\"padding:0px;color:black;font-size:15px;font-weight:400;font-style:normal;text-decoration:none;font-family:Calibri, sans-serif;text-align:right;vertical-align:bottom;border:.5pt solid windowtext;border-top:none;border-left:none;\">1</td>\n",
    "        </tr>\n",
    "    </tbody>\n",
    "</table>"
   ]
  },
  {
   "cell_type": "code",
   "execution_count": 51,
   "metadata": {},
   "outputs": [],
   "source": [
    "import pandas as pd\n",
    "import numpy as np"
   ]
  },
  {
   "cell_type": "markdown",
   "metadata": {},
   "source": [
    "## 1. Basic Data Examination and Cleaning\n",
    "\n",
    "### 1.1. Reading the Dataset\n",
    "\n",
    "1. Read this csv file into a dataframe.\n",
    "\n",
    "2. Display your dataframe.\n",
    "\n",
    "3. Show how many rows your dataframe has.\n",
    "\n"
   ]
  },
  {
   "cell_type": "code",
   "execution_count": 52,
   "metadata": {},
   "outputs": [],
   "source": [
    "airbnb = pd.read_csv('seattle_airbnb_listings_cleaned.csv')"
   ]
  },
  {
   "cell_type": "code",
   "execution_count": 53,
   "metadata": {},
   "outputs": [
    {
     "data": {
      "text/plain": [
       "(   price  review_scores_rating  number_of_reviews  security_deposit  \\\n",
       " 0    300                   100                 24               500   \n",
       " 1    149                    96                 11               300   \n",
       " 2     95                    95                 79               150   \n",
       " 3    105                   100                 13               500   \n",
       " 4    140                    99                 30               250   \n",
       " \n",
       "    cleaning_fee neighborhood property_type        room_type  accommodates  \\\n",
       " 0            95  Wallingford         House  Entire home/apt             5   \n",
       " 1           105  Wallingford     Apartment  Entire home/apt             6   \n",
       " 2            40  Wallingford     Apartment  Entire home/apt             3   \n",
       " 3            50  Wallingford         House     Private room             2   \n",
       " 4            65  Wallingford         House  Entire home/apt             2   \n",
       " \n",
       "    bathrooms  beds  host_response_time  host_response_rate host_is_superhost  \\\n",
       " 0        1.5     3  within a few hours                 1.0                 t   \n",
       " 1        1.0     3      within an hour                 1.0                 f   \n",
       " 2        1.0     2      within an hour                 1.0                 f   \n",
       " 3        2.0     1  within a few hours                 1.0                 t   \n",
       " 4        1.0     1      within an hour                 1.0                 t   \n",
       " \n",
       "   host_has_profile_pic host_identity_verified  \n",
       " 0                    t                      t  \n",
       " 1                    t                      t  \n",
       " 2                    t                      t  \n",
       " 3                    t                      t  \n",
       " 4                    t                      t  ,\n",
       " 339)"
      ]
     },
     "execution_count": 53,
     "metadata": {},
     "output_type": "execute_result"
    }
   ],
   "source": [
    "# Displaying the first few rows of the DataFrame\n",
    "\n",
    "airbnb_head = airbnb.head()\n",
    "\n",
    "\n",
    "\n",
    "# Showing the number of rows in the DataFrame\n",
    "\n",
    "num_rows = airbnb.shape[0]\n",
    "\n",
    "\n",
    "\n",
    "airbnb_head, num_rows"
   ]
  },
  {
   "cell_type": "code",
   "execution_count": null,
   "metadata": {},
   "outputs": [],
   "source": []
  },
  {
   "cell_type": "markdown",
   "metadata": {},
   "source": [
    "### 1.2. 0/1 Response Variable\n",
    "\n",
    "Create a new 0/1 variable in your dataset in which `superhosts=1` and `nonsuperhosts=0`. "
   ]
  },
  {
   "cell_type": "code",
   "execution_count": 54,
   "metadata": {},
   "outputs": [
    {
     "data": {
      "text/html": [
       "<div>\n",
       "<style scoped>\n",
       "    .dataframe tbody tr th:only-of-type {\n",
       "        vertical-align: middle;\n",
       "    }\n",
       "\n",
       "    .dataframe tbody tr th {\n",
       "        vertical-align: top;\n",
       "    }\n",
       "\n",
       "    .dataframe thead th {\n",
       "        text-align: right;\n",
       "    }\n",
       "</style>\n",
       "<table border=\"1\" class=\"dataframe\">\n",
       "  <thead>\n",
       "    <tr style=\"text-align: right;\">\n",
       "      <th></th>\n",
       "      <th>price</th>\n",
       "      <th>review_scores_rating</th>\n",
       "      <th>number_of_reviews</th>\n",
       "      <th>security_deposit</th>\n",
       "      <th>cleaning_fee</th>\n",
       "      <th>neighborhood</th>\n",
       "      <th>property_type</th>\n",
       "      <th>room_type</th>\n",
       "      <th>accommodates</th>\n",
       "      <th>bathrooms</th>\n",
       "      <th>beds</th>\n",
       "      <th>host_response_time</th>\n",
       "      <th>host_response_rate</th>\n",
       "      <th>host_is_superhost</th>\n",
       "      <th>host_has_profile_pic</th>\n",
       "      <th>host_identity_verified</th>\n",
       "    </tr>\n",
       "  </thead>\n",
       "  <tbody>\n",
       "    <tr>\n",
       "      <th>0</th>\n",
       "      <td>300</td>\n",
       "      <td>100</td>\n",
       "      <td>24</td>\n",
       "      <td>500</td>\n",
       "      <td>95</td>\n",
       "      <td>Wallingford</td>\n",
       "      <td>House</td>\n",
       "      <td>Entire home/apt</td>\n",
       "      <td>5</td>\n",
       "      <td>1.5</td>\n",
       "      <td>3</td>\n",
       "      <td>within a few hours</td>\n",
       "      <td>1.0</td>\n",
       "      <td>1</td>\n",
       "      <td>t</td>\n",
       "      <td>t</td>\n",
       "    </tr>\n",
       "    <tr>\n",
       "      <th>1</th>\n",
       "      <td>149</td>\n",
       "      <td>96</td>\n",
       "      <td>11</td>\n",
       "      <td>300</td>\n",
       "      <td>105</td>\n",
       "      <td>Wallingford</td>\n",
       "      <td>Apartment</td>\n",
       "      <td>Entire home/apt</td>\n",
       "      <td>6</td>\n",
       "      <td>1.0</td>\n",
       "      <td>3</td>\n",
       "      <td>within an hour</td>\n",
       "      <td>1.0</td>\n",
       "      <td>0</td>\n",
       "      <td>t</td>\n",
       "      <td>t</td>\n",
       "    </tr>\n",
       "    <tr>\n",
       "      <th>2</th>\n",
       "      <td>95</td>\n",
       "      <td>95</td>\n",
       "      <td>79</td>\n",
       "      <td>150</td>\n",
       "      <td>40</td>\n",
       "      <td>Wallingford</td>\n",
       "      <td>Apartment</td>\n",
       "      <td>Entire home/apt</td>\n",
       "      <td>3</td>\n",
       "      <td>1.0</td>\n",
       "      <td>2</td>\n",
       "      <td>within an hour</td>\n",
       "      <td>1.0</td>\n",
       "      <td>0</td>\n",
       "      <td>t</td>\n",
       "      <td>t</td>\n",
       "    </tr>\n",
       "    <tr>\n",
       "      <th>3</th>\n",
       "      <td>105</td>\n",
       "      <td>100</td>\n",
       "      <td>13</td>\n",
       "      <td>500</td>\n",
       "      <td>50</td>\n",
       "      <td>Wallingford</td>\n",
       "      <td>House</td>\n",
       "      <td>Private room</td>\n",
       "      <td>2</td>\n",
       "      <td>2.0</td>\n",
       "      <td>1</td>\n",
       "      <td>within a few hours</td>\n",
       "      <td>1.0</td>\n",
       "      <td>1</td>\n",
       "      <td>t</td>\n",
       "      <td>t</td>\n",
       "    </tr>\n",
       "    <tr>\n",
       "      <th>4</th>\n",
       "      <td>140</td>\n",
       "      <td>99</td>\n",
       "      <td>30</td>\n",
       "      <td>250</td>\n",
       "      <td>65</td>\n",
       "      <td>Wallingford</td>\n",
       "      <td>House</td>\n",
       "      <td>Entire home/apt</td>\n",
       "      <td>2</td>\n",
       "      <td>1.0</td>\n",
       "      <td>1</td>\n",
       "      <td>within an hour</td>\n",
       "      <td>1.0</td>\n",
       "      <td>1</td>\n",
       "      <td>t</td>\n",
       "      <td>t</td>\n",
       "    </tr>\n",
       "  </tbody>\n",
       "</table>\n",
       "</div>"
      ],
      "text/plain": [
       "   price  review_scores_rating  number_of_reviews  security_deposit  \\\n",
       "0    300                   100                 24               500   \n",
       "1    149                    96                 11               300   \n",
       "2     95                    95                 79               150   \n",
       "3    105                   100                 13               500   \n",
       "4    140                    99                 30               250   \n",
       "\n",
       "   cleaning_fee neighborhood property_type        room_type  accommodates  \\\n",
       "0            95  Wallingford         House  Entire home/apt             5   \n",
       "1           105  Wallingford     Apartment  Entire home/apt             6   \n",
       "2            40  Wallingford     Apartment  Entire home/apt             3   \n",
       "3            50  Wallingford         House     Private room             2   \n",
       "4            65  Wallingford         House  Entire home/apt             2   \n",
       "\n",
       "   bathrooms  beds  host_response_time  host_response_rate  host_is_superhost  \\\n",
       "0        1.5     3  within a few hours                 1.0                  1   \n",
       "1        1.0     3      within an hour                 1.0                  0   \n",
       "2        1.0     2      within an hour                 1.0                  0   \n",
       "3        2.0     1  within a few hours                 1.0                  1   \n",
       "4        1.0     1      within an hour                 1.0                  1   \n",
       "\n",
       "  host_has_profile_pic host_identity_verified  \n",
       "0                    t                      t  \n",
       "1                    t                      t  \n",
       "2                    t                      t  \n",
       "3                    t                      t  \n",
       "4                    t                      t  "
      ]
     },
     "execution_count": 54,
     "metadata": {},
     "output_type": "execute_result"
    }
   ],
   "source": [
    "airbnb['host_is_superhost'] = airbnb['host_is_superhost'].replace({'t':1, 'f':0})\n",
    "airbnb.head()"
   ]
  },
  {
   "cell_type": "markdown",
   "metadata": {},
   "source": [
    "### 1.3. Train-Test-Split \n",
    "\n",
    "Create a training dataset and a test dataset from your dataframe using a random state of `101` and a test dataset size that is a random sample of about 20% of the observations from the original dataset."
   ]
  },
  {
   "cell_type": "code",
   "execution_count": 55,
   "metadata": {},
   "outputs": [
    {
     "data": {
      "text/plain": [
       "(     review_scores_rating  number_of_reviews neighborhood        room_type  \\\n",
       " 231                    85                255     Broadway  Entire home/apt   \n",
       " 259                    99                 21     Broadway  Entire home/apt   \n",
       " 165                    95                  4     Belltown  Entire home/apt   \n",
       " 89                    100                  4        Minor  Entire home/apt   \n",
       " 295                    96                 67      Fremont  Entire home/apt   \n",
       " \n",
       "     property_type  \n",
       " 231     Apartment  \n",
       " 259     Apartment  \n",
       " 165     Apartment  \n",
       " 89          House  \n",
       " 295         House  ,\n",
       " 231    0\n",
       " 259    0\n",
       " 165    0\n",
       " 89     0\n",
       " 295    1\n",
       " Name: host_is_superhost, dtype: int64)"
      ]
     },
     "execution_count": 55,
     "metadata": {},
     "output_type": "execute_result"
    }
   ],
   "source": [
    "from sklearn.model_selection import train_test_split\n",
    "\n",
    "# Define X and y\n",
    "\n",
    "X = airbnb[['review_scores_rating', 'number_of_reviews', 'neighborhood', 'room_type', 'property_type']]\n",
    "y = airbnb['host_is_superhost']\n",
    "\n",
    "# Split the Data into Training and Testing Sets\n",
    "\n",
    "X_train, X_test, y_train, y_test = train_test_split(X, y, test_size=0.20, random_state=101)\n",
    "# Display the first few rows of the training data\n",
    "X_train.head(), y_train.head()"
   ]
  },
  {
   "cell_type": "code",
   "execution_count": 56,
   "metadata": {},
   "outputs": [
    {
     "data": {
      "text/plain": [
       "Index(['review_scores_rating', 'number_of_reviews'], dtype='object')"
      ]
     },
     "execution_count": 56,
     "metadata": {},
     "output_type": "execute_result"
    }
   ],
   "source": [
    "# Identifying numerical columns in the dataset\n",
    "numerical_columns = X_train.select_dtypes(include=['int64', 'float64']).columns\n",
    "numerical_columns\n"
   ]
  },
  {
   "cell_type": "markdown",
   "metadata": {},
   "source": [
    "### 1.4. Numerical Explanatory Variable Scaling\n",
    "\n",
    "#### 1.4.1. Numerical Explanatory Variable Standard Deviations\n",
    "\n",
    "First, calculate the standard deviation of each of your numerical explanatory variables in your training dataset."
   ]
  },
  {
   "cell_type": "code",
   "execution_count": 57,
   "metadata": {},
   "outputs": [
    {
     "data": {
      "text/plain": [
       "(5.911309790210149, 34.967781105714366)"
      ]
     },
     "execution_count": 57,
     "metadata": {},
     "output_type": "execute_result"
    }
   ],
   "source": [
    "# Calculating the standard deviations for 'review_scores_rating' and 'number_of_reviews' in the training dataset\n",
    "std_dev_review_scores_rating = X_train['review_scores_rating'].std()\n",
    "std_dev_number_of_reviews = X_train['number_of_reviews'].std()\n",
    "\n",
    "std_dev_review_scores_rating, std_dev_number_of_reviews"
   ]
  },
  {
   "cell_type": "markdown",
   "metadata": {},
   "source": [
    "#### 1.4.2. Scaling the Numerical Explanatory Variables in the Training Dataset\n",
    "\n",
    "Just like we saw in a linear regression model, if the standard deviations of the numerical explanatory variables in a logistic regression model are not all roughly equal, then we cannot interpret the magnitude of the slopes as reflecting the predictive power that the corresponding variable brings to the model.\n",
    "\n",
    "Because we'd now like to (ideally) interpret the slope magnitudes of our model in this way, z-score scale the numerical explanatory variables in your training dataset (using the TRAINING dataset means and standard deviations.)"
   ]
  },
  {
   "cell_type": "code",
   "execution_count": 58,
   "metadata": {},
   "outputs": [
    {
     "data": {
      "text/html": [
       "<div>\n",
       "<style scoped>\n",
       "    .dataframe tbody tr th:only-of-type {\n",
       "        vertical-align: middle;\n",
       "    }\n",
       "\n",
       "    .dataframe tbody tr th {\n",
       "        vertical-align: top;\n",
       "    }\n",
       "\n",
       "    .dataframe thead th {\n",
       "        text-align: right;\n",
       "    }\n",
       "</style>\n",
       "<table border=\"1\" class=\"dataframe\">\n",
       "  <thead>\n",
       "    <tr style=\"text-align: right;\">\n",
       "      <th></th>\n",
       "      <th>review_scores_rating</th>\n",
       "      <th>number_of_reviews</th>\n",
       "    </tr>\n",
       "  </thead>\n",
       "  <tbody>\n",
       "    <tr>\n",
       "      <th>231</th>\n",
       "      <td>-1.637267</td>\n",
       "      <td>6.547787</td>\n",
       "    </tr>\n",
       "    <tr>\n",
       "      <th>259</th>\n",
       "      <td>0.735457</td>\n",
       "      <td>-0.156469</td>\n",
       "    </tr>\n",
       "    <tr>\n",
       "      <th>165</th>\n",
       "      <td>0.057536</td>\n",
       "      <td>-0.643530</td>\n",
       "    </tr>\n",
       "    <tr>\n",
       "      <th>89</th>\n",
       "      <td>0.904937</td>\n",
       "      <td>-0.643530</td>\n",
       "    </tr>\n",
       "    <tr>\n",
       "      <th>295</th>\n",
       "      <td>0.227016</td>\n",
       "      <td>1.161462</td>\n",
       "    </tr>\n",
       "  </tbody>\n",
       "</table>\n",
       "</div>"
      ],
      "text/plain": [
       "     review_scores_rating  number_of_reviews\n",
       "231             -1.637267           6.547787\n",
       "259              0.735457          -0.156469\n",
       "165              0.057536          -0.643530\n",
       "89               0.904937          -0.643530\n",
       "295              0.227016           1.161462"
      ]
     },
     "execution_count": 58,
     "metadata": {},
     "output_type": "execute_result"
    }
   ],
   "source": [
    "from sklearn.preprocessing import StandardScaler\n",
    "\n",
    "# Initialize a new StandardScaler for the specific columns\n",
    "specific_scaler = StandardScaler()\n",
    "# Applying z-score scaling to 'review_scores_rating' and 'number_of_reviews' in the training dataset\n",
    "X_train_scaled_specific = X_train.copy()\n",
    "# Fit the scaler to the specific columns and transform them\n",
    "X_train_scaled_specific[['review_scores_rating', 'number_of_reviews']] = specific_scaler.fit_transform(X_train[['review_scores_rating', 'number_of_reviews']])\n",
    "\n",
    "# Display the first few rows of the scaled training dataset for these specific columns\n",
    "X_train_scaled_specific[['review_scores_rating', 'number_of_reviews']].head()\n"
   ]
  },
  {
   "cell_type": "markdown",
   "metadata": {},
   "source": [
    "#### 1.4.3. Scaling the Numerical Explanatory Variables in the Test Dataset\n",
    "\n",
    "Then, z-score scale the numerical explanatory variables in your TEST dataset (using the means and standard deviations from the TRAINING dataset)."
   ]
  },
  {
   "cell_type": "code",
   "execution_count": 59,
   "metadata": {},
   "outputs": [
    {
     "data": {
      "text/html": [
       "<div>\n",
       "<style scoped>\n",
       "    .dataframe tbody tr th:only-of-type {\n",
       "        vertical-align: middle;\n",
       "    }\n",
       "\n",
       "    .dataframe tbody tr th {\n",
       "        vertical-align: top;\n",
       "    }\n",
       "\n",
       "    .dataframe thead th {\n",
       "        text-align: right;\n",
       "    }\n",
       "</style>\n",
       "<table border=\"1\" class=\"dataframe\">\n",
       "  <thead>\n",
       "    <tr style=\"text-align: right;\">\n",
       "      <th></th>\n",
       "      <th>review_scores_rating</th>\n",
       "      <th>number_of_reviews</th>\n",
       "    </tr>\n",
       "  </thead>\n",
       "  <tbody>\n",
       "    <tr>\n",
       "      <th>172</th>\n",
       "      <td>0.057536</td>\n",
       "      <td>-0.643530</td>\n",
       "    </tr>\n",
       "    <tr>\n",
       "      <th>38</th>\n",
       "      <td>0.735457</td>\n",
       "      <td>0.273291</td>\n",
       "    </tr>\n",
       "    <tr>\n",
       "      <th>242</th>\n",
       "      <td>0.057536</td>\n",
       "      <td>-0.357023</td>\n",
       "    </tr>\n",
       "    <tr>\n",
       "      <th>64</th>\n",
       "      <td>0.396496</td>\n",
       "      <td>1.763126</td>\n",
       "    </tr>\n",
       "    <tr>\n",
       "      <th>181</th>\n",
       "      <td>0.565976</td>\n",
       "      <td>0.817654</td>\n",
       "    </tr>\n",
       "  </tbody>\n",
       "</table>\n",
       "</div>"
      ],
      "text/plain": [
       "     review_scores_rating  number_of_reviews\n",
       "172              0.057536          -0.643530\n",
       "38               0.735457           0.273291\n",
       "242              0.057536          -0.357023\n",
       "64               0.396496           1.763126\n",
       "181              0.565976           0.817654"
      ]
     },
     "execution_count": 59,
     "metadata": {},
     "output_type": "execute_result"
    }
   ],
   "source": [
    "# Transforming the specific columns in the test dataset using the scaler fitted to the training dataset\n",
    "X_test_scaled_specific = X_test.copy()\n",
    "X_test_scaled_specific[['review_scores_rating', 'number_of_reviews']] = specific_scaler.transform(X_test[['review_scores_rating', 'number_of_reviews']])\n",
    "\n",
    "# Display the first few rows of the scaled test dataset for these specific columns\n",
    "X_test_scaled_specific[['review_scores_rating', 'number_of_reviews']].head()\n"
   ]
  },
  {
   "cell_type": "markdown",
   "metadata": {},
   "source": [
    "## 2. Full Model Classification\n",
    "\n",
    "### 2.1. Full Logistic Regression Model\n",
    "\n",
    "First, let's fit the \"full\" model logistic regression model with our training dataset. In the interest of time, we'll call our \"full\" model the one that predicts the `probability that a host is a superhost` given the four explanatory variables below:\n",
    "* `review_scores_rating`\n",
    "* `number_of_reviews`\n",
    "* `neighborhood`\n",
    "* `room_type`\n",
    "\n",
    "\n",
    "Show the summary output table for this logistic regression model."
   ]
  },
  {
   "cell_type": "code",
   "execution_count": 60,
   "metadata": {},
   "outputs": [
    {
     "name": "stdout",
     "output_type": "stream",
     "text": [
      "Optimization terminated successfully.\n",
      "         Current function value: 0.538343\n",
      "         Iterations 8\n"
     ]
    },
    {
     "data": {
      "text/html": [
       "<table class=\"simpletable\">\n",
       "<caption>Logit Regression Results</caption>\n",
       "<tr>\n",
       "  <th>Dep. Variable:</th>   <td>host_is_superhost</td> <th>  No. Observations:  </th>  <td>   271</td>  \n",
       "</tr>\n",
       "<tr>\n",
       "  <th>Model:</th>                 <td>Logit</td>       <th>  Df Residuals:      </th>  <td>   262</td>  \n",
       "</tr>\n",
       "<tr>\n",
       "  <th>Method:</th>                 <td>MLE</td>        <th>  Df Model:          </th>  <td>     8</td>  \n",
       "</tr>\n",
       "<tr>\n",
       "  <th>Date:</th>            <td>Tue, 14 Nov 2023</td>  <th>  Pseudo R-squ.:     </th>  <td>0.09797</td> \n",
       "</tr>\n",
       "<tr>\n",
       "  <th>Time:</th>                <td>21:08:17</td>      <th>  Log-Likelihood:    </th> <td> -145.89</td> \n",
       "</tr>\n",
       "<tr>\n",
       "  <th>converged:</th>             <td>True</td>        <th>  LL-Null:           </th> <td> -161.74</td> \n",
       "</tr>\n",
       "<tr>\n",
       "  <th>Covariance Type:</th>     <td>nonrobust</td>     <th>  LLR p-value:       </th> <td>0.0001058</td>\n",
       "</tr>\n",
       "</table>\n",
       "<table class=\"simpletable\">\n",
       "<tr>\n",
       "              <td></td>                <th>coef</th>     <th>std err</th>      <th>z</th>      <th>P>|z|</th>  <th>[0.025</th>    <th>0.975]</th>  \n",
       "</tr>\n",
       "<tr>\n",
       "  <th>const</th>                    <td>   -0.2183</td> <td>    0.311</td> <td>   -0.703</td> <td> 0.482</td> <td>   -0.827</td> <td>    0.391</td>\n",
       "</tr>\n",
       "<tr>\n",
       "  <th>review_scores_rating</th>     <td>    0.9773</td> <td>    0.604</td> <td>    1.618</td> <td> 0.106</td> <td>   -0.207</td> <td>    2.161</td>\n",
       "</tr>\n",
       "<tr>\n",
       "  <th>number_of_reviews</th>        <td>    0.0916</td> <td>    0.194</td> <td>    0.472</td> <td> 0.637</td> <td>   -0.289</td> <td>    0.472</td>\n",
       "</tr>\n",
       "<tr>\n",
       "  <th>neighborhood_Broadway</th>    <td>   -1.1985</td> <td>    0.430</td> <td>   -2.788</td> <td> 0.005</td> <td>   -2.041</td> <td>   -0.356</td>\n",
       "</tr>\n",
       "<tr>\n",
       "  <th>neighborhood_Fremont</th>     <td>   -0.7518</td> <td>    0.486</td> <td>   -1.548</td> <td> 0.122</td> <td>   -1.704</td> <td>    0.200</td>\n",
       "</tr>\n",
       "<tr>\n",
       "  <th>neighborhood_Minor</th>       <td>    0.0246</td> <td>    0.460</td> <td>    0.054</td> <td> 0.957</td> <td>   -0.877</td> <td>    0.926</td>\n",
       "</tr>\n",
       "<tr>\n",
       "  <th>neighborhood_Wallingford</th> <td>   -0.7897</td> <td>    0.476</td> <td>   -1.657</td> <td> 0.097</td> <td>   -1.724</td> <td>    0.144</td>\n",
       "</tr>\n",
       "<tr>\n",
       "  <th>room_type_Private room</th>   <td>    0.3661</td> <td>    0.397</td> <td>    0.922</td> <td> 0.356</td> <td>   -0.412</td> <td>    1.144</td>\n",
       "</tr>\n",
       "<tr>\n",
       "  <th>room_type_Shared room</th>    <td>   -1.7408</td> <td>    1.058</td> <td>   -1.646</td> <td> 0.100</td> <td>   -3.814</td> <td>    0.332</td>\n",
       "</tr>\n",
       "</table>"
      ],
      "text/plain": [
       "<class 'statsmodels.iolib.summary.Summary'>\n",
       "\"\"\"\n",
       "                           Logit Regression Results                           \n",
       "==============================================================================\n",
       "Dep. Variable:      host_is_superhost   No. Observations:                  271\n",
       "Model:                          Logit   Df Residuals:                      262\n",
       "Method:                           MLE   Df Model:                            8\n",
       "Date:                Tue, 14 Nov 2023   Pseudo R-squ.:                 0.09797\n",
       "Time:                        21:08:17   Log-Likelihood:                -145.89\n",
       "converged:                       True   LL-Null:                       -161.74\n",
       "Covariance Type:            nonrobust   LLR p-value:                 0.0001058\n",
       "============================================================================================\n",
       "                               coef    std err          z      P>|z|      [0.025      0.975]\n",
       "--------------------------------------------------------------------------------------------\n",
       "const                       -0.2183      0.311     -0.703      0.482      -0.827       0.391\n",
       "review_scores_rating         0.9773      0.604      1.618      0.106      -0.207       2.161\n",
       "number_of_reviews            0.0916      0.194      0.472      0.637      -0.289       0.472\n",
       "neighborhood_Broadway       -1.1985      0.430     -2.788      0.005      -2.041      -0.356\n",
       "neighborhood_Fremont        -0.7518      0.486     -1.548      0.122      -1.704       0.200\n",
       "neighborhood_Minor           0.0246      0.460      0.054      0.957      -0.877       0.926\n",
       "neighborhood_Wallingford    -0.7897      0.476     -1.657      0.097      -1.724       0.144\n",
       "room_type_Private room       0.3661      0.397      0.922      0.356      -0.412       1.144\n",
       "room_type_Shared room       -1.7408      1.058     -1.646      0.100      -3.814       0.332\n",
       "============================================================================================\n",
       "\"\"\""
      ]
     },
     "execution_count": 60,
     "metadata": {},
     "output_type": "execute_result"
    }
   ],
   "source": [
    "from sklearn.linear_model import LogisticRegression\n",
    "import statsmodels.api as sm\n",
    "\n",
    "# Selecting the specified explanatory variables\n",
    "X_train_selected = X_train_scaled_specific[['review_scores_rating', 'number_of_reviews', 'neighborhood', 'room_type']]\n",
    "X_test_selected = X_test_scaled_specific[['review_scores_rating', 'number_of_reviews', 'neighborhood', 'room_type']]\n",
    "\n",
    "# Converting categorical variables to dummy variables\n",
    "X_train_selected_dummies = pd.get_dummies(X_train_selected, drop_first=True)\n",
    "X_test_selected_dummies = pd.get_dummies(X_test_selected, drop_first=True)\n",
    "\n",
    "# Converting boolean dummy variables to integers\n",
    "X_train_selected_dummies = X_train_selected_dummies.astype(int)\n",
    "X_test_selected_dummies = X_test_selected_dummies.astype(int)\n",
    "\n",
    "# Fitting the logistic regression model again using statsmodels\n",
    "X_train_sm = sm.add_constant(X_train_selected_dummies)  # Adding a constant for the intercept\n",
    "logit_model = sm.Logit(y_train, X_train_sm)\n",
    "logit_result = logit_model.fit()\n",
    "\n",
    "# Display the summary of the logistic regression model\n",
    "logit_result.summary()\n",
    "\n"
   ]
  },
  {
   "cell_type": "markdown",
   "metadata": {},
   "source": [
    "### 2.2. Test Dataset ROC Curve\n",
    "\n",
    "Now, create an ROC curve for this logistic regression model and the **test dataset**. Also calculate the AUC of this ROC curve."
   ]
  },
  {
   "cell_type": "code",
   "execution_count": 61,
   "metadata": {},
   "outputs": [],
   "source": [
    "from sklearn.metrics import roc_curve, auc\n",
    "import matplotlib.pyplot as plt"
   ]
  },
  {
   "cell_type": "code",
   "execution_count": 62,
   "metadata": {},
   "outputs": [],
   "source": [
    "# Adding a constant to the test set for prediction\n",
    "X_test_sm = sm.add_constant(X_test_selected_dummies)\n",
    "\n",
    "# Predicting probabilities using the logistic regression model\n",
    "y_test_pred_probs = logit_result.predict(X_test_sm)\n",
    "\n",
    "# Calculating the ROC Curve and AUC\n",
    "fpr, tpr, thresholds = roc_curve(y_test, y_test_pred_probs)\n",
    "roc_auc = auc(fpr, tpr)"
   ]
  },
  {
   "cell_type": "code",
   "execution_count": 63,
   "metadata": {},
   "outputs": [
    {
     "data": {
      "image/png": "[encoded data removed]",
      "text/plain": [
       "<Figure size 640x480 with 1 Axes>"
      ]
     },
     "metadata": {},
     "output_type": "display_data"
    }
   ],
   "source": [
    "# Plotting the ROC Curve\n",
    "plt.figure()\n",
    "plt.plot(fpr, tpr, color='darkorange', lw=2, label='ROC curve (area = %0.2f)' % roc_auc)\n",
    "plt.plot([0, 1], [0, 1], color='navy', lw=2, linestyle='--')\n",
    "plt.xlim([0.0, 1.0])\n",
    "plt.ylim([0.0, 1.05])\n",
    "plt.xlabel('False Positive Rate')\n",
    "plt.ylabel('True Positive Rate')\n",
    "plt.title('Receiver Operating Characteristic')\n",
    "plt.legend(loc=\"lower right\")\n",
    "plt.show()"
   ]
  },
  {
   "cell_type": "code",
   "execution_count": 64,
   "metadata": {},
   "outputs": [
    {
     "data": {
      "text/plain": [
       "0.6931818181818181"
      ]
     },
     "execution_count": 64,
     "metadata": {},
     "output_type": "execute_result"
    }
   ],
   "source": [
    "roc_auc"
   ]
  },
  {
   "cell_type": "markdown",
   "metadata": {},
   "source": [
    "### 2.3. Interpreting the Test ROC and AUC\n",
    "\n",
    "1. Suppose we were to use the full logistic regression model to classify the observations in the test dataset. Does there exist a predictive probability threshold that we could use that would create a classification of the test dataset with close to perfect FPR and TPR? Explain.\n",
    "2. Evaluate how well the full logistic regression model would do in general when it comes to classifying the test dataset."
   ]
  },
  {
   "cell_type": "markdown",
   "metadata": {},
   "source": [
    "1. **Predictive Probability Threshold**:\n",
    "   - The ROC curve and AUC of $0.693$ suggest that the model is reasonably good but not near-perfect. There isn't a threshold that would yield close to perfect FPR and TPR.\n",
    "\n",
    "2. **Model's Classification Ability**:\n",
    "   - The AUC indicates the model's moderate ability to differentiate between classes. It's better than random guessing but not highly accurate, indicating room for improvement.\n",
    "\n",
    "In summary, the model performs adequately in classifying the test dataset, but it's not suitable for scenarios where high precision or near-perfect classification is essential."
   ]
  },
  {
   "cell_type": "markdown",
   "metadata": {},
   "source": [
    "### 2.4. Evaluating the Full Logistic Regression Model with Respect to the Primary Research Goal\n",
    "\n",
    "Based on our analysis above, how well might the full logistic regression model do when it comes to classifying *new Airbnb hosts* as either a super host or not a superhost? Explain."
   ]
  },
  {
   "cell_type": "markdown",
   "metadata": {},
   "source": [
    "The full logistic regression model, with an AUC of $0.693$, indicates moderate accuracy for classifying new Airbnb hosts as superhosts or not. While it performs reasonably well, its precision may vary for new hosts, especially if they differ from the training data. The model is a good starting point but should be used cautiously, considering potential changes in host characteristics and market dynamics. Regular updates and evaluations are recommended for sustained accuracy."
   ]
  },
  {
   "cell_type": "markdown",
   "metadata": {},
   "source": [
    "## 3. Backwards Elimination\n",
    "\n",
    "Now let's suppose we would like to try to find the logistic regression model that will yield the **highest test dataset AUC**. Use a backwards elimination algorithm to search for the logistic regression model that will yield the **highest test dataset AUC**."
   ]
  },
  {
   "cell_type": "code",
   "execution_count": 77,
   "metadata": {},
   "outputs": [
    {
     "data": {
      "text/plain": [
       "([({'neighborhood_Wallingford'}, 0.7348484848484848),\n",
       "  ({'neighborhood_Minor'}, 0.752840909090909),\n",
       "  ({'room_type_Private room'}, 0.765625)],\n",
       " ('review_scores_rating',\n",
       "  'number_of_reviews',\n",
       "  'neighborhood_Broadway',\n",
       "  'neighborhood_Fremont',\n",
       "  'room_type_Shared room'),\n",
       " 0.765625)"
      ]
     },
     "execution_count": 77,
     "metadata": {},
     "output_type": "execute_result"
    }
   ],
   "source": [
    "import itertools\n",
    "from sklearn.metrics import roc_curve, auc\n",
    "import statsmodels.api as sm\n",
    "\n",
    "# Initial setup\n",
    "best_auc = 0\n",
    "best_model_variables = None\n",
    "variables = X_train_selected_dummies.columns.tolist()\n",
    "elimination_history = []\n",
    "\n",
    "# Backwards elimination algorithm with tracking\n",
    "while len(variables) > 1:  # Ensure at least one variable remains\n",
    "    auc_by_model = {}\n",
    "    \n",
    "    # Iterate over all possible combinations of the current set of variables\n",
    "    for combo in itertools.combinations(variables, len(variables) - 1):\n",
    "        # Fit the model with the subset of variables\n",
    "        X_train_sm_subset = sm.add_constant(X_train_selected_dummies[list(combo)])\n",
    "        logit_model = sm.Logit(y_train, X_train_sm_subset).fit(disp=0)\n",
    "\n",
    "        # Predict on the test set\n",
    "        X_test_sm_subset = sm.add_constant(X_test_selected_dummies[list(combo)])\n",
    "        y_test_pred_probs = logit_model.predict(X_test_sm_subset)\n",
    "\n",
    "        # Calculate AUC\n",
    "        fpr, tpr, thresholds = roc_curve(y_test, y_test_pred_probs)\n",
    "        roc_auc = auc(fpr, tpr)\n",
    "        auc_by_model[combo] = roc_auc\n",
    "\n",
    "    # Find the best model of this iteration\n",
    "    best_combo = max(auc_by_model, key=auc_by_model.get)\n",
    "    best_combo_auc = auc_by_model[best_combo]\n",
    "\n",
    "    if best_combo_auc >= best_auc:\n",
    "        best_auc = best_combo_auc\n",
    "        best_model_variables = best_combo\n",
    "        variables_removed = set(variables) - set(best_combo)\n",
    "        elimination_history.append((variables_removed, best_combo_auc))\n",
    "        variables = list(best_combo)  # Update the list of variables for the next iteration\n",
    "    else:\n",
    "        # AUC did not improve, stop the process\n",
    "        break\n",
    "\n",
    "# Display the elimination history and the final best model\n",
    "elimination_history, best_model_variables, best_auc\n"
   ]
  },
  {
   "cell_type": "markdown",
   "metadata": {},
   "source": [
    "## 4. Selecting the Best Final Model Classification\n",
    "\n",
    "Now, we would like to use our final logistic regression model that we selected in #3 to create a classification that best meets our research goals.\n",
    "\n",
    "### 4.1. Test ROC and AUC\n",
    "\n",
    "Plot the ROC curve for this final logistic regression model and the test dataset."
   ]
  },
  {
   "cell_type": "code",
   "execution_count": 66,
   "metadata": {},
   "outputs": [],
   "source": [
    "# Final model variables based on backwards elimination\n",
    "final_variables = ['review_scores_rating', 'number_of_reviews', 'neighborhood_Broadway', \n",
    "                   'neighborhood_Fremont', 'room_type_Shared room']"
   ]
  },
  {
   "cell_type": "code",
   "execution_count": 67,
   "metadata": {},
   "outputs": [],
   "source": [
    "# Fitting the final logistic regression model\n",
    "X_train_final = sm.add_constant(X_train_selected_dummies[final_variables])\n",
    "logit_model_final = sm.Logit(y_train, X_train_final).fit(disp=0)  # disp=0 suppresses fit output\n",
    "\n",
    "# Predicting probabilities on the test set\n",
    "X_test_final = sm.add_constant(X_test_selected_dummies[final_variables])\n",
    "y_test_pred_probs_final = logit_model_final.predict(X_test_final)\n",
    "\n",
    "# Calculating ROC Curve and AUC for the final model\n",
    "fpr_final, tpr_final, thresholds_final = roc_curve(y_test, y_test_pred_probs_final)\n",
    "roc_auc_final = auc(fpr_final, tpr_final)\n"
   ]
  },
  {
   "cell_type": "code",
   "execution_count": 68,
   "metadata": {},
   "outputs": [
    {
     "data": {
      "image/png": "[encoded data removed]",
      "text/plain": [
       "<Figure size 640x480 with 1 Axes>"
      ]
     },
     "metadata": {},
     "output_type": "display_data"
    },
    {
     "data": {
      "text/plain": [
       "0.765625"
      ]
     },
     "execution_count": 68,
     "metadata": {},
     "output_type": "execute_result"
    }
   ],
   "source": [
    "# Plotting the ROC Curve for the final model\n",
    "plt.figure()\n",
    "plt.plot(fpr_final, tpr_final, color='blue', lw=2, label='ROC curve (area = %0.2f)' % roc_auc_final)\n",
    "plt.plot([0, 1], [0, 1], color='navy', lw=2, linestyle='--')\n",
    "plt.xlim([0.0, 1.0])\n",
    "plt.ylim([0.0, 1.05])\n",
    "plt.xlabel('False Positive Rate')\n",
    "plt.ylabel('True Positive Rate')\n",
    "plt.title('Receiver Operating Characteristic - Final Model')\n",
    "plt.legend(loc=\"lower right\")\n",
    "plt.show()\n",
    "\n",
    "roc_auc_final"
   ]
  },
  {
   "cell_type": "markdown",
   "metadata": {},
   "source": [
    "### 4.2. Specific Classifier Use Case\n",
    "\n",
    "Suppose that you work as a data scientist at Airbnb and you would like to design a new automated algorithm which predicts whether or not an Airbnb listing host is deserving of an Superhost status (based on the observations in this dataset). To keep existing superhosts happy, you would **ideally like for as many of the people in this dataset who are already superhosts to be awarded (ie. predicted) to be a superhost**. On the other hand, suppose that your boss has decided that **at most 25% of nonsuperhosts should be expected to be misclassified as a superhost in new datasets.**\n",
    "\n",
    "Practically speaking you'd be classifying hosts as superhosts vs. nonsuperhosts for *new datasets*.\n",
    "\n",
    "1. If we were to use the final logistic regression from #3, what predictive probability threshold should we use to create a classification that best meets these specific research goals and specifications? \n",
    "2. What false positive rate and true positive rate would the test dataset classification have if we were to use this predictive probability threshold?\n"
   ]
  },
  {
   "cell_type": "code",
   "execution_count": 69,
   "metadata": {},
   "outputs": [
    {
     "data": {
      "text/plain": [
       "(0.4052762552989877, 0.25, 0.7083333333333334)"
      ]
     },
     "execution_count": 69,
     "metadata": {},
     "output_type": "execute_result"
    }
   ],
   "source": [
    "# Identifying thresholds where FPR is at most 25%\n",
    "fpr_25_thresholds = thresholds_final[fpr_final <= 0.25]\n",
    "\n",
    "# From these thresholds, we choose the one with the highest TPR\n",
    "# This is because we want to maximize the TPR (true positive rate)\n",
    "max_tpr_threshold = fpr_25_thresholds[np.argmax(tpr_final[fpr_final <= 0.25])]\n",
    "\n",
    "# Finding the corresponding TPR and FPR for this threshold\n",
    "selected_tpr = tpr_final[np.where(thresholds_final == max_tpr_threshold)][0]\n",
    "selected_fpr = fpr_final[np.where(thresholds_final == max_tpr_threshold)][0]\n",
    "\n",
    "max_tpr_threshold, selected_fpr, selected_tpr\n",
    "\n"
   ]
  },
  {
   "cell_type": "markdown",
   "metadata": {},
   "source": [
    "1. **Predictive Probability Threshold**: Approximately $ 0.405 $. This is the threshold that balances your objectives, limiting the False Positive Rate to 25% while maximizing the True Positive Rate.\n",
    "\n",
    "2. **False Positive Rate (FPR) and True Positive Rate (TPR) at this Threshold**:\n",
    "   - **FPR**: Exactly 25%\n",
    "   - **TPR**: Approximately 70.83%\n",
    "\n",
    "Using this threshold, you can expect that exactly 25% of non-superhosts might be misclassified as superhosts, aligning with the limit set by your boss. Meanwhile, about 70.83% of actual superhosts in the test dataset are correctly identified as superhosts.\n",
    "\n",
    "This threshold effectively balances the need to correctly identify existing superhosts while maintaining the constraint on the rate of misclassification of nonsuperhosts."
   ]
  },
  {
   "cell_type": "markdown",
   "metadata": {},
   "source": [
    "### 4.3. Specificity and Sensitivity\n",
    "\n",
    "What is the specificity and sensitivity of the test dataset classification that you selected in #4.2?"
   ]
  },
  {
   "cell_type": "code",
   "execution_count": 72,
   "metadata": {},
   "outputs": [],
   "source": [
    "y_pred_class = (y_test_pred_probs_final >= 0.405).astype(int)\n",
    "\n",
    "from sklearn.metrics import confusion_matrix\n",
    "conf_matrix = confusion_matrix(y_test, y_pred_class)\n"
   ]
  },
  {
   "cell_type": "code",
   "execution_count": 73,
   "metadata": {},
   "outputs": [
    {
     "name": "stdout",
     "output_type": "stream",
     "text": [
      "Sensitivity: 0.7083333333333334\n",
      "Specificity: 0.75\n"
     ]
    }
   ],
   "source": [
    "TP = conf_matrix[1, 1]  # True Positives\n",
    "FN = conf_matrix[1, 0]  # False Negatives\n",
    "TN = conf_matrix[0, 0]  # True Negatives\n",
    "FP = conf_matrix[0, 1]  # False Positives\n",
    "\n",
    "sensitivity = TP / (TP + FN)\n",
    "specificity = TN / (TN + FP)\n",
    "\n",
    "print(\"Sensitivity:\", sensitivity)\n",
    "print(\"Specificity:\", specificity)\n"
   ]
  },
  {
   "cell_type": "markdown",
   "metadata": {},
   "source": [
    "## 5. Interpreting the Final Logistic Regression Model\n",
    "\n",
    "Finally, let's interpret the final logistic regression model selected in #3.\n",
    "\n",
    "### 5.1. Logistic Regression Equation\n",
    "\n",
    "First, put this final model into a logistic regression equation. Your equation should have the predictive probability on the left hand side. Make sure to use appropriate notation discussed in class."
   ]
  },
  {
   "cell_type": "code",
   "execution_count": 75,
   "metadata": {},
   "outputs": [
    {
     "data": {
      "text/plain": [
       "const                   -26.693348\n",
       "review_scores_rating      0.267269\n",
       "number_of_reviews         0.015202\n",
       "neighborhood_Broadway    -0.889749\n",
       "neighborhood_Fremont     -0.381103\n",
       "room_type_Shared room    -1.588911\n",
       "dtype: float64"
      ]
     },
     "execution_count": 75,
     "metadata": {},
     "output_type": "execute_result"
    }
   ],
   "source": [
    "# Converting boolean columns to integers\n",
    "X_train[final_variables] = X_train[final_variables].astype(int)\n",
    "\n",
    "# Fitting the logistic regression model again\n",
    "X_train_final = sm.add_constant(X_train[final_variables])\n",
    "logit_model_final = sm.Logit(y_train, X_train_final).fit(disp=0)\n",
    "\n",
    "# Retrieving coefficients for the logistic regression equation\n",
    "model_coefficients = logit_model_final.params\n",
    "model_coefficients"
   ]
  },
  {
   "cell_type": "markdown",
   "metadata": {},
   "source": [
    "Great, you've obtained the coefficients for your final logistic regression model. Let's construct the logistic regression equation using these coefficients. The equation is of the form:\n",
    "\n",
    "$$ P(\\text{Superhost} = 1) = \\frac{1}{1 + e^{-(\\beta_0 + \\beta_1 X_1 + \\beta_2 X_2 + \\ldots)}} $$\n",
    "\n",
    "Given your model coefficients, the equation will be:\n",
    "\n",
    "$$ P(\\text{Superhost} = 1) = \\frac{1}{1 + e^{-(-26.693 + 0.267 \\times \\text{review\\_scores\\_rating} + 0.015 \\times \\text{number\\_of\\_reviews} - 0.890 \\times \\text{neighborhood\\_Broadway} - 0.381 \\times \\text{neighborhood\\_Fremont} - 1.589 \\times \\text{room\\_type\\_Shared room})}} $$\n",
    "\n",
    "In this equation:\n",
    "- $ \\beta_0 = -26.693 $ is the intercept.\n",
    "- $ \\beta_1 = 0.267 $ is the coefficient for `review_scores_rating`.\n",
    "- $ \\beta_2 = 0.015 $ is the coefficient for `number_of_reviews`.\n",
    "- $ \\beta_3 = -0.890 $ is the coefficient for `neighborhood_Broadway`.\n",
    "- $ \\beta_4 = -0.381 $ is the coefficient for `neighborhood_Fremont`.\n",
    "- $ \\beta_5 = -1.589 $ is the coefficient for `room_type_Shared room`.\n",
    "\n",
    "This equation allows you to calculate the probability of an Airbnb host being a superhost based on these variables. Each coefficient represents the change in the log odds of being a superhost for a one-unit increase in the corresponding variable, holding other variables constant."
   ]
  },
  {
   "cell_type": "markdown",
   "metadata": {},
   "source": [
    "### 5.2. Final Model Multicollinearity\n",
    "\n",
    "Does your final model have an issue with multicollinearity? Explain."
   ]
  },
  {
   "cell_type": "code",
   "execution_count": 76,
   "metadata": {},
   "outputs": [
    {
     "name": "stdout",
     "output_type": "stream",
     "text": [
      "                Variable         VIF\n",
      "0                  const  295.318142\n",
      "1   review_scores_rating    1.100109\n",
      "2      number_of_reviews    1.048613\n",
      "3  neighborhood_Broadway    1.168576\n",
      "4   neighborhood_Fremont    1.114071\n",
      "5  room_type_Shared room    1.095941\n"
     ]
    }
   ],
   "source": [
    "from statsmodels.stats.outliers_influence import variance_inflation_factor\n",
    "\n",
    "# Assuming X_train_final contains all the explanatory variables used in the final model\n",
    "vif_data = pd.DataFrame()\n",
    "vif_data[\"Variable\"] = X_train_final.columns\n",
    "vif_data[\"VIF\"] = [variance_inflation_factor(X_train_final.values, i) for i in range(X_train_final.shape[1])]\n",
    "\n",
    "print(vif_data)\n"
   ]
  },
  {
   "cell_type": "code",
   "execution_count": null,
   "metadata": {},
   "outputs": [],
   "source": []
  },
  {
   "cell_type": "markdown",
   "metadata": {},
   "source": [
    "Based on the Variance Inflation Factor (VIF) results for the final logistic regression model:\n",
    "\n",
    "- **VIF for `const`**: The high VIF for the constant term (intercept) is typical and not a concern. It does not indicate multicollinearity among the predictors.\n",
    "- **VIF for Predictors**: All the explanatory variables (`review_scores_rating`, `number_of_reviews`, `neighborhood_Broadway`, `neighborhood_Fremont`, and `room_type_Shared room`) have VIF values well below the commonly used thresholds of 5 or 10. This suggests that there is no significant multicollinearity among these predictors.\n",
    "\n",
    "### Interpretation:\n",
    "The final model does not have an issue with multicollinearity. The VIF values for all predictors are low, indicating that each explanatory variable provides unique information to the model that is not highly correlated with the other variables.\n",
    "\n",
    "This is a positive aspect of your model, as it implies that the coefficients of the explanatory variables can be reliably interpreted without concerns about the effects of multicollinearity."
   ]
  },
  {
   "cell_type": "markdown",
   "metadata": {},
   "source": [
    "### 5.3. Predictive Power\n",
    "\n",
    "Finally, what two explanatory (or indicator) variables are suggested to bring the most predictive power to the final model? Do you have any concerns about making this interpretation?"
   ]
  },
  {
   "cell_type": "markdown",
   "metadata": {},
   "source": [
    "To determine which explanatory variables contribute the most predictive power to the final logistic regression model, we typically look at the coefficients' magnitudes and their statistical significance. In logistic regression, the magnitude and sign of a coefficient indicate the strength and direction of the relationship between each predictor and the log odds of the outcome.\n",
    "\n",
    "### Steps to Identify Most Predictive Variables:\n",
    "\n",
    "1. **Examine Coefficients**: Larger absolute values of coefficients suggest a stronger relationship with the outcome variable.\n",
    "2. **Consider Statistical Significance**: Coefficients that are statistically significant (usually p-values less than 0.05) are more likely to be meaningful predictors.\n",
    "\n",
    "Based on the coefficients you provided earlier:\n",
    "\n",
    "1. `room_type_Shared room`: Coefficient = $-1.589$\n",
    "2. `neighborhood_Broadway`: Coefficient = $-0.890$\n",
    "\n",
    "These variables have the largest absolute values of coefficients in the model, suggesting they contribute the most to predicting whether a host is a superhost.\n",
    "\n",
    "### Concerns in Interpretation:\n",
    "\n",
    "- **Contextual Relevance**: The statistical importance of a variable does not always translate to practical significance. It's essential to consider whether these variables make sense in the context of predicting superhost status.\n",
    "- **Causality**: Logistic regression coefficients do not imply causation. They only indicate associations.\n",
    "- **Scale of Variables**: The impact of a one-unit change is dependent on the scale of the variable. For binary variables (like `room_type_Shared room`), the coefficient represents the change in log odds due to the presence (or absence) of that characteristic.\n",
    "- **Model Limitations**: The model's predictive power is limited to the scope of the variables included. Important predictors not included in the model could alter these interpretations.\n",
    "\n",
    "Considering these factors is crucial when interpreting the results and making decisions based on the model."
   ]
  },
  {
   "cell_type": "markdown",
   "metadata": {},
   "source": [
    "### 5.4. Overfitting Variables\n",
    "\n",
    "Based on the results of our backwards elimination algorithm, do you have any reason to believe that any of the explanatory variables in the full model were overfitting the model? If so, which one(s)?"
   ]
  },
  {
   "cell_type": "markdown",
   "metadata": {},
   "source": [
    "Based on the results of the backwards elimination algorithm, we can observe the following:\n",
    "\n",
    "1. **Elimination History**:\n",
    "   - Removing `neighborhood_Wallingford` increased the AUC to 0.7348.\n",
    "   - Subsequently, removing `neighborhood_Minor` increased the AUC further to 0.7528.\n",
    "   - Finally, eliminating `room_type_Private room` led to the highest AUC of 0.7656.\n",
    "\n",
    "2. **Final Model Variables**:\n",
    "   - The variables that remained in the final model and contributed to the highest AUC (0.7656) are `review_scores_rating`, `number_of_reviews`, `neighborhood_Broadway`, `neighborhood_Fremont`, and `room_type_Shared room`.\n",
    "\n",
    "### Assessment of Overfitting:\n",
    "\n",
    "- **Variables Removed and AUC Improvement**: The fact that the removal of `neighborhood_Wallingford`, `neighborhood_Minor`, and `room_type_Private room` led to improvements in the AUC suggests that these variables might have been overfitting the model. In other words, they may have captured noise specific to the training data, which didn't generalize well to the test data.\n",
    "- **Final Model's Generalization**: The final set of variables that resulted in the highest AUC likely offers a better balance between fitting the training data and generalizing to new data. These variables are more robust predictors for the outcome in the context of this dataset.\n",
    "\n",
    "### Conclusion:\n",
    "\n",
    "The backwards elimination process has effectively identified a set of variables that maximizes the model's predictive accuracy while minimizing overfitting. The variables removed in the process were potential contributors to overfitting in the full model. The final model should generalize better to new datasets compared to the initial full model."
   ]
  },
  {
   "cell_type": "markdown",
   "metadata": {},
   "source": [
    "# 🎉🎉🎉 Congratulations on finishing the final lab assignment! 🎉🎉🎉 "
   ]
  }
 ],
 "metadata": {
  "kernelspec": {
   "display_name": "Python 3 (ipykernel)",
   "language": "python",
   "name": "python3"
  },
  "language_info": {
   "codemirror_mode": {
    "name": "ipython",
    "version": 3
   },
   "file_extension": ".py",
   "mimetype": "text/x-python",
   "name": "python",
   "nbconvert_exporter": "python",
   "pygments_lexer": "ipython3",
   "version": "3.11.1"
  }
 },
 "nbformat": 4,
 "nbformat_minor": 2
}
