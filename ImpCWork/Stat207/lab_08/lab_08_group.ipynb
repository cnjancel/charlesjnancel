{
 "cells": [
  {
   "cell_type": "markdown",
   "metadata": {},
   "source": [
    "# STAT 207 Lab Assignment 8 - Group Part - [7 points]\n",
    "\n",
    "\n",
    "# <u>Case Study</u>: Predictive Power of Coffee Variables when Predicting Flavor\n",
    "\n",
    "\n",
    "\n",
    "### Coffee Dataset Information\n",
    "\n",
    "In this group assignment we will return to the `coffee.csv` dataset. Information about the variables in this dataset can be found here: https://corgis-edu.github.io/corgis/csv/coffee/\n",
    "\n",
    "\n",
    "### Research Goal\n",
    "\n",
    "In this group assignment we would like to build linear regression models that predict `Data_Scores_Flavor` given:\n",
    "\n",
    "* `Data_Scores_Aroma`\n",
    "* `Data_Scores_Flavor`\n",
    "* `Data_Scores_Aftertaste`\n",
    "* `Data_Scores_Acidity`\n",
    "* `Data_Scores_Body`\n",
    "* `Data_Scores_Balance`\n",
    "* `Data_Scores_Uniformity`\n",
    "* `Data_Scores_Sweetness`\n",
    "* `Data_Scores_Moisture`.\n",
    "\n",
    "\n",
    "Specificlly, we'd like to use LASSO linear regression models to suggest:\n",
    "* which explanatory variable brings the *most amount* of predictive power to the linear regression model,\n",
    "* which explanatory variable brings the *second most amount* of predictive power to the linear regression model,\n",
    "* which explanatory variable brings the *third most amount* of predictive power to the linear regression model,\n",
    "* etc.\n",
    "\n",
    "We'd specifically like to determine these suggestions with the **full dataset in mind** (ie. not a training dataset).\n",
    "\n",
    "\n",
    "### Points\n",
    "\n",
    "<p>&nbsp;</p>\n",
    "<table style=\"border: none;border-collapse: collapse;width:102pt;\">\n",
    "    <tbody>\n",
    "        <tr>\n",
    "            <td style=\"color:black;font-size:15px;font-weight:700;font-style:normal;text-decoration:none;font-family:Calibri, sans-serif;text-align:general;vertical-align:bottom;border:.5pt solid windowtext;height:14.25pt;width:51pt;\">Problem</td>\n",
    "            <td style=\"color:black;font-size:15px;font-weight:700;font-style:normal;text-decoration:none;font-family:Calibri, sans-serif;text-align:general;vertical-align:bottom;border:.5pt solid windowtext;border-left:none;width:51pt;\">Points</td>\n",
    "        </tr>\n",
    "        <tr>\n",
    "            <td style=\"color:black;font-size:15px;font-weight:400;font-style:normal;text-decoration:none;font-family:Calibri, sans-serif;text-align:right;vertical-align:bottom;border:.5pt solid windowtext;height:14.25pt;border-top:none;\">1.1</td>\n",
    "            <td style=\"color:black;font-size:15px;font-weight:400;font-style:normal;text-decoration:none;font-family:Calibri, sans-serif;text-align:right;vertical-align:bottom;border:.5pt solid windowtext;border-top:none;border-left:none;\">0.25</td>\n",
    "        </tr>\n",
    "        <tr>\n",
    "            <td style=\"color:black;font-size:15px;font-weight:400;font-style:normal;text-decoration:none;font-family:Calibri, sans-serif;text-align:right;vertical-align:bottom;border:.5pt solid windowtext;height:14.25pt;border-top:none;\">1.2</td>\n",
    "            <td style=\"color:black;font-size:15px;font-weight:400;font-style:normal;text-decoration:none;font-family:Calibri, sans-serif;text-align:right;vertical-align:bottom;border:.5pt solid windowtext;border-top:none;border-left:none;\">0.25</td>\n",
    "        </tr>\n",
    "        <tr>\n",
    "            <td style=\"color:black;font-size:15px;font-weight:400;font-style:normal;text-decoration:none;font-family:Calibri, sans-serif;text-align:right;vertical-align:bottom;border:.5pt solid windowtext;height:14.25pt;border-top:none;\">1.3</td>\n",
    "            <td style=\"color:black;font-size:15px;font-weight:400;font-style:normal;text-decoration:none;font-family:Calibri, sans-serif;text-align:right;vertical-align:bottom;border:.5pt solid windowtext;border-top:none;border-left:none;\">0.25</td>\n",
    "        </tr>\n",
    "        <tr>\n",
    "            <td style=\"color:black;font-size:15px;font-weight:400;font-style:normal;text-decoration:none;font-family:Calibri, sans-serif;text-align:right;vertical-align:bottom;border:.5pt solid windowtext;height:14.25pt;border-top:none;\">1.4</td>\n",
    "            <td style=\"color:black;font-size:15px;font-weight:400;font-style:normal;text-decoration:none;font-family:Calibri, sans-serif;text-align:right;vertical-align:bottom;border:.5pt solid windowtext;border-top:none;border-left:none;\">0.5</td>\n",
    "        </tr>\n",
    "        <tr>\n",
    "            <td style=\"color:black;font-size:15px;font-weight:400;font-style:normal;text-decoration:none;font-family:Calibri, sans-serif;text-align:right;vertical-align:bottom;border:.5pt solid windowtext;height:14.25pt;border-top:none;\">1.5</td>\n",
    "            <td style=\"color:black;font-size:15px;font-weight:400;font-style:normal;text-decoration:none;font-family:Calibri, sans-serif;text-align:right;vertical-align:bottom;border:.5pt solid windowtext;border-top:none;border-left:none;\">0.5</td>\n",
    "        </tr>\n",
    "        <tr>\n",
    "            <td style=\"color:black;font-size:15px;font-weight:400;font-style:normal;text-decoration:none;font-family:Calibri, sans-serif;text-align:right;vertical-align:bottom;border:.5pt solid windowtext;height:14.25pt;border-top:none;\">2.1</td>\n",
    "            <td style=\"color:black;font-size:15px;font-weight:400;font-style:normal;text-decoration:none;font-family:Calibri, sans-serif;text-align:right;vertical-align:bottom;border:.5pt solid windowtext;border-top:none;border-left:none;\">0.5</td>\n",
    "        </tr>\n",
    "        <tr>\n",
    "            <td style=\"color:black;font-size:15px;font-weight:400;font-style:normal;text-decoration:none;font-family:Calibri, sans-serif;text-align:right;vertical-align:bottom;border:.5pt solid windowtext;height:14.25pt;border-top:none;\">2.2</td>\n",
    "            <td style=\"color:black;font-size:15px;font-weight:400;font-style:normal;text-decoration:none;font-family:Calibri, sans-serif;text-align:right;vertical-align:bottom;border:.5pt solid windowtext;border-top:none;border-left:none;\">0.5</td>\n",
    "        </tr>\n",
    "        <tr>\n",
    "            <td style=\"color:black;font-size:15px;font-weight:400;font-style:normal;text-decoration:none;font-family:Calibri, sans-serif;text-align:right;vertical-align:bottom;border:.5pt solid windowtext;height:14.25pt;border-top:none;\">2.3</td>\n",
    "            <td style=\"color:black;font-size:15px;font-weight:400;font-style:normal;text-decoration:none;font-family:Calibri, sans-serif;text-align:right;vertical-align:bottom;border:.5pt solid windowtext;border-top:none;border-left:none;\">0.5</td>\n",
    "        </tr>\n",
    "        <tr>\n",
    "            <td style=\"color:black;font-size:15px;font-weight:400;font-style:normal;text-decoration:none;font-family:Calibri, sans-serif;text-align:right;vertical-align:bottom;border:.5pt solid windowtext;height:14.25pt;border-top:none;\">2.4</td>\n",
    "            <td style=\"color:black;font-size:15px;font-weight:400;font-style:normal;text-decoration:none;font-family:Calibri, sans-serif;text-align:right;vertical-align:bottom;border:.5pt solid windowtext;border-top:none;border-left:none;\">0.5</td>\n",
    "        </tr>\n",
    "        <tr>\n",
    "            <td style=\"color:black;font-size:15px;font-weight:400;font-style:normal;text-decoration:none;font-family:Calibri, sans-serif;text-align:right;vertical-align:bottom;border:.5pt solid windowtext;height:14.25pt;border-top:none;\">2.5</td>\n",
    "            <td style=\"color:black;font-size:15px;font-weight:400;font-style:normal;text-decoration:none;font-family:Calibri, sans-serif;text-align:right;vertical-align:bottom;border:.5pt solid windowtext;border-top:none;border-left:none;\">0.5</td>\n",
    "        </tr>\n",
    "        <tr>\n",
    "            <td style=\"color:black;font-size:15px;font-weight:400;font-style:normal;text-decoration:none;font-family:Calibri, sans-serif;text-align:right;vertical-align:bottom;border:.5pt solid windowtext;height:14.25pt;border-top:none;\">2.6</td>\n",
    "            <td style=\"color:black;font-size:15px;font-weight:400;font-style:normal;text-decoration:none;font-family:Calibri, sans-serif;text-align:right;vertical-align:bottom;border:.5pt solid windowtext;border-top:none;border-left:none;\">0.5</td>\n",
    "        </tr>\n",
    "        <tr>\n",
    "            <td style=\"color:black;font-size:15px;font-weight:400;font-style:normal;text-decoration:none;font-family:Calibri, sans-serif;text-align:right;vertical-align:bottom;border:.5pt solid windowtext;height:14.25pt;border-top:none;\">2.7</td>\n",
    "            <td style=\"color:black;font-size:15px;font-weight:400;font-style:normal;text-decoration:none;font-family:Calibri, sans-serif;text-align:right;vertical-align:bottom;border:.5pt solid windowtext;border-top:none;border-left:none;\">0.5</td>\n",
    "        </tr>\n",
    "        <tr>\n",
    "            <td style=\"color:black;font-size:15px;font-weight:400;font-style:normal;text-decoration:none;font-family:Calibri, sans-serif;text-align:right;vertical-align:bottom;border:.5pt solid windowtext;height:14.25pt;border-top:none;\">2.8</td>\n",
    "            <td style=\"color:black;font-size:15px;font-weight:400;font-style:normal;text-decoration:none;font-family:Calibri, sans-serif;text-align:right;vertical-align:bottom;border:.5pt solid windowtext;border-top:none;border-left:none;\">0.5</td>\n",
    "        </tr>\n",
    "        <tr>\n",
    "            <td style=\"color:black;font-size:15px;font-weight:400;font-style:normal;text-decoration:none;font-family:Calibri, sans-serif;text-align:right;vertical-align:bottom;border:.5pt solid windowtext;height:14.25pt;border-top:none;\">3</td>\n",
    "            <td style=\"color:black;font-size:15px;font-weight:400;font-style:normal;text-decoration:none;font-family:Calibri, sans-serif;text-align:right;vertical-align:bottom;border:.5pt solid windowtext;border-top:none;border-left:none;\">1.25</td>\n",
    "        </tr>\n",
    "    </tbody>\n",
    "</table>\n"
   ]
  },
  {
   "cell_type": "code",
   "execution_count": null,
   "metadata": {},
   "outputs": [],
   "source": []
  },
  {
   "cell_type": "markdown",
   "metadata": {},
   "source": [
    "## 1. Coffee Dataset\n",
    "\n",
    "### 1.1. Reading the csv\n",
    "\n",
    "1. Read the `coffee.csv` into a dataframe. The strings that are used to represent missing values in this csv file are represented with 'nan'. Luckily, 'nan' is one of the string values that the **pd.read_csv()** function is automatically programmed to detect as a missing value and thus convert into a NaN type object.\n",
    "2. Show the first 5 rows.\n",
    "3. Show how many rows this dataframe has."
   ]
  },
  {
   "cell_type": "code",
   "execution_count": 95,
   "metadata": {},
   "outputs": [],
   "source": [
    "import pandas as pd\n",
    "coffee = pd.read_csv(\"coffee.csv\")"
   ]
  },
  {
   "cell_type": "code",
   "execution_count": 96,
   "metadata": {
    "scrolled": true
   },
   "outputs": [
    {
     "data": {
      "text/plain": [
       "(  Location_Country                Location_Region  Location_Altitude_Min  \\\n",
       " 0    United States                           kona                      0   \n",
       " 1           Brazil  sul de minas - carmo de minas                     12   \n",
       " 2           Brazil  sul de minas - carmo de minas                     12   \n",
       " 3         Ethiopia                         sidamo                      0   \n",
       " 4         Ethiopia                         sidamo                      0   \n",
       " \n",
       "    Location_Altitude_Max  Location_Altitude_Average  Year  \\\n",
       " 0                      0                          0  2010   \n",
       " 1                     12                         12  2010   \n",
       " 2                     12                         12  2010   \n",
       " 3                      0                          0  2010   \n",
       " 4                      0                          0  2010   \n",
       " \n",
       "                          Data_Owner Data_Type_Species Data_Type_Variety  \\\n",
       " 0  kona pacific farmers cooperative           Arabica               NaN   \n",
       " 1          jacques pereira carneiro           Arabica    Yellow Bourbon   \n",
       " 2          jacques pereira carneiro           Arabica    Yellow Bourbon   \n",
       " 3       ethiopia commodity exchange           Arabica               NaN   \n",
       " 4       ethiopia commodity exchange           Arabica               NaN   \n",
       " \n",
       "   Data_Type_Processing method  ...  Data_Scores_Flavor  \\\n",
       " 0                         NaN  ...                8.42   \n",
       " 1                         NaN  ...                7.92   \n",
       " 2                         NaN  ...                7.92   \n",
       " 3                         NaN  ...                8.00   \n",
       " 4                         NaN  ...                7.83   \n",
       " \n",
       "    Data_Scores_Aftertaste  Data_Scores_Acidity  Data_Scores_Body  \\\n",
       " 0                    8.08                 7.75              7.67   \n",
       " 1                    7.92                 7.75              8.33   \n",
       " 2                    8.00                 7.75              7.92   \n",
       " 3                    7.83                 8.00              7.92   \n",
       " 4                    7.58                 8.00              7.83   \n",
       " \n",
       "    Data_Scores_Balance  Data_Scores_Uniformity  Data_Scores_Sweetness  \\\n",
       " 0                 7.83                    10.0                   10.0   \n",
       " 1                 8.00                    10.0                   10.0   \n",
       " 2                 8.00                    10.0                   10.0   \n",
       " 3                 7.83                    10.0                   10.0   \n",
       " 4                 7.50                    10.0                   10.0   \n",
       " \n",
       "    Data_Scores_Moisture  Data_Scores_Total  Data_Color  \n",
       " 0                  0.00              86.25     Unknown  \n",
       " 1                  0.08              86.17     Unknown  \n",
       " 2                  0.01              86.17     Unknown  \n",
       " 3                  0.00              85.08     Unknown  \n",
       " 4                  0.10              83.83     Unknown  \n",
       " \n",
       " [5 rows x 23 columns],\n",
       " 989)"
      ]
     },
     "execution_count": 96,
     "metadata": {},
     "output_type": "execute_result"
    }
   ],
   "source": [
    "coffee_head = coffee.head()\n",
    "num_rows = len(coffee)\n",
    "\n",
    "coffee_head, num_rows"
   ]
  },
  {
   "cell_type": "markdown",
   "metadata": {},
   "source": [
    "### 1.2. Dropping NaN Values\n",
    "\n",
    "We only intend to use the following variables in this dataframe:\n",
    "`Data_Scores_Aroma` `Data_Scores_Flavor`\t`Data_Scores_Aftertaste`\t`Data_Scores_Acidity`\t`Data_Scores_Body`\t`Data_Scores_Balance`\t`Data_Scores_Uniformity`\t`Data_Scores_Sweetness`\t`Data_Scores_Moisture`.\n",
    "\n",
    "1. Create a dataframe with just these variables.\n",
    "2. Then drop all rows from this dataframe that have a NaN value.\n",
    "3. How many rows did you drop?"
   ]
  },
  {
   "cell_type": "code",
   "execution_count": 97,
   "metadata": {},
   "outputs": [],
   "source": [
    "variables_of_interest = [\n",
    "    'Data_Scores_Aroma', 'Data_Scores_Flavor', 'Data_Scores_Aftertaste',\n",
    "    'Data_Scores_Acidity', 'Data_Scores_Body', 'Data_Scores_Balance',\n",
    "    'Data_Scores_Uniformity', 'Data_Scores_Sweetness', 'Data_Scores_Moisture'\n",
    "]\n"
   ]
  },
  {
   "cell_type": "code",
   "execution_count": 98,
   "metadata": {},
   "outputs": [],
   "source": [
    "selected_df = coffee[variables_of_interest]"
   ]
  },
  {
   "cell_type": "code",
   "execution_count": 99,
   "metadata": {},
   "outputs": [],
   "source": [
    "rows_before = len(selected_df)"
   ]
  },
  {
   "cell_type": "code",
   "execution_count": 100,
   "metadata": {},
   "outputs": [],
   "source": [
    "selected_df_cleaned = selected_df.dropna()"
   ]
  },
  {
   "cell_type": "code",
   "execution_count": 101,
   "metadata": {},
   "outputs": [],
   "source": [
    "rows_after = len(selected_df_cleaned)\n"
   ]
  },
  {
   "cell_type": "code",
   "execution_count": 102,
   "metadata": {},
   "outputs": [
    {
     "data": {
      "text/plain": [
       "0"
      ]
     },
     "execution_count": 102,
     "metadata": {},
     "output_type": "execute_result"
    }
   ],
   "source": [
    "rows_dropped = rows_before - rows_after\n",
    "\n",
    "rows_dropped"
   ]
  },
  {
   "cell_type": "markdown",
   "metadata": {},
   "source": [
    "### 1.3. Dropping a Large Outlier\n",
    "\n",
    "This dataset has a prominent outlier with an `Aroma` rating that is equal to 0. Drop this observation from the dataset."
   ]
  },
  {
   "cell_type": "code",
   "execution_count": 103,
   "metadata": {},
   "outputs": [],
   "source": [
    "selected_df_cleaned = selected_df_cleaned[selected_df_cleaned['Data_Scores_Aroma'] != 0]"
   ]
  },
  {
   "cell_type": "markdown",
   "metadata": {},
   "source": [
    "### 1.4. Features Matrix and Target Array\n",
    "\n",
    "Use your resulting full dataset from #1.3 to create a features matrix and a target array."
   ]
  },
  {
   "cell_type": "code",
   "execution_count": 104,
   "metadata": {},
   "outputs": [],
   "source": [
    "from sklearn.model_selection import train_test_split\n",
    "\n",
    "X = selected_df_cleaned.drop(columns=['Data_Scores_Flavor'])\n",
    "\n",
    "y = selected_df_cleaned['Data_Scores_Flavor']\n",
    "\n"
   ]
  },
  {
   "cell_type": "code",
   "execution_count": 105,
   "metadata": {},
   "outputs": [
    {
     "data": {
      "text/plain": [
       "((790, 8), (198, 8), (790,), (198,))"
      ]
     },
     "execution_count": 105,
     "metadata": {},
     "output_type": "execute_result"
    }
   ],
   "source": [
    "X_train, X_test, y_train, y_test = train_test_split(X, y, test_size=0.20, random_state=437)\n",
    "\n",
    "X_train.shape, X_test.shape, y_train.shape, y_test.shape"
   ]
  },
  {
   "cell_type": "markdown",
   "metadata": {},
   "source": [
    "### 1.5. Scaling the Features Matrices\n",
    "\n",
    "We'd like to be able to compare the magnitudes of our slopes in our linear regression models to try to infer the corresponding explanatory variable's importance when it comes to predicting coffee flavor. \n",
    "\n",
    "So let's z-score scale our training features matrix as well as our test features matrix.\n",
    "\n",
    "Z-score scale each of the values in your features matrix."
   ]
  },
  {
   "cell_type": "code",
   "execution_count": 106,
   "metadata": {},
   "outputs": [
    {
     "data": {
      "text/plain": [
       "(     Data_Scores_Aroma  Data_Scores_Aftertaste  Data_Scores_Acidity  \\\n",
       " 935               7.83                    7.58                 7.58   \n",
       " 888               7.42                    7.33                 7.50   \n",
       " 824               7.25                    6.75                 7.25   \n",
       " 409               7.58                    7.50                 7.50   \n",
       " 71                7.83                    7.75                 8.00   \n",
       " \n",
       "      Data_Scores_Body  Data_Scores_Balance  Data_Scores_Uniformity  \\\n",
       " 935              7.58                 7.58                    10.0   \n",
       " 888              7.25                 7.42                    10.0   \n",
       " 824              7.00                 6.92                    10.0   \n",
       " 409              7.58                 7.58                    10.0   \n",
       " 71               7.50                 7.75                    10.0   \n",
       " \n",
       "      Data_Scores_Sweetness  Data_Scores_Moisture  \n",
       " 935                   10.0                  0.11  \n",
       " 888                   10.0                  0.11  \n",
       " 824                   10.0                  0.11  \n",
       " 409                   10.0                  0.12  \n",
       " 71                    10.0                  0.11  ,\n",
       " 935    7.83\n",
       " 888    7.50\n",
       " 824    7.17\n",
       " 409    7.75\n",
       " 71     7.83\n",
       " Name: Data_Scores_Flavor, dtype: float64,\n",
       "      Data_Scores_Aroma  Data_Scores_Aftertaste  Data_Scores_Acidity  \\\n",
       " 889               7.33                    7.50                 7.33   \n",
       " 655               7.83                    7.08                 7.08   \n",
       " 333               7.17                    6.58                 7.00   \n",
       " 83                7.67                    7.67                 7.75   \n",
       " 384               7.67                    7.67                 7.75   \n",
       " \n",
       "      Data_Scores_Body  Data_Scores_Balance  Data_Scores_Uniformity  \\\n",
       " 889              7.50                 7.50                   10.00   \n",
       " 655              7.33                 7.50                   10.00   \n",
       " 333              7.25                 6.58                    9.33   \n",
       " 83               7.67                 7.75                   10.00   \n",
       " 384              7.67                 7.75                   10.00   \n",
       " \n",
       "      Data_Scores_Sweetness  Data_Scores_Moisture  \n",
       " 889                   10.0                  0.11  \n",
       " 655                   10.0                  0.12  \n",
       " 333                   10.0                  0.13  \n",
       " 83                    10.0                  0.11  \n",
       " 384                   10.0                  0.11  ,\n",
       " 889    7.50\n",
       " 655    7.33\n",
       " 333    6.58\n",
       " 83     7.75\n",
       " 384    7.83\n",
       " Name: Data_Scores_Flavor, dtype: float64)"
      ]
     },
     "execution_count": 106,
     "metadata": {},
     "output_type": "execute_result"
    }
   ],
   "source": [
    "X_train_head = X_train.head()\n",
    "y_train_head = y_train.head()\n",
    "X_test_head = X_test.head()\n",
    "y_test_head = y_test.head()\n",
    "\n",
    "X_train_head, y_train_head, X_test_head, y_test_head\n"
   ]
  },
  {
   "cell_type": "markdown",
   "metadata": {},
   "source": [
    "## 2. LASSO Linear Regression Models\n",
    "\n",
    "### 2.1. All 0 Slopes\n",
    "\n",
    "First find a value of $\\lambda$ that will return ALL resulting LASSO linear regression model slopes as 0. Show your work."
   ]
  },
  {
   "cell_type": "code",
   "execution_count": 107,
   "metadata": {},
   "outputs": [
    {
     "data": {
      "text/plain": [
       "array([[ 0.79916208,  0.54490734,  0.09913365,  0.23008206,  0.2038796 ,\n",
       "         0.31190194,  0.24242785,  0.34895246],\n",
       "       [-0.50027867, -0.17543536, -0.15298895, -0.82557428, -0.25102563,\n",
       "         0.31190194,  0.24242785,  0.34895246],\n",
       "       [-1.03907118, -1.84663044, -0.94087204, -1.62531393, -1.67260447,\n",
       "         0.31190194,  0.24242785,  0.34895246],\n",
       "       [ 0.00682016,  0.31439768, -0.15298895,  0.23008206,  0.2038796 ,\n",
       "         0.31190194,  0.24242785,  0.57472841],\n",
       "       [ 0.79916208,  1.03474038,  1.42277724, -0.02583463,  0.6872164 ,\n",
       "         0.31190194,  0.24242785,  0.34895246]])"
      ]
     },
     "execution_count": 107,
     "metadata": {},
     "output_type": "execute_result"
    }
   ],
   "source": [
    "from sklearn.preprocessing import StandardScaler\n",
    "\n",
    "scaler = StandardScaler()\n",
    "\n",
    "X_train_scaled = scaler.fit_transform(X_train)\n",
    "X_test_scaled = scaler.transform(X_test)\n",
    "\n",
    "X_train_scaled[:5, :]\n"
   ]
  },
  {
   "cell_type": "code",
   "execution_count": 108,
   "metadata": {},
   "outputs": [
    {
     "data": {
      "text/plain": [
       "0.3103006012024048"
      ]
     },
     "execution_count": 108,
     "metadata": {},
     "output_type": "execute_result"
    }
   ],
   "source": [
    "# Initialize lambda values to test\n",
    "lambdas = np.linspace(0.01, 10, 500)\n",
    "lambda_zero_slopes = None\n",
    "\n",
    "for lam in lambdas:\n",
    "    lasso_model = Lasso(alpha=lam, max_iter=10000)\n",
    "    lasso_model.fit(X_train_scaled, y_train)\n",
    "    \n",
    "    if np.all(lasso_model.coef_ == 0):\n",
    "        lambda_zero_slopes = lam\n",
    "        break\n",
    "\n",
    "lambda_zero_slopes\n"
   ]
  },
  {
   "cell_type": "markdown",
   "metadata": {},
   "source": [
    "### 2.2. One Non-Zero Slope\n",
    "\n",
    "Next, find a value of $\\lambda$ that will return LASSO linear regression slopes in which ONLY ONE slope is non-zero. Show your work."
   ]
  },
  {
   "cell_type": "code",
   "execution_count": 109,
   "metadata": {},
   "outputs": [
    {
     "data": {
      "text/plain": [
       "(0.1701603206412826, 'Data_Scores_Aftertaste')"
      ]
     },
     "execution_count": 109,
     "metadata": {},
     "output_type": "execute_result"
    }
   ],
   "source": [
    "lambda_one_non_zero = None\n",
    "\n",
    "for lam in lambdas:\n",
    "    lasso_model = Lasso(alpha=lam, max_iter=10000)\n",
    "    lasso_model.fit(X_train_scaled, y_train)\n",
    "    \n",
    "    if np.sum(lasso_model.coef_ != 0) == 1:\n",
    "        lambda_one_non_zero = lam\n",
    "        non_zero_variable = X_train.columns[np.argmax(lasso_model.coef_)]\n",
    "        break\n",
    "\n",
    "lambda_one_non_zero, non_zero_variable\n"
   ]
  },
  {
   "cell_type": "markdown",
   "metadata": {},
   "source": [
    "### 2.3. Two Non-Zero Slopes\n",
    "\n",
    "Next, find a value of $\\lambda$ that will return LASSO linear regression slopes in which ONLY TWO slopes are non-zero. Show your work."
   ]
  },
  {
   "cell_type": "code",
   "execution_count": 110,
   "metadata": {
    "scrolled": true
   },
   "outputs": [
    {
     "data": {
      "text/plain": [
       "(0.15014028056112227, ['Data_Scores_Aftertaste', 'Data_Scores_Acidity'])"
      ]
     },
     "execution_count": 110,
     "metadata": {},
     "output_type": "execute_result"
    }
   ],
   "source": [
    "lambda_two_non_zero = None\n",
    "non_zero_variables = []\n",
    "\n",
    "\n",
    "for lam in lambdas:\n",
    "    lasso_model = Lasso(alpha=lam, max_iter=10000)\n",
    "    lasso_model.fit(X_train_scaled, y_train)\n",
    "    \n",
    "\n",
    "    if np.sum(lasso_model.coef_ != 0) == 2:\n",
    "        lambda_two_non_zero = lam\n",
    "        non_zero_variables = list(X_train.columns[(lasso_model.coef_ != 0)])\n",
    "        break\n",
    "\n",
    "lambda_two_non_zero, non_zero_variables\n"
   ]
  },
  {
   "cell_type": "markdown",
   "metadata": {},
   "source": [
    "### 2.4. Three Non-Zero Slopes\n",
    "\n",
    "Next, find a value of $\\lambda$ that will return LASSO linear regression slopes in which ONLY THREE slopes are non-zero. Show your work."
   ]
  },
  {
   "cell_type": "code",
   "execution_count": 111,
   "metadata": {},
   "outputs": [
    {
     "data": {
      "text/plain": [
       "(0.07006012024048096,\n",
       " ['Data_Scores_Aroma', 'Data_Scores_Aftertaste', 'Data_Scores_Acidity'])"
      ]
     },
     "execution_count": 111,
     "metadata": {},
     "output_type": "execute_result"
    }
   ],
   "source": [
    "lambda_three_non_zero = None\n",
    "non_zero_variables_three = []\n",
    "\n",
    "for lam in lambdas:\n",
    "    lasso_model = Lasso(alpha=lam, max_iter=10000)\n",
    "    lasso_model.fit(X_train_scaled, y_train)\n",
    "    \n",
    "    if np.sum(lasso_model.coef_ != 0) == 3:\n",
    "        lambda_three_non_zero = lam\n",
    "        non_zero_variables_three = list(X_train.columns[(lasso_model.coef_ != 0)])\n",
    "        break\n",
    "\n",
    "lambda_three_non_zero, non_zero_variables_three\n"
   ]
  },
  {
   "cell_type": "markdown",
   "metadata": {},
   "source": [
    "### 2.5. Four Non-Zero Slopes\n",
    "\n",
    "Next, find a value of $\\lambda$ that will return LASSO linear regression slopes in which ONLY FOUR slopes are non-zero. Show your work."
   ]
  },
  {
   "cell_type": "code",
   "execution_count": 112,
   "metadata": {},
   "outputs": [
    {
     "data": {
      "text/plain": [
       "(0.03002004008016032,\n",
       " ['Data_Scores_Aroma',\n",
       "  'Data_Scores_Aftertaste',\n",
       "  'Data_Scores_Acidity',\n",
       "  'Data_Scores_Balance'])"
      ]
     },
     "execution_count": 112,
     "metadata": {},
     "output_type": "execute_result"
    }
   ],
   "source": [
    "lambda_four_non_zero = None\n",
    "non_zero_variables_four = []\n",
    "\n",
    "for lam in lambdas:\n",
    "    lasso_model = Lasso(alpha=lam, max_iter=10000)\n",
    "    lasso_model.fit(X_train_scaled, y_train)\n",
    "    \n",
    "    if np.sum(lasso_model.coef_ != 0) == 4:\n",
    "        lambda_four_non_zero = lam\n",
    "        non_zero_variables_four = list(X_train.columns[(lasso_model.coef_ != 0)])\n",
    "        break\n",
    "\n",
    "lambda_four_non_zero, non_zero_variables_four\n"
   ]
  },
  {
   "cell_type": "markdown",
   "metadata": {},
   "source": [
    "### 2.6. Five Non-Zero Slopes\n",
    "\n",
    "Next, find a value of $\\lambda$ that will return LASSO linear regression slopes in which ONLY FIVE slopes are non-zero. Show your work."
   ]
  },
  {
   "cell_type": "code",
   "execution_count": 113,
   "metadata": {},
   "outputs": [
    {
     "data": {
      "text/plain": [
       "(None, [])"
      ]
     },
     "execution_count": 113,
     "metadata": {},
     "output_type": "execute_result"
    }
   ],
   "source": [
    "lambda_five_non_zero = None\n",
    "non_zero_variables_five = []\n",
    "\n",
    "for lam in lambdas:\n",
    "    lasso_model = Lasso(alpha=lam, max_iter=10000)\n",
    "    lasso_model.fit(X_train_scaled, y_train)\n",
    "    \n",
    "    if np.sum(lasso_model.coef_ != 0) == 5:\n",
    "        lambda_five_non_zero = lam\n",
    "        non_zero_variables_five = list(X_train.columns[(lasso_model.coef_ != 0)])\n",
    "        break\n",
    "\n",
    "lambda_five_non_zero, non_zero_variables_five\n"
   ]
  },
  {
   "cell_type": "markdown",
   "metadata": {},
   "source": [
    "### 2.7. Six Non-Zero Slopes\n",
    "\n",
    "Next, find a value of $\\lambda$ that will return LASSO linear regression slopes in which ONLY SIX slopes are non-zero. Show your work."
   ]
  },
  {
   "cell_type": "code",
   "execution_count": 114,
   "metadata": {},
   "outputs": [
    {
     "data": {
      "text/plain": [
       "(0.01,\n",
       " ['Data_Scores_Aroma',\n",
       "  'Data_Scores_Aftertaste',\n",
       "  'Data_Scores_Acidity',\n",
       "  'Data_Scores_Body',\n",
       "  'Data_Scores_Balance',\n",
       "  'Data_Scores_Sweetness'])"
      ]
     },
     "execution_count": 114,
     "metadata": {},
     "output_type": "execute_result"
    }
   ],
   "source": [
    "lambda_six_non_zero = None\n",
    "non_zero_variables_six = []\n",
    "\n",
    "for lam in lambdas:\n",
    "    lasso_model = Lasso(alpha=lam, max_iter=10000)\n",
    "    lasso_model.fit(X_train_scaled, y_train)\n",
    "    \n",
    "    if np.sum(lasso_model.coef_ != 0) == 6:\n",
    "        lambda_six_non_zero = lam\n",
    "        non_zero_variables_six = list(X_train.columns[(lasso_model.coef_ != 0)])  \n",
    "        break\n",
    "\n",
    "lambda_six_non_zero, non_zero_variables_six\n"
   ]
  },
  {
   "cell_type": "markdown",
   "metadata": {},
   "source": [
    "### 2.8. Seven Non-Zero Slopes\n",
    "\n",
    "Next, find a value of $\\lambda$ that will return LASSO linear regression slopes in which ONLY SEVEN slopes are non-zero. Show your work."
   ]
  },
  {
   "cell_type": "code",
   "execution_count": 115,
   "metadata": {},
   "outputs": [
    {
     "data": {
      "text/plain": [
       "(0.003344689378757515,\n",
       " ['Data_Scores_Aroma',\n",
       "  'Data_Scores_Aftertaste',\n",
       "  'Data_Scores_Acidity',\n",
       "  'Data_Scores_Body',\n",
       "  'Data_Scores_Balance',\n",
       "  'Data_Scores_Uniformity',\n",
       "  'Data_Scores_Sweetness'])"
      ]
     },
     "execution_count": 115,
     "metadata": {},
     "output_type": "execute_result"
    }
   ],
   "source": [
    "refined_lambdas = np.linspace(0.001, 0.01, 500) \n",
    "\n",
    "lambda_seven_non_zero = None\n",
    "non_zero_variables_seven = []\n",
    "\n",
    "for lam in refined_lambdas:\n",
    "    lasso_model = Lasso(alpha=lam, max_iter=10000)\n",
    "    lasso_model.fit(X_train_scaled, y_train)\n",
    "    \n",
    "    if np.sum(lasso_model.coef_ != 0) == 7:\n",
    "        lambda_seven_non_zero = lam\n",
    "        non_zero_variables_seven = list(X_train.columns[(lasso_model.coef_ != 0)])\n",
    "        break\n",
    "\n",
    "lambda_seven_non_zero, non_zero_variables_seven\n"
   ]
  },
  {
   "cell_type": "markdown",
   "metadata": {},
   "source": [
    "## 3. Interpretation\n",
    "\n",
    "Use the suggestions from the LASSO linear regression models to answer the following questions.\n",
    "* Which explanatory variable brings the *most amount* of predictive power to the linear regression model?\n",
    "* Which explanatory variable brings the *second most amount* of predictive power to the linear regression model?\n",
    "* Which explanatory variable brings the *third most amount* of predictive power to the linear regression model?\n",
    "* Which explanatory variable brings the *fourth most amount* of predictive power to the linear regression model?\n",
    "* Which explanatory variable brings the *fifth most amount* of predictive power to the linear regression model?\n",
    "* Which explanatory variable brings the *sixth most amount* of predictive power to the linear regression model?\n",
    "* Which explanatory variable brings the *seventh most amount* of predictive power to the linear regression model?"
   ]
  },
  {
   "cell_type": "markdown",
   "metadata": {},
   "source": [
    "The ranking of the explanatory variables in terms of their predictive power based on the LASSO regression model with decreasing $ \\lambda $ values is as follows:\n",
    "\n",
    "1. `Data_Scores_Aftertaste` is the first to have a non-zero coefficient and brings the *most amount* of predictive power to the linear regression model.\n",
    "2. `Data_Scores_Acidity` is the second to have a non-zero coefficient and brings the *second most amount* of predictive power to the model.\n",
    "3. `Data_Scores_Aroma` is the third and brings the *third most amount* of predictive power.\n",
    "4. `Data_Scores_Balance` is the fourth and brings the *fourth most amount* of predictive power.\n",
    "5. `Data_Scores_Body` is included in the fifth position and brings the *fifth most amount* of predictive power.\n",
    "6. `Data_Scores_Sweetness` is the sixth and brings the *sixth most amount* of predictive power.\n",
    "7. `Data_Scores_Uniformity` is the seventh and brings the *seventh most amount* of predictive power to the linear regression model.\n",
    "\n",
    "This order of importance is inferred based on when each variable's coefficient becomes non-zero as $ \\lambda $ decreases in the LASSO regression model. It's a way to gauge the significance of each variable in terms of its predictive power for the response variable."
   ]
  },
  {
   "cell_type": "markdown",
   "metadata": {},
   "source": [
    "Sophie Bustos and I worked on this lab together"
   ]
  }
 ],
 "metadata": {
  "kernelspec": {
   "display_name": "Python 3 (ipykernel)",
   "language": "python",
   "name": "python3"
  },
  "language_info": {
   "codemirror_mode": {
    "name": "ipython",
    "version": 3
   },
   "file_extension": ".py",
   "mimetype": "text/x-python",
   "name": "python",
   "nbconvert_exporter": "python",
   "pygments_lexer": "ipython3",
   "version": "3.11.1"
  }
 },
 "nbformat": 4,
 "nbformat_minor": 2
}
