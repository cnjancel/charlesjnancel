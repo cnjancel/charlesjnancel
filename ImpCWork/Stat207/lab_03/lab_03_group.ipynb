{
 "cells": [
  {
   "cell_type": "markdown",
   "metadata": {},
   "source": [
    "# STAT 207 Lab Assignment 3 - Group Part - [9 total points]\n",
    "\n",
    "This group lab assignment will be atypical in that it is worth 9 points (as opposed to the typical 5).\n"
   ]
  },
  {
   "cell_type": "markdown",
   "metadata": {},
   "source": [
    "## <u>Case Study</u>: Association between Two Variables - Controlling for a Third\n",
    "\n",
    "<p>&nbsp;</p>\n",
    "<table style=\"border: none;border-collapse: collapse;width:102pt;\">\n",
    "    <tbody>\n",
    "        <tr>\n",
    "            <td style=\"color:black;font-size:15px;font-weight:700;font-style:normal;text-decoration:none;font-family:Calibri, sans-serif;text-align:general;vertical-align:bottom;border:.5pt solid windowtext;height:14.25pt;width:51pt;\">Problem</td>\n",
    "            <td style=\"color:black;font-size:15px;font-weight:700;font-style:normal;text-decoration:none;font-family:Calibri, sans-serif;text-align:general;vertical-align:bottom;border:.5pt solid windowtext;border-left:none;width:51pt;\">Points</td>\n",
    "        </tr>\n",
    "        <tr>\n",
    "            <td style=\"color:black;font-size:15px;font-weight:400;font-style:normal;text-decoration:none;font-family:Calibri, sans-serif;text-align:right;vertical-align:bottom;border:.5pt solid windowtext;height:14.25pt;border-top:none;\">1</td>\n",
    "            <td style=\"color:black;font-size:15px;font-weight:400;font-style:normal;text-decoration:none;font-family:Calibri, sans-serif;text-align:right;vertical-align:bottom;border:.5pt solid windowtext;border-top:none;border-left:none;\">1</td>\n",
    "        </tr>\n",
    "        <tr>\n",
    "            <td style=\"color:black;font-size:15px;font-weight:400;font-style:normal;text-decoration:none;font-family:Calibri, sans-serif;text-align:right;vertical-align:bottom;border:.5pt solid windowtext;height:14.25pt;border-top:none;\">2</td>\n",
    "            <td style=\"color:black;font-size:15px;font-weight:400;font-style:normal;text-decoration:none;font-family:Calibri, sans-serif;text-align:right;vertical-align:bottom;border:.5pt solid windowtext;border-top:none;border-left:none;\">1</td>\n",
    "        </tr>\n",
    "        <tr>\n",
    "            <td style=\"color:black;font-size:15px;font-weight:400;font-style:normal;text-decoration:none;font-family:Calibri, sans-serif;text-align:right;vertical-align:bottom;border:.5pt solid windowtext;height:14.25pt;border-top:none;\">3</td>\n",
    "            <td style=\"color:black;font-size:15px;font-weight:400;font-style:normal;text-decoration:none;font-family:Calibri, sans-serif;text-align:right;vertical-align:bottom;border:.5pt solid windowtext;border-top:none;border-left:none;\">1</td>\n",
    "        </tr>\n",
    "        <tr>\n",
    "            <td style=\"color:black;font-size:15px;font-weight:400;font-style:normal;text-decoration:none;font-family:Calibri, sans-serif;text-align:right;vertical-align:bottom;border:.5pt solid windowtext;height:14.25pt;border-top:none;\">4</td>\n",
    "            <td style=\"color:black;font-size:15px;font-weight:400;font-style:normal;text-decoration:none;font-family:Calibri, sans-serif;text-align:right;vertical-align:bottom;border:.5pt solid windowtext;border-top:none;border-left:none;\">0.5</td>\n",
    "        </tr>\n",
    "        <tr>\n",
    "            <td style=\"color:black;font-size:15px;font-weight:400;font-style:normal;text-decoration:none;font-family:Calibri, sans-serif;text-align:right;vertical-align:bottom;border:.5pt solid windowtext;height:14.25pt;border-top:none;\">5</td>\n",
    "            <td style=\"color:black;font-size:15px;font-weight:400;font-style:normal;text-decoration:none;font-family:Calibri, sans-serif;text-align:right;vertical-align:bottom;border:.5pt solid windowtext;border-top:none;border-left:none;\">1</td>\n",
    "        </tr>\n",
    "        <tr>\n",
    "            <td style=\"color:black;font-size:15px;font-weight:400;font-style:normal;text-decoration:none;font-family:Calibri, sans-serif;text-align:right;vertical-align:bottom;border:.5pt solid windowtext;height:14.25pt;border-top:none;\">6</td>\n",
    "            <td style=\"color:black;font-size:15px;font-weight:400;font-style:normal;text-decoration:none;font-family:Calibri, sans-serif;text-align:right;vertical-align:bottom;border:.5pt solid windowtext;border-top:none;border-left:none;\">2</td>\n",
    "        </tr>\n",
    "        <tr>\n",
    "            <td style=\"color:black;font-size:15px;font-weight:400;font-style:normal;text-decoration:none;font-family:Calibri, sans-serif;text-align:right;vertical-align:bottom;border:.5pt solid windowtext;height:14.25pt;border-top:none;\">7</td>\n",
    "            <td style=\"color:black;font-size:15px;font-weight:400;font-style:normal;text-decoration:none;font-family:Calibri, sans-serif;text-align:right;vertical-align:bottom;border:.5pt solid windowtext;border-top:none;border-left:none;\">2.5</td>\n",
    "        </tr>\n",
    "    </tbody>\n",
    "</table>\n",
    "\n",
    "### 1. Coffee Brands Dataset\n",
    "\n",
    "In this case study we will explore and answer a research question based on the dataset that can be found in the `coffee.csv` file. Each row in this dataset represents a brand of coffee.\n",
    "\n",
    "Click on this link to learn more about what each of the variables represent. https://corgis-edu.github.io/corgis/csv/coffee/\n",
    "\n",
    "\n",
    "Then do the following.\n",
    "\n",
    "1. Read the csv file into a dataframe.\n",
    "2. Display the first 5 rows.\n",
    "3. Show the number of rows and columns in the dataframe."
   ]
  },
  {
   "cell_type": "code",
   "execution_count": 1,
   "metadata": {},
   "outputs": [],
   "source": [
    "import pandas as pd"
   ]
  },
  {
   "cell_type": "code",
   "execution_count": 2,
   "metadata": {},
   "outputs": [],
   "source": [
    "coffee = pd.read_csv('coffee.csv')"
   ]
  },
  {
   "cell_type": "code",
   "execution_count": 3,
   "metadata": {
    "scrolled": true
   },
   "outputs": [
    {
     "data": {
      "text/html": [
       "<div>\n",
       "<style scoped>\n",
       "    .dataframe tbody tr th:only-of-type {\n",
       "        vertical-align: middle;\n",
       "    }\n",
       "\n",
       "    .dataframe tbody tr th {\n",
       "        vertical-align: top;\n",
       "    }\n",
       "\n",
       "    .dataframe thead th {\n",
       "        text-align: right;\n",
       "    }\n",
       "</style>\n",
       "<table border=\"1\" class=\"dataframe\">\n",
       "  <thead>\n",
       "    <tr style=\"text-align: right;\">\n",
       "      <th></th>\n",
       "      <th>Location.Country</th>\n",
       "      <th>Location.Region</th>\n",
       "      <th>Location.Altitude.Min</th>\n",
       "      <th>Location.Altitude.Max</th>\n",
       "      <th>Location.Altitude.Average</th>\n",
       "      <th>Year</th>\n",
       "      <th>Data.Owner</th>\n",
       "      <th>Data.Type.Species</th>\n",
       "      <th>Data.Type.Variety</th>\n",
       "      <th>Data.Type.Processing method</th>\n",
       "      <th>...</th>\n",
       "      <th>Data.Scores.Flavor</th>\n",
       "      <th>Data.Scores.Aftertaste</th>\n",
       "      <th>Data.Scores.Acidity</th>\n",
       "      <th>Data.Scores.Body</th>\n",
       "      <th>Data.Scores.Balance</th>\n",
       "      <th>Data.Scores.Uniformity</th>\n",
       "      <th>Data.Scores.Sweetness</th>\n",
       "      <th>Data.Scores.Moisture</th>\n",
       "      <th>Data.Scores.Total</th>\n",
       "      <th>Data.Color</th>\n",
       "    </tr>\n",
       "  </thead>\n",
       "  <tbody>\n",
       "    <tr>\n",
       "      <th>0</th>\n",
       "      <td>United States</td>\n",
       "      <td>kona</td>\n",
       "      <td>0</td>\n",
       "      <td>0</td>\n",
       "      <td>0</td>\n",
       "      <td>2010</td>\n",
       "      <td>kona pacific farmers cooperative</td>\n",
       "      <td>Arabica</td>\n",
       "      <td>NaN</td>\n",
       "      <td>NaN</td>\n",
       "      <td>...</td>\n",
       "      <td>8.42</td>\n",
       "      <td>8.08</td>\n",
       "      <td>7.75</td>\n",
       "      <td>7.67</td>\n",
       "      <td>7.83</td>\n",
       "      <td>10.0</td>\n",
       "      <td>10.0</td>\n",
       "      <td>0.00</td>\n",
       "      <td>86.25</td>\n",
       "      <td>Unknown</td>\n",
       "    </tr>\n",
       "    <tr>\n",
       "      <th>1</th>\n",
       "      <td>Brazil</td>\n",
       "      <td>sul de minas - carmo de minas</td>\n",
       "      <td>12</td>\n",
       "      <td>12</td>\n",
       "      <td>12</td>\n",
       "      <td>2010</td>\n",
       "      <td>jacques pereira carneiro</td>\n",
       "      <td>Arabica</td>\n",
       "      <td>Yellow Bourbon</td>\n",
       "      <td>NaN</td>\n",
       "      <td>...</td>\n",
       "      <td>7.92</td>\n",
       "      <td>7.92</td>\n",
       "      <td>7.75</td>\n",
       "      <td>8.33</td>\n",
       "      <td>8.00</td>\n",
       "      <td>10.0</td>\n",
       "      <td>10.0</td>\n",
       "      <td>0.08</td>\n",
       "      <td>86.17</td>\n",
       "      <td>Unknown</td>\n",
       "    </tr>\n",
       "    <tr>\n",
       "      <th>2</th>\n",
       "      <td>Brazil</td>\n",
       "      <td>sul de minas - carmo de minas</td>\n",
       "      <td>12</td>\n",
       "      <td>12</td>\n",
       "      <td>12</td>\n",
       "      <td>2010</td>\n",
       "      <td>jacques pereira carneiro</td>\n",
       "      <td>Arabica</td>\n",
       "      <td>Yellow Bourbon</td>\n",
       "      <td>NaN</td>\n",
       "      <td>...</td>\n",
       "      <td>7.92</td>\n",
       "      <td>8.00</td>\n",
       "      <td>7.75</td>\n",
       "      <td>7.92</td>\n",
       "      <td>8.00</td>\n",
       "      <td>10.0</td>\n",
       "      <td>10.0</td>\n",
       "      <td>0.01</td>\n",
       "      <td>86.17</td>\n",
       "      <td>Unknown</td>\n",
       "    </tr>\n",
       "    <tr>\n",
       "      <th>3</th>\n",
       "      <td>Ethiopia</td>\n",
       "      <td>sidamo</td>\n",
       "      <td>0</td>\n",
       "      <td>0</td>\n",
       "      <td>0</td>\n",
       "      <td>2010</td>\n",
       "      <td>ethiopia commodity exchange</td>\n",
       "      <td>Arabica</td>\n",
       "      <td>NaN</td>\n",
       "      <td>NaN</td>\n",
       "      <td>...</td>\n",
       "      <td>8.00</td>\n",
       "      <td>7.83</td>\n",
       "      <td>8.00</td>\n",
       "      <td>7.92</td>\n",
       "      <td>7.83</td>\n",
       "      <td>10.0</td>\n",
       "      <td>10.0</td>\n",
       "      <td>0.00</td>\n",
       "      <td>85.08</td>\n",
       "      <td>Unknown</td>\n",
       "    </tr>\n",
       "    <tr>\n",
       "      <th>4</th>\n",
       "      <td>Ethiopia</td>\n",
       "      <td>sidamo</td>\n",
       "      <td>0</td>\n",
       "      <td>0</td>\n",
       "      <td>0</td>\n",
       "      <td>2010</td>\n",
       "      <td>ethiopia commodity exchange</td>\n",
       "      <td>Arabica</td>\n",
       "      <td>NaN</td>\n",
       "      <td>NaN</td>\n",
       "      <td>...</td>\n",
       "      <td>7.83</td>\n",
       "      <td>7.58</td>\n",
       "      <td>8.00</td>\n",
       "      <td>7.83</td>\n",
       "      <td>7.50</td>\n",
       "      <td>10.0</td>\n",
       "      <td>10.0</td>\n",
       "      <td>0.10</td>\n",
       "      <td>83.83</td>\n",
       "      <td>Unknown</td>\n",
       "    </tr>\n",
       "  </tbody>\n",
       "</table>\n",
       "<p>5 rows × 23 columns</p>\n",
       "</div>"
      ],
      "text/plain": [
       "  Location.Country                Location.Region  Location.Altitude.Min  \\\n",
       "0    United States                           kona                      0   \n",
       "1           Brazil  sul de minas - carmo de minas                     12   \n",
       "2           Brazil  sul de minas - carmo de minas                     12   \n",
       "3         Ethiopia                         sidamo                      0   \n",
       "4         Ethiopia                         sidamo                      0   \n",
       "\n",
       "   Location.Altitude.Max  Location.Altitude.Average  Year  \\\n",
       "0                      0                          0  2010   \n",
       "1                     12                         12  2010   \n",
       "2                     12                         12  2010   \n",
       "3                      0                          0  2010   \n",
       "4                      0                          0  2010   \n",
       "\n",
       "                         Data.Owner Data.Type.Species Data.Type.Variety  \\\n",
       "0  kona pacific farmers cooperative           Arabica               NaN   \n",
       "1          jacques pereira carneiro           Arabica    Yellow Bourbon   \n",
       "2          jacques pereira carneiro           Arabica    Yellow Bourbon   \n",
       "3       ethiopia commodity exchange           Arabica               NaN   \n",
       "4       ethiopia commodity exchange           Arabica               NaN   \n",
       "\n",
       "  Data.Type.Processing method  ...  Data.Scores.Flavor  \\\n",
       "0                         NaN  ...                8.42   \n",
       "1                         NaN  ...                7.92   \n",
       "2                         NaN  ...                7.92   \n",
       "3                         NaN  ...                8.00   \n",
       "4                         NaN  ...                7.83   \n",
       "\n",
       "   Data.Scores.Aftertaste  Data.Scores.Acidity  Data.Scores.Body  \\\n",
       "0                    8.08                 7.75              7.67   \n",
       "1                    7.92                 7.75              8.33   \n",
       "2                    8.00                 7.75              7.92   \n",
       "3                    7.83                 8.00              7.92   \n",
       "4                    7.58                 8.00              7.83   \n",
       "\n",
       "   Data.Scores.Balance  Data.Scores.Uniformity  Data.Scores.Sweetness  \\\n",
       "0                 7.83                    10.0                   10.0   \n",
       "1                 8.00                    10.0                   10.0   \n",
       "2                 8.00                    10.0                   10.0   \n",
       "3                 7.83                    10.0                   10.0   \n",
       "4                 7.50                    10.0                   10.0   \n",
       "\n",
       "   Data.Scores.Moisture  Data.Scores.Total  Data.Color  \n",
       "0                  0.00              86.25     Unknown  \n",
       "1                  0.08              86.17     Unknown  \n",
       "2                  0.01              86.17     Unknown  \n",
       "3                  0.00              85.08     Unknown  \n",
       "4                  0.10              83.83     Unknown  \n",
       "\n",
       "[5 rows x 23 columns]"
      ]
     },
     "execution_count": 3,
     "metadata": {},
     "output_type": "execute_result"
    }
   ],
   "source": [
    "coffee.head(5)\n"
   ]
  },
  {
   "cell_type": "markdown",
   "metadata": {},
   "source": [
    "### 2. Missing Value Cleaning\n",
    "\n",
    "#### 2.1. Implicit Missing Value Inspection\n",
    "\n",
    "Do you think that there were any implicit missing value strings in this csv file that we did not account for *in our intended numerical variables*? Or in, otherwords, could there be some missing values in our intended numerical variables in the dataframe that are NOT represented as a NaN value?\n",
    "\n",
    "From what we can tell, there are no implicit missing values in our intended numerical values."
   ]
  },
  {
   "cell_type": "code",
   "execution_count": 4,
   "metadata": {},
   "outputs": [
    {
     "data": {
      "text/plain": [
       "Location.Country                    0\n",
       "Location.Region                    36\n",
       "Location.Altitude.Min               0\n",
       "Location.Altitude.Max               0\n",
       "Location.Altitude.Average           0\n",
       "Year                                0\n",
       "Data.Owner                          5\n",
       "Data.Type.Species                   0\n",
       "Data.Type.Variety                 125\n",
       "Data.Type.Processing method        62\n",
       "Data.Production.Number of bags      0\n",
       "Data.Production.Bag weight          0\n",
       "Data.Scores.Aroma                   0\n",
       "Data.Scores.Flavor                  0\n",
       "Data.Scores.Aftertaste              0\n",
       "Data.Scores.Acidity                 0\n",
       "Data.Scores.Body                    0\n",
       "Data.Scores.Balance                 0\n",
       "Data.Scores.Uniformity              0\n",
       "Data.Scores.Sweetness               0\n",
       "Data.Scores.Moisture                0\n",
       "Data.Scores.Total                   0\n",
       "Data.Color                         47\n",
       "dtype: int64"
      ]
     },
     "execution_count": 4,
     "metadata": {},
     "output_type": "execute_result"
    }
   ],
   "source": [
    "coffee.isna().sum()"
   ]
  },
  {
   "cell_type": "code",
   "execution_count": 5,
   "metadata": {},
   "outputs": [
    {
     "data": {
      "text/plain": [
       "Location.Country                   object\n",
       "Location.Region                    object\n",
       "Location.Altitude.Min               int64\n",
       "Location.Altitude.Max               int64\n",
       "Location.Altitude.Average           int64\n",
       "Year                                int64\n",
       "Data.Owner                         object\n",
       "Data.Type.Species                  object\n",
       "Data.Type.Variety                  object\n",
       "Data.Type.Processing method        object\n",
       "Data.Production.Number of bags      int64\n",
       "Data.Production.Bag weight        float64\n",
       "Data.Scores.Aroma                 float64\n",
       "Data.Scores.Flavor                float64\n",
       "Data.Scores.Aftertaste            float64\n",
       "Data.Scores.Acidity               float64\n",
       "Data.Scores.Body                  float64\n",
       "Data.Scores.Balance               float64\n",
       "Data.Scores.Uniformity            float64\n",
       "Data.Scores.Sweetness             float64\n",
       "Data.Scores.Moisture              float64\n",
       "Data.Scores.Total                 float64\n",
       "Data.Color                         object\n",
       "dtype: object"
      ]
     },
     "execution_count": 5,
     "metadata": {},
     "output_type": "execute_result"
    }
   ],
   "source": [
    "coffee.dtypes"
   ]
  },
  {
   "cell_type": "markdown",
   "metadata": {},
   "source": []
  },
  {
   "cell_type": "markdown",
   "metadata": {},
   "source": [
    "#### 2.2. Missing Value Cleaning\n",
    "\n",
    "1. First create a dataframe that is comprised of just the three variables that you would to explore.\n",
    "2. Then drop all rows from this dataframe that have a NaN value.\n",
    "3. How many rows did you drop?\n",
    "\n",
    "Region, Species, and processing method"
   ]
  },
  {
   "cell_type": "code",
   "execution_count": 6,
   "metadata": {},
   "outputs": [
    {
     "data": {
      "text/html": [
       "<div>\n",
       "<style scoped>\n",
       "    .dataframe tbody tr th:only-of-type {\n",
       "        vertical-align: middle;\n",
       "    }\n",
       "\n",
       "    .dataframe tbody tr th {\n",
       "        vertical-align: top;\n",
       "    }\n",
       "\n",
       "    .dataframe thead th {\n",
       "        text-align: right;\n",
       "    }\n",
       "</style>\n",
       "<table border=\"1\" class=\"dataframe\">\n",
       "  <thead>\n",
       "    <tr style=\"text-align: right;\">\n",
       "      <th></th>\n",
       "      <th>Location.Region</th>\n",
       "      <th>Data.Type.Species</th>\n",
       "      <th>Data.Type.Processing method</th>\n",
       "    </tr>\n",
       "  </thead>\n",
       "  <tbody>\n",
       "    <tr>\n",
       "      <th>0</th>\n",
       "      <td>kona</td>\n",
       "      <td>Arabica</td>\n",
       "      <td>NaN</td>\n",
       "    </tr>\n",
       "    <tr>\n",
       "      <th>1</th>\n",
       "      <td>sul de minas - carmo de minas</td>\n",
       "      <td>Arabica</td>\n",
       "      <td>NaN</td>\n",
       "    </tr>\n",
       "    <tr>\n",
       "      <th>2</th>\n",
       "      <td>sul de minas - carmo de minas</td>\n",
       "      <td>Arabica</td>\n",
       "      <td>NaN</td>\n",
       "    </tr>\n",
       "    <tr>\n",
       "      <th>3</th>\n",
       "      <td>sidamo</td>\n",
       "      <td>Arabica</td>\n",
       "      <td>NaN</td>\n",
       "    </tr>\n",
       "    <tr>\n",
       "      <th>4</th>\n",
       "      <td>sidamo</td>\n",
       "      <td>Arabica</td>\n",
       "      <td>NaN</td>\n",
       "    </tr>\n",
       "    <tr>\n",
       "      <th>...</th>\n",
       "      <td>...</td>\n",
       "      <td>...</td>\n",
       "      <td>...</td>\n",
       "    </tr>\n",
       "    <tr>\n",
       "      <th>984</th>\n",
       "      <td>san marcos</td>\n",
       "      <td>Arabica</td>\n",
       "      <td>Washed / Wet</td>\n",
       "    </tr>\n",
       "    <tr>\n",
       "      <th>985</th>\n",
       "      <td>comayagua</td>\n",
       "      <td>Arabica</td>\n",
       "      <td>NaN</td>\n",
       "    </tr>\n",
       "    <tr>\n",
       "      <th>986</th>\n",
       "      <td>chikmagalur karnataka indua</td>\n",
       "      <td>Robusta</td>\n",
       "      <td>Washed / Wet</td>\n",
       "    </tr>\n",
       "    <tr>\n",
       "      <th>987</th>\n",
       "      <td>chikmagalur karnataka india</td>\n",
       "      <td>Robusta</td>\n",
       "      <td>Washed / Wet</td>\n",
       "    </tr>\n",
       "    <tr>\n",
       "      <th>988</th>\n",
       "      <td>western region</td>\n",
       "      <td>Arabica</td>\n",
       "      <td>Washed / Wet</td>\n",
       "    </tr>\n",
       "  </tbody>\n",
       "</table>\n",
       "<p>989 rows × 3 columns</p>\n",
       "</div>"
      ],
      "text/plain": [
       "                   Location.Region Data.Type.Species  \\\n",
       "0                             kona           Arabica   \n",
       "1    sul de minas - carmo de minas           Arabica   \n",
       "2    sul de minas - carmo de minas           Arabica   \n",
       "3                           sidamo           Arabica   \n",
       "4                           sidamo           Arabica   \n",
       "..                             ...               ...   \n",
       "984                     san marcos           Arabica   \n",
       "985                      comayagua           Arabica   \n",
       "986    chikmagalur karnataka indua           Robusta   \n",
       "987    chikmagalur karnataka india           Robusta   \n",
       "988                 western region           Arabica   \n",
       "\n",
       "    Data.Type.Processing method  \n",
       "0                           NaN  \n",
       "1                           NaN  \n",
       "2                           NaN  \n",
       "3                           NaN  \n",
       "4                           NaN  \n",
       "..                          ...  \n",
       "984                Washed / Wet  \n",
       "985                         NaN  \n",
       "986                Washed / Wet  \n",
       "987                Washed / Wet  \n",
       "988                Washed / Wet  \n",
       "\n",
       "[989 rows x 3 columns]"
      ]
     },
     "execution_count": 6,
     "metadata": {},
     "output_type": "execute_result"
    }
   ],
   "source": [
    "mv_cleaning = coffee[['Location.Region', 'Data.Type.Species', 'Data.Type.Processing method']]\n",
    "mv_cleaning"
   ]
  },
  {
   "cell_type": "code",
   "execution_count": 7,
   "metadata": {},
   "outputs": [
    {
     "data": {
      "text/html": [
       "<div>\n",
       "<style scoped>\n",
       "    .dataframe tbody tr th:only-of-type {\n",
       "        vertical-align: middle;\n",
       "    }\n",
       "\n",
       "    .dataframe tbody tr th {\n",
       "        vertical-align: top;\n",
       "    }\n",
       "\n",
       "    .dataframe thead th {\n",
       "        text-align: right;\n",
       "    }\n",
       "</style>\n",
       "<table border=\"1\" class=\"dataframe\">\n",
       "  <thead>\n",
       "    <tr style=\"text-align: right;\">\n",
       "      <th></th>\n",
       "      <th>Location.Region</th>\n",
       "      <th>Data.Type.Species</th>\n",
       "      <th>Data.Type.Processing method</th>\n",
       "    </tr>\n",
       "  </thead>\n",
       "  <tbody>\n",
       "    <tr>\n",
       "      <th>10</th>\n",
       "      <td>south of minas</td>\n",
       "      <td>Arabica</td>\n",
       "      <td>Natural / Dry</td>\n",
       "    </tr>\n",
       "    <tr>\n",
       "      <th>11</th>\n",
       "      <td>vale da grama</td>\n",
       "      <td>Arabica</td>\n",
       "      <td>Natural / Dry</td>\n",
       "    </tr>\n",
       "    <tr>\n",
       "      <th>12</th>\n",
       "      <td>south of minas</td>\n",
       "      <td>Arabica</td>\n",
       "      <td>Semi-washed / Semi-pulped</td>\n",
       "    </tr>\n",
       "    <tr>\n",
       "      <th>13</th>\n",
       "      <td>south of minas</td>\n",
       "      <td>Arabica</td>\n",
       "      <td>Semi-washed / Semi-pulped</td>\n",
       "    </tr>\n",
       "    <tr>\n",
       "      <th>14</th>\n",
       "      <td>south of minas</td>\n",
       "      <td>Arabica</td>\n",
       "      <td>Natural / Dry</td>\n",
       "    </tr>\n",
       "    <tr>\n",
       "      <th>...</th>\n",
       "      <td>...</td>\n",
       "      <td>...</td>\n",
       "      <td>...</td>\n",
       "    </tr>\n",
       "    <tr>\n",
       "      <th>983</th>\n",
       "      <td>ocotepeque</td>\n",
       "      <td>Arabica</td>\n",
       "      <td>Washed / Wet</td>\n",
       "    </tr>\n",
       "    <tr>\n",
       "      <th>984</th>\n",
       "      <td>san marcos</td>\n",
       "      <td>Arabica</td>\n",
       "      <td>Washed / Wet</td>\n",
       "    </tr>\n",
       "    <tr>\n",
       "      <th>986</th>\n",
       "      <td>chikmagalur karnataka indua</td>\n",
       "      <td>Robusta</td>\n",
       "      <td>Washed / Wet</td>\n",
       "    </tr>\n",
       "    <tr>\n",
       "      <th>987</th>\n",
       "      <td>chikmagalur karnataka india</td>\n",
       "      <td>Robusta</td>\n",
       "      <td>Washed / Wet</td>\n",
       "    </tr>\n",
       "    <tr>\n",
       "      <th>988</th>\n",
       "      <td>western region</td>\n",
       "      <td>Arabica</td>\n",
       "      <td>Washed / Wet</td>\n",
       "    </tr>\n",
       "  </tbody>\n",
       "</table>\n",
       "<p>896 rows × 3 columns</p>\n",
       "</div>"
      ],
      "text/plain": [
       "                 Location.Region Data.Type.Species Data.Type.Processing method\n",
       "10                south of minas           Arabica               Natural / Dry\n",
       "11                 vale da grama           Arabica               Natural / Dry\n",
       "12                south of minas           Arabica   Semi-washed / Semi-pulped\n",
       "13                south of minas           Arabica   Semi-washed / Semi-pulped\n",
       "14                south of minas           Arabica               Natural / Dry\n",
       "..                           ...               ...                         ...\n",
       "983                   ocotepeque           Arabica                Washed / Wet\n",
       "984                   san marcos           Arabica                Washed / Wet\n",
       "986  chikmagalur karnataka indua           Robusta                Washed / Wet\n",
       "987  chikmagalur karnataka india           Robusta                Washed / Wet\n",
       "988               western region           Arabica                Washed / Wet\n",
       "\n",
       "[896 rows x 3 columns]"
      ]
     },
     "execution_count": 7,
     "metadata": {},
     "output_type": "execute_result"
    }
   ],
   "source": [
    "mv_cleaned = mv_cleaning.dropna()\n",
    "mv_cleaned"
   ]
  },
  {
   "cell_type": "code",
   "execution_count": 8,
   "metadata": {},
   "outputs": [
    {
     "data": {
      "text/plain": [
       "93"
      ]
     },
     "execution_count": 8,
     "metadata": {},
     "output_type": "execute_result"
    }
   ],
   "source": [
    "len(coffee)-len(mv_cleaned)"
   ]
  },
  {
   "cell_type": "markdown",
   "metadata": {},
   "source": [
    "93 dropped rows."
   ]
  },
  {
   "cell_type": "markdown",
   "metadata": {},
   "source": [
    "### 3. Dataset Exploration\n",
    "\n",
    "You can find out more information about *how* this datast was collected <a href=\"https://github.com/rfordatascience/tidytuesday/tree/2e9bd5a67e09b14d01f616b00f7f7e0931515d24/data/2020/2020-07-07\">here</a>. Do you think that this dataset is comprised of ALL brands of coffee in existence?"
   ]
  },
  {
   "cell_type": "markdown",
   "metadata": {},
   "source": [
    "No, this data is comprised of only Fair Trade Coffee, which is not all coffee. Also, this data was collected until 2021 and directly from the Coffee Quality Institute's review pages."
   ]
  },
  {
   "cell_type": "markdown",
   "metadata": {},
   "source": [
    "### 4. Choosing a Research Question\n",
    "\n",
    "Next, based on your dataset you should seek to answer the following question.\n",
    "\n",
    "```How does the association between `x` and `y` change based on different values of `z` in this dataset?```\n",
    "\n",
    "*Your `x` and `y` variables in the question above should be `numerical` and your `z` variable should be `categorical`.*\n",
    "\n",
    "Select your `x`, `y`, and `z` variables and restate your question below using these selected column names."
   ]
  },
  {
   "cell_type": "markdown",
   "metadata": {},
   "source": [
    "```\n",
    "x=Data.Scores.Total\n",
    "y=Data.Production.Bag weight\n",
    "z=Location.Country\n",
    "```\n",
    "How does the association between `Data.Scores.Total` and `Data.Production.Bag weight` change based on different values of `Location.Country` in this dataset?\n"
   ]
  },
  {
   "cell_type": "markdown",
   "metadata": {},
   "source": [
    "### 5. Research Motivation\n",
    "\n",
    "*Who* might be interested in learning the answer to your research question? If you discovered in #3 that your dataset does not represent ALL brands of coffee, what *shortcomings* about your analysis might you want to be explicit about when it comes to communicating your answer to this person?"
   ]
  },
  {
   "cell_type": "markdown",
   "metadata": {},
   "source": [
    "Coffee shops, coffee enthusiasts, and just about anyone that is interested in finding the best region for coffee whilst also caring about the proper bag size for said preferences. One major shortcomings is the fact that we are using an objective measurement to determine something that is subjective(what is the best coffee)."
   ]
  },
  {
   "cell_type": "markdown",
   "metadata": {},
   "source": [
    "### 6. Weighing Data Cleaning Choices\n",
    "\n",
    "When attempting to answer your question in #7 below, you might have discovered that it might be beneficial to perform some preliminary cleaning of your dataset first. This cleaning might involve dropping some particular rows from the dataframe first.\n",
    "\n",
    "1. Try to think of at least one data cleaning decision that you *could* make. \n",
    "2. Then weigh the pros and cons of making vs. not making this data cleaning decision in order to answer your research question. \n",
    "3. How might your research motivation and the answer to your question be impacted based on your data cleaning decisions?"
   ]
  },
  {
   "cell_type": "markdown",
   "metadata": {},
   "source": []
  },
  {
   "cell_type": "code",
   "execution_count": 9,
   "metadata": {},
   "outputs": [],
   "source": [
    "xyz = coffee[['Data.Scores.Total','Data.Production.Bag weight','Location.Country']]"
   ]
  },
  {
   "cell_type": "code",
   "execution_count": 10,
   "metadata": {},
   "outputs": [],
   "source": [
    "xyz_dropped = xyz[xyz['Data.Production.Bag weight'] != 1]"
   ]
  },
  {
   "cell_type": "code",
   "execution_count": 11,
   "metadata": {},
   "outputs": [
    {
     "data": {
      "text/plain": [
       "293"
      ]
     },
     "execution_count": 11,
     "metadata": {},
     "output_type": "execute_result"
    }
   ],
   "source": [
    "len(xyz)-len(xyz_dropped)"
   ]
  },
  {
   "cell_type": "markdown",
   "metadata": {},
   "source": [
    "### 7. Answer the Question\n",
    "\n",
    "Finally, use the appropriate visualizations and summary statistics that we discussed in class to *thoroughly* answer this question. \n",
    "\n",
    "*Recall in class that we discussed 5 things about the association between `x` and `y` that you should **compare** for different values of `z`. You should compare these 5 things for full credit.*"
   ]
  },
  {
   "cell_type": "markdown",
   "metadata": {},
   "source": []
  },
  {
   "cell_type": "code",
   "execution_count": 12,
   "metadata": {},
   "outputs": [],
   "source": [
    "import seaborn as sns\n",
    "import matplotlib.pyplot as plt\n",
    "import numpy as np\n",
    "from scipy import stats"
   ]
  },
  {
   "cell_type": "code",
   "execution_count": 30,
   "metadata": {},
   "outputs": [
    {
     "data": {
      "image/png": "[encoded data removed]",
      "text/plain": [
       "<Figure size 500x500 with 1 Axes>"
      ]
     },
     "metadata": {},
     "output_type": "display_data"
    }
   ],
   "source": [
    "# Calculate the IQR for 'Data.Production.Bag weight'\n",
    "Q1_bag_weight = xyz_dropped['Data.Production.Bag weight'].quantile(0.25)\n",
    "Q3_bag_weight = xyz_dropped['Data.Production.Bag weight'].quantile(0.75)\n",
    "IQR_bag_weight = Q3_bag_weight - Q1_bag_weight\n",
    "\n",
    "# Define bounds\n",
    "lower_bound_bag_weight = Q1_bag_weight - 1.5 * IQR_bag_weight\n",
    "upper_bound_bag_weight = Q3_bag_weight + 1.5 * IQR_bag_weight\n",
    "\n",
    "# Filter out outliers for 'Data.Production.Bag weight' only\n",
    "filtered_data = xyz_dropped[(xyz_dropped['Data.Production.Bag weight'] >= lower_bound_bag_weight) & \n",
    "                            (xyz_dropped['Data.Production.Bag weight'] <= upper_bound_bag_weight)]\n",
    "\n",
    "xyz_final = filtered_data.sort_values('Data.Scores.Total', ascending= False).head(50)\n",
    "sns.lmplot(x='Data.Production.Bag weight', y='Data.Scores.Total', hue= 'Location.Country', ci = False, data=xyz_final, palette='plasma', legend=False)\n",
    "plt.title(\"Total Score vs Bag Weight by Country\")\n",
    "plt.xlabel('Bag Weight')\n",
    "plt.ylabel('Total Score')\n",
    "plt.legend(title='Country of Origin', loc='center right',bbox_to_anchor=(1.75, 0.5))\n",
    "plt.show()"
   ]
  },
  {
   "cell_type": "code",
   "execution_count": null,
   "metadata": {},
   "outputs": [],
   "source": []
  },
  {
   "cell_type": "code",
   "execution_count": null,
   "metadata": {},
   "outputs": [],
   "source": []
  },
  {
   "cell_type": "code",
   "execution_count": null,
   "metadata": {},
   "outputs": [],
   "source": []
  },
  {
   "cell_type": "code",
   "execution_count": null,
   "metadata": {},
   "outputs": [],
   "source": []
  },
  {
   "cell_type": "markdown",
   "metadata": {},
   "source": [
    "### Contribution Report\n",
    "These contribution reports should be included in all group lab assignments. In this contribution report below you should list of the following:\n",
    "1. Names of each team member.\n",
    "2. Contributions of each team member to report.\n",
    "\n",
    "*For example:*\n",
    "\n",
    "*<u>Teammates:</u>*\n",
    "\n",
    "*1. Sophie: did number 1,2 and 3*\n",
    "\n",
    "*2. Erwin: did number 4, and 6*\n",
    "\n",
    "*3. Charles: did number 5 and 7*\n",
    "\n",
    "**Submitted by Sophie.**"
   ]
  }
 ],
 "metadata": {
  "kernelspec": {
   "display_name": "Python 3 (ipykernel)",
   "language": "python",
   "name": "python3"
  },
  "language_info": {
   "codemirror_mode": {
    "name": "ipython",
    "version": 3
   },
   "file_extension": ".py",
   "mimetype": "text/x-python",
   "name": "python",
   "nbconvert_exporter": "python",
   "pygments_lexer": "ipython3",
   "version": "3.11.1"
  }
 },
 "nbformat": 4,
 "nbformat_minor": 2
}
