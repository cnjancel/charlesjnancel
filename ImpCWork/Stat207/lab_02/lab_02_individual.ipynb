{
 "cells": [
  {
   "cell_type": "markdown",
   "metadata": {},
   "source": [
    "# STAT 207 Lab Assignment 2 - Individual Part - [25 total points] - Solutions\n",
    "\n",
    "## Dataframe Manipulation and Cleaning"
   ]
  },
  {
   "cell_type": "markdown",
   "metadata": {},
   "source": [
    "Due: Tuesday, September 5, 11:59pm CST\n",
    "\n",
    "<hr>\n"
   ]
  },
  {
   "cell_type": "markdown",
   "metadata": {},
   "source": [
    "## <u>Case Study</u>: Steam Game Play and Purchase Analysis\n",
    "Steam is the world's most popular PC Gaming hub. With a massive collection that includes everything from AAA blockbusters to small indie titles, great discovery tools can be super valuable for Steam. We would like to use the following dataset below to learn more about Steam player behavior.\n",
    "\n",
    "The dataset we will be analyzing is comprised of a random sample of 500 steam users and their game play and purchase behaviors. It has the following columns:\n",
    "* **user_id**\n",
    "* **game_name**,\n",
    "* **activity**:\n",
    "    - purchase: indicating that the user has *purchased* the corresponding game\n",
    "    - play: indicating that the user has *played* the corresponding game (for at least some amount of time.) \n",
    "* **hours_played_if_play**:\n",
    "    - if the row corresponds to a 'play' activity, this number represents the number of hours the user has played the game\n",
    "    - if the row corresponds to a 'purchase' activity, this number is always a 1 (and means nothing... it's a placeholder).\n",
    "\n",
    "<hr>\n",
    "\n",
    "\n",
    "### <u>Research Goals</u>\n",
    "\n",
    "In this analysis, we will consider a game's **\"all-star\" player** to be the person who had played this game for the most amount of hours.\n",
    "\n",
    "1. **Missing Value Cleaning**: Identify any implicit or explicit missing values in the dataset and drop any rows that have a missing value.\n",
    "2. **Game Purchase vs. Play Behaviors**: What percent of games that were *bought* were actually *played* in this dataset?\n",
    "3. **Top Game Buyer**: Learn more about the person who bought the most amount of games in this dataset. How many of these games did they actually play?\n",
    "4. **\"All Star Players\"**: Who were the \"all-star players\" of the games? How long did they play this game?\n",
    "5. **All Star Player Behavior**: What percent of games did that these \"all star players\" bought did they actually play?\n",
    "\n",
    "\n",
    "\n",
    "### <u>Points </u>\n",
    "<p style=\"margin-top:0in;margin-right:0in;margin-bottom:0in;margin-left:0in;font-size:11.0pt;font-family:&quot;Calibri&quot;,sans-serif;line-height:normal;\"></p>\n",
    "<table style=\"border: none;border-collapse: collapse;width:102pt;\">\n",
    "    <tbody>\n",
    "        <tr>\n",
    "            <td style=\"color:black;font-size:15px;font-weight:700;font-style:normal;text-decoration:none;font-family:Calibri, sans-serif;text-align:right;vertical-align:bottom;border:.5pt solid windowtext;height:14.25pt;width:51pt;\">Problem</td>\n",
    "            <td style=\"color:black;font-size:15px;font-weight:700;font-style:normal;text-decoration:none;font-family:Calibri, sans-serif;text-align:right;vertical-align:bottom;border:.5pt solid windowtext;border-left:none;width:51pt;\">Points</td>\n",
    "        </tr>\n",
    "        <tr>\n",
    "            <td style=\"color:black;font-size:15px;font-weight:400;font-style:normal;text-decoration:none;font-family:Calibri, sans-serif;text-align:right;vertical-align:bottom;border:.5pt solid windowtext;height:14.25pt;border-top:none;\">1</td>\n",
    "            <td style=\"color:black;font-size:15px;font-weight:400;font-style:normal;text-decoration:none;font-family:Calibri, sans-serif;text-align:right;vertical-align:bottom;border:.5pt solid windowtext;border-top:none;border-left:none;\">0.5</td>\n",
    "        </tr>\n",
    "        <tr>\n",
    "            <td style=\"color:black;font-size:15px;font-weight:400;font-style:normal;text-decoration:none;font-family:Calibri, sans-serif;text-align:right;vertical-align:bottom;border:.5pt solid windowtext;height:14.25pt;border-top:none;\">2</td>\n",
    "            <td style=\"color:black;font-size:15px;font-weight:400;font-style:normal;text-decoration:none;font-family:Calibri, sans-serif;text-align:right;vertical-align:bottom;border:.5pt solid windowtext;border-top:none;border-left:none;\">0.5</td>\n",
    "        </tr>\n",
    "        <tr>\n",
    "            <td style=\"color:black;font-size:15px;font-weight:400;font-style:normal;text-decoration:none;font-family:Calibri, sans-serif;text-align:right;vertical-align:bottom;border:.5pt solid windowtext;height:14.25pt;border-top:none;\">3</td>\n",
    "            <td style=\"color:black;font-size:15px;font-weight:400;font-style:normal;text-decoration:none;font-family:Calibri, sans-serif;text-align:right;vertical-align:bottom;border:.5pt solid windowtext;border-top:none;border-left:none;\">6</td>\n",
    "        </tr>\n",
    "        <tr>\n",
    "            <td style=\"color:black;font-size:15px;font-weight:400;font-style:normal;text-decoration:none;font-family:Calibri, sans-serif;text-align:right;vertical-align:bottom;border:.5pt solid windowtext;height:14.25pt;border-top:none;\">4</td>\n",
    "            <td style=\"color:black;font-size:15px;font-weight:400;font-style:normal;text-decoration:none;font-family:Calibri, sans-serif;text-align:right;vertical-align:bottom;border:.5pt solid windowtext;border-top:none;border-left:none;\">1</td>\n",
    "        </tr>\n",
    "        <tr>\n",
    "            <td style=\"color:black;font-size:15px;font-weight:400;font-style:normal;text-decoration:none;font-family:Calibri, sans-serif;text-align:right;vertical-align:bottom;border:.5pt solid windowtext;height:14.25pt;border-top:none;\">5</td>\n",
    "            <td style=\"color:black;font-size:15px;font-weight:400;font-style:normal;text-decoration:none;font-family:Calibri, sans-serif;text-align:right;vertical-align:bottom;border:.5pt solid windowtext;border-top:none;border-left:none;\">2</td>\n",
    "        </tr>\n",
    "        <tr>\n",
    "            <td style=\"color:black;font-size:15px;font-weight:400;font-style:normal;text-decoration:none;font-family:Calibri, sans-serif;text-align:right;vertical-align:bottom;border:.5pt solid windowtext;height:14.25pt;border-top:none;\">6</td>\n",
    "            <td style=\"color:black;font-size:15px;font-weight:400;font-style:normal;text-decoration:none;font-family:Calibri, sans-serif;text-align:right;vertical-align:bottom;border:.5pt solid windowtext;border-top:none;border-left:none;\">2</td>\n",
    "        </tr>\n",
    "        <tr>\n",
    "            <td style=\"color:black;font-size:15px;font-weight:400;font-style:normal;text-decoration:none;font-family:Calibri, sans-serif;text-align:right;vertical-align:bottom;border:.5pt solid windowtext;height:14.25pt;border-top:none;\">7.1</td>\n",
    "            <td style=\"color:black;font-size:15px;font-weight:400;font-style:normal;text-decoration:none;font-family:Calibri, sans-serif;text-align:right;vertical-align:bottom;border:.5pt solid windowtext;border-top:none;border-left:none;\">2</td>\n",
    "        </tr>\n",
    "        <tr>\n",
    "            <td style=\"color:black;font-size:15px;font-weight:400;font-style:normal;text-decoration:none;font-family:Calibri, sans-serif;text-align:right;vertical-align:bottom;border:.5pt solid windowtext;height:14.25pt;border-top:none;\">7.2</td>\n",
    "            <td style=\"color:black;font-size:15px;font-weight:400;font-style:normal;text-decoration:none;font-family:Calibri, sans-serif;text-align:right;vertical-align:bottom;border:.5pt solid windowtext;border-top:none;border-left:none;\">2</td>\n",
    "        </tr>\n",
    "        <tr>\n",
    "            <td style=\"color:black;font-size:15px;font-weight:400;font-style:normal;text-decoration:none;font-family:Calibri, sans-serif;text-align:right;vertical-align:bottom;border:.5pt solid windowtext;height:14.25pt;border-top:none;\">8.1</td>\n",
    "            <td style=\"color:black;font-size:15px;font-weight:400;font-style:normal;text-decoration:none;font-family:Calibri, sans-serif;text-align:right;vertical-align:bottom;border:.5pt solid windowtext;border-top:none;border-left:none;\">2.5</td>\n",
    "        </tr>\n",
    "        <tr>\n",
    "            <td style=\"color:black;font-size:15px;font-weight:400;font-style:normal;text-decoration:none;font-family:Calibri, sans-serif;text-align:right;vertical-align:bottom;border:.5pt solid windowtext;height:14.25pt;border-top:none;\">8.2</td>\n",
    "            <td style=\"color:black;font-size:15px;font-weight:400;font-style:normal;text-decoration:none;font-family:Calibri, sans-serif;text-align:right;vertical-align:bottom;border:.5pt solid windowtext;border-top:none;border-left:none;\">2</td>\n",
    "        </tr>\n",
    "        <tr>\n",
    "            <td style=\"color:black;font-size:15px;font-weight:400;font-style:normal;text-decoration:none;font-family:Calibri, sans-serif;text-align:right;vertical-align:bottom;border:.5pt solid windowtext;height:14.25pt;border-top:none;\">8.3</td>\n",
    "            <td style=\"color:black;font-size:15px;font-weight:400;font-style:normal;text-decoration:none;font-family:Calibri, sans-serif;text-align:right;vertical-align:bottom;border:.5pt solid windowtext;border-top:none;border-left:none;\">1</td>\n",
    "        </tr>\n",
    "        <tr>\n",
    "            <td style=\"color:black;font-size:15px;font-weight:400;font-style:normal;text-decoration:none;font-family:Calibri, sans-serif;text-align:right;vertical-align:bottom;border:.5pt solid windowtext;height:14.25pt;border-top:none;\">8.4</td>\n",
    "            <td style=\"color:black;font-size:15px;font-weight:400;font-style:normal;text-decoration:none;font-family:Calibri, sans-serif;text-align:right;vertical-align:bottom;border:.5pt solid windowtext;border-top:none;border-left:none;\">2</td>\n",
    "        </tr>\n",
    "        <tr>\n",
    "            <td style=\"color:black;font-size:15px;font-weight:400;font-style:normal;text-decoration:none;font-family:Calibri, sans-serif;text-align:right;vertical-align:bottom;border:.5pt solid windowtext;height:14.25pt;border-top:none;\">9</td>\n",
    "            <td style=\"color:black;font-size:15px;font-weight:400;font-style:normal;text-decoration:none;font-family:Calibri, sans-serif;text-align:right;vertical-align:bottom;border:.5pt solid windowtext;border-top:none;border-left:none;\">1.5</td>\n",
    "        </tr>\n",
    "    </tbody>\n",
    "</table>\n",
    "<p></p>\n",
    "\n",
    "\n"
   ]
  },
  {
   "cell_type": "markdown",
   "metadata": {},
   "source": [
    "<hr>\n",
    "\n",
    "### <u>STAT107 Review</u>\n",
    "Part of this individual assignment will involve a review of STAT107 code that you have seen before including the following. Click on the links below if you need a refresher.\n",
    "\n",
    "1. <a href=\"https://discovery.cs.illinois.edu/learn/Basics-of-Data-Science-with-Python/DataFrames-with-Conditionals/\">Row Filtering</a>\n",
    "2. <a href=\"https://discovery.cs.illinois.edu/guides/Modifying-DataFrames/dataframe-groupby/\">The groupby() and reset_index() Functions</a>\n",
    "2. <a href=\"https://discovery.cs.illinois.edu/guides/Modifying-DataFrames/sorting-a-dataframe-with-pandas/\">The sort_values() Function</a>\n",
    "\n",
    "\n",
    "### <u>Tutorial you Will Need</u>: Utilizing the *.shape* attribute\n",
    "\n",
    "The **.shape** attribute for a given dataframe returns a **tuple** of two values, the first value in the tuple is the number of rows, the second value is the number of columns."
   ]
  },
  {
   "cell_type": "code",
   "execution_count": 1,
   "metadata": {},
   "outputs": [
    {
     "data": {
      "text/html": [
       "<div>\n",
       "<style scoped>\n",
       "    .dataframe tbody tr th:only-of-type {\n",
       "        vertical-align: middle;\n",
       "    }\n",
       "\n",
       "    .dataframe tbody tr th {\n",
       "        vertical-align: top;\n",
       "    }\n",
       "\n",
       "    .dataframe thead th {\n",
       "        text-align: right;\n",
       "    }\n",
       "</style>\n",
       "<table border=\"1\" class=\"dataframe\">\n",
       "  <thead>\n",
       "    <tr style=\"text-align: right;\">\n",
       "      <th></th>\n",
       "      <th>a</th>\n",
       "      <th>b</th>\n",
       "    </tr>\n",
       "  </thead>\n",
       "  <tbody>\n",
       "    <tr>\n",
       "      <th>0</th>\n",
       "      <td>1</td>\n",
       "      <td>4</td>\n",
       "    </tr>\n",
       "    <tr>\n",
       "      <th>1</th>\n",
       "      <td>2</td>\n",
       "      <td>5</td>\n",
       "    </tr>\n",
       "    <tr>\n",
       "      <th>2</th>\n",
       "      <td>3</td>\n",
       "      <td>6</td>\n",
       "    </tr>\n",
       "  </tbody>\n",
       "</table>\n",
       "</div>"
      ],
      "text/plain": [
       "   a  b\n",
       "0  1  4\n",
       "1  2  5\n",
       "2  3  6"
      ]
     },
     "execution_count": 1,
     "metadata": {},
     "output_type": "execute_result"
    }
   ],
   "source": [
    "import pandas as pd\n",
    "demo_df=pd.DataFrame({'a': [1,2,3], 'b': [4,5,6]})\n",
    "demo_df"
   ]
  },
  {
   "cell_type": "markdown",
   "metadata": {},
   "source": [
    "We can index a tuple with 0 and 1 indices to extract the number of rows and columns from the dataframe separately."
   ]
  },
  {
   "cell_type": "code",
   "execution_count": 2,
   "metadata": {},
   "outputs": [
    {
     "data": {
      "text/plain": [
       "(3, 2)"
      ]
     },
     "execution_count": 2,
     "metadata": {},
     "output_type": "execute_result"
    }
   ],
   "source": [
    "#Number of rows and columns\n",
    "demo_df.shape"
   ]
  },
  {
   "cell_type": "code",
   "execution_count": 3,
   "metadata": {},
   "outputs": [
    {
     "data": {
      "text/plain": [
       "3"
      ]
     },
     "execution_count": 3,
     "metadata": {},
     "output_type": "execute_result"
    }
   ],
   "source": [
    "#Number of rows\n",
    "demo_df.shape[0]"
   ]
  },
  {
   "cell_type": "code",
   "execution_count": 4,
   "metadata": {},
   "outputs": [
    {
     "data": {
      "text/plain": [
       "2"
      ]
     },
     "execution_count": 4,
     "metadata": {},
     "output_type": "execute_result"
    }
   ],
   "source": [
    "#Number of columns\n",
    "demo_df.shape[1]"
   ]
  },
  {
   "cell_type": "markdown",
   "metadata": {},
   "source": [
    "<hr>\n",
    "\n",
    "### Imports"
   ]
  },
  {
   "cell_type": "code",
   "execution_count": 5,
   "metadata": {},
   "outputs": [],
   "source": [
    "import numpy as np\n",
    "import seaborn as sns\n",
    "import matplotlib.pyplot as plt"
   ]
  },
  {
   "cell_type": "markdown",
   "metadata": {},
   "source": [
    "### 1. Read the csv\n",
    "First, read the **steam_sample_500.csv** file into a dataframe and display the first five rows of the dataframe."
   ]
  },
  {
   "cell_type": "code",
   "execution_count": 6,
   "metadata": {},
   "outputs": [],
   "source": [
    "steam_smp500 = pd.read_csv('steam_sample_500.csv', na_values='data suppressed')"
   ]
  },
  {
   "cell_type": "markdown",
   "metadata": {},
   "source": [
    "### 2. How many rows does the dataframe have? (Use Python code to show this)."
   ]
  },
  {
   "cell_type": "code",
   "execution_count": 7,
   "metadata": {},
   "outputs": [
    {
     "data": {
      "text/plain": [
       "(8601, 4)"
      ]
     },
     "execution_count": 7,
     "metadata": {},
     "output_type": "execute_result"
    }
   ],
   "source": [
    "steam_smp500.shape"
   ]
  },
  {
   "cell_type": "markdown",
   "metadata": {},
   "source": [
    "### 3. Data cleaning and data type checking\n",
    "\n",
    "We plan to analyze the **\"hours_played_if_play\"** variable in this assignment. In order to ensure that our subsequent functions work appropriately on this numerical variable, you should do the following.\n",
    "1. Identify any values (if any) that have been encoded in the csv to represent a **missing value**. \n",
    "2. Make sure that the values in your **\"hours_played_if_play\"** variable are represented as numerical values (either float64 or int64 object types). If not, fix this using the methods we discussed in class.\n",
    "3. Delete any rows in your dataframe that have missing values (both explicit or implict). Remember, some \"missing values\", in the way that they're currently encoded in the csv may not be initially detectable by Python. It is your job to figure out what these implicit missing values are and make it so Python does detect them. And then delete any rows that have them."
   ]
  },
  {
   "cell_type": "code",
   "execution_count": 8,
   "metadata": {},
   "outputs": [
    {
     "data": {
      "text/html": [
       "<div>\n",
       "<style scoped>\n",
       "    .dataframe tbody tr th:only-of-type {\n",
       "        vertical-align: middle;\n",
       "    }\n",
       "\n",
       "    .dataframe tbody tr th {\n",
       "        vertical-align: top;\n",
       "    }\n",
       "\n",
       "    .dataframe thead th {\n",
       "        text-align: right;\n",
       "    }\n",
       "</style>\n",
       "<table border=\"1\" class=\"dataframe\">\n",
       "  <thead>\n",
       "    <tr style=\"text-align: right;\">\n",
       "      <th></th>\n",
       "      <th>user_id</th>\n",
       "      <th>game_name</th>\n",
       "      <th>activity</th>\n",
       "      <th>hours_played_if_play</th>\n",
       "    </tr>\n",
       "  </thead>\n",
       "  <tbody>\n",
       "    <tr>\n",
       "      <th>0</th>\n",
       "      <td>218323237</td>\n",
       "      <td>Dota 2</td>\n",
       "      <td>purchase</td>\n",
       "      <td>1</td>\n",
       "    </tr>\n",
       "    <tr>\n",
       "      <th>1</th>\n",
       "      <td>218323237</td>\n",
       "      <td>Dota 2</td>\n",
       "      <td>play</td>\n",
       "      <td>14.8</td>\n",
       "    </tr>\n",
       "    <tr>\n",
       "      <th>2</th>\n",
       "      <td>218323237</td>\n",
       "      <td>Tomb Raider</td>\n",
       "      <td>purchase</td>\n",
       "      <td>1</td>\n",
       "    </tr>\n",
       "    <tr>\n",
       "      <th>3</th>\n",
       "      <td>218323237</td>\n",
       "      <td>Tomb Raider</td>\n",
       "      <td>play</td>\n",
       "      <td>8.8</td>\n",
       "    </tr>\n",
       "    <tr>\n",
       "      <th>4</th>\n",
       "      <td>218323237</td>\n",
       "      <td>TERA</td>\n",
       "      <td>purchase</td>\n",
       "      <td>1</td>\n",
       "    </tr>\n",
       "  </tbody>\n",
       "</table>\n",
       "</div>"
      ],
      "text/plain": [
       "     user_id    game_name  activity hours_played_if_play\n",
       "0  218323237       Dota 2  purchase                    1\n",
       "1  218323237       Dota 2      play                 14.8\n",
       "2  218323237  Tomb Raider  purchase                    1\n",
       "3  218323237  Tomb Raider      play                  8.8\n",
       "4  218323237         TERA  purchase                    1"
      ]
     },
     "execution_count": 8,
     "metadata": {},
     "output_type": "execute_result"
    }
   ],
   "source": [
    "steam_smp500.head()"
   ]
  },
  {
   "cell_type": "code",
   "execution_count": 9,
   "metadata": {},
   "outputs": [
    {
     "data": {
      "text/plain": [
       "user_id                  int64\n",
       "game_name               object\n",
       "activity                object\n",
       "hours_played_if_play    object\n",
       "dtype: object"
      ]
     },
     "execution_count": 9,
     "metadata": {},
     "output_type": "execute_result"
    }
   ],
   "source": [
    "steam_smp500.dtypes"
   ]
  },
  {
   "cell_type": "code",
   "execution_count": 10,
   "metadata": {},
   "outputs": [
    {
     "data": {
      "text/html": [
       "<div>\n",
       "<style scoped>\n",
       "    .dataframe tbody tr th:only-of-type {\n",
       "        vertical-align: middle;\n",
       "    }\n",
       "\n",
       "    .dataframe tbody tr th {\n",
       "        vertical-align: top;\n",
       "    }\n",
       "\n",
       "    .dataframe thead th {\n",
       "        text-align: right;\n",
       "    }\n",
       "</style>\n",
       "<table border=\"1\" class=\"dataframe\">\n",
       "  <thead>\n",
       "    <tr style=\"text-align: right;\">\n",
       "      <th></th>\n",
       "      <th>user_id</th>\n",
       "      <th>game_name</th>\n",
       "      <th>activity</th>\n",
       "      <th>hours_played_if_play</th>\n",
       "    </tr>\n",
       "  </thead>\n",
       "  <tbody>\n",
       "    <tr>\n",
       "      <th>0</th>\n",
       "      <td>False</td>\n",
       "      <td>False</td>\n",
       "      <td>False</td>\n",
       "      <td>False</td>\n",
       "    </tr>\n",
       "    <tr>\n",
       "      <th>1</th>\n",
       "      <td>False</td>\n",
       "      <td>False</td>\n",
       "      <td>False</td>\n",
       "      <td>False</td>\n",
       "    </tr>\n",
       "    <tr>\n",
       "      <th>2</th>\n",
       "      <td>False</td>\n",
       "      <td>False</td>\n",
       "      <td>False</td>\n",
       "      <td>False</td>\n",
       "    </tr>\n",
       "    <tr>\n",
       "      <th>3</th>\n",
       "      <td>False</td>\n",
       "      <td>False</td>\n",
       "      <td>False</td>\n",
       "      <td>False</td>\n",
       "    </tr>\n",
       "    <tr>\n",
       "      <th>4</th>\n",
       "      <td>False</td>\n",
       "      <td>False</td>\n",
       "      <td>False</td>\n",
       "      <td>False</td>\n",
       "    </tr>\n",
       "    <tr>\n",
       "      <th>...</th>\n",
       "      <td>...</td>\n",
       "      <td>...</td>\n",
       "      <td>...</td>\n",
       "      <td>...</td>\n",
       "    </tr>\n",
       "    <tr>\n",
       "      <th>8596</th>\n",
       "      <td>False</td>\n",
       "      <td>False</td>\n",
       "      <td>False</td>\n",
       "      <td>False</td>\n",
       "    </tr>\n",
       "    <tr>\n",
       "      <th>8597</th>\n",
       "      <td>False</td>\n",
       "      <td>False</td>\n",
       "      <td>False</td>\n",
       "      <td>False</td>\n",
       "    </tr>\n",
       "    <tr>\n",
       "      <th>8598</th>\n",
       "      <td>False</td>\n",
       "      <td>False</td>\n",
       "      <td>False</td>\n",
       "      <td>False</td>\n",
       "    </tr>\n",
       "    <tr>\n",
       "      <th>8599</th>\n",
       "      <td>False</td>\n",
       "      <td>False</td>\n",
       "      <td>False</td>\n",
       "      <td>False</td>\n",
       "    </tr>\n",
       "    <tr>\n",
       "      <th>8600</th>\n",
       "      <td>False</td>\n",
       "      <td>False</td>\n",
       "      <td>False</td>\n",
       "      <td>False</td>\n",
       "    </tr>\n",
       "  </tbody>\n",
       "</table>\n",
       "<p>8601 rows × 4 columns</p>\n",
       "</div>"
      ],
      "text/plain": [
       "      user_id  game_name  activity  hours_played_if_play\n",
       "0       False      False     False                 False\n",
       "1       False      False     False                 False\n",
       "2       False      False     False                 False\n",
       "3       False      False     False                 False\n",
       "4       False      False     False                 False\n",
       "...       ...        ...       ...                   ...\n",
       "8596    False      False     False                 False\n",
       "8597    False      False     False                 False\n",
       "8598    False      False     False                 False\n",
       "8599    False      False     False                 False\n",
       "8600    False      False     False                 False\n",
       "\n",
       "[8601 rows x 4 columns]"
      ]
     },
     "execution_count": 10,
     "metadata": {},
     "output_type": "execute_result"
    }
   ],
   "source": [
    "steam_smp500.isna()"
   ]
  },
  {
   "cell_type": "code",
   "execution_count": 11,
   "metadata": {},
   "outputs": [
    {
     "data": {
      "text/plain": [
       "user_id                 0\n",
       "game_name               0\n",
       "activity                0\n",
       "hours_played_if_play    8\n",
       "dtype: int64"
      ]
     },
     "execution_count": 11,
     "metadata": {},
     "output_type": "execute_result"
    }
   ],
   "source": [
    "steam_smp500.isna().sum()"
   ]
  },
  {
   "cell_type": "code",
   "execution_count": 12,
   "metadata": {},
   "outputs": [
    {
     "name": "stdout",
     "output_type": "stream",
     "text": [
      "<class 'pandas.core.frame.DataFrame'>\n",
      "RangeIndex: 8601 entries, 0 to 8600\n",
      "Data columns (total 4 columns):\n",
      " #   Column                Non-Null Count  Dtype \n",
      "---  ------                --------------  ----- \n",
      " 0   user_id               8601 non-null   int64 \n",
      " 1   game_name             8601 non-null   object\n",
      " 2   activity              8601 non-null   object\n",
      " 3   hours_played_if_play  8593 non-null   object\n",
      "dtypes: int64(1), object(3)\n",
      "memory usage: 268.9+ KB\n"
     ]
    }
   ],
   "source": [
    "steam_smp500.info()\n"
   ]
  },
  {
   "cell_type": "code",
   "execution_count": 13,
   "metadata": {},
   "outputs": [
    {
     "data": {
      "text/plain": [
       "array(['1', '14.8', '8.8', '0.9', '1784', '626', '176', '69', '48',\n",
       "       '16.1', '13.6', '11.7', '10.2', '5.8', '4.1', '2.3', '2.2', '0.6',\n",
       "       '0.4', '0.3', '1118', '17.2', '5.9', '22', '86', nan, '1.5', '1.2',\n",
       "       '0.8', '290', '60', '14.1', '12.5', '9', '7.3', '4.8', '3.2', '3',\n",
       "       '0.7', '0.5', '2.1', '191', '154', '100', '65', '64', '12.8',\n",
       "       '9.7', '3.5', '2.6', '6.9', '1395', '25', '12.3', '10.6', '8.2',\n",
       "       '6.3', '6', '5.4', '4', '1.8', '0.1', '110', '299', '21', '1.9',\n",
       "       '258', '239', '45', '1.1', '10.7', '2.7', '30', '443', '23', '9.1',\n",
       "       '2526', '1906', '725', '0.2', '2.4', '608', '337', '115', '95',\n",
       "       '90', '88', '87', '74', '72', '70', '63', '58', '53', '52', '51',\n",
       "       '47', '43', '37', '35', '34', '31', '29', '28', '27', '26', '24',\n",
       "       '20', '19.6', '19', '17.8', '17', '15.8', '15', '13.8', '13.2',\n",
       "       '12.1', '12', '10.5', '9.8', '9.4', '9.3', '8.4', '7.4', '7',\n",
       "       '6.8', '6.4', '5.7', '5.1', '5', '4.6', '4.3', '3.7', '3.1', '2.9',\n",
       "       '2.5', '2', '1.7', '1.6', '1.4', '1.3', '71', '36', '17.7', '15.9',\n",
       "       '15.2', '14.4', '12.9', '11.5', '11.4', '9.2', '8.6', '6.6', '6.1',\n",
       "       '5.2', '4.7', '4.5', '3.9', '2.8', '553', '218', '207', '121',\n",
       "       '83', '75', '67', '39', '33', '10.4', '10.3', '3.4', '336', '5.6',\n",
       "       '418', '329', '325', '190', '178', '171', '159', '125', '122',\n",
       "       '117', '61', '18.3', '18.1', '18', '14.6', '14.2', '13.1', '11.6',\n",
       "       '10', '9.9', '8.7', '8.1', '7.8', '7.6', '6.7', '5.5', '4.4',\n",
       "       '3.6', '3.3', '3.8', '257', '253', '4.9', '474', '17.4', '112',\n",
       "       '415', '209', '182', '163', '151', '114', '56', '19.5', '14.7',\n",
       "       '14', '12.2', '8.9', '12.6', '15.7', '11.8', '5.3', '236', '15.5',\n",
       "       '386', '295', '130', '14.5', '12.4', '7.1', '752', '867', '230',\n",
       "       '203', '184', '128', '101', '91', '80', '11.2', '11', '8.3', '7.9',\n",
       "       '4.2', '141', '321', '132', '94', '77', '57', '40', '18.2', '11.1',\n",
       "       '10.1', '6.2', '591', '54', '13.4', '2117', '183', '158', '18.9',\n",
       "       '165', '116', '1498', '2442', '16.6', '92', '7.2', '465', '475',\n",
       "       '261', '14.3', '5608', '463', '44', '32', '19.1', '13', '7.7',\n",
       "       '7.5', '438', '15.1', '3374', '15.3', '12.7', '472', '332', '49',\n",
       "       '219', '710', '10.9', '42', '439', '138', '273', '152', '8.5',\n",
       "       '506', '399', '185', '18.4', '11.9', '757', '711', '461', '214',\n",
       "       '211', '177', '149', '119', '66', '41', '16.4', '9.5', '8', '13.5',\n",
       "       '1467', '55', '270', '155', '568', '78', '276', '167', '123',\n",
       "       '13.3', '18.6', '17.6', '192', '46', '16.7', '1009', '510', '262',\n",
       "       '222', '166', '93', '84', '76', '50', '18.5', '17.5', '15.6',\n",
       "       '664', '127', '17.3', '237', '1300', '16', '9.6', '843', '716',\n",
       "       '1243', '1029', '268', '174', '89', '14.9', '13.9', '11.3', '6.5',\n",
       "       '16.9', '198', '172', '133', '99', '296', '105', '81', '10.8',\n",
       "       '365', '327', '137', '193', '1862', '603', '107', '19.4', '16.5',\n",
       "       '1322', '17.9', '646', '1149', '97', '102', '82', '3898', '2630',\n",
       "       '1231', '556', '255', '148', '98', '73', '18.7', '217', '113',\n",
       "       '1015', '792', '370', '157', '19.3', '1103', '1525', '766', '577',\n",
       "       '425', '1556', '1195', '409', '1113', 'missing data', '2060',\n",
       "       '111', '38', '247', '134', '16.2', '188', '467', '796', '1298',\n",
       "       '629', '527', '153', '143', '15.4', '13.7', '302', '181', '372',\n",
       "       '363', '254', '96', '62', '19.2', '433', '249', '68', '164', '208',\n",
       "       '145', '142', '131', '85', '106', '753', '649', '280', '252',\n",
       "       '195', '120', '103', '17.1', '462', '374', '311', '310', '244',\n",
       "       '648', '200', '140', '343', '279', '277', '109', '994', '361',\n",
       "       '3790', '420', '809', '511', '431', '1054', '1478', '1024', '1250',\n",
       "       '265', '146', '479', '5002', '364', '303', '206', '136', '4067',\n",
       "       '246', '170', '126', '606', '1319', '226', '655', '1526', '1276',\n",
       "       '1220', '728', '118', '1026'], dtype=object)"
      ]
     },
     "execution_count": 13,
     "metadata": {},
     "output_type": "execute_result"
    }
   ],
   "source": [
    "unique_values = steam_smp500['hours_played_if_play'].unique()\n",
    "unique_values\n"
   ]
  },
  {
   "cell_type": "code",
   "execution_count": 14,
   "metadata": {},
   "outputs": [],
   "source": [
    "steam_smp500['hours_played_if_play'] = pd.to_numeric(steam_smp500['hours_played_if_play'], errors='coerce')"
   ]
  },
  {
   "cell_type": "code",
   "execution_count": 15,
   "metadata": {},
   "outputs": [
    {
     "data": {
      "text/html": [
       "<div>\n",
       "<style scoped>\n",
       "    .dataframe tbody tr th:only-of-type {\n",
       "        vertical-align: middle;\n",
       "    }\n",
       "\n",
       "    .dataframe tbody tr th {\n",
       "        vertical-align: top;\n",
       "    }\n",
       "\n",
       "    .dataframe thead th {\n",
       "        text-align: right;\n",
       "    }\n",
       "</style>\n",
       "<table border=\"1\" class=\"dataframe\">\n",
       "  <thead>\n",
       "    <tr style=\"text-align: right;\">\n",
       "      <th></th>\n",
       "      <th>user_id</th>\n",
       "      <th>game_name</th>\n",
       "      <th>activity</th>\n",
       "      <th>hours_played_if_play</th>\n",
       "    </tr>\n",
       "  </thead>\n",
       "  <tbody>\n",
       "    <tr>\n",
       "      <th>0</th>\n",
       "      <td>218323237</td>\n",
       "      <td>Dota 2</td>\n",
       "      <td>purchase</td>\n",
       "      <td>1.0</td>\n",
       "    </tr>\n",
       "    <tr>\n",
       "      <th>1</th>\n",
       "      <td>218323237</td>\n",
       "      <td>Dota 2</td>\n",
       "      <td>play</td>\n",
       "      <td>14.8</td>\n",
       "    </tr>\n",
       "    <tr>\n",
       "      <th>2</th>\n",
       "      <td>218323237</td>\n",
       "      <td>Tomb Raider</td>\n",
       "      <td>purchase</td>\n",
       "      <td>1.0</td>\n",
       "    </tr>\n",
       "    <tr>\n",
       "      <th>3</th>\n",
       "      <td>218323237</td>\n",
       "      <td>Tomb Raider</td>\n",
       "      <td>play</td>\n",
       "      <td>8.8</td>\n",
       "    </tr>\n",
       "    <tr>\n",
       "      <th>4</th>\n",
       "      <td>218323237</td>\n",
       "      <td>TERA</td>\n",
       "      <td>purchase</td>\n",
       "      <td>1.0</td>\n",
       "    </tr>\n",
       "    <tr>\n",
       "      <th>...</th>\n",
       "      <td>...</td>\n",
       "      <td>...</td>\n",
       "      <td>...</td>\n",
       "      <td>...</td>\n",
       "    </tr>\n",
       "    <tr>\n",
       "      <th>8596</th>\n",
       "      <td>7519923</td>\n",
       "      <td>Counter-Strike Condition Zero Deleted Scenes</td>\n",
       "      <td>purchase</td>\n",
       "      <td>1.0</td>\n",
       "    </tr>\n",
       "    <tr>\n",
       "      <th>8597</th>\n",
       "      <td>103963922</td>\n",
       "      <td>Team Fortress 2</td>\n",
       "      <td>purchase</td>\n",
       "      <td>1.0</td>\n",
       "    </tr>\n",
       "    <tr>\n",
       "      <th>8598</th>\n",
       "      <td>103963922</td>\n",
       "      <td>Team Fortress 2</td>\n",
       "      <td>play</td>\n",
       "      <td>0.4</td>\n",
       "    </tr>\n",
       "    <tr>\n",
       "      <th>8599</th>\n",
       "      <td>300991661</td>\n",
       "      <td>Dota 2</td>\n",
       "      <td>purchase</td>\n",
       "      <td>1.0</td>\n",
       "    </tr>\n",
       "    <tr>\n",
       "      <th>8600</th>\n",
       "      <td>300991661</td>\n",
       "      <td>Dota 2</td>\n",
       "      <td>play</td>\n",
       "      <td>0.3</td>\n",
       "    </tr>\n",
       "  </tbody>\n",
       "</table>\n",
       "<p>8591 rows × 4 columns</p>\n",
       "</div>"
      ],
      "text/plain": [
       "        user_id                                     game_name  activity  \\\n",
       "0     218323237                                        Dota 2  purchase   \n",
       "1     218323237                                        Dota 2      play   \n",
       "2     218323237                                   Tomb Raider  purchase   \n",
       "3     218323237                                   Tomb Raider      play   \n",
       "4     218323237                                          TERA  purchase   \n",
       "...         ...                                           ...       ...   \n",
       "8596    7519923  Counter-Strike Condition Zero Deleted Scenes  purchase   \n",
       "8597  103963922                               Team Fortress 2  purchase   \n",
       "8598  103963922                               Team Fortress 2      play   \n",
       "8599  300991661                                        Dota 2  purchase   \n",
       "8600  300991661                                        Dota 2      play   \n",
       "\n",
       "      hours_played_if_play  \n",
       "0                      1.0  \n",
       "1                     14.8  \n",
       "2                      1.0  \n",
       "3                      8.8  \n",
       "4                      1.0  \n",
       "...                    ...  \n",
       "8596                   1.0  \n",
       "8597                   1.0  \n",
       "8598                   0.4  \n",
       "8599                   1.0  \n",
       "8600                   0.3  \n",
       "\n",
       "[8591 rows x 4 columns]"
      ]
     },
     "execution_count": 15,
     "metadata": {},
     "output_type": "execute_result"
    }
   ],
   "source": [
    "SS500_cleaned = steam_smp500.dropna(subset=['hours_played_if_play'])\n",
    "SS500_cleaned\n"
   ]
  },
  {
   "cell_type": "code",
   "execution_count": 16,
   "metadata": {},
   "outputs": [
    {
     "data": {
      "text/html": [
       "<div>\n",
       "<style scoped>\n",
       "    .dataframe tbody tr th:only-of-type {\n",
       "        vertical-align: middle;\n",
       "    }\n",
       "\n",
       "    .dataframe tbody tr th {\n",
       "        vertical-align: top;\n",
       "    }\n",
       "\n",
       "    .dataframe thead th {\n",
       "        text-align: right;\n",
       "    }\n",
       "</style>\n",
       "<table border=\"1\" class=\"dataframe\">\n",
       "  <thead>\n",
       "    <tr style=\"text-align: right;\">\n",
       "      <th></th>\n",
       "      <th>user_id</th>\n",
       "      <th>game_name</th>\n",
       "      <th>activity</th>\n",
       "      <th>hours_played_if_play</th>\n",
       "    </tr>\n",
       "  </thead>\n",
       "  <tbody>\n",
       "    <tr>\n",
       "      <th>1</th>\n",
       "      <td>218323237</td>\n",
       "      <td>Dota 2</td>\n",
       "      <td>play</td>\n",
       "      <td>14.8</td>\n",
       "    </tr>\n",
       "    <tr>\n",
       "      <th>3</th>\n",
       "      <td>218323237</td>\n",
       "      <td>Tomb Raider</td>\n",
       "      <td>play</td>\n",
       "      <td>8.8</td>\n",
       "    </tr>\n",
       "    <tr>\n",
       "      <th>5</th>\n",
       "      <td>218323237</td>\n",
       "      <td>TERA</td>\n",
       "      <td>play</td>\n",
       "      <td>0.9</td>\n",
       "    </tr>\n",
       "    <tr>\n",
       "      <th>7</th>\n",
       "      <td>126340495</td>\n",
       "      <td>Dota 2</td>\n",
       "      <td>play</td>\n",
       "      <td>1784.0</td>\n",
       "    </tr>\n",
       "    <tr>\n",
       "      <th>9</th>\n",
       "      <td>126340495</td>\n",
       "      <td>Counter-Strike Global Offensive</td>\n",
       "      <td>play</td>\n",
       "      <td>626.0</td>\n",
       "    </tr>\n",
       "    <tr>\n",
       "      <th>...</th>\n",
       "      <td>...</td>\n",
       "      <td>...</td>\n",
       "      <td>...</td>\n",
       "      <td>...</td>\n",
       "    </tr>\n",
       "    <tr>\n",
       "      <th>8590</th>\n",
       "      <td>138590829</td>\n",
       "      <td>Dota 2</td>\n",
       "      <td>play</td>\n",
       "      <td>1026.0</td>\n",
       "    </tr>\n",
       "    <tr>\n",
       "      <th>8592</th>\n",
       "      <td>190460990</td>\n",
       "      <td>Dota 2</td>\n",
       "      <td>play</td>\n",
       "      <td>1.5</td>\n",
       "    </tr>\n",
       "    <tr>\n",
       "      <th>8594</th>\n",
       "      <td>7519923</td>\n",
       "      <td>Counter-Strike</td>\n",
       "      <td>play</td>\n",
       "      <td>35.0</td>\n",
       "    </tr>\n",
       "    <tr>\n",
       "      <th>8598</th>\n",
       "      <td>103963922</td>\n",
       "      <td>Team Fortress 2</td>\n",
       "      <td>play</td>\n",
       "      <td>0.4</td>\n",
       "    </tr>\n",
       "    <tr>\n",
       "      <th>8600</th>\n",
       "      <td>300991661</td>\n",
       "      <td>Dota 2</td>\n",
       "      <td>play</td>\n",
       "      <td>0.3</td>\n",
       "    </tr>\n",
       "  </tbody>\n",
       "</table>\n",
       "<p>3197 rows × 4 columns</p>\n",
       "</div>"
      ],
      "text/plain": [
       "        user_id                        game_name activity  \\\n",
       "1     218323237                           Dota 2     play   \n",
       "3     218323237                      Tomb Raider     play   \n",
       "5     218323237                             TERA     play   \n",
       "7     126340495                           Dota 2     play   \n",
       "9     126340495  Counter-Strike Global Offensive     play   \n",
       "...         ...                              ...      ...   \n",
       "8590  138590829                           Dota 2     play   \n",
       "8592  190460990                           Dota 2     play   \n",
       "8594    7519923                   Counter-Strike     play   \n",
       "8598  103963922                  Team Fortress 2     play   \n",
       "8600  300991661                           Dota 2     play   \n",
       "\n",
       "      hours_played_if_play  \n",
       "1                     14.8  \n",
       "3                      8.8  \n",
       "5                      0.9  \n",
       "7                   1784.0  \n",
       "9                    626.0  \n",
       "...                    ...  \n",
       "8590                1026.0  \n",
       "8592                   1.5  \n",
       "8594                  35.0  \n",
       "8598                   0.4  \n",
       "8600                   0.3  \n",
       "\n",
       "[3197 rows x 4 columns]"
      ]
     },
     "execution_count": 16,
     "metadata": {},
     "output_type": "execute_result"
    }
   ],
   "source": [
    "SS500_cleaned[~((SS500_cleaned['hours_played_if_play'] == 1) & (SS500_cleaned['activity'] == 'purchase'))]\n"
   ]
  },
  {
   "cell_type": "code",
   "execution_count": 17,
   "metadata": {},
   "outputs": [
    {
     "name": "stdout",
     "output_type": "stream",
     "text": [
      "<class 'pandas.core.frame.DataFrame'>\n",
      "Index: 8591 entries, 0 to 8600\n",
      "Data columns (total 4 columns):\n",
      " #   Column                Non-Null Count  Dtype  \n",
      "---  ------                --------------  -----  \n",
      " 0   user_id               8591 non-null   int64  \n",
      " 1   game_name             8591 non-null   object \n",
      " 2   activity              8591 non-null   object \n",
      " 3   hours_played_if_play  8591 non-null   float64\n",
      "dtypes: float64(1), int64(1), object(2)\n",
      "memory usage: 335.6+ KB\n"
     ]
    },
    {
     "data": {
      "text/html": [
       "<div>\n",
       "<style scoped>\n",
       "    .dataframe tbody tr th:only-of-type {\n",
       "        vertical-align: middle;\n",
       "    }\n",
       "\n",
       "    .dataframe tbody tr th {\n",
       "        vertical-align: top;\n",
       "    }\n",
       "\n",
       "    .dataframe thead th {\n",
       "        text-align: right;\n",
       "    }\n",
       "</style>\n",
       "<table border=\"1\" class=\"dataframe\">\n",
       "  <thead>\n",
       "    <tr style=\"text-align: right;\">\n",
       "      <th></th>\n",
       "      <th>user_id</th>\n",
       "      <th>game_name</th>\n",
       "      <th>activity</th>\n",
       "      <th>hours_played_if_play</th>\n",
       "    </tr>\n",
       "  </thead>\n",
       "  <tbody>\n",
       "    <tr>\n",
       "      <th>0</th>\n",
       "      <td>218323237</td>\n",
       "      <td>Dota 2</td>\n",
       "      <td>purchase</td>\n",
       "      <td>1.0</td>\n",
       "    </tr>\n",
       "    <tr>\n",
       "      <th>1</th>\n",
       "      <td>218323237</td>\n",
       "      <td>Dota 2</td>\n",
       "      <td>play</td>\n",
       "      <td>14.8</td>\n",
       "    </tr>\n",
       "    <tr>\n",
       "      <th>2</th>\n",
       "      <td>218323237</td>\n",
       "      <td>Tomb Raider</td>\n",
       "      <td>purchase</td>\n",
       "      <td>1.0</td>\n",
       "    </tr>\n",
       "    <tr>\n",
       "      <th>3</th>\n",
       "      <td>218323237</td>\n",
       "      <td>Tomb Raider</td>\n",
       "      <td>play</td>\n",
       "      <td>8.8</td>\n",
       "    </tr>\n",
       "    <tr>\n",
       "      <th>4</th>\n",
       "      <td>218323237</td>\n",
       "      <td>TERA</td>\n",
       "      <td>purchase</td>\n",
       "      <td>1.0</td>\n",
       "    </tr>\n",
       "  </tbody>\n",
       "</table>\n",
       "</div>"
      ],
      "text/plain": [
       "     user_id    game_name  activity  hours_played_if_play\n",
       "0  218323237       Dota 2  purchase                   1.0\n",
       "1  218323237       Dota 2      play                  14.8\n",
       "2  218323237  Tomb Raider  purchase                   1.0\n",
       "3  218323237  Tomb Raider      play                   8.8\n",
       "4  218323237         TERA  purchase                   1.0"
      ]
     },
     "execution_count": 17,
     "metadata": {},
     "output_type": "execute_result"
    }
   ],
   "source": [
    "SS500_cleaned.info()\n",
    "SS500_cleaned.head()\n"
   ]
  },
  {
   "cell_type": "markdown",
   "metadata": {},
   "source": [
    "### 4. Number of Dropped Rows \n",
    "\n",
    "How many rows with missing values did you delete from your original dataframe?"
   ]
  },
  {
   "cell_type": "code",
   "execution_count": 18,
   "metadata": {},
   "outputs": [],
   "source": [
    "dropped = len(steam_smp500) - len(SS500_cleaned)"
   ]
  },
  {
   "cell_type": "code",
   "execution_count": 19,
   "metadata": {},
   "outputs": [
    {
     "data": {
      "text/plain": [
       "10"
      ]
     },
     "execution_count": 19,
     "metadata": {},
     "output_type": "execute_result"
    }
   ],
   "source": [
    "dropped"
   ]
  },
  {
   "cell_type": "markdown",
   "metadata": {},
   "source": [
    "### 5. Separate the dataframes. \n",
    "\n",
    "Next, in this analysis we would like to analyze the game purchase information and game play information separately. First create two new dataframes:\n",
    "* one that is comprised of the purchase rows\n",
    "* the other that is comprised of the play rows."
   ]
  },
  {
   "cell_type": "code",
   "execution_count": 20,
   "metadata": {},
   "outputs": [
    {
     "data": {
      "text/plain": [
       "((5394, 4), (3197, 4))"
      ]
     },
     "execution_count": 20,
     "metadata": {},
     "output_type": "execute_result"
    }
   ],
   "source": [
    "purchase = SS500_cleaned[SS500_cleaned.activity == 'purchase']\n",
    "#play = SS500_cleaned[~(SS500_cleaned.activity == 'purchase')]\n",
    "play = SS500_cleaned[SS500_cleaned.activity == 'play']\n",
    "purchase.shape, play.shape"
   ]
  },
  {
   "cell_type": "code",
   "execution_count": 21,
   "metadata": {},
   "outputs": [
    {
     "data": {
      "text/plain": [
       "(     user_id                        game_name  activity  hours_played_if_play\n",
       " 0  218323237                           Dota 2  purchase                   1.0\n",
       " 2  218323237                      Tomb Raider  purchase                   1.0\n",
       " 4  218323237                             TERA  purchase                   1.0\n",
       " 6  126340495                           Dota 2  purchase                   1.0\n",
       " 8  126340495  Counter-Strike Global Offensive  purchase                   1.0,\n",
       "      user_id                        game_name activity  hours_played_if_play\n",
       " 1  218323237                           Dota 2     play                  14.8\n",
       " 3  218323237                      Tomb Raider     play                   8.8\n",
       " 5  218323237                             TERA     play                   0.9\n",
       " 7  126340495                           Dota 2     play                1784.0\n",
       " 9  126340495  Counter-Strike Global Offensive     play                 626.0)"
      ]
     },
     "execution_count": 21,
     "metadata": {},
     "output_type": "execute_result"
    }
   ],
   "source": [
    "purchase.head(), play.head()\n"
   ]
  },
  {
   "cell_type": "markdown",
   "metadata": {},
   "source": [
    "### 6. Percentage of Game Purchases that are Actually Played\n",
    "\n",
    "What percentage of all game purchases in this dataset are actually played by the player that purchased them?\n",
    "\n",
    "*You can assume that a game and user id that has a 'play' row ALSO MUST have a 'purchase' row (but not the other way around).*\n",
    "\n",
    "**For full credit, use automated Python code to find your answer. (Ie. don't put something like '30/50', where you found the 30 and 50 from the output of other code.)**"
   ]
  },
  {
   "cell_type": "code",
   "execution_count": 22,
   "metadata": {},
   "outputs": [
    {
     "data": {
      "text/plain": [
       "59.26955876900259"
      ]
     },
     "execution_count": 22,
     "metadata": {},
     "output_type": "execute_result"
    }
   ],
   "source": [
    "percent_played = (len(play)/len(purchase))*100\n",
    "percent_played\n"
   ]
  },
  {
   "cell_type": "markdown",
   "metadata": {},
   "source": [
    "### 7. Top Game Purchaser\n",
    "\n",
    "Next, we'd like to learn more about the people who *purchase* the most amount of games.\n",
    "\n",
    "#### 7.1. Most Amount of Games Purchased\n",
    "\n",
    "What is the user id of the player who has purchased the most amount of games in this dataset, and how many games have they purchased?"
   ]
  },
  {
   "cell_type": "code",
   "execution_count": 23,
   "metadata": {},
   "outputs": [],
   "source": [
    "top_purchase = purchase['user_id'].value_counts().head(1)\n",
    "top_purchase_user_id = top_purchase.index[0]\n",
    "top_purchase_count = top_purchase.values[0]"
   ]
  },
  {
   "cell_type": "code",
   "execution_count": 24,
   "metadata": {},
   "outputs": [
    {
     "data": {
      "text/plain": [
       "(12610800, 292)"
      ]
     },
     "execution_count": 24,
     "metadata": {},
     "output_type": "execute_result"
    }
   ],
   "source": [
    "top_purchase_user_id, top_purchase_count"
   ]
  },
  {
   "cell_type": "markdown",
   "metadata": {},
   "source": [
    "The user id is 12610800; This user has purchased 292 games."
   ]
  },
  {
   "cell_type": "markdown",
   "metadata": {},
   "source": [
    "#### 7.2. How many games has this user actually played?\n",
    "\n",
    "What percentage of the purchased games did this player from 7.1 actually play?"
   ]
  },
  {
   "cell_type": "code",
   "execution_count": 25,
   "metadata": {},
   "outputs": [
    {
     "data": {
      "text/plain": [
       "56.5068493150685"
      ]
     },
     "execution_count": 25,
     "metadata": {},
     "output_type": "execute_result"
    }
   ],
   "source": [
    "top_user_play_rate = ((play[play.user_id == top_purchase_user_id].shape[0])/top_purchase_count)*100\n",
    "top_user_play_rate"
   ]
  },
  {
   "cell_type": "markdown",
   "metadata": {},
   "source": [
    "## 8. Examining Some Game \"All-Star\" Players\n",
    "\n",
    "Next, we'd like to examine the play vs. purchase behavior of a few games' \"all star players\". We will consider a game's \"all star player\" to be the one who has played the game the longest in this dataset.\n",
    "\n",
    "### 8.1. Each Game's Highest Play Time\n",
    "\n",
    "In a single dataframe below, display the highest amount of time that each game was played.\n",
    "\n",
    "For full credit, your final resulting dataframe should:\n",
    "1. Be comprised of *two columns*\n",
    " * game_name\n",
    " * hours_played_if_play\n",
    "2. And should have an index going from 0,1,2,... etc."
   ]
  },
  {
   "cell_type": "code",
   "execution_count": 26,
   "metadata": {},
   "outputs": [],
   "source": [
    "AS_players = play.groupby('game_name')['hours_played_if_play'].max().reset_index()\n",
    "AS_players.columns = ['game_name', 'hours_played_if_play']"
   ]
  },
  {
   "cell_type": "code",
   "execution_count": 27,
   "metadata": {},
   "outputs": [
    {
     "data": {
      "text/html": [
       "<div>\n",
       "<style scoped>\n",
       "    .dataframe tbody tr th:only-of-type {\n",
       "        vertical-align: middle;\n",
       "    }\n",
       "\n",
       "    .dataframe tbody tr th {\n",
       "        vertical-align: top;\n",
       "    }\n",
       "\n",
       "    .dataframe thead th {\n",
       "        text-align: right;\n",
       "    }\n",
       "</style>\n",
       "<table border=\"1\" class=\"dataframe\">\n",
       "  <thead>\n",
       "    <tr style=\"text-align: right;\">\n",
       "      <th></th>\n",
       "      <th>game_name</th>\n",
       "      <th>hours_played_if_play</th>\n",
       "    </tr>\n",
       "  </thead>\n",
       "  <tbody>\n",
       "    <tr>\n",
       "      <th>0</th>\n",
       "      <td>100% Orange Juice</td>\n",
       "      <td>0.9</td>\n",
       "    </tr>\n",
       "    <tr>\n",
       "      <th>1</th>\n",
       "      <td>7 Days to Die</td>\n",
       "      <td>336.0</td>\n",
       "    </tr>\n",
       "    <tr>\n",
       "      <th>2</th>\n",
       "      <td>8BitBoy</td>\n",
       "      <td>24.0</td>\n",
       "    </tr>\n",
       "    <tr>\n",
       "      <th>3</th>\n",
       "      <td>8BitMMO</td>\n",
       "      <td>0.2</td>\n",
       "    </tr>\n",
       "    <tr>\n",
       "      <th>4</th>\n",
       "      <td>A Valley Without Wind</td>\n",
       "      <td>1.2</td>\n",
       "    </tr>\n",
       "  </tbody>\n",
       "</table>\n",
       "</div>"
      ],
      "text/plain": [
       "               game_name  hours_played_if_play\n",
       "0      100% Orange Juice                   0.9\n",
       "1          7 Days to Die                 336.0\n",
       "2                8BitBoy                  24.0\n",
       "3                8BitMMO                   0.2\n",
       "4  A Valley Without Wind                   1.2"
      ]
     },
     "execution_count": 27,
     "metadata": {},
     "output_type": "execute_result"
    }
   ],
   "source": [
    "AS_players.head()"
   ]
  },
  {
   "cell_type": "markdown",
   "metadata": {},
   "source": [
    "### 8.2. Ranking the Games by Highest Maximum Game Play Time\n",
    "\n",
    "Sort your final resulting dataframe from 8.1 by the number of hours that the game was played by the all-star player *in descending order*.\n",
    "\n",
    "Overwrite your dataframe, so it remains sorted in this order."
   ]
  },
  {
   "cell_type": "code",
   "execution_count": 28,
   "metadata": {},
   "outputs": [],
   "source": [
    "AS_players = AS_players.sort_values(by='hours_played_if_play', ascending=False).reset_index(drop=True)"
   ]
  },
  {
   "cell_type": "markdown",
   "metadata": {},
   "source": [
    "### 8.3. Top 2 Games with the Most Dedicated \"All-Star Player\"\n",
    "\n",
    "Which two games in this dataset had the most \"dedicated\" \"all star players\"? Or in other words, which two games were played the longest amount of time by a particular player?"
   ]
  },
  {
   "cell_type": "code",
   "execution_count": 29,
   "metadata": {},
   "outputs": [
    {
     "data": {
      "text/html": [
       "<div>\n",
       "<style scoped>\n",
       "    .dataframe tbody tr th:only-of-type {\n",
       "        vertical-align: middle;\n",
       "    }\n",
       "\n",
       "    .dataframe tbody tr th {\n",
       "        vertical-align: top;\n",
       "    }\n",
       "\n",
       "    .dataframe thead th {\n",
       "        text-align: right;\n",
       "    }\n",
       "</style>\n",
       "<table border=\"1\" class=\"dataframe\">\n",
       "  <thead>\n",
       "    <tr style=\"text-align: right;\">\n",
       "      <th></th>\n",
       "      <th>game_name</th>\n",
       "      <th>hours_played_if_play</th>\n",
       "    </tr>\n",
       "  </thead>\n",
       "  <tbody>\n",
       "    <tr>\n",
       "      <th>0</th>\n",
       "      <td>Dota 2</td>\n",
       "      <td>5608.0</td>\n",
       "    </tr>\n",
       "    <tr>\n",
       "      <th>1</th>\n",
       "      <td>Sid Meier's Civilization V</td>\n",
       "      <td>5002.0</td>\n",
       "    </tr>\n",
       "  </tbody>\n",
       "</table>\n",
       "</div>"
      ],
      "text/plain": [
       "                    game_name  hours_played_if_play\n",
       "0                      Dota 2                5608.0\n",
       "1  Sid Meier's Civilization V                5002.0"
      ]
     },
     "execution_count": 29,
     "metadata": {},
     "output_type": "execute_result"
    }
   ],
   "source": [
    "top_2 = AS_players.head(2)\n",
    "top_2['game_name']\n",
    "top_2"
   ]
  },
  {
   "cell_type": "markdown",
   "metadata": {},
   "source": [
    "From what I can gather, it seems that the top two games from our \"All-Star Players\" is Dota 2 and Sid Meier's Civilization V."
   ]
  },
  {
   "cell_type": "markdown",
   "metadata": {},
   "source": [
    "### 8.4. Identifying these \"All Star Players\"\n",
    "\n",
    "For these two games that you selected in 8.3 above, what is the user id of their respective \"all star player\"?"
   ]
  },
  {
   "cell_type": "code",
   "execution_count": 30,
   "metadata": {},
   "outputs": [],
   "source": [
    "top_2_users = pd.merge(top_2, play, on=['game_name', 'hours_played_if_play'])[['game_name', 'user_id']]"
   ]
  },
  {
   "cell_type": "code",
   "execution_count": 31,
   "metadata": {},
   "outputs": [
    {
     "data": {
      "text/plain": [
       "0     67694595\n",
       "1    128065805\n",
       "Name: user_id, dtype: int64"
      ]
     },
     "execution_count": 31,
     "metadata": {},
     "output_type": "execute_result"
    }
   ],
   "source": [
    "top_2_users['user_id']"
   ]
  },
  {
   "cell_type": "markdown",
   "metadata": {},
   "source": [
    "## 9. Learning about the All-Star Players\n",
    "\n",
    "Finally, let's learn more about the play vs. purchase behavior of these two \"all star\" players that we identified in #8. Specifically for each of these two player user ids that you identified in #8, what percentage of games that they bought did they actually play?"
   ]
  },
  {
   "cell_type": "code",
   "execution_count": 32,
   "metadata": {},
   "outputs": [],
   "source": [
    "AS_playPurchase = SS500_cleaned[SS500_cleaned['user_id'].isin(top_2_users['user_id'])]\n",
    "game_count = AS_playPurchase.groupby(['user_id', 'activity'])['game_name'].nunique().unstack()"
   ]
  },
  {
   "cell_type": "code",
   "execution_count": 33,
   "metadata": {},
   "outputs": [
    {
     "data": {
      "text/plain": [
       "user_id\n",
       "67694595      63.157895\n",
       "128065805    100.000000\n",
       "Name: percent_played, dtype: float64"
      ]
     },
     "execution_count": 33,
     "metadata": {},
     "output_type": "execute_result"
    }
   ],
   "source": [
    "game_count['percent_played'] = (game_count['play']/game_count['purchase'])*100\n",
    "game_count['percent_played']"
   ]
  }
 ],
 "metadata": {
  "kernelspec": {
   "display_name": "Python 3 (ipykernel)",
   "language": "python",
   "name": "python3"
  },
  "language_info": {
   "codemirror_mode": {
    "name": "ipython",
    "version": 3
   },
   "file_extension": ".py",
   "mimetype": "text/x-python",
   "name": "python",
   "nbconvert_exporter": "python",
   "pygments_lexer": "ipython3",
   "version": "3.11.1"
  }
 },
 "nbformat": 4,
 "nbformat_minor": 2
}
