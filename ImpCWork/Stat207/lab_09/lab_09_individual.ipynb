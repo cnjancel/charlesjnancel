{
 "cells": [
  {
   "cell_type": "markdown",
   "metadata": {},
   "source": [
    "# STAT 207 Lab Assignment 9 - Individual Part - 21 Points\n",
    "\n",
    "\n",
    "# <u>Case Study</u>: North American Video Game Sales *for New Video Games*\n",
    "\n",
    "\n",
    "## Dataset\n",
    "\n",
    "Let's return to the dataset that was used in our Midterm 1 exam. The data in the `video_game_sales_sample.csv` file contains information about a sample of video games released between 1995 and 2016.\n",
    "\n",
    "* `NA_Sales`: yearly total European sales (in millions of dollars) of the video game\n",
    "* `EU_Sales`: yearly total European sales (in millions of dollars) of the video game\n",
    "* `JP_Sales`: yearly total Japanese sales (in millions of dollars) of the video game\n",
    "* `Other_Sales`: yearly total sales in other countries (in millions of dollars) of the video game\n",
    "* `Year`: the year that video game was released\n",
    "* `Genre`: (just considering action or strategy in this analysis) genre of the video game\n",
    "* `Platform`: (just considering PS, PS2, PS3, DS, and Wii in this analysis) platform of the video game\n",
    "\n",
    "## Research Goals\n",
    "\n",
    "We would like to pursue the following two research goals in this analysis.\n",
    "\n",
    "### Primary Research Goal\n",
    "\n",
    "The primary research goal that we will pursue in this lab will be to build a predictive model that effectively predicts the `NA_Sales` (ie. the yearly total North American sales, in millions of dollars) of *new video games* given some combination of the remaining variables:\n",
    "\n",
    "* `EU_Sales`\n",
    "* `JP_Sales`\n",
    "* `Other_Sales`\n",
    "* `Year`\n",
    "* `Genre`\n",
    "* `Platform`\n",
    "\n",
    "### Secondary Research Goal\n",
    "\n",
    "Ideally, the model that we select would also be interpretable.\n",
    "\n",
    "## Points\n",
    "\n",
    "<p>&nbsp;</p>\n",
    "\n",
    "<p>&nbsp;</p>\n",
    "<table style=\"border: none;border-collapse: collapse;width:102pt;\">\n",
    "    <tbody>\n",
    "        <tr>\n",
    "            <td style=\"color:black;font-size:15px;font-weight:700;font-style:normal;text-decoration:none;font-family:Calibri, sans-serif;text-align:right;vertical-align:bottom;border:.5pt solid black;height:14.25pt;width:51pt;\">Problem</td>\n",
    "            <td style=\"color:black;font-size:15px;font-weight:700;font-style:normal;text-decoration:none;font-family:Calibri, sans-serif;text-align:general;vertical-align:bottom;border:.5pt solid black;border-left:none;width:51pt;\">Points</td>\n",
    "        </tr>\n",
    "        <tr>\n",
    "            <td style=\"color:black;font-size:15px;font-weight:400;font-style:normal;text-decoration:none;font-family:Calibri, sans-serif;text-align:right;vertical-align:bottom;border:.5pt solid black;height:14.25pt;border-top:none;\">1.1</td>\n",
    "            <td style=\"color:black;font-size:15px;font-weight:400;font-style:normal;text-decoration:none;font-family:Calibri, sans-serif;text-align:right;vertical-align:bottom;border:.5pt solid black;border-top:none;border-left:none;\">0.5</td>\n",
    "        </tr>\n",
    "        <tr>\n",
    "            <td style=\"color:black;font-size:15px;font-weight:400;font-style:normal;text-decoration:none;font-family:Calibri, sans-serif;text-align:right;vertical-align:bottom;border:.5pt solid black;height:14.25pt;border-top:none;\">1.2</td>\n",
    "            <td style=\"color:black;font-size:15px;font-weight:400;font-style:normal;text-decoration:none;font-family:Calibri, sans-serif;text-align:right;vertical-align:bottom;border:.5pt solid black;border-top:none;border-left:none;\">0.5</td>\n",
    "        </tr>\n",
    "        <tr>\n",
    "            <td style=\"color:black;font-size:15px;font-weight:400;font-style:normal;text-decoration:none;font-family:Calibri, sans-serif;text-align:right;vertical-align:bottom;border:.5pt solid black;height:14.25pt;border-top:none;\">1.3</td>\n",
    "            <td style=\"color:black;font-size:15px;font-weight:400;font-style:normal;text-decoration:none;font-family:Calibri, sans-serif;text-align:right;vertical-align:bottom;border:.5pt solid black;border-top:none;border-left:none;\">0.25</td>\n",
    "        </tr>\n",
    "        <tr>\n",
    "            <td style=\"color:black;font-size:15px;font-weight:400;font-style:normal;text-decoration:none;font-family:Calibri, sans-serif;text-align:right;vertical-align:bottom;border:.5pt solid black;height:14.25pt;border-top:none;\">1.4</td>\n",
    "            <td style=\"color:black;font-size:15px;font-weight:400;font-style:normal;text-decoration:none;font-family:Calibri, sans-serif;text-align:right;vertical-align:bottom;border:.5pt solid black;border-top:none;border-left:none;\">0.5</td>\n",
    "        </tr>\n",
    "        <tr>\n",
    "            <td style=\"color:black;font-size:15px;font-weight:400;font-style:normal;text-decoration:none;font-family:Calibri, sans-serif;text-align:right;vertical-align:bottom;border:.5pt solid black;height:14.25pt;border-top:none;\">1.5</td>\n",
    "            <td style=\"color:black;font-size:15px;font-weight:400;font-style:normal;text-decoration:none;font-family:Calibri, sans-serif;text-align:right;vertical-align:bottom;border:.5pt solid black;border-top:none;border-left:none;\">0.75</td>\n",
    "        </tr>\n",
    "        <tr>\n",
    "            <td style=\"color:black;font-size:15px;font-weight:400;font-style:normal;text-decoration:none;font-family:Calibri, sans-serif;text-align:right;vertical-align:bottom;border:.5pt solid black;height:14.25pt;border-top:none;\">1.6</td>\n",
    "            <td style=\"color:black;font-size:15px;font-weight:400;font-style:normal;text-decoration:none;font-family:Calibri, sans-serif;text-align:right;vertical-align:bottom;border:.5pt solid black;border-top:none;border-left:none;\">0.75</td>\n",
    "        </tr>\n",
    "        <tr>\n",
    "            <td style=\"color:black;font-size:15px;font-weight:400;font-style:normal;text-decoration:none;font-family:Calibri, sans-serif;text-align:right;vertical-align:bottom;border:.5pt solid black;height:14.25pt;border-top:none;\">1.7</td>\n",
    "            <td style=\"color:black;font-size:15px;font-weight:400;font-style:normal;text-decoration:none;font-family:Calibri, sans-serif;text-align:right;vertical-align:bottom;border:.5pt solid black;border-top:none;border-left:none;\">0.75</td>\n",
    "        </tr>\n",
    "        <tr>\n",
    "            <td style=\"color:black;font-size:15px;font-weight:400;font-style:normal;text-decoration:none;font-family:Calibri, sans-serif;text-align:right;vertical-align:bottom;border:.5pt solid black;height:14.25pt;border-top:none;\">2</td>\n",
    "            <td style=\"color:black;font-size:15px;font-weight:400;font-style:normal;text-decoration:none;font-family:Calibri, sans-serif;text-align:right;vertical-align:bottom;border:.5pt solid black;border-top:none;border-left:none;\">0.75</td>\n",
    "        </tr>\n",
    "        <tr>\n",
    "            <td style=\"color:black;font-size:15px;font-weight:400;font-style:normal;text-decoration:none;font-family:Calibri, sans-serif;text-align:right;vertical-align:bottom;border:.5pt solid black;height:14.25pt;border-top:none;\">3.1</td>\n",
    "            <td style=\"color:black;font-size:15px;font-weight:400;font-style:normal;text-decoration:none;font-family:Calibri, sans-serif;text-align:right;vertical-align:bottom;border:.5pt solid black;border-top:none;border-left:none;\">0.5</td>\n",
    "        </tr>\n",
    "        <tr>\n",
    "            <td style=\"color:black;font-size:15px;font-weight:400;font-style:normal;text-decoration:none;font-family:Calibri, sans-serif;text-align:right;vertical-align:bottom;border:.5pt solid black;height:14.25pt;border-top:none;\">3.2</td>\n",
    "            <td style=\"color:black;font-size:15px;font-weight:400;font-style:normal;text-decoration:none;font-family:Calibri, sans-serif;text-align:right;vertical-align:bottom;border:.5pt solid black;border-top:none;border-left:none;\">0.5</td>\n",
    "        </tr>\n",
    "        <tr>\n",
    "            <td style=\"color:black;font-size:15px;font-weight:400;font-style:normal;text-decoration:none;font-family:Calibri, sans-serif;text-align:right;vertical-align:bottom;border:.5pt solid black;height:14.25pt;border-top:none;\">3.3</td>\n",
    "            <td style=\"color:black;font-size:15px;font-weight:400;font-style:normal;text-decoration:none;font-family:Calibri, sans-serif;text-align:right;vertical-align:bottom;border:.5pt solid black;border-top:none;border-left:none;\">0.5</td>\n",
    "        </tr>\n",
    "        <tr>\n",
    "            <td style=\"color:black;font-size:15px;font-weight:400;font-style:normal;text-decoration:none;font-family:Calibri, sans-serif;text-align:right;vertical-align:bottom;border:.5pt solid black;height:14.25pt;border-top:none;\">4.1</td>\n",
    "            <td style=\"color:black;font-size:15px;font-weight:400;font-style:normal;text-decoration:none;font-family:Calibri, sans-serif;text-align:right;vertical-align:bottom;border:.5pt solid black;border-top:none;border-left:none;\">1.25</td>\n",
    "        </tr>\n",
    "        <tr>\n",
    "            <td style=\"color:black;font-size:15px;font-weight:400;font-style:normal;text-decoration:none;font-family:Calibri, sans-serif;text-align:right;vertical-align:bottom;border:.5pt solid black;height:14.25pt;border-top:none;\">4.2</td>\n",
    "            <td style=\"color:black;font-size:15px;font-weight:400;font-style:normal;text-decoration:none;font-family:Calibri, sans-serif;text-align:right;vertical-align:bottom;border:.5pt solid black;border-top:none;border-left:none;\">1</td>\n",
    "        </tr>\n",
    "        <tr>\n",
    "            <td style=\"color:black;font-size:15px;font-weight:400;font-style:normal;text-decoration:none;font-family:Calibri, sans-serif;text-align:right;vertical-align:bottom;border:.5pt solid black;height:14.25pt;border-top:none;\">4.3</td>\n",
    "            <td style=\"color:black;font-size:15px;font-weight:400;font-style:normal;text-decoration:none;font-family:Calibri, sans-serif;text-align:right;vertical-align:bottom;border:.5pt solid black;border-top:none;border-left:none;\">1</td>\n",
    "        </tr>\n",
    "        <tr>\n",
    "            <td style=\"color:black;font-size:15px;font-weight:400;font-style:normal;text-decoration:none;font-family:Calibri, sans-serif;text-align:right;vertical-align:bottom;border:.5pt solid black;height:14.25pt;border-top:none;\">4.4</td>\n",
    "            <td style=\"color:black;font-size:15px;font-weight:400;font-style:normal;text-decoration:none;font-family:Calibri, sans-serif;text-align:right;vertical-align:bottom;border:.5pt solid black;border-top:none;border-left:none;\">1</td>\n",
    "        </tr>\n",
    "        <tr>\n",
    "            <td style=\"color:black;font-size:15px;font-weight:400;font-style:normal;text-decoration:none;font-family:Calibri, sans-serif;text-align:right;vertical-align:bottom;border:.5pt solid black;height:14.25pt;border-top:none;\">4.5</td>\n",
    "            <td style=\"color:black;font-size:15px;font-weight:400;font-style:normal;text-decoration:none;font-family:Calibri, sans-serif;text-align:right;vertical-align:bottom;border:.5pt solid black;border-top:none;border-left:none;\">0.75</td>\n",
    "        </tr>\n",
    "        <tr>\n",
    "            <td style=\"color:black;font-size:15px;font-weight:400;font-style:normal;text-decoration:none;font-family:Calibri, sans-serif;text-align:right;vertical-align:bottom;border:.5pt solid black;height:14.25pt;border-top:none;\">4.6</td>\n",
    "            <td style=\"color:black;font-size:15px;font-weight:400;font-style:normal;text-decoration:none;font-family:Calibri, sans-serif;text-align:right;vertical-align:bottom;border:.5pt solid black;border-top:none;border-left:none;\">0.5</td>\n",
    "        </tr>\n",
    "        <tr>\n",
    "            <td style=\"color:black;font-size:15px;font-weight:400;font-style:normal;text-decoration:none;font-family:Calibri, sans-serif;text-align:right;vertical-align:bottom;border:.5pt solid black;height:14.25pt;border-top:none;\">5.1</td>\n",
    "            <td style=\"color:black;font-size:15px;font-weight:400;font-style:normal;text-decoration:none;font-family:Calibri, sans-serif;text-align:right;vertical-align:bottom;border:.5pt solid black;border-top:none;border-left:none;\">0.75</td>\n",
    "        </tr>\n",
    "        <tr>\n",
    "            <td style=\"color:black;font-size:15px;font-weight:400;font-style:normal;text-decoration:none;font-family:Calibri, sans-serif;text-align:right;vertical-align:bottom;border:.5pt solid black;height:14.25pt;border-top:none;\">5.2</td>\n",
    "            <td style=\"color:black;font-size:15px;font-weight:400;font-style:normal;text-decoration:none;font-family:Calibri, sans-serif;text-align:right;vertical-align:bottom;border:.5pt solid black;border-top:none;border-left:none;\">0.75</td>\n",
    "        </tr>\n",
    "        <tr>\n",
    "            <td style=\"color:black;font-size:15px;font-weight:400;font-style:normal;text-decoration:none;font-family:Calibri, sans-serif;text-align:right;vertical-align:bottom;border:.5pt solid black;height:14.25pt;border-top:none;\">5.3</td>\n",
    "            <td style=\"color:black;font-size:15px;font-weight:400;font-style:normal;text-decoration:none;font-family:Calibri, sans-serif;text-align:right;vertical-align:bottom;border:.5pt solid black;border-top:none;border-left:none;\">0.75</td>\n",
    "        </tr>\n",
    "        <tr>\n",
    "            <td style=\"color:black;font-size:15px;font-weight:400;font-style:normal;text-decoration:none;font-family:Calibri, sans-serif;text-align:right;vertical-align:bottom;border:.5pt solid black;height:14.25pt;border-top:none;\">5.4</td>\n",
    "            <td style=\"color:black;font-size:15px;font-weight:400;font-style:normal;text-decoration:none;font-family:Calibri, sans-serif;text-align:right;vertical-align:bottom;border:.5pt solid black;border-top:none;border-left:none;\">0.5</td>\n",
    "        </tr>\n",
    "        <tr>\n",
    "            <td style=\"color:black;font-size:15px;font-weight:400;font-style:normal;text-decoration:none;font-family:Calibri, sans-serif;text-align:right;vertical-align:bottom;border:.5pt solid black;height:14.25pt;border-top:none;\">6.1</td>\n",
    "            <td style=\"color:black;font-size:15px;font-weight:400;font-style:normal;text-decoration:none;font-family:Calibri, sans-serif;text-align:right;vertical-align:bottom;border:.5pt solid black;border-top:none;border-left:none;\">1.25</td>\n",
    "        </tr>\n",
    "        <tr>\n",
    "            <td style=\"color:black;font-size:15px;font-weight:400;font-style:normal;text-decoration:none;font-family:Calibri, sans-serif;text-align:right;vertical-align:bottom;border:.5pt solid black;height:14.25pt;border-top:none;\">6.2</td>\n",
    "            <td style=\"color:black;font-size:15px;font-weight:400;font-style:normal;text-decoration:none;font-family:Calibri, sans-serif;text-align:right;vertical-align:bottom;border:.5pt solid black;border-top:none;border-left:none;\">1</td>\n",
    "        </tr>\n",
    "        <tr>\n",
    "            <td style=\"color:black;font-size:15px;font-weight:400;font-style:normal;text-decoration:none;font-family:Calibri, sans-serif;text-align:right;vertical-align:bottom;border:.5pt solid black;height:14.25pt;border-top:none;\">6.3</td>\n",
    "            <td style=\"color:black;font-size:15px;font-weight:400;font-style:normal;text-decoration:none;font-family:Calibri, sans-serif;text-align:right;vertical-align:bottom;border:.5pt solid black;border-top:none;border-left:none;\">1</td>\n",
    "        </tr>\n",
    "        <tr>\n",
    "            <td style=\"color:black;font-size:15px;font-weight:400;font-style:normal;text-decoration:none;font-family:Calibri, sans-serif;text-align:right;vertical-align:bottom;border:.5pt solid black;height:14.25pt;border-top:none;\">6.4</td>\n",
    "            <td style=\"color:black;font-size:15px;font-weight:400;font-style:normal;text-decoration:none;font-family:Calibri, sans-serif;text-align:right;vertical-align:bottom;border:.5pt solid black;border-top:none;border-left:none;\">1</td>\n",
    "        </tr>\n",
    "        <tr>\n",
    "            <td style=\"color:black;font-size:15px;font-weight:400;font-style:normal;text-decoration:none;font-family:Calibri, sans-serif;text-align:right;vertical-align:bottom;border:.5pt solid black;height:14.25pt;border-top:none;\">7.1</td>\n",
    "            <td style=\"color:black;font-size:15px;font-weight:400;font-style:normal;text-decoration:none;font-family:Calibri, sans-serif;text-align:right;vertical-align:bottom;border:.5pt solid black;border-top:none;border-left:none;\">1</td>\n",
    "        </tr>\n",
    "        <tr>\n",
    "            <td style=\"color:black;font-size:15px;font-weight:400;font-style:normal;text-decoration:none;font-family:Calibri, sans-serif;text-align:right;vertical-align:bottom;border:.5pt solid black;height:14.25pt;border-top:none;\">7.2</td>\n",
    "            <td style=\"color:black;font-size:15px;font-weight:400;font-style:normal;text-decoration:none;font-family:Calibri, sans-serif;text-align:right;vertical-align:bottom;border:.5pt solid black;border-top:none;border-left:none;\">1.25</td>\n",
    "        </tr>\n",
    "    </tbody>\n",
    "</table>"
   ]
  },
  {
   "cell_type": "code",
   "execution_count": 165,
   "metadata": {},
   "outputs": [],
   "source": [
    "import pandas as pd\n",
    "import numpy as np"
   ]
  },
  {
   "cell_type": "markdown",
   "metadata": {},
   "source": [
    "## 1. Basic Data Examination and Cleaning\n",
    "\n",
    "### 1.1. Reading the Dataset and Detecing Any Implicit Missing Values\n",
    "\n",
    "1. **Reading and Implicit Missing Value Conversion**: Read this csv file into a dataframe. This csv file may contains implicit missing values in our intended numerical variables! Make sure that when you read your csv file into your dataframe (the final time), that any implicit missing values in the numerical variable columns have been converted into NaN values.\n",
    "\n",
    "2. **Display your dataframe.**\n",
    "\n",
    "3. **Show how many rows your dataframe has.**\n",
    "\n"
   ]
  },
  {
   "cell_type": "code",
   "execution_count": 166,
   "metadata": {},
   "outputs": [],
   "source": [
    "vg = pd.read_csv('video_game_sales_sample.csv')"
   ]
  },
  {
   "cell_type": "code",
   "execution_count": 167,
   "metadata": {},
   "outputs": [],
   "source": [
    "numerical_columns = ['NA_Sales', 'EU_Sales', 'JP_Sales', 'Other_Sales', 'Year']\n",
    "for col in numerical_columns:\n",
    "    vg[col] = pd.to_numeric(vg[col], errors='coerce')"
   ]
  },
  {
   "cell_type": "code",
   "execution_count": 168,
   "metadata": {},
   "outputs": [
    {
     "data": {
      "text/html": [
       "<div>\n",
       "<style scoped>\n",
       "    .dataframe tbody tr th:only-of-type {\n",
       "        vertical-align: middle;\n",
       "    }\n",
       "\n",
       "    .dataframe tbody tr th {\n",
       "        vertical-align: top;\n",
       "    }\n",
       "\n",
       "    .dataframe thead th {\n",
       "        text-align: right;\n",
       "    }\n",
       "</style>\n",
       "<table border=\"1\" class=\"dataframe\">\n",
       "  <thead>\n",
       "    <tr style=\"text-align: right;\">\n",
       "      <th></th>\n",
       "      <th>Name</th>\n",
       "      <th>Platform</th>\n",
       "      <th>Year</th>\n",
       "      <th>Genre</th>\n",
       "      <th>NA_Sales</th>\n",
       "      <th>EU_Sales</th>\n",
       "      <th>JP_Sales</th>\n",
       "      <th>Other_Sales</th>\n",
       "    </tr>\n",
       "  </thead>\n",
       "  <tbody>\n",
       "    <tr>\n",
       "      <th>0</th>\n",
       "      <td>Saints Row IV</td>\n",
       "      <td>PS3</td>\n",
       "      <td>2013.0</td>\n",
       "      <td>Action</td>\n",
       "      <td>0.56</td>\n",
       "      <td>0.44</td>\n",
       "      <td>0.09</td>\n",
       "      <td>0.21</td>\n",
       "    </tr>\n",
       "    <tr>\n",
       "      <th>1</th>\n",
       "      <td>Treasures of the Deep</td>\n",
       "      <td>PS</td>\n",
       "      <td>1997.0</td>\n",
       "      <td>Action</td>\n",
       "      <td>0.10</td>\n",
       "      <td>0.07</td>\n",
       "      <td>0.00</td>\n",
       "      <td>0.01</td>\n",
       "    </tr>\n",
       "    <tr>\n",
       "      <th>2</th>\n",
       "      <td>Skylanders: Spyro's Adventure</td>\n",
       "      <td>Wii</td>\n",
       "      <td>2011.0</td>\n",
       "      <td>Action</td>\n",
       "      <td>1.40</td>\n",
       "      <td>1.14</td>\n",
       "      <td>0.00</td>\n",
       "      <td>0.31</td>\n",
       "    </tr>\n",
       "    <tr>\n",
       "      <th>3</th>\n",
       "      <td>LEGO Batman: The Videogame</td>\n",
       "      <td>PS2</td>\n",
       "      <td>2008.0</td>\n",
       "      <td>Action</td>\n",
       "      <td>0.72</td>\n",
       "      <td>0.03</td>\n",
       "      <td>0.00</td>\n",
       "      <td>0.52</td>\n",
       "    </tr>\n",
       "    <tr>\n",
       "      <th>4</th>\n",
       "      <td>Carnage Heart</td>\n",
       "      <td>PS</td>\n",
       "      <td>1995.0</td>\n",
       "      <td>Strategy</td>\n",
       "      <td>0.01</td>\n",
       "      <td>0.01</td>\n",
       "      <td>0.09</td>\n",
       "      <td>0.01</td>\n",
       "    </tr>\n",
       "  </tbody>\n",
       "</table>\n",
       "</div>"
      ],
      "text/plain": [
       "                            Name Platform    Year     Genre  NA_Sales  \\\n",
       "0                  Saints Row IV      PS3  2013.0    Action      0.56   \n",
       "1          Treasures of the Deep       PS  1997.0    Action      0.10   \n",
       "2  Skylanders: Spyro's Adventure      Wii  2011.0    Action      1.40   \n",
       "3     LEGO Batman: The Videogame      PS2  2008.0    Action      0.72   \n",
       "4                  Carnage Heart       PS  1995.0  Strategy      0.01   \n",
       "\n",
       "   EU_Sales  JP_Sales  Other_Sales  \n",
       "0      0.44      0.09         0.21  \n",
       "1      0.07      0.00         0.01  \n",
       "2      1.14      0.00         0.31  \n",
       "3      0.03      0.00         0.52  \n",
       "4      0.01      0.09         0.01  "
      ]
     },
     "execution_count": 168,
     "metadata": {},
     "output_type": "execute_result"
    }
   ],
   "source": [
    "vg.head()"
   ]
  },
  {
   "cell_type": "code",
   "execution_count": 169,
   "metadata": {},
   "outputs": [
    {
     "data": {
      "text/plain": [
       "1034"
      ]
     },
     "execution_count": 169,
     "metadata": {},
     "output_type": "execute_result"
    }
   ],
   "source": [
    "num_rows = vg.shape[0]\n",
    "num_rows"
   ]
  },
  {
   "cell_type": "markdown",
   "metadata": {},
   "source": [
    "### 1.2. Dropping Missing Values\n",
    "\n",
    "1. Drop all rows in this dataframe with a missing value.\n",
    "2. Reset the index (we'll need a fresh index for what we do in 1.7).\n",
    "3. How many rows did you drop?"
   ]
  },
  {
   "cell_type": "code",
   "execution_count": 170,
   "metadata": {},
   "outputs": [
    {
     "data": {
      "text/plain": [
       "23"
      ]
     },
     "execution_count": 170,
     "metadata": {},
     "output_type": "execute_result"
    }
   ],
   "source": [
    "\n",
    "vg_cleaned = vg.dropna()\n",
    "\n",
    "vg_cleaned.reset_index(drop=True, inplace=True)\n",
    "\n",
    "rows_dropped = num_rows - vg_cleaned.shape[0]\n",
    "\n",
    "vg_cleaned_head = vg_cleaned.head()\n",
    "rows_dropped\n"
   ]
  },
  {
   "cell_type": "markdown",
   "metadata": {},
   "source": [
    "### 1.3. Dropping Unneeded Variables\n",
    "\n",
    "We don't intend to use the `Name` column in this analysis, so let's drop this variable from the dataframe."
   ]
  },
  {
   "cell_type": "code",
   "execution_count": 171,
   "metadata": {},
   "outputs": [
    {
     "data": {
      "text/html": [
       "<div>\n",
       "<style scoped>\n",
       "    .dataframe tbody tr th:only-of-type {\n",
       "        vertical-align: middle;\n",
       "    }\n",
       "\n",
       "    .dataframe tbody tr th {\n",
       "        vertical-align: top;\n",
       "    }\n",
       "\n",
       "    .dataframe thead th {\n",
       "        text-align: right;\n",
       "    }\n",
       "</style>\n",
       "<table border=\"1\" class=\"dataframe\">\n",
       "  <thead>\n",
       "    <tr style=\"text-align: right;\">\n",
       "      <th></th>\n",
       "      <th>Platform</th>\n",
       "      <th>Year</th>\n",
       "      <th>Genre</th>\n",
       "      <th>NA_Sales</th>\n",
       "      <th>EU_Sales</th>\n",
       "      <th>JP_Sales</th>\n",
       "      <th>Other_Sales</th>\n",
       "    </tr>\n",
       "  </thead>\n",
       "  <tbody>\n",
       "    <tr>\n",
       "      <th>0</th>\n",
       "      <td>PS3</td>\n",
       "      <td>2013.0</td>\n",
       "      <td>Action</td>\n",
       "      <td>0.56</td>\n",
       "      <td>0.44</td>\n",
       "      <td>0.09</td>\n",
       "      <td>0.21</td>\n",
       "    </tr>\n",
       "    <tr>\n",
       "      <th>1</th>\n",
       "      <td>PS</td>\n",
       "      <td>1997.0</td>\n",
       "      <td>Action</td>\n",
       "      <td>0.10</td>\n",
       "      <td>0.07</td>\n",
       "      <td>0.00</td>\n",
       "      <td>0.01</td>\n",
       "    </tr>\n",
       "    <tr>\n",
       "      <th>2</th>\n",
       "      <td>Wii</td>\n",
       "      <td>2011.0</td>\n",
       "      <td>Action</td>\n",
       "      <td>1.40</td>\n",
       "      <td>1.14</td>\n",
       "      <td>0.00</td>\n",
       "      <td>0.31</td>\n",
       "    </tr>\n",
       "    <tr>\n",
       "      <th>3</th>\n",
       "      <td>PS2</td>\n",
       "      <td>2008.0</td>\n",
       "      <td>Action</td>\n",
       "      <td>0.72</td>\n",
       "      <td>0.03</td>\n",
       "      <td>0.00</td>\n",
       "      <td>0.52</td>\n",
       "    </tr>\n",
       "    <tr>\n",
       "      <th>4</th>\n",
       "      <td>PS</td>\n",
       "      <td>1995.0</td>\n",
       "      <td>Strategy</td>\n",
       "      <td>0.01</td>\n",
       "      <td>0.01</td>\n",
       "      <td>0.09</td>\n",
       "      <td>0.01</td>\n",
       "    </tr>\n",
       "  </tbody>\n",
       "</table>\n",
       "</div>"
      ],
      "text/plain": [
       "  Platform    Year     Genre  NA_Sales  EU_Sales  JP_Sales  Other_Sales\n",
       "0      PS3  2013.0    Action      0.56      0.44      0.09         0.21\n",
       "1       PS  1997.0    Action      0.10      0.07      0.00         0.01\n",
       "2      Wii  2011.0    Action      1.40      1.14      0.00         0.31\n",
       "3      PS2  2008.0    Action      0.72      0.03      0.00         0.52\n",
       "4       PS  1995.0  Strategy      0.01      0.01      0.09         0.01"
      ]
     },
     "execution_count": 171,
     "metadata": {},
     "output_type": "execute_result"
    }
   ],
   "source": [
    "vg_cleaned = vg_cleaned.drop(columns=['Name'])\n",
    "\n",
    "vg_cleaned_head = vg_cleaned.head()\n",
    "vg_cleaned_head\n"
   ]
  },
  {
   "cell_type": "markdown",
   "metadata": {},
   "source": [
    "### 1.4. Features Matrix and Target Array \n",
    "\n",
    "Use this full dataset (ie. not one that has been split into training or test dataset) to create a features matrix and target array for our linear regression models. "
   ]
  },
  {
   "cell_type": "code",
   "execution_count": 172,
   "metadata": {},
   "outputs": [],
   "source": [
    "X = vg_cleaned.drop(columns=['NA_Sales'])\n",
    "y = vg_cleaned['NA_Sales']"
   ]
  },
  {
   "cell_type": "code",
   "execution_count": 173,
   "metadata": {},
   "outputs": [
    {
     "data": {
      "text/plain": [
       "(  Platform    Year     Genre  EU_Sales  JP_Sales  Other_Sales\n",
       " 0      PS3  2013.0    Action      0.44      0.09         0.21\n",
       " 1       PS  1997.0    Action      0.07      0.00         0.01\n",
       " 2      Wii  2011.0    Action      1.14      0.00         0.31\n",
       " 3      PS2  2008.0    Action      0.03      0.00         0.52\n",
       " 4       PS  1995.0  Strategy      0.01      0.09         0.01,\n",
       " 0    0.56\n",
       " 1    0.10\n",
       " 2    1.40\n",
       " 3    0.72\n",
       " 4    0.01\n",
       " Name: NA_Sales, dtype: float64)"
      ]
     },
     "execution_count": 173,
     "metadata": {},
     "output_type": "execute_result"
    }
   ],
   "source": [
    "X_head = X.head()\n",
    "y_head = y.head()\n",
    "\n",
    "X_head, y_head"
   ]
  },
  {
   "cell_type": "markdown",
   "metadata": {},
   "source": [
    "### 1.5. Scaling the Numerical Explanatory Variables\n",
    "\n",
    "First create another dataframe that is comprised of just the numerical variables that have been z-score scaled."
   ]
  },
  {
   "cell_type": "code",
   "execution_count": 174,
   "metadata": {},
   "outputs": [],
   "source": [
    "numerical_columns.remove('Year')\n",
    "vg_numerical = vg_cleaned[numerical_columns]"
   ]
  },
  {
   "cell_type": "code",
   "execution_count": 175,
   "metadata": {},
   "outputs": [],
   "source": [
    "from sklearn.preprocessing import StandardScaler\n",
    "scaler = StandardScaler()\n",
    "vg_scaled = scaler.fit_transform(vg_numerical)\n",
    "vg_scaled_df = pd.DataFrame(vg_scaled, columns=numerical_columns)"
   ]
  },
  {
   "cell_type": "code",
   "execution_count": 176,
   "metadata": {},
   "outputs": [
    {
     "data": {
      "text/html": [
       "<div>\n",
       "<style scoped>\n",
       "    .dataframe tbody tr th:only-of-type {\n",
       "        vertical-align: middle;\n",
       "    }\n",
       "\n",
       "    .dataframe tbody tr th {\n",
       "        vertical-align: top;\n",
       "    }\n",
       "\n",
       "    .dataframe thead th {\n",
       "        text-align: right;\n",
       "    }\n",
       "</style>\n",
       "<table border=\"1\" class=\"dataframe\">\n",
       "  <thead>\n",
       "    <tr style=\"text-align: right;\">\n",
       "      <th></th>\n",
       "      <th>NA_Sales</th>\n",
       "      <th>EU_Sales</th>\n",
       "      <th>JP_Sales</th>\n",
       "      <th>Other_Sales</th>\n",
       "    </tr>\n",
       "  </thead>\n",
       "  <tbody>\n",
       "    <tr>\n",
       "      <th>0</th>\n",
       "      <td>0.547725</td>\n",
       "      <td>0.557583</td>\n",
       "      <td>0.155697</td>\n",
       "      <td>0.679615</td>\n",
       "    </tr>\n",
       "    <tr>\n",
       "      <th>1</th>\n",
       "      <td>-0.300538</td>\n",
       "      <td>-0.212010</td>\n",
       "      <td>-0.377494</td>\n",
       "      <td>-0.287438</td>\n",
       "    </tr>\n",
       "    <tr>\n",
       "      <th>2</th>\n",
       "      <td>2.096726</td>\n",
       "      <td>2.013569</td>\n",
       "      <td>-0.377494</td>\n",
       "      <td>1.163142</td>\n",
       "    </tr>\n",
       "    <tr>\n",
       "      <th>3</th>\n",
       "      <td>0.842772</td>\n",
       "      <td>-0.295209</td>\n",
       "      <td>-0.377494</td>\n",
       "      <td>2.178547</td>\n",
       "    </tr>\n",
       "    <tr>\n",
       "      <th>4</th>\n",
       "      <td>-0.466502</td>\n",
       "      <td>-0.336809</td>\n",
       "      <td>0.155697</td>\n",
       "      <td>-0.287438</td>\n",
       "    </tr>\n",
       "  </tbody>\n",
       "</table>\n",
       "</div>"
      ],
      "text/plain": [
       "   NA_Sales  EU_Sales  JP_Sales  Other_Sales\n",
       "0  0.547725  0.557583  0.155697     0.679615\n",
       "1 -0.300538 -0.212010 -0.377494    -0.287438\n",
       "2  2.096726  2.013569 -0.377494     1.163142\n",
       "3  0.842772 -0.295209 -0.377494     2.178547\n",
       "4 -0.466502 -0.336809  0.155697    -0.287438"
      ]
     },
     "execution_count": 176,
     "metadata": {},
     "output_type": "execute_result"
    }
   ],
   "source": [
    "vg_scaled_df.head()"
   ]
  },
  {
   "cell_type": "markdown",
   "metadata": {},
   "source": [
    "### 1.6. Creating Indicator Variables\n",
    "\n",
    "Next, unfortunately our scikit-learn regression equations require us to creat our own 0/1 indicator variables for each of our categorical explanatory variables.\n",
    "\n",
    "You can do this by using the **pd.get_dummies()** function, specifically setting **drop_first=True** and **dtype=int**.\n",
    "\n",
    "`pd.get_dummies(INSERT_YOUR_DATAFRAME_WITH_JUST_CAT_VARIABLES, drop_first=True, dtype=int)`\n",
    "\n",
    "\n",
    "Create this dataframe of the appropriate 0/1 indicator variables below."
   ]
  },
  {
   "cell_type": "code",
   "execution_count": 177,
   "metadata": {},
   "outputs": [],
   "source": [
    "categorical_columns = ['Year', 'Genre', 'Platform']\n",
    "vg_categorical = vg_cleaned[categorical_columns]"
   ]
  },
  {
   "cell_type": "code",
   "execution_count": 178,
   "metadata": {},
   "outputs": [
    {
     "data": {
      "text/html": [
       "<div>\n",
       "<style scoped>\n",
       "    .dataframe tbody tr th:only-of-type {\n",
       "        vertical-align: middle;\n",
       "    }\n",
       "\n",
       "    .dataframe tbody tr th {\n",
       "        vertical-align: top;\n",
       "    }\n",
       "\n",
       "    .dataframe thead th {\n",
       "        text-align: right;\n",
       "    }\n",
       "</style>\n",
       "<table border=\"1\" class=\"dataframe\">\n",
       "  <thead>\n",
       "    <tr style=\"text-align: right;\">\n",
       "      <th></th>\n",
       "      <th>Year</th>\n",
       "      <th>Genre_Strategy</th>\n",
       "      <th>Platform_PS</th>\n",
       "      <th>Platform_PS2</th>\n",
       "      <th>Platform_PS3</th>\n",
       "      <th>Platform_Wii</th>\n",
       "    </tr>\n",
       "  </thead>\n",
       "  <tbody>\n",
       "    <tr>\n",
       "      <th>0</th>\n",
       "      <td>2013.0</td>\n",
       "      <td>0</td>\n",
       "      <td>0</td>\n",
       "      <td>0</td>\n",
       "      <td>1</td>\n",
       "      <td>0</td>\n",
       "    </tr>\n",
       "    <tr>\n",
       "      <th>1</th>\n",
       "      <td>1997.0</td>\n",
       "      <td>0</td>\n",
       "      <td>1</td>\n",
       "      <td>0</td>\n",
       "      <td>0</td>\n",
       "      <td>0</td>\n",
       "    </tr>\n",
       "    <tr>\n",
       "      <th>2</th>\n",
       "      <td>2011.0</td>\n",
       "      <td>0</td>\n",
       "      <td>0</td>\n",
       "      <td>0</td>\n",
       "      <td>0</td>\n",
       "      <td>1</td>\n",
       "    </tr>\n",
       "    <tr>\n",
       "      <th>3</th>\n",
       "      <td>2008.0</td>\n",
       "      <td>0</td>\n",
       "      <td>0</td>\n",
       "      <td>1</td>\n",
       "      <td>0</td>\n",
       "      <td>0</td>\n",
       "    </tr>\n",
       "    <tr>\n",
       "      <th>4</th>\n",
       "      <td>1995.0</td>\n",
       "      <td>1</td>\n",
       "      <td>1</td>\n",
       "      <td>0</td>\n",
       "      <td>0</td>\n",
       "      <td>0</td>\n",
       "    </tr>\n",
       "  </tbody>\n",
       "</table>\n",
       "</div>"
      ],
      "text/plain": [
       "     Year  Genre_Strategy  Platform_PS  Platform_PS2  Platform_PS3  \\\n",
       "0  2013.0               0            0             0             1   \n",
       "1  1997.0               0            1             0             0   \n",
       "2  2011.0               0            0             0             0   \n",
       "3  2008.0               0            0             1             0   \n",
       "4  1995.0               1            1             0             0   \n",
       "\n",
       "   Platform_Wii  \n",
       "0             0  \n",
       "1             0  \n",
       "2             1  \n",
       "3             0  \n",
       "4             0  "
      ]
     },
     "execution_count": 178,
     "metadata": {},
     "output_type": "execute_result"
    }
   ],
   "source": [
    "vg_dummies = pd.get_dummies(vg_categorical, drop_first=True, dtype=int)\n",
    "\n",
    "vg_dummies.head()"
   ]
  },
  {
   "cell_type": "markdown",
   "metadata": {},
   "source": [
    "### 1.7. New Features Matrix\n",
    "\n",
    "Overwrite your features matrix to be the **horizontal concatenation** of your two dataframes from 1.5 and 1.6. You can do this by using the **pd.concat()** function\n",
    "\n",
    "`pd.concat([1.5_DATAFRAME, 1.6_DATAFRAME], axis=1)`"
   ]
  },
  {
   "cell_type": "code",
   "execution_count": 179,
   "metadata": {},
   "outputs": [
    {
     "data": {
      "text/html": [
       "<div>\n",
       "<style scoped>\n",
       "    .dataframe tbody tr th:only-of-type {\n",
       "        vertical-align: middle;\n",
       "    }\n",
       "\n",
       "    .dataframe tbody tr th {\n",
       "        vertical-align: top;\n",
       "    }\n",
       "\n",
       "    .dataframe thead th {\n",
       "        text-align: right;\n",
       "    }\n",
       "</style>\n",
       "<table border=\"1\" class=\"dataframe\">\n",
       "  <thead>\n",
       "    <tr style=\"text-align: right;\">\n",
       "      <th></th>\n",
       "      <th>EU_Sales</th>\n",
       "      <th>JP_Sales</th>\n",
       "      <th>Other_Sales</th>\n",
       "      <th>Year</th>\n",
       "      <th>Genre_Strategy</th>\n",
       "      <th>Platform_PS</th>\n",
       "      <th>Platform_PS2</th>\n",
       "      <th>Platform_PS3</th>\n",
       "      <th>Platform_Wii</th>\n",
       "    </tr>\n",
       "  </thead>\n",
       "  <tbody>\n",
       "    <tr>\n",
       "      <th>0</th>\n",
       "      <td>0.557583</td>\n",
       "      <td>0.155697</td>\n",
       "      <td>0.679615</td>\n",
       "      <td>2013.0</td>\n",
       "      <td>0</td>\n",
       "      <td>0</td>\n",
       "      <td>0</td>\n",
       "      <td>1</td>\n",
       "      <td>0</td>\n",
       "    </tr>\n",
       "    <tr>\n",
       "      <th>1</th>\n",
       "      <td>-0.212010</td>\n",
       "      <td>-0.377494</td>\n",
       "      <td>-0.287438</td>\n",
       "      <td>1997.0</td>\n",
       "      <td>0</td>\n",
       "      <td>1</td>\n",
       "      <td>0</td>\n",
       "      <td>0</td>\n",
       "      <td>0</td>\n",
       "    </tr>\n",
       "    <tr>\n",
       "      <th>2</th>\n",
       "      <td>2.013569</td>\n",
       "      <td>-0.377494</td>\n",
       "      <td>1.163142</td>\n",
       "      <td>2011.0</td>\n",
       "      <td>0</td>\n",
       "      <td>0</td>\n",
       "      <td>0</td>\n",
       "      <td>0</td>\n",
       "      <td>1</td>\n",
       "    </tr>\n",
       "    <tr>\n",
       "      <th>3</th>\n",
       "      <td>-0.295209</td>\n",
       "      <td>-0.377494</td>\n",
       "      <td>2.178547</td>\n",
       "      <td>2008.0</td>\n",
       "      <td>0</td>\n",
       "      <td>0</td>\n",
       "      <td>1</td>\n",
       "      <td>0</td>\n",
       "      <td>0</td>\n",
       "    </tr>\n",
       "    <tr>\n",
       "      <th>4</th>\n",
       "      <td>-0.336809</td>\n",
       "      <td>0.155697</td>\n",
       "      <td>-0.287438</td>\n",
       "      <td>1995.0</td>\n",
       "      <td>1</td>\n",
       "      <td>1</td>\n",
       "      <td>0</td>\n",
       "      <td>0</td>\n",
       "      <td>0</td>\n",
       "    </tr>\n",
       "  </tbody>\n",
       "</table>\n",
       "</div>"
      ],
      "text/plain": [
       "   EU_Sales  JP_Sales  Other_Sales    Year  Genre_Strategy  Platform_PS  \\\n",
       "0  0.557583  0.155697     0.679615  2013.0               0            0   \n",
       "1 -0.212010 -0.377494    -0.287438  1997.0               0            1   \n",
       "2  2.013569 -0.377494     1.163142  2011.0               0            0   \n",
       "3 -0.295209 -0.377494     2.178547  2008.0               0            0   \n",
       "4 -0.336809  0.155697    -0.287438  1995.0               1            1   \n",
       "\n",
       "   Platform_PS2  Platform_PS3  Platform_Wii  \n",
       "0             0             1             0  \n",
       "1             0             0             0  \n",
       "2             0             0             1  \n",
       "3             1             0             0  \n",
       "4             0             0             0  "
      ]
     },
     "execution_count": 179,
     "metadata": {},
     "output_type": "execute_result"
    }
   ],
   "source": [
    "X_new = pd.concat([vg_scaled_df, vg_dummies], axis=1)\n",
    "\n",
    "X_new = X_new.drop(columns=['NA_Sales'])\n",
    "X_new.head()\n"
   ]
  },
  {
   "cell_type": "markdown",
   "metadata": {},
   "source": [
    "## 2. Preliminary Analysis\n",
    "\n",
    "We intend to build linear regression models that predict `NA_Sales` with some of the following explanatory variables.\n",
    "\n",
    "* `EU_Sales`\n",
    "* `JP_Sales`\n",
    "* `Other_Sales`\n",
    "* `Year`\n",
    "* `Genre`\n",
    "* `Platform`\n",
    "\n",
    "Will a non-regularized linear regression model that uses ALL of these explanatory variables have an issue with multicollinearity? Explain."
   ]
  },
  {
   "cell_type": "code",
   "execution_count": 180,
   "metadata": {},
   "outputs": [
    {
     "data": {
      "image/png": "[encoded data removed]",
      "text/plain": [
       "<Figure size 1200x800 with 2 Axes>"
      ]
     },
     "metadata": {},
     "output_type": "display_data"
    }
   ],
   "source": [
    "import seaborn as sns\n",
    "import matplotlib.pyplot as plt\n",
    "\n",
    "correlation_matrix = X_new.corr()\n",
    "\n",
    "plt.figure(figsize=(12, 8))\n",
    "sns.heatmap(correlation_matrix, annot=True, cmap='coolwarm', vmin=-1, vmax=1)\n",
    "plt.title('Correlation Matrix of Features')\n",
    "plt.show()\n"
   ]
  },
  {
   "cell_type": "markdown",
   "metadata": {},
   "source": [
    "From the heatmap, we can make the following observations:\n",
    "\n",
    "1. The sales columns (`EU_Sales`, `JP_Sales`, `Other_Sales`) have some degree of correlation with each other, which is expected since sales in one region might influence sales in another.\n",
    "2. The `Year` column seems to have minimal correlation with the sales columns.\n",
    "3. The indicator variables for `Genre` and `Platform` also show minimal correlation with the sales columns and with each other.\n",
    "\n",
    "While there is some correlation between the sales columns, it doesn't seem to be extremely high. However, the presence of any correlation can lead to multicollinearity issues in a linear regression model."
   ]
  },
  {
   "cell_type": "code",
   "execution_count": 181,
   "metadata": {},
   "outputs": [
    {
     "data": {
      "text/html": [
       "<div>\n",
       "<style scoped>\n",
       "    .dataframe tbody tr th:only-of-type {\n",
       "        vertical-align: middle;\n",
       "    }\n",
       "\n",
       "    .dataframe tbody tr th {\n",
       "        vertical-align: top;\n",
       "    }\n",
       "\n",
       "    .dataframe thead th {\n",
       "        text-align: right;\n",
       "    }\n",
       "</style>\n",
       "<table border=\"1\" class=\"dataframe\">\n",
       "  <thead>\n",
       "    <tr style=\"text-align: right;\">\n",
       "      <th></th>\n",
       "      <th>Variable</th>\n",
       "      <th>VIF</th>\n",
       "    </tr>\n",
       "  </thead>\n",
       "  <tbody>\n",
       "    <tr>\n",
       "      <th>0</th>\n",
       "      <td>EU_Sales</td>\n",
       "      <td>3.406074</td>\n",
       "    </tr>\n",
       "    <tr>\n",
       "      <th>1</th>\n",
       "      <td>JP_Sales</td>\n",
       "      <td>1.134058</td>\n",
       "    </tr>\n",
       "    <tr>\n",
       "      <th>2</th>\n",
       "      <td>Other_Sales</td>\n",
       "      <td>3.424938</td>\n",
       "    </tr>\n",
       "    <tr>\n",
       "      <th>3</th>\n",
       "      <td>Year</td>\n",
       "      <td>4.652373</td>\n",
       "    </tr>\n",
       "    <tr>\n",
       "      <th>4</th>\n",
       "      <td>Genre_Strategy</td>\n",
       "      <td>1.275987</td>\n",
       "    </tr>\n",
       "    <tr>\n",
       "      <th>5</th>\n",
       "      <td>Platform_PS</td>\n",
       "      <td>1.691613</td>\n",
       "    </tr>\n",
       "    <tr>\n",
       "      <th>6</th>\n",
       "      <td>Platform_PS2</td>\n",
       "      <td>2.121028</td>\n",
       "    </tr>\n",
       "    <tr>\n",
       "      <th>7</th>\n",
       "      <td>Platform_PS3</td>\n",
       "      <td>2.121215</td>\n",
       "    </tr>\n",
       "    <tr>\n",
       "      <th>8</th>\n",
       "      <td>Platform_Wii</td>\n",
       "      <td>1.647881</td>\n",
       "    </tr>\n",
       "  </tbody>\n",
       "</table>\n",
       "</div>"
      ],
      "text/plain": [
       "         Variable       VIF\n",
       "0        EU_Sales  3.406074\n",
       "1        JP_Sales  1.134058\n",
       "2     Other_Sales  3.424938\n",
       "3            Year  4.652373\n",
       "4  Genre_Strategy  1.275987\n",
       "5     Platform_PS  1.691613\n",
       "6    Platform_PS2  2.121028\n",
       "7    Platform_PS3  2.121215\n",
       "8    Platform_Wii  1.647881"
      ]
     },
     "execution_count": 181,
     "metadata": {},
     "output_type": "execute_result"
    }
   ],
   "source": [
    "from statsmodels.stats.outliers_influence import variance_inflation_factor\n",
    "\n",
    "vif_data = pd.DataFrame()\n",
    "vif_data[\"Variable\"] = X_new.columns\n",
    "vif_data[\"VIF\"] = [variance_inflation_factor(X_new.values, i) for i in range(X_new.shape[1])]\n",
    "\n",
    "vif_data\n"
   ]
  },
  {
   "cell_type": "markdown",
   "metadata": {},
   "source": [
    "In our dataset, all VIF values are below 10, indicating that multicollinearity might not be a significant concern for these features."
   ]
  },
  {
   "cell_type": "markdown",
   "metadata": {},
   "source": [
    "## 3. Naive Implementation of a LASSO Model Cross-Validation Analysis\n",
    "\n",
    "In #4 we will conduct parameter tuning on the $\\lambda$ value in a LASSO linear regression model. We will use k=5 fold cross-validation to help us select the best $\\lambda$ value for a LASSO model. But for now, let's start with the basics and perform k=5 fold cross-validation on just a single LASSO model with $\\lambda=0.5$.\n",
    "\n",
    "### 3.1. Instantiate the LASSO Model\n",
    "\n",
    "First, instanatiate (but don't fit) a LASSO model object with $\\lambda=0.5$."
   ]
  },
  {
   "cell_type": "code",
   "execution_count": 182,
   "metadata": {},
   "outputs": [
    {
     "data": {
      "text/html": [
       "<style>#sk-container-id-10 {color: black;background-color: white;}#sk-container-id-10 pre{padding: 0;}#sk-container-id-10 div.sk-toggleable {background-color: white;}#sk-container-id-10 label.sk-toggleable__label {cursor: pointer;display: block;width: 100%;margin-bottom: 0;padding: 0.3em;box-sizing: border-box;text-align: center;}#sk-container-id-10 label.sk-toggleable__label-arrow:before {content: \"▸\";float: left;margin-right: 0.25em;color: #696969;}#sk-container-id-10 label.sk-toggleable__label-arrow:hover:before {color: black;}#sk-container-id-10 div.sk-estimator:hover label.sk-toggleable__label-arrow:before {color: black;}#sk-container-id-10 div.sk-toggleable__content {max-height: 0;max-width: 0;overflow: hidden;text-align: left;background-color: #f0f8ff;}#sk-container-id-10 div.sk-toggleable__content pre {margin: 0.2em;color: black;border-radius: 0.25em;background-color: #f0f8ff;}#sk-container-id-10 input.sk-toggleable__control:checked~div.sk-toggleable__content {max-height: 200px;max-width: 100%;overflow: auto;}#sk-container-id-10 input.sk-toggleable__control:checked~label.sk-toggleable__label-arrow:before {content: \"▾\";}#sk-container-id-10 div.sk-estimator input.sk-toggleable__control:checked~label.sk-toggleable__label {background-color: #d4ebff;}#sk-container-id-10 div.sk-label input.sk-toggleable__control:checked~label.sk-toggleable__label {background-color: #d4ebff;}#sk-container-id-10 input.sk-hidden--visually {border: 0;clip: rect(1px 1px 1px 1px);clip: rect(1px, 1px, 1px, 1px);height: 1px;margin: -1px;overflow: hidden;padding: 0;position: absolute;width: 1px;}#sk-container-id-10 div.sk-estimator {font-family: monospace;background-color: #f0f8ff;border: 1px dotted black;border-radius: 0.25em;box-sizing: border-box;margin-bottom: 0.5em;}#sk-container-id-10 div.sk-estimator:hover {background-color: #d4ebff;}#sk-container-id-10 div.sk-parallel-item::after {content: \"\";width: 100%;border-bottom: 1px solid gray;flex-grow: 1;}#sk-container-id-10 div.sk-label:hover label.sk-toggleable__label {background-color: #d4ebff;}#sk-container-id-10 div.sk-serial::before {content: \"\";position: absolute;border-left: 1px solid gray;box-sizing: border-box;top: 0;bottom: 0;left: 50%;z-index: 0;}#sk-container-id-10 div.sk-serial {display: flex;flex-direction: column;align-items: center;background-color: white;padding-right: 0.2em;padding-left: 0.2em;position: relative;}#sk-container-id-10 div.sk-item {position: relative;z-index: 1;}#sk-container-id-10 div.sk-parallel {display: flex;align-items: stretch;justify-content: center;background-color: white;position: relative;}#sk-container-id-10 div.sk-item::before, #sk-container-id-10 div.sk-parallel-item::before {content: \"\";position: absolute;border-left: 1px solid gray;box-sizing: border-box;top: 0;bottom: 0;left: 50%;z-index: -1;}#sk-container-id-10 div.sk-parallel-item {display: flex;flex-direction: column;z-index: 1;position: relative;background-color: white;}#sk-container-id-10 div.sk-parallel-item:first-child::after {align-self: flex-end;width: 50%;}#sk-container-id-10 div.sk-parallel-item:last-child::after {align-self: flex-start;width: 50%;}#sk-container-id-10 div.sk-parallel-item:only-child::after {width: 0;}#sk-container-id-10 div.sk-dashed-wrapped {border: 1px dashed gray;margin: 0 0.4em 0.5em 0.4em;box-sizing: border-box;padding-bottom: 0.4em;background-color: white;}#sk-container-id-10 div.sk-label label {font-family: monospace;font-weight: bold;display: inline-block;line-height: 1.2em;}#sk-container-id-10 div.sk-label-container {text-align: center;}#sk-container-id-10 div.sk-container {/* jupyter's `normalize.less` sets `[hidden] { display: none; }` but bootstrap.min.css set `[hidden] { display: none !important; }` so we also need the `!important` here to be able to override the default hidden behavior on the sphinx rendered scikit-learn.org. See: https://github.com/scikit-learn/scikit-learn/issues/21755 */display: inline-block !important;position: relative;}#sk-container-id-10 div.sk-text-repr-fallback {display: none;}</style><div id=\"sk-container-id-10\" class=\"sk-top-container\"><div class=\"sk-text-repr-fallback\"><pre>Lasso(alpha=0.5)</pre><b>In a Jupyter environment, please rerun this cell to show the HTML representation or trust the notebook. <br />On GitHub, the HTML representation is unable to render, please try loading this page with nbviewer.org.</b></div><div class=\"sk-container\" hidden><div class=\"sk-item\"><div class=\"sk-estimator sk-toggleable\"><input class=\"sk-toggleable__control sk-hidden--visually\" id=\"sk-estimator-id-10\" type=\"checkbox\" checked><label for=\"sk-estimator-id-10\" class=\"sk-toggleable__label sk-toggleable__label-arrow\">Lasso</label><div class=\"sk-toggleable__content\"><pre>Lasso(alpha=0.5)</pre></div></div></div></div></div>"
      ],
      "text/plain": [
       "Lasso(alpha=0.5)"
      ]
     },
     "execution_count": 182,
     "metadata": {},
     "output_type": "execute_result"
    }
   ],
   "source": [
    "from sklearn.linear_model import Lasso\n",
    "\n",
    "lasso_model = Lasso(alpha=0.5)\n",
    "\n",
    "lasso_model\n"
   ]
  },
  {
   "cell_type": "markdown",
   "metadata": {},
   "source": [
    "### 3.2. k=5 Fold Cross-Validation\n",
    "\n",
    "Next, instantiate a k=5 fold object that *will* randomly split the dataset up into k=5 test folds. Your dataset should be randomly shuffled first before creating the test folds. Use a random state of 100."
   ]
  },
  {
   "cell_type": "code",
   "execution_count": 183,
   "metadata": {},
   "outputs": [
    {
     "data": {
      "text/plain": [
       "KFold(n_splits=5, random_state=100, shuffle=True)"
      ]
     },
     "execution_count": 183,
     "metadata": {},
     "output_type": "execute_result"
    }
   ],
   "source": [
    "from sklearn.model_selection import KFold\n",
    "\n",
    "kf = KFold(n_splits=5, shuffle=True, random_state=100)\n",
    "\n",
    "kf\n"
   ]
  },
  {
   "cell_type": "markdown",
   "metadata": {},
   "source": [
    "### 3.3. Cross-Validation\n",
    "\n",
    "1. Finally, use these two objects that you created in 3.1 and 3.2 to perform k=5 fold cross-validation on your features matrix from 1.7 and your target array. You should use the *R^2* to evaluate each of your 5 training dataset model's corresponding test datasets.\n",
    "2. Display each of the 5 test R^2 values.\n",
    "3. Display the mean of these 5 test R^2 values.\n",
    "4. Display the standard deviation of these 5 test R^2 values."
   ]
  },
  {
   "cell_type": "code",
   "execution_count": 184,
   "metadata": {},
   "outputs": [
    {
     "data": {
      "text/plain": [
       "(array([-0.00876596, -0.0011869 , -0.00012551, -0.00137569, -0.01025601]),\n",
       " -0.004342013622029395,\n",
       " 0.004268007788355184)"
      ]
     },
     "execution_count": 184,
     "metadata": {},
     "output_type": "execute_result"
    }
   ],
   "source": [
    "from sklearn.model_selection import cross_val_score\n",
    "\n",
    "r2_scores = cross_val_score(lasso_model, X_new, y, cv=kf, scoring='r2')\n",
    "\n",
    "mean_r2 = r2_scores.mean()\n",
    "std_r2 = r2_scores.std()\n",
    "\n",
    "r2_scores, mean_r2, std_r2\n"
   ]
  },
  {
   "cell_type": "markdown",
   "metadata": {},
   "source": [
    "Here are the results from the $ k=5 $ fold cross-validation using the LASSO model:\n",
    "\n",
    "1. The $ R^2 $ values for each of the 5 test datasets are:\n",
    "\\begin{align*}\n",
    "-0.0088, -0.0012, -0.0001, -0.0014, -0.0103\n",
    "\\end{align*}\n",
    "\n",
    "2. The mean of these $ R^2 $ values is: $ -0.0043 $\n",
    "3. The standard deviation of these $ R^2 $ values is: $ 0.0043 $\n",
    "\n",
    "It's worth noting that the $ R^2 $ values are negative, which means that the model does not fit the data well. In the context of cross-validation, a negative $ R^2 $ can occur when the model is worse than a horizontal line."
   ]
  },
  {
   "cell_type": "markdown",
   "metadata": {},
   "source": [
    "## 4. Parameter Tuning of a LASSO Model with Cross-Validation\n",
    "\n",
    "Next, let's use the code that we used in 3.1, 3.2, and 3.3 to test the performance of MANY LASSO models with different values of $\\lambda$. Specifically, let's try to find the $\\lambda$ value in a LASSO model that yields the highest *average* test R^2 value in k=5 fold cross-validation.\n",
    "\n",
    "\n",
    "### 4.1. Parameter Tuning \n",
    "\n",
    "1. In a for loop, iterate through a series of $\\lambda$ values that go from [0,0.005, 0.01, 0.015,...,0.5].\n",
    "2. For each value of $\\lambda$ do the following.\n",
    "    * Perform k=5 fold cross-validation of the LASSO linear regression model with the features matrix (1.7) and target array and this given $\\lambda$.\n",
    "    * Calculate the **average** test R^2 value of each of your resulting 5 trained models.\n",
    "    * Calculate the **standard deviation** test R^2 value of each of your resulting 5 trained models.\n",
    "    \n",
    "Your final result of this problem should include a *dataframe* that has three columns:\n",
    "* the $\\lambda$ value\n",
    "* the *average* test R^2 that correspond to this $\\lambda$ value\n",
    "* the *standard deviation* test R^2 that correspond to this $\\lambda$ value."
   ]
  },
  {
   "cell_type": "code",
   "execution_count": 185,
   "metadata": {},
   "outputs": [],
   "source": [
    "import warnings\n",
    "warnings.filterwarnings('ignore')"
   ]
  },
  {
   "cell_type": "code",
   "execution_count": 186,
   "metadata": {},
   "outputs": [
    {
     "data": {
      "text/html": [
       "<div>\n",
       "<style scoped>\n",
       "    .dataframe tbody tr th:only-of-type {\n",
       "        vertical-align: middle;\n",
       "    }\n",
       "\n",
       "    .dataframe tbody tr th {\n",
       "        vertical-align: top;\n",
       "    }\n",
       "\n",
       "    .dataframe thead th {\n",
       "        text-align: right;\n",
       "    }\n",
       "</style>\n",
       "<table border=\"1\" class=\"dataframe\">\n",
       "  <thead>\n",
       "    <tr style=\"text-align: right;\">\n",
       "      <th></th>\n",
       "      <th>lambda</th>\n",
       "      <th>average_R^2</th>\n",
       "      <th>std_R^2</th>\n",
       "    </tr>\n",
       "  </thead>\n",
       "  <tbody>\n",
       "    <tr>\n",
       "      <th>0</th>\n",
       "      <td>0.000</td>\n",
       "      <td>0.647468</td>\n",
       "      <td>0.115034</td>\n",
       "    </tr>\n",
       "    <tr>\n",
       "      <th>1</th>\n",
       "      <td>0.005</td>\n",
       "      <td>0.646795</td>\n",
       "      <td>0.116697</td>\n",
       "    </tr>\n",
       "    <tr>\n",
       "      <th>2</th>\n",
       "      <td>0.010</td>\n",
       "      <td>0.645862</td>\n",
       "      <td>0.118465</td>\n",
       "    </tr>\n",
       "    <tr>\n",
       "      <th>3</th>\n",
       "      <td>0.015</td>\n",
       "      <td>0.646398</td>\n",
       "      <td>0.119361</td>\n",
       "    </tr>\n",
       "    <tr>\n",
       "      <th>4</th>\n",
       "      <td>0.020</td>\n",
       "      <td>0.648578</td>\n",
       "      <td>0.120424</td>\n",
       "    </tr>\n",
       "  </tbody>\n",
       "</table>\n",
       "</div>"
      ],
      "text/plain": [
       "   lambda  average_R^2   std_R^2\n",
       "0   0.000     0.647468  0.115034\n",
       "1   0.005     0.646795  0.116697\n",
       "2   0.010     0.645862  0.118465\n",
       "3   0.015     0.646398  0.119361\n",
       "4   0.020     0.648578  0.120424"
      ]
     },
     "execution_count": 186,
     "metadata": {},
     "output_type": "execute_result"
    }
   ],
   "source": [
    "lambdas = np.arange(0, 0.505, 0.005)\n",
    "\n",
    "average_r2_list = []\n",
    "std_r2_list = []\n",
    "\n",
    "for alpha in lambdas:\n",
    "    lasso = Lasso(alpha=alpha)\n",
    "    \n",
    "    r2_scores = cross_val_score(lasso, X_new, y, cv=kf, scoring='r2')\n",
    "    \n",
    "    average_r2_list.append(r2_scores.mean())\n",
    "    std_r2_list.append(r2_scores.std())\n",
    "\n",
    "results_df = pd.DataFrame({\n",
    "    'lambda': lambdas,\n",
    "    'average_R^2': average_r2_list,\n",
    "    'std_R^2': std_r2_list\n",
    "})\n",
    "\n",
    "results_df.head()\n"
   ]
  },
  {
   "cell_type": "markdown",
   "metadata": {},
   "source": [
    "### 4.2. Average Test R^2 and $\\lambda$ Relationship\n",
    "\n",
    "Plot the relationship between the $\\lambda$ values and the average test R^2 in a **line plot**."
   ]
  },
  {
   "cell_type": "code",
   "execution_count": 187,
   "metadata": {},
   "outputs": [
    {
     "data": {
      "image/png": "[encoded data removed]",
      "text/plain": [
       "<Figure size 1000x600 with 1 Axes>"
      ]
     },
     "metadata": {},
     "output_type": "display_data"
    }
   ],
   "source": [
    "plt.figure(figsize=(10, 6))\n",
    "plt.plot(results_df['lambda'], results_df['average_R^2'], marker='o', linestyle='-')\n",
    "plt.title('Relationship between λ and Average Test R^2')\n",
    "plt.xlabel('λ (Lambda)')\n",
    "plt.ylabel('Average Test R^2')\n",
    "plt.grid(True)\n",
    "plt.show()\n"
   ]
  },
  {
   "cell_type": "markdown",
   "metadata": {},
   "source": [
    "### 4.3. Highest Average Test R^2\n",
    "\n",
    "Which of our LASSO linear regression models do you think might perform the best when predicting `NA_Sales` for *new video games*?"
   ]
  },
  {
   "cell_type": "code",
   "execution_count": 188,
   "metadata": {},
   "outputs": [
    {
     "data": {
      "text/plain": [
       "(0.05, 0.6547704772760193)"
      ]
     },
     "execution_count": 188,
     "metadata": {},
     "output_type": "execute_result"
    }
   ],
   "source": [
    "best_lambda = results_df.loc[results_df['average_R^2'].idxmax(), 'lambda']\n",
    "best_avg_r2 = results_df['average_R^2'].max()\n",
    "\n",
    "best_lambda, best_avg_r2\n"
   ]
  },
  {
   "cell_type": "markdown",
   "metadata": {},
   "source": [
    "The LASSO linear regression model with $ \\lambda = 0.05 $ yielded the highest average test $ R^2 $ value of approximately $ 0.6548 $.\n",
    "\n",
    "Hence, based on our cross-validation results, the LASSO model with $ \\lambda = 0.05 $ might perform the best when predicting `NA_Sales` for new video games."
   ]
  },
  {
   "cell_type": "markdown",
   "metadata": {},
   "source": [
    "### 4.4. Fitting the Best LASSO Model\n",
    "\n",
    "Fit this best LASSO model that you selected in 4.3 with your features matrix (from 1.7) and your target array. Then, write out the linear regression equation that corresponds to this fitted model. Make sure that you use the appropriate notation discussed in class.\n",
    "\n",
    "Furthermore, if any of your models slopes have been zeroed out, do not include the corresponding explanatory variables in the model."
   ]
  },
  {
   "cell_type": "code",
   "execution_count": 189,
   "metadata": {},
   "outputs": [
    {
     "data": {
      "text/html": [
       "<style>#sk-container-id-11 {color: black;background-color: white;}#sk-container-id-11 pre{padding: 0;}#sk-container-id-11 div.sk-toggleable {background-color: white;}#sk-container-id-11 label.sk-toggleable__label {cursor: pointer;display: block;width: 100%;margin-bottom: 0;padding: 0.3em;box-sizing: border-box;text-align: center;}#sk-container-id-11 label.sk-toggleable__label-arrow:before {content: \"▸\";float: left;margin-right: 0.25em;color: #696969;}#sk-container-id-11 label.sk-toggleable__label-arrow:hover:before {color: black;}#sk-container-id-11 div.sk-estimator:hover label.sk-toggleable__label-arrow:before {color: black;}#sk-container-id-11 div.sk-toggleable__content {max-height: 0;max-width: 0;overflow: hidden;text-align: left;background-color: #f0f8ff;}#sk-container-id-11 div.sk-toggleable__content pre {margin: 0.2em;color: black;border-radius: 0.25em;background-color: #f0f8ff;}#sk-container-id-11 input.sk-toggleable__control:checked~div.sk-toggleable__content {max-height: 200px;max-width: 100%;overflow: auto;}#sk-container-id-11 input.sk-toggleable__control:checked~label.sk-toggleable__label-arrow:before {content: \"▾\";}#sk-container-id-11 div.sk-estimator input.sk-toggleable__control:checked~label.sk-toggleable__label {background-color: #d4ebff;}#sk-container-id-11 div.sk-label input.sk-toggleable__control:checked~label.sk-toggleable__label {background-color: #d4ebff;}#sk-container-id-11 input.sk-hidden--visually {border: 0;clip: rect(1px 1px 1px 1px);clip: rect(1px, 1px, 1px, 1px);height: 1px;margin: -1px;overflow: hidden;padding: 0;position: absolute;width: 1px;}#sk-container-id-11 div.sk-estimator {font-family: monospace;background-color: #f0f8ff;border: 1px dotted black;border-radius: 0.25em;box-sizing: border-box;margin-bottom: 0.5em;}#sk-container-id-11 div.sk-estimator:hover {background-color: #d4ebff;}#sk-container-id-11 div.sk-parallel-item::after {content: \"\";width: 100%;border-bottom: 1px solid gray;flex-grow: 1;}#sk-container-id-11 div.sk-label:hover label.sk-toggleable__label {background-color: #d4ebff;}#sk-container-id-11 div.sk-serial::before {content: \"\";position: absolute;border-left: 1px solid gray;box-sizing: border-box;top: 0;bottom: 0;left: 50%;z-index: 0;}#sk-container-id-11 div.sk-serial {display: flex;flex-direction: column;align-items: center;background-color: white;padding-right: 0.2em;padding-left: 0.2em;position: relative;}#sk-container-id-11 div.sk-item {position: relative;z-index: 1;}#sk-container-id-11 div.sk-parallel {display: flex;align-items: stretch;justify-content: center;background-color: white;position: relative;}#sk-container-id-11 div.sk-item::before, #sk-container-id-11 div.sk-parallel-item::before {content: \"\";position: absolute;border-left: 1px solid gray;box-sizing: border-box;top: 0;bottom: 0;left: 50%;z-index: -1;}#sk-container-id-11 div.sk-parallel-item {display: flex;flex-direction: column;z-index: 1;position: relative;background-color: white;}#sk-container-id-11 div.sk-parallel-item:first-child::after {align-self: flex-end;width: 50%;}#sk-container-id-11 div.sk-parallel-item:last-child::after {align-self: flex-start;width: 50%;}#sk-container-id-11 div.sk-parallel-item:only-child::after {width: 0;}#sk-container-id-11 div.sk-dashed-wrapped {border: 1px dashed gray;margin: 0 0.4em 0.5em 0.4em;box-sizing: border-box;padding-bottom: 0.4em;background-color: white;}#sk-container-id-11 div.sk-label label {font-family: monospace;font-weight: bold;display: inline-block;line-height: 1.2em;}#sk-container-id-11 div.sk-label-container {text-align: center;}#sk-container-id-11 div.sk-container {/* jupyter's `normalize.less` sets `[hidden] { display: none; }` but bootstrap.min.css set `[hidden] { display: none !important; }` so we also need the `!important` here to be able to override the default hidden behavior on the sphinx rendered scikit-learn.org. See: https://github.com/scikit-learn/scikit-learn/issues/21755 */display: inline-block !important;position: relative;}#sk-container-id-11 div.sk-text-repr-fallback {display: none;}</style><div id=\"sk-container-id-11\" class=\"sk-top-container\"><div class=\"sk-text-repr-fallback\"><pre>Lasso(alpha=0.05)</pre><b>In a Jupyter environment, please rerun this cell to show the HTML representation or trust the notebook. <br />On GitHub, the HTML representation is unable to render, please try loading this page with nbviewer.org.</b></div><div class=\"sk-container\" hidden><div class=\"sk-item\"><div class=\"sk-estimator sk-toggleable\"><input class=\"sk-toggleable__control sk-hidden--visually\" id=\"sk-estimator-id-11\" type=\"checkbox\" checked><label for=\"sk-estimator-id-11\" class=\"sk-toggleable__label sk-toggleable__label-arrow\">Lasso</label><div class=\"sk-toggleable__content\"><pre>Lasso(alpha=0.05)</pre></div></div></div></div></div>"
      ],
      "text/plain": [
       "Lasso(alpha=0.05)"
      ]
     },
     "execution_count": 189,
     "metadata": {},
     "output_type": "execute_result"
    }
   ],
   "source": [
    "best_lasso_model = Lasso(alpha=best_lambda)\n",
    "best_lasso_model.fit(X_new, y)\n",
    "\n",
    "\n"
   ]
  },
  {
   "cell_type": "code",
   "execution_count": 190,
   "metadata": {},
   "outputs": [
    {
     "data": {
      "text/plain": [
       "(10.475423142070094,\n",
       " array([ 0.34420739,  0.        ,  0.06727389, -0.00508877, -0.        ,\n",
       "        -0.        ,  0.        , -0.        ,  0.        ]))"
      ]
     },
     "execution_count": 190,
     "metadata": {},
     "output_type": "execute_result"
    }
   ],
   "source": [
    "intercept = best_lasso_model.intercept_\n",
    "coefficients = best_lasso_model.coef_\n",
    "intercept, coefficients\n"
   ]
  },
  {
   "cell_type": "markdown",
   "metadata": {},
   "source": [
    "Alright, let's proceed with fitting the best LASSO model using $ \\lambda = 0.05 $ and then write out the corresponding linear regression equation.\n",
    "\n",
    "1. I will first fit the LASSO model using the specified $ \\lambda $ value with the features matrix and target array.\n",
    "2. Then, I will extract the intercept and slopes (coefficients) of the model.\n",
    "3. Finally, I will use the coefficients to write out the linear regression equation.\n",
    "\n",
    "Let's begin with fitting the model.\n",
    "\n",
    "After fitting the best LASSO model, we have the following intercept and coefficients:\n",
    "\n",
    "Intercept: $ \\approx 10.4754 $\n",
    "\n",
    "Coefficients for the features (in order):\n",
    "```\n",
    "EU_Sales:       0.3442\n",
    "JP_Sales:       0.0\n",
    "Other_Sales:    0.0673\n",
    "Year:          -0.0051\n",
    "Genre_Strategy: 0.0\n",
    "Platform_PS:    0.0\n",
    "Platform_PS2:   0.0\n",
    "Platform_PS3:   0.0\n",
    "Platform_Wii:   0.0\n",
    "```\n",
    "\n",
    "From the coefficients, we can see that the LASSO model has zeroed out the coefficients for several features (`JP_Sales`, `Genre_Strategy`, and all the `Platform` features), indicating that these features may not be as significant in predicting `NA_Sales` compared to the others.\n",
    "\n",
    "Using the intercept and non-zero coefficients, the linear regression equation for the best LASSO model is:\n",
    "\n",
    "\\begin{align*}\n",
    "\\text{NA\\_Sales} \\approx 10.4754 + 0.3442 \\times \\text{EU\\_Sales} + 0.0673 \\times \\text{Other\\_Sales} - 0.0051 \\times \\text{Year}\n",
    "\\end{align*}"
   ]
  },
  {
   "cell_type": "markdown",
   "metadata": {},
   "source": [
    "### 4.5. Interpreting the LASSO Model\n",
    "\n",
    "\n",
    "Were there any explanatory variables that our cross-validation suggested may have been overfitting our model? If so, which ones?"
   ]
  },
  {
   "cell_type": "markdown",
   "metadata": {},
   "source": [
    "From our best LASSO model's coefficients:\n",
    "- `JP_Sales` coefficient was zeroed out.\n",
    "- `Genre_Strategy` coefficient was zeroed out.\n",
    "- All the `Platform` features (`Platform_PS`, `Platform_PS2`, `Platform_PS3`, and `Platform_Wii`) had their coefficients zeroed out.\n",
    "\n",
    "Thus, based on the cross-validation results, the explanatory variables `JP_Sales`, `Genre_Strategy`, and all the `Platform` features are suggested to have been overfitting our model."
   ]
  },
  {
   "cell_type": "markdown",
   "metadata": {},
   "source": [
    "### 4.6. Multicollinearity\n",
    "\n",
    "Do any of the explanatory variables that correspond to slopes in this best LASSO model that have not been zeroed out exhibit a strong linear relationship with each other?"
   ]
  },
  {
   "cell_type": "code",
   "execution_count": 191,
   "metadata": {},
   "outputs": [
    {
     "data": {
      "image/png": "[encoded data removed]",
      "text/plain": [
       "<Figure size 800x600 with 2 Axes>"
      ]
     },
     "metadata": {},
     "output_type": "display_data"
    }
   ],
   "source": [
    "selected_features = ['EU_Sales', 'Other_Sales', 'Year']\n",
    "correlation_selected = X_new[selected_features].corr()\n",
    "\n",
    "plt.figure(figsize=(8, 6))\n",
    "sns.heatmap(correlation_selected, annot=True, cmap='coolwarm', vmin=-1, vmax=1)\n",
    "plt.title('Correlation Matrix of Selected Features')\n",
    "plt.show()\n"
   ]
  },
  {
   "cell_type": "markdown",
   "metadata": {},
   "source": [
    "\n",
    "From the heatmap of the correlation matrix for the explanatory variables `EU_Sales`, `Other_Sales`, and `Year`:\n",
    "\n",
    "1. The variable `EU_Sales` and `Other_Sales` have a correlation coefficient of $0.83$. This indicates a strong positive linear relationship between the two, suggesting that as sales in Europe increase, sales in other regions also tend to increase, and vice versa. A correlation of $0.83$ is considerably high and points towards multicollinearity between these two variables.\n",
    "2. Both `EU_Sales` and `Other_Sales` have weak linear relationships with `Year`, as indicated by their correlation coefficients close to zero.\n",
    "\n",
    "In conclusion, based on our analysis, `EU_Sales` and `Other_Sales` exhibit a strong linear relationship with each other and therefore might have multicollinearity concerns. However, the LASSO regression method inherently deals with multicollinearity by regularizing the coefficients, which can make the model more stable in the presence of highly correlated features.\n"
   ]
  },
  {
   "cell_type": "markdown",
   "metadata": {},
   "source": [
    "## 5. Non-Regularized Linear Regression Cross-Validation Analyses\n",
    "\n",
    "### 5.1. Full Model\n",
    "\n",
    "First, perform k=5 fold cross-validation analysis on a non-regularized linear regression model using the features matrix (from 1.7) and target array.\n",
    "\n",
    "Make sure you use the same 5 test folds that you created and used in #3 and #4.\n",
    "\n",
    "You should use the *R^2* to evaluate each of your 5 training dataset model's corresponding test datasets.\n",
    "1. Display each of the 5 test R^2 values.\n",
    "2. Display the mean of these 5 test R^2 values.\n",
    "3. Display the standard deviation of these 5 test R^2 values."
   ]
  },
  {
   "cell_type": "code",
   "execution_count": 192,
   "metadata": {},
   "outputs": [
    {
     "data": {
      "text/plain": [
       "(array([0.74016199, 0.69903257, 0.74381833, 0.43583123, 0.61849772]),\n",
       " 0.647468367388021,\n",
       " 0.11503378933765526)"
      ]
     },
     "execution_count": 192,
     "metadata": {},
     "output_type": "execute_result"
    }
   ],
   "source": [
    "from sklearn.linear_model import LinearRegression\n",
    "\n",
    "lr_model = LinearRegression()\n",
    "\n",
    "lr_r2_scores = cross_val_score(lr_model, X_new, y, cv=kf, scoring='r2')\n",
    "\n",
    "lr_mean_r2 = lr_r2_scores.mean()\n",
    "lr_std_r2 = lr_r2_scores.std()\n",
    "\n",
    "lr_r2_scores, lr_mean_r2, lr_std_r2\n"
   ]
  },
  {
   "cell_type": "markdown",
   "metadata": {},
   "source": [
    "1. The $ R^2 $ values for each of the 5 test datasets are:\n",
    "$$\n",
    "0.7402, 0.6990, 0.7438, 0.4358, 0.6185\n",
    "$$\n",
    "2. The mean of these $ R^2 $ values is: $ 0.6475 $\n",
    "3. The standard deviation of these $ R^2 $ values is: $ 0.1150 $\n",
    "\n",
    "These results suggest that the non-regularized linear regression model performs quite differently across the different test folds, with a notably lower $ R^2 $ value in one of the folds.\n"
   ]
  },
  {
   "cell_type": "markdown",
   "metadata": {},
   "source": [
    "### 5.2. Reduced Model\n",
    "\n",
    "Next, perform k=5 fold cross-validation analysis on a non-regularized linear regression model using **only the columns in the features matrix (from 1.7) that had non-zero slopes in 4.4** and the target array.\n",
    "\n",
    "Make sure you use the same 5 test folds that you created and used in #3 and #4.\n",
    "\n",
    "You should use the *R^2* to evaluate each of your 5 training dataset model's corresponding test datasets.\n",
    "1. Display each of the 5 test R^2 values.\n",
    "2. Display the mean of these 5 test R^2 values.\n",
    "3. Display the standard deviation of these 5 test R^2 values."
   ]
  },
  {
   "cell_type": "code",
   "execution_count": 193,
   "metadata": {},
   "outputs": [
    {
     "data": {
      "text/plain": [
       "(array([0.72908478, 0.69809848, 0.74827234, 0.42260231, 0.60562115]),\n",
       " 0.6407358128068605,\n",
       " 0.11956202219298502)"
      ]
     },
     "execution_count": 193,
     "metadata": {},
     "output_type": "execute_result"
    }
   ],
   "source": [
    "X_reduced = X_new[selected_features]\n",
    "\n",
    "lr_r2_scores_reduced = cross_val_score(lr_model, X_reduced, y, cv=kf, scoring='r2')\n",
    "\n",
    "lr_mean_r2_reduced = lr_r2_scores_reduced.mean()\n",
    "lr_std_r2_reduced = lr_r2_scores_reduced.std()\n",
    "\n",
    "lr_r2_scores_reduced, lr_mean_r2_reduced, lr_std_r2_reduced\n"
   ]
  },
  {
   "cell_type": "markdown",
   "metadata": {},
   "source": [
    "1. The $ R^2 $ values for each of the 5 test datasets are:\n",
    "$$\n",
    "0.7291, 0.6981, 0.7483, 0.4226, 0.6056\n",
    "$$\n",
    "2. The mean of these $ R^2 $ values is: $ 0.6407 $\n",
    "3. The standard deviation of these $ R^2 $ values is: $ 0.1196 $\n",
    "\n",
    "These results suggest that, even after reducing the feature set based on the LASSO model results, the non-regularized linear regression model still performs quite differently across the different test folds, similar to the full model."
   ]
  },
  {
   "cell_type": "markdown",
   "metadata": {},
   "source": [
    "### 5.3. Fitting the Reduced Model\n",
    "\n",
    "Fit an ACTUAL non-regularized linear regression model using **only the columns in the features matrix (from 1.7) that had non-zero slopes in 4.4** and your target array. Then, write our the linear regression equation that corresponds to this fitted model. Make sure that you use the appropriate notation discussed in class.\n"
   ]
  },
  {
   "cell_type": "code",
   "execution_count": 194,
   "metadata": {},
   "outputs": [
    {
     "data": {
      "text/html": [
       "<style>#sk-container-id-12 {color: black;background-color: white;}#sk-container-id-12 pre{padding: 0;}#sk-container-id-12 div.sk-toggleable {background-color: white;}#sk-container-id-12 label.sk-toggleable__label {cursor: pointer;display: block;width: 100%;margin-bottom: 0;padding: 0.3em;box-sizing: border-box;text-align: center;}#sk-container-id-12 label.sk-toggleable__label-arrow:before {content: \"▸\";float: left;margin-right: 0.25em;color: #696969;}#sk-container-id-12 label.sk-toggleable__label-arrow:hover:before {color: black;}#sk-container-id-12 div.sk-estimator:hover label.sk-toggleable__label-arrow:before {color: black;}#sk-container-id-12 div.sk-toggleable__content {max-height: 0;max-width: 0;overflow: hidden;text-align: left;background-color: #f0f8ff;}#sk-container-id-12 div.sk-toggleable__content pre {margin: 0.2em;color: black;border-radius: 0.25em;background-color: #f0f8ff;}#sk-container-id-12 input.sk-toggleable__control:checked~div.sk-toggleable__content {max-height: 200px;max-width: 100%;overflow: auto;}#sk-container-id-12 input.sk-toggleable__control:checked~label.sk-toggleable__label-arrow:before {content: \"▾\";}#sk-container-id-12 div.sk-estimator input.sk-toggleable__control:checked~label.sk-toggleable__label {background-color: #d4ebff;}#sk-container-id-12 div.sk-label input.sk-toggleable__control:checked~label.sk-toggleable__label {background-color: #d4ebff;}#sk-container-id-12 input.sk-hidden--visually {border: 0;clip: rect(1px 1px 1px 1px);clip: rect(1px, 1px, 1px, 1px);height: 1px;margin: -1px;overflow: hidden;padding: 0;position: absolute;width: 1px;}#sk-container-id-12 div.sk-estimator {font-family: monospace;background-color: #f0f8ff;border: 1px dotted black;border-radius: 0.25em;box-sizing: border-box;margin-bottom: 0.5em;}#sk-container-id-12 div.sk-estimator:hover {background-color: #d4ebff;}#sk-container-id-12 div.sk-parallel-item::after {content: \"\";width: 100%;border-bottom: 1px solid gray;flex-grow: 1;}#sk-container-id-12 div.sk-label:hover label.sk-toggleable__label {background-color: #d4ebff;}#sk-container-id-12 div.sk-serial::before {content: \"\";position: absolute;border-left: 1px solid gray;box-sizing: border-box;top: 0;bottom: 0;left: 50%;z-index: 0;}#sk-container-id-12 div.sk-serial {display: flex;flex-direction: column;align-items: center;background-color: white;padding-right: 0.2em;padding-left: 0.2em;position: relative;}#sk-container-id-12 div.sk-item {position: relative;z-index: 1;}#sk-container-id-12 div.sk-parallel {display: flex;align-items: stretch;justify-content: center;background-color: white;position: relative;}#sk-container-id-12 div.sk-item::before, #sk-container-id-12 div.sk-parallel-item::before {content: \"\";position: absolute;border-left: 1px solid gray;box-sizing: border-box;top: 0;bottom: 0;left: 50%;z-index: -1;}#sk-container-id-12 div.sk-parallel-item {display: flex;flex-direction: column;z-index: 1;position: relative;background-color: white;}#sk-container-id-12 div.sk-parallel-item:first-child::after {align-self: flex-end;width: 50%;}#sk-container-id-12 div.sk-parallel-item:last-child::after {align-self: flex-start;width: 50%;}#sk-container-id-12 div.sk-parallel-item:only-child::after {width: 0;}#sk-container-id-12 div.sk-dashed-wrapped {border: 1px dashed gray;margin: 0 0.4em 0.5em 0.4em;box-sizing: border-box;padding-bottom: 0.4em;background-color: white;}#sk-container-id-12 div.sk-label label {font-family: monospace;font-weight: bold;display: inline-block;line-height: 1.2em;}#sk-container-id-12 div.sk-label-container {text-align: center;}#sk-container-id-12 div.sk-container {/* jupyter's `normalize.less` sets `[hidden] { display: none; }` but bootstrap.min.css set `[hidden] { display: none !important; }` so we also need the `!important` here to be able to override the default hidden behavior on the sphinx rendered scikit-learn.org. See: https://github.com/scikit-learn/scikit-learn/issues/21755 */display: inline-block !important;position: relative;}#sk-container-id-12 div.sk-text-repr-fallback {display: none;}</style><div id=\"sk-container-id-12\" class=\"sk-top-container\"><div class=\"sk-text-repr-fallback\"><pre>LinearRegression()</pre><b>In a Jupyter environment, please rerun this cell to show the HTML representation or trust the notebook. <br />On GitHub, the HTML representation is unable to render, please try loading this page with nbviewer.org.</b></div><div class=\"sk-container\" hidden><div class=\"sk-item\"><div class=\"sk-estimator sk-toggleable\"><input class=\"sk-toggleable__control sk-hidden--visually\" id=\"sk-estimator-id-12\" type=\"checkbox\" checked><label for=\"sk-estimator-id-12\" class=\"sk-toggleable__label sk-toggleable__label-arrow\">LinearRegression</label><div class=\"sk-toggleable__content\"><pre>LinearRegression()</pre></div></div></div></div></div>"
      ],
      "text/plain": [
       "LinearRegression()"
      ]
     },
     "execution_count": 194,
     "metadata": {},
     "output_type": "execute_result"
    }
   ],
   "source": [
    "lr_model_reduced = LinearRegression()\n",
    "lr_model_reduced.fit(X_reduced, y)"
   ]
  },
  {
   "cell_type": "code",
   "execution_count": 195,
   "metadata": {},
   "outputs": [
    {
     "data": {
      "text/plain": [
       "(15.436030931963233, array([ 0.36954742,  0.09659793, -0.00756059]))"
      ]
     },
     "execution_count": 195,
     "metadata": {},
     "output_type": "execute_result"
    }
   ],
   "source": [
    "intercept_reduced = lr_model_reduced.intercept_\n",
    "coefficients_reduced = lr_model_reduced.coef_\n",
    "\n",
    "intercept_reduced, coefficients_reduced"
   ]
  },
  {
   "cell_type": "markdown",
   "metadata": {},
   "source": [
    "After fitting the non-regularized linear regression model using the reduced feature set, we have the following intercept and coefficients:\n",
    "\n",
    "Intercept: $ \\approx 15.4360 $\n",
    "\n",
    "Coefficients for the features (in order):\n",
    "- `EU_Sales`: $ \\approx 0.3695 $\n",
    "- `Other_Sales`: $ \\approx 0.0966 $\n",
    "- `Year`: $ \\approx -0.0076 $\n",
    "\n",
    "Using the intercept and coefficients, the linear regression equation for the reduced non-regularized model is:\n",
    "\n",
    "$$\n",
    "\\text{NA\\_Sales} = 15.4360 + 0.3695 \\times \\text{EU\\_Sales} + 0.0966 \\times \\text{Other\\_Sales} - 0.0076 \\times \\text{Year}\n",
    "$$"
   ]
  },
  {
   "cell_type": "markdown",
   "metadata": {},
   "source": [
    "### 5.4. Comparing Model Performance\n",
    "\n",
    "Which model had better average test dataset performance: \n",
    "1. the best LASSO model (4.3, 4.4) or \n",
    "2. the non-regularized reduced model (5.2,5.3) *(which we built based on the best LASSO model's feature selection suggestions*)?"
   ]
  },
  {
   "cell_type": "markdown",
   "metadata": {},
   "source": [
    "1. The best LASSO model (from 4.3, 4.4) had an average test $ R^2 $ value of approximately $ 0.6548 $.\n",
    "2. The non-regularized reduced model (from 5.2, 5.3) had an average test $ R^2 $ value of approximately $ 0.6407 $.\n",
    "\n",
    "Comparing the two, the best LASSO model had a slightly higher average test $ R^2 $ value than the non-regularized reduced model.\n",
    "\n",
    "Therefore, the best LASSO model (from 4.3, 4.4) exhibited better average test dataset performance."
   ]
  },
  {
   "cell_type": "markdown",
   "metadata": {},
   "source": [
    "## 6. Parameter Tuning of a Ridge Regression Model with Cross-Validation\n",
    "\n",
    "Next, let's test the performance of MANY ridge regression models with different values of $\\lambda$. Specifically, let's try to find the $\\lambda$ value in a ridge regression model that yields the highest *average* test R^2 value in k=5 fold cross-validation.\n",
    "\n",
    "\n",
    "### 6.1. Parameter Tuning \n",
    "\n",
    "1. In a for loop, iterate through a series of $\\lambda$ values that go from [0,1,2,...,300].\n",
    "2. For each value of $\\lambda$ do the following.\n",
    "    * Perform k=5 fold cross-validation of the ridge regression model with the features matrix (1.7) and target array and this given $\\lambda$.\n",
    "    * Calculate the **average** test R^2 value of each of your resulting 5 trained models.\n",
    "    * Calculate the **standard deviation** test R^2 value of each of your resulting 5 trained models.\n",
    "    \n",
    "Your final result of this problem should include a *dataframe* that has three columns:\n",
    "* the $\\lambda$ value\n",
    "* the *average* test R^2 that correspond to this $\\lambda$ value\n",
    "* the *standard deviation* test R^2 that correspond to this $\\lambda$ value."
   ]
  },
  {
   "cell_type": "code",
   "execution_count": 196,
   "metadata": {},
   "outputs": [
    {
     "data": {
      "text/html": [
       "<div>\n",
       "<style scoped>\n",
       "    .dataframe tbody tr th:only-of-type {\n",
       "        vertical-align: middle;\n",
       "    }\n",
       "\n",
       "    .dataframe tbody tr th {\n",
       "        vertical-align: top;\n",
       "    }\n",
       "\n",
       "    .dataframe thead th {\n",
       "        text-align: right;\n",
       "    }\n",
       "</style>\n",
       "<table border=\"1\" class=\"dataframe\">\n",
       "  <thead>\n",
       "    <tr style=\"text-align: right;\">\n",
       "      <th></th>\n",
       "      <th>lambda</th>\n",
       "      <th>average_R^2</th>\n",
       "      <th>std_R^2</th>\n",
       "    </tr>\n",
       "  </thead>\n",
       "  <tbody>\n",
       "    <tr>\n",
       "      <th>0</th>\n",
       "      <td>0</td>\n",
       "      <td>0.647468</td>\n",
       "      <td>0.115034</td>\n",
       "    </tr>\n",
       "    <tr>\n",
       "      <th>1</th>\n",
       "      <td>1</td>\n",
       "      <td>0.647672</td>\n",
       "      <td>0.115055</td>\n",
       "    </tr>\n",
       "    <tr>\n",
       "      <th>2</th>\n",
       "      <td>2</td>\n",
       "      <td>0.647861</td>\n",
       "      <td>0.115084</td>\n",
       "    </tr>\n",
       "    <tr>\n",
       "      <th>3</th>\n",
       "      <td>3</td>\n",
       "      <td>0.648036</td>\n",
       "      <td>0.115120</td>\n",
       "    </tr>\n",
       "    <tr>\n",
       "      <th>4</th>\n",
       "      <td>4</td>\n",
       "      <td>0.648201</td>\n",
       "      <td>0.115161</td>\n",
       "    </tr>\n",
       "  </tbody>\n",
       "</table>\n",
       "</div>"
      ],
      "text/plain": [
       "   lambda  average_R^2   std_R^2\n",
       "0       0     0.647468  0.115034\n",
       "1       1     0.647672  0.115055\n",
       "2       2     0.647861  0.115084\n",
       "3       3     0.648036  0.115120\n",
       "4       4     0.648201  0.115161"
      ]
     },
     "execution_count": 196,
     "metadata": {},
     "output_type": "execute_result"
    }
   ],
   "source": [
    "from sklearn.linear_model import Ridge\n",
    "\n",
    "ridge_lambdas = np.arange(0, 301)\n",
    "\n",
    "ridge_avg_r2_list = []\n",
    "ridge_std_r2_list = []\n",
    "\n",
    "for alpha in ridge_lambdas:\n",
    "    ridge = Ridge(alpha=alpha)\n",
    "    \n",
    "    r2_scores = cross_val_score(ridge, X_new, y, cv=kf, scoring='r2')\n",
    "    \n",
    "    ridge_avg_r2_list.append(r2_scores.mean())\n",
    "    ridge_std_r2_list.append(r2_scores.std())\n",
    "\n",
    "ridge_results_df = pd.DataFrame({\n",
    "    'lambda': ridge_lambdas,\n",
    "    'average_R^2': ridge_avg_r2_list,\n",
    "    'std_R^2': ridge_std_r2_list\n",
    "})\n",
    "\n",
    "ridge_results_df.head()\n"
   ]
  },
  {
   "cell_type": "markdown",
   "metadata": {},
   "source": [
    "### 6.2. Average Test R^2 and $\\lambda$ Relationship\n",
    "\n",
    "Plot the relationship between the $\\lambda$ values and the average test R^2 in a **line plot**."
   ]
  },
  {
   "cell_type": "code",
   "execution_count": 197,
   "metadata": {},
   "outputs": [
    {
     "data": {
      "image/png": "[encoded data removed]",
      "text/plain": [
       "<Figure size 1000x600 with 1 Axes>"
      ]
     },
     "metadata": {},
     "output_type": "display_data"
    }
   ],
   "source": [
    "plt.figure(figsize=(10, 6))\n",
    "plt.plot(ridge_results_df['lambda'], ridge_results_df['average_R^2'], marker='o', linestyle='-')\n",
    "plt.title('Relationship between λ and Average Test R^2 (Ridge Regression)')\n",
    "plt.xlabel('λ (Lambda)')\n",
    "plt.ylabel('Average Test R^2')\n",
    "plt.grid(True)\n",
    "plt.show()\n"
   ]
  },
  {
   "cell_type": "markdown",
   "metadata": {},
   "source": [
    "\n",
    "From the plot, we can observe:\n",
    "- The average test $ R^2 $ starts off relatively stable for smaller $ \\lambda $ values.\n",
    "- As $ \\lambda $ increases, the average test $ R^2 $ gradually decreases, indicating that the model's fit to the data becomes less optimal with increasing regularization strength."
   ]
  },
  {
   "cell_type": "markdown",
   "metadata": {},
   "source": [
    "### 6.3. Highest Average Test R^2\n",
    "\n",
    "Which of our fitted ridge regression models do you think might perform the best when predicting `NA_Sales` for *new video games*?"
   ]
  },
  {
   "cell_type": "code",
   "execution_count": 198,
   "metadata": {},
   "outputs": [
    {
     "data": {
      "text/plain": [
       "(117, 0.6533039982431699)"
      ]
     },
     "execution_count": 198,
     "metadata": {},
     "output_type": "execute_result"
    }
   ],
   "source": [
    "best_ridge_lambda = ridge_results_df.loc[ridge_results_df['average_R^2'].idxmax(), 'lambda']\n",
    "best_ridge_avg_r2 = ridge_results_df['average_R^2'].max()\n",
    "\n",
    "best_ridge_lambda, best_ridge_avg_r2\n"
   ]
  },
  {
   "cell_type": "markdown",
   "metadata": {},
   "source": [
    "The Ridge regression model with $ \\lambda = 117 $ yielded the highest average test $ R^2 $ value of approximately $ 0.6533 $.\n",
    "\n",
    "Hence, based on our cross-validation results, the Ridge regression model with $ \\lambda = 117 $ might perform the best when predicting `NA_Sales` for new video games."
   ]
  },
  {
   "cell_type": "markdown",
   "metadata": {},
   "source": [
    "### 6.4. Fitting the Best Ridge Regression Model\n",
    "\n",
    "Fit this best ridge regression model that you selected in 6.3 with your features matrix (from 1.7) and your target array. Then, write our the linear regression equation that corresponds to this fitted model. Make sure that you use the appropriate notation discussed in class."
   ]
  },
  {
   "cell_type": "code",
   "execution_count": 199,
   "metadata": {},
   "outputs": [
    {
     "data": {
      "text/html": [
       "<style>#sk-container-id-13 {color: black;background-color: white;}#sk-container-id-13 pre{padding: 0;}#sk-container-id-13 div.sk-toggleable {background-color: white;}#sk-container-id-13 label.sk-toggleable__label {cursor: pointer;display: block;width: 100%;margin-bottom: 0;padding: 0.3em;box-sizing: border-box;text-align: center;}#sk-container-id-13 label.sk-toggleable__label-arrow:before {content: \"▸\";float: left;margin-right: 0.25em;color: #696969;}#sk-container-id-13 label.sk-toggleable__label-arrow:hover:before {color: black;}#sk-container-id-13 div.sk-estimator:hover label.sk-toggleable__label-arrow:before {color: black;}#sk-container-id-13 div.sk-toggleable__content {max-height: 0;max-width: 0;overflow: hidden;text-align: left;background-color: #f0f8ff;}#sk-container-id-13 div.sk-toggleable__content pre {margin: 0.2em;color: black;border-radius: 0.25em;background-color: #f0f8ff;}#sk-container-id-13 input.sk-toggleable__control:checked~div.sk-toggleable__content {max-height: 200px;max-width: 100%;overflow: auto;}#sk-container-id-13 input.sk-toggleable__control:checked~label.sk-toggleable__label-arrow:before {content: \"▾\";}#sk-container-id-13 div.sk-estimator input.sk-toggleable__control:checked~label.sk-toggleable__label {background-color: #d4ebff;}#sk-container-id-13 div.sk-label input.sk-toggleable__control:checked~label.sk-toggleable__label {background-color: #d4ebff;}#sk-container-id-13 input.sk-hidden--visually {border: 0;clip: rect(1px 1px 1px 1px);clip: rect(1px, 1px, 1px, 1px);height: 1px;margin: -1px;overflow: hidden;padding: 0;position: absolute;width: 1px;}#sk-container-id-13 div.sk-estimator {font-family: monospace;background-color: #f0f8ff;border: 1px dotted black;border-radius: 0.25em;box-sizing: border-box;margin-bottom: 0.5em;}#sk-container-id-13 div.sk-estimator:hover {background-color: #d4ebff;}#sk-container-id-13 div.sk-parallel-item::after {content: \"\";width: 100%;border-bottom: 1px solid gray;flex-grow: 1;}#sk-container-id-13 div.sk-label:hover label.sk-toggleable__label {background-color: #d4ebff;}#sk-container-id-13 div.sk-serial::before {content: \"\";position: absolute;border-left: 1px solid gray;box-sizing: border-box;top: 0;bottom: 0;left: 50%;z-index: 0;}#sk-container-id-13 div.sk-serial {display: flex;flex-direction: column;align-items: center;background-color: white;padding-right: 0.2em;padding-left: 0.2em;position: relative;}#sk-container-id-13 div.sk-item {position: relative;z-index: 1;}#sk-container-id-13 div.sk-parallel {display: flex;align-items: stretch;justify-content: center;background-color: white;position: relative;}#sk-container-id-13 div.sk-item::before, #sk-container-id-13 div.sk-parallel-item::before {content: \"\";position: absolute;border-left: 1px solid gray;box-sizing: border-box;top: 0;bottom: 0;left: 50%;z-index: -1;}#sk-container-id-13 div.sk-parallel-item {display: flex;flex-direction: column;z-index: 1;position: relative;background-color: white;}#sk-container-id-13 div.sk-parallel-item:first-child::after {align-self: flex-end;width: 50%;}#sk-container-id-13 div.sk-parallel-item:last-child::after {align-self: flex-start;width: 50%;}#sk-container-id-13 div.sk-parallel-item:only-child::after {width: 0;}#sk-container-id-13 div.sk-dashed-wrapped {border: 1px dashed gray;margin: 0 0.4em 0.5em 0.4em;box-sizing: border-box;padding-bottom: 0.4em;background-color: white;}#sk-container-id-13 div.sk-label label {font-family: monospace;font-weight: bold;display: inline-block;line-height: 1.2em;}#sk-container-id-13 div.sk-label-container {text-align: center;}#sk-container-id-13 div.sk-container {/* jupyter's `normalize.less` sets `[hidden] { display: none; }` but bootstrap.min.css set `[hidden] { display: none !important; }` so we also need the `!important` here to be able to override the default hidden behavior on the sphinx rendered scikit-learn.org. See: https://github.com/scikit-learn/scikit-learn/issues/21755 */display: inline-block !important;position: relative;}#sk-container-id-13 div.sk-text-repr-fallback {display: none;}</style><div id=\"sk-container-id-13\" class=\"sk-top-container\"><div class=\"sk-text-repr-fallback\"><pre>Ridge(alpha=117)</pre><b>In a Jupyter environment, please rerun this cell to show the HTML representation or trust the notebook. <br />On GitHub, the HTML representation is unable to render, please try loading this page with nbviewer.org.</b></div><div class=\"sk-container\" hidden><div class=\"sk-item\"><div class=\"sk-estimator sk-toggleable\"><input class=\"sk-toggleable__control sk-hidden--visually\" id=\"sk-estimator-id-13\" type=\"checkbox\" checked><label for=\"sk-estimator-id-13\" class=\"sk-toggleable__label sk-toggleable__label-arrow\">Ridge</label><div class=\"sk-toggleable__content\"><pre>Ridge(alpha=117)</pre></div></div></div></div></div>"
      ],
      "text/plain": [
       "Ridge(alpha=117)"
      ]
     },
     "execution_count": 199,
     "metadata": {},
     "output_type": "execute_result"
    }
   ],
   "source": [
    "best_ridge_model = Ridge(alpha=best_ridge_lambda)\n",
    "best_ridge_model.fit(X_new, y)"
   ]
  },
  {
   "cell_type": "code",
   "execution_count": 200,
   "metadata": {},
   "outputs": [
    {
     "data": {
      "text/plain": [
       "(19.59926429866997,\n",
       " array([ 0.29365747,  0.03045297,  0.13541751, -0.0096252 , -0.06319988,\n",
       "        -0.02630735, -0.01783939, -0.02613218,  0.02893589]))"
      ]
     },
     "execution_count": 200,
     "metadata": {},
     "output_type": "execute_result"
    }
   ],
   "source": [
    "intercept_ridge = best_ridge_model.intercept_\n",
    "coefficients_ridge = best_ridge_model.coef_\n",
    "\n",
    "intercept_ridge, coefficients_ridge\n"
   ]
  },
  {
   "cell_type": "markdown",
   "metadata": {},
   "source": [
    "Intercept: $ \\approx 19.5993 $\n",
    "\n",
    "Coefficients for the features (in order):\n",
    "- `EU_Sales`: $ \\approx 0.2937 $\n",
    "- `JP_Sales`: $ \\approx 0.0305 $\n",
    "- `Other_Sales`: $ \\approx 0.1354 $\n",
    "- `Year`: $ \\approx -0.0096 $\n",
    "- `Genre_Strategy`: $ \\approx -0.0632 $\n",
    "- `Platform_PS`: $ \\approx -0.0263 $\n",
    "- `Platform_PS2`: $ \\approx -0.0178 $\n",
    "- `Platform_PS3`: $ \\approx -0.0261 $\n",
    "- `Platform_Wii`: $ \\approx 0.0289 $\n",
    "\n",
    "Using the intercept and coefficients, the linear regression equation for the best Ridge regression model is:\n",
    "\n",
    "$$\n",
    "\\text{NA\\_Sales} = 19.5993 + 0.2937 \\times \\text{EU\\_Sales} + 0.0305 \\times \\text{JP\\_Sales} + 0.1354 \\times \\text{Other\\_Sales} - 0.0096 \\times \\text{Year} - 0.0632 \\times \\text{Genre\\_Strategy} - 0.0263 \\times \\text{Platform\\_PS} - 0.0178 \\times \\text{Platform\\_PS2} - 0.0261 \\times \\text{Platform\\_PS3} + 0.0289 \\times \\text{Platform\\_Wii}\n",
    "$$\n"
   ]
  },
  {
   "cell_type": "markdown",
   "metadata": {},
   "source": [
    "## 7. Model Selection\n",
    "\n",
    "### 7.1. Best Model\n",
    "\n",
    "Out of all the models that we have tested with cross-validation in this analysis, which one would you select to predict NA_Sales for *new videos games*?"
   ]
  },
  {
   "cell_type": "markdown",
   "metadata": {},
   "source": [
    "Based on the models we tested:\n",
    "\n",
    "1. **Best LASSO Model**: \n",
    "    - Average Test $ R^2 $: $ \\approx 0.6548 $\n",
    "\n",
    "2. **Non-Regularized Reduced Model**: \n",
    "    - Average Test $ R^2 $: $ \\approx 0.6407 $\n",
    "\n",
    "3. **Best Ridge Regression Model**: \n",
    "    - Average Test $ R^2 $: $ \\approx 0.6533 $\n",
    "\n",
    "Considering the $ R^2 $ values:\n",
    "\n",
    "- The best LASSO model exhibits the highest average test $ R^2 $ value, suggesting it explains the most variance in the test datasets among the models we evaluated.\n",
    "\n",
    "Thus, based purely on the average $ R^2 $ values, I would recommend the **best LASSO model** as the top performer for predicting `NA_Sales` for new video games. This model not only had the highest average test dataset performance but also benefits from LASSO's inherent feature selection, which can help in reducing the model's complexity and potential overfitting."
   ]
  },
  {
   "cell_type": "markdown",
   "metadata": {},
   "source": [
    "### 7.2. Actual New Dataset Performance\n",
    "\n",
    "If we were to use this best selected model to predict NA_Sales for an actual new dataset, would you be suprised to see a model R^2 value of 0.54 for this new dataset? Why or why not?"
   ]
  },
  {
   "cell_type": "markdown",
   "metadata": {},
   "source": [
    "\n",
    "Given that our best-selected LASSO model had an average test $ R^2 $ value of $ \\approx 0.6548 $ during cross-validation, seeing an $ R^2 $ value of 0.54 on an actual new dataset is lower, but not entirely surprising. Cross-validation provides an estimate of performance on unseen data, but real-world datasets can have variations or characteristics not captured during training. While the drop in $ R^2 $ suggests the model's performance is not as optimal on the new data, such variations between cross-validation and real-world performance are not uncommon."
   ]
  }
 ],
 "metadata": {
  "kernelspec": {
   "display_name": "Python 3 (ipykernel)",
   "language": "python",
   "name": "python3"
  },
  "language_info": {
   "codemirror_mode": {
    "name": "ipython",
    "version": 3
   },
   "file_extension": ".py",
   "mimetype": "text/x-python",
   "name": "python",
   "nbconvert_exporter": "python",
   "pygments_lexer": "ipython3",
   "version": "3.11.1"
  }
 },
 "nbformat": 4,
 "nbformat_minor": 2
}
