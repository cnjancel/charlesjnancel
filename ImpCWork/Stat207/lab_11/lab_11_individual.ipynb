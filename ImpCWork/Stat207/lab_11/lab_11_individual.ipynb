{
 "cells": [
  {
   "cell_type": "markdown",
   "metadata": {},
   "source": [
    "# STAT 207 Lab Assignment 11 - Individual Part - [16.75 Points]\n",
    "\n",
    "\n",
    "\n",
    "## <u>Case Study</u>: Predicting Airbnb Superhost Status\n",
    "\n",
    "Suppose that you have a spare room in your house (in Seattle) and you are considering advertising this room to guests on Airbnb. Airbnb superhosts are considered to be experienced hosts who provide a shining example for other hosts, and extraordinary experiences for their guests. Once a host reaches Superhost status, a superhost badge will automatically appear on their listing and profile to help guests identify them. You would like to assess your chances of being named a superhost with your property.\n",
    "\n",
    "The following dataset is a sample (assume random) of available Airbnb listings in Seattle, WA. These listings were collected in January 2016, and filtered to just contain listings from the five most popular Seattlbe neighborhoods (for Airbnb listings) and just contain listings that are either in a house or apartment property.\n",
    "\n",
    "This dataset contains the following variables.\n",
    "\n",
    "**Listing Information**\n",
    "The dataset contains the following information about the Airbnb *listing*:\n",
    "* <u>price</u>: price of the listing (per night)(in US dollars)\n",
    "* <u>review_scores_rating</u>: the average rating of the listing [0,100] (100 is the best)\n",
    "* <u>number_of_reviews</u>: the number of reviews for the listing\n",
    "* <u>security_deposit</u>: the security deposit required for the listing (in US dollars)\n",
    "* <u>cleaning_fee</u>: the cleaning fee required for the listing (in US dollars)\n",
    "* <u>neighborhood</u>: the neighborhood of Seattle the listing is located in\n",
    "* <u>property_type</u>: is the listing in a 'House' or 'Apartment'\n",
    "* <u>room_type</u>: is the listing a 'Entire home/apt', 'Private room', or 'Shared room'\n",
    "* <u>accommodates</u>: how many guests will the listing accommodate\n",
    "* <u>bathrooms</u>:how many bathrooms does the listing have\n",
    "* <u>beds</u>: how many beds does the listing have\n",
    "\n",
    "**Host Information**\n",
    "The dataset also contains the following information about the *host* of the given Airbnb listing:\n",
    "* <u>host_is_superhost</u>: is the host a \"superhost\": t=True, f=False\n",
    "* <u>host_has_profile_pic</u>: does the host have a profile pic in their bio: t=True, f=False\n",
    "* <u>host_response_time</u>: how fast will the host respond to requests (on average)\n",
    "\n",
    "## Research Goals\n",
    "\n",
    "The primary research goal that we will pursue in this lab will be to build a predictive model that effectively predicts the `probability a Seattle Airbnb host is a **superhost**` for *new Seattle Airbnb listings/hosts* given some combination of the `remaining explanatory variables`.\n",
    "\n",
    "\n",
    "\n",
    "## Points\n",
    "\n",
    "<p>&nbsp;</p>\n",
    "<table style=\"border: none;border-collapse: collapse;width:102pt;\">\n",
    "    <tbody>\n",
    "        <tr>\n",
    "            <td style=\"color:black;font-size:15px;font-weight:700;font-style:normal;text-decoration:none;font-family:Calibri, sans-serif;text-align:right;vertical-align:bottom;border:.5pt solid windowtext;height:14.25pt;width:51pt;\">Problem</td>\n",
    "            <td style=\"color:black;font-size:15px;font-weight:700;font-style:normal;text-decoration:none;font-family:Calibri, sans-serif;text-align:general;vertical-align:bottom;border:.5pt solid windowtext;border-left:none;width:51pt;\">Points</td>\n",
    "        </tr>\n",
    "        <tr>\n",
    "            <td style=\"color:black;font-size:15px;font-weight:400;font-style:normal;text-decoration:none;font-family:Calibri, sans-serif;text-align:right;vertical-align:bottom;border:.5pt solid windowtext;height:14.25pt;border-top:none;\">1.1</td>\n",
    "            <td style=\"color:black;font-size:15px;font-weight:400;font-style:normal;text-decoration:none;font-family:Calibri, sans-serif;text-align:right;vertical-align:bottom;border:.5pt solid windowtext;border-top:none;border-left:none;\">0.25</td>\n",
    "        </tr>\n",
    "        <tr>\n",
    "            <td style=\"color:black;font-size:15px;font-weight:400;font-style:normal;text-decoration:none;font-family:Calibri, sans-serif;text-align:right;vertical-align:bottom;border:.5pt solid windowtext;height:14.25pt;border-top:none;\">1.2</td>\n",
    "            <td style=\"color:black;font-size:15px;font-weight:400;font-style:normal;text-decoration:none;font-family:Calibri, sans-serif;text-align:right;vertical-align:bottom;border:.5pt solid windowtext;border-top:none;border-left:none;\">0.25</td>\n",
    "        </tr>\n",
    "        <tr>\n",
    "            <td style=\"color:black;font-size:15px;font-weight:400;font-style:normal;text-decoration:none;font-family:Calibri, sans-serif;text-align:right;vertical-align:bottom;border:.5pt solid windowtext;height:14.25pt;border-top:none;\">1.3</td>\n",
    "            <td style=\"color:black;font-size:15px;font-weight:400;font-style:normal;text-decoration:none;font-family:Calibri, sans-serif;text-align:right;vertical-align:bottom;border:.5pt solid windowtext;border-top:none;border-left:none;\">0.25</td>\n",
    "        </tr>\n",
    "        <tr>\n",
    "            <td style=\"color:black;font-size:15px;font-weight:400;font-style:normal;text-decoration:none;font-family:Calibri, sans-serif;text-align:right;vertical-align:bottom;border:.5pt solid windowtext;height:14.25pt;border-top:none;\">2</td>\n",
    "            <td style=\"color:black;font-size:15px;font-weight:400;font-style:normal;text-decoration:none;font-family:Calibri, sans-serif;text-align:right;vertical-align:bottom;border:.5pt solid windowtext;border-top:none;border-left:none;\">0</td>\n",
    "        </tr>\n",
    "        <tr>\n",
    "            <td style=\"color:black;font-size:15px;font-weight:400;font-style:normal;text-decoration:none;font-family:Calibri, sans-serif;text-align:right;vertical-align:bottom;border:.5pt solid windowtext;height:14.25pt;border-top:none;\">3.1</td>\n",
    "            <td style=\"color:black;font-size:15px;font-weight:400;font-style:normal;text-decoration:none;font-family:Calibri, sans-serif;text-align:right;vertical-align:bottom;border:.5pt solid windowtext;border-top:none;border-left:none;\">1</td>\n",
    "        </tr>\n",
    "        <tr>\n",
    "            <td style=\"color:black;font-size:15px;font-weight:400;font-style:normal;text-decoration:none;font-family:Calibri, sans-serif;text-align:right;vertical-align:bottom;border:.5pt solid windowtext;height:14.25pt;border-top:none;\">3.2</td>\n",
    "            <td style=\"color:black;font-size:15px;font-weight:400;font-style:normal;text-decoration:none;font-family:Calibri, sans-serif;text-align:right;vertical-align:bottom;border:.5pt solid windowtext;border-top:none;border-left:none;\">1</td>\n",
    "        </tr>\n",
    "        <tr>\n",
    "            <td style=\"color:black;font-size:15px;font-weight:400;font-style:normal;text-decoration:none;font-family:Calibri, sans-serif;text-align:right;vertical-align:bottom;border:.5pt solid windowtext;height:14.25pt;border-top:none;\">3.3</td>\n",
    "            <td style=\"color:black;font-size:15px;font-weight:400;font-style:normal;text-decoration:none;font-family:Calibri, sans-serif;text-align:right;vertical-align:bottom;border:.5pt solid windowtext;border-top:none;border-left:none;\">1</td>\n",
    "        </tr>\n",
    "        <tr>\n",
    "            <td style=\"color:black;font-size:15px;font-weight:400;font-style:normal;text-decoration:none;font-family:Calibri, sans-serif;text-align:right;vertical-align:bottom;border:.5pt solid windowtext;height:14.25pt;border-top:none;\">3.4</td>\n",
    "            <td style=\"color:black;font-size:15px;font-weight:400;font-style:normal;text-decoration:none;font-family:Calibri, sans-serif;text-align:right;vertical-align:bottom;border:.5pt solid windowtext;border-top:none;border-left:none;\">1</td>\n",
    "        </tr>\n",
    "        <tr>\n",
    "            <td style=\"color:black;font-size:15px;font-weight:400;font-style:normal;text-decoration:none;font-family:Calibri, sans-serif;text-align:right;vertical-align:bottom;border:.5pt solid windowtext;height:14.25pt;border-top:none;\">3.5.1</td>\n",
    "            <td style=\"color:black;font-size:15px;font-weight:400;font-style:normal;text-decoration:none;font-family:Calibri, sans-serif;text-align:right;vertical-align:bottom;border:.5pt solid windowtext;border-top:none;border-left:none;\">1</td>\n",
    "        </tr>\n",
    "        <tr>\n",
    "            <td style=\"color:black;font-size:15px;font-weight:400;font-style:normal;text-decoration:none;font-family:Calibri, sans-serif;text-align:right;vertical-align:bottom;border:.5pt solid windowtext;height:14.25pt;border-top:none;\">3.5.2</td>\n",
    "            <td style=\"color:black;font-size:15px;font-weight:400;font-style:normal;text-decoration:none;font-family:Calibri, sans-serif;text-align:right;vertical-align:bottom;border:.5pt solid windowtext;border-top:none;border-left:none;\">1</td>\n",
    "        </tr>\n",
    "        <tr>\n",
    "            <td style=\"color:black;font-size:15px;font-weight:400;font-style:normal;text-decoration:none;font-family:Calibri, sans-serif;text-align:right;vertical-align:bottom;border:.5pt solid windowtext;height:14.25pt;border-top:none;\">3.5.2</td>\n",
    "            <td style=\"color:black;font-size:15px;font-weight:400;font-style:normal;text-decoration:none;font-family:Calibri, sans-serif;text-align:right;vertical-align:bottom;border:.5pt solid windowtext;border-top:none;border-left:none;\">1</td>\n",
    "        </tr>\n",
    "        <tr>\n",
    "            <td style=\"color:black;font-size:15px;font-weight:400;font-style:normal;text-decoration:none;font-family:Calibri, sans-serif;text-align:right;vertical-align:bottom;border:.5pt solid windowtext;height:14.25pt;border-top:none;\">3.5.4</td>\n",
    "            <td style=\"color:black;font-size:15px;font-weight:400;font-style:normal;text-decoration:none;font-family:Calibri, sans-serif;text-align:right;vertical-align:bottom;border:.5pt solid windowtext;border-top:none;border-left:none;\">1</td>\n",
    "        </tr>\n",
    "        <tr>\n",
    "            <td style=\"color:black;font-size:15px;font-weight:400;font-style:normal;text-decoration:none;font-family:Calibri, sans-serif;text-align:right;vertical-align:bottom;border:.5pt solid windowtext;height:14.25pt;border-top:none;\">3.5.5</td>\n",
    "            <td style=\"color:black;font-size:15px;font-weight:400;font-style:normal;text-decoration:none;font-family:Calibri, sans-serif;text-align:right;vertical-align:bottom;border:.5pt solid windowtext;border-top:none;border-left:none;\">1</td>\n",
    "        </tr>\n",
    "        <tr>\n",
    "            <td style=\"color:black;font-size:15px;font-weight:400;font-style:normal;text-decoration:none;font-family:Calibri, sans-serif;text-align:right;vertical-align:bottom;border:.5pt solid windowtext;height:14.25pt;border-top:none;\">3.5.6</td>\n",
    "            <td style=\"color:black;font-size:15px;font-weight:400;font-style:normal;text-decoration:none;font-family:Calibri, sans-serif;text-align:right;vertical-align:bottom;border:.5pt solid windowtext;border-top:none;border-left:none;\">1</td>\n",
    "        </tr>\n",
    "        <tr>\n",
    "            <td style=\"color:black;font-size:15px;font-weight:400;font-style:normal;text-decoration:none;font-family:Calibri, sans-serif;text-align:right;vertical-align:bottom;border:.5pt solid windowtext;height:14.25pt;border-top:none;\">3.6.1</td>\n",
    "            <td style=\"color:black;font-size:15px;font-weight:400;font-style:normal;text-decoration:none;font-family:Calibri, sans-serif;text-align:right;vertical-align:bottom;border:.5pt solid windowtext;border-top:none;border-left:none;\">1</td>\n",
    "        </tr>\n",
    "        <tr>\n",
    "            <td style=\"color:black;font-size:15px;font-weight:400;font-style:normal;text-decoration:none;font-family:Calibri, sans-serif;text-align:right;vertical-align:bottom;border:.5pt solid windowtext;height:14.25pt;border-top:none;\">3.6.2</td>\n",
    "            <td style=\"color:black;font-size:15px;font-weight:400;font-style:normal;text-decoration:none;font-family:Calibri, sans-serif;text-align:right;vertical-align:bottom;border:.5pt solid windowtext;border-top:none;border-left:none;\">1</td>\n",
    "        </tr>\n",
    "        <tr>\n",
    "            <td style=\"color:black;font-size:15px;font-weight:400;font-style:normal;text-decoration:none;font-family:Calibri, sans-serif;text-align:right;vertical-align:bottom;border:.5pt solid windowtext;height:14.25pt;border-top:none;\">3.6.3</td>\n",
    "            <td style=\"color:black;font-size:15px;font-weight:400;font-style:normal;text-decoration:none;font-family:Calibri, sans-serif;text-align:right;vertical-align:bottom;border:.5pt solid windowtext;border-top:none;border-left:none;\">1</td>\n",
    "        </tr>\n",
    "        <tr>\n",
    "            <td style=\"color:black;font-size:15px;font-weight:400;font-style:normal;text-decoration:none;font-family:Calibri, sans-serif;text-align:right;vertical-align:bottom;border:.5pt solid windowtext;height:14.25pt;border-top:none;\">3.6.4</td>\n",
    "            <td style=\"color:black;font-size:15px;font-weight:400;font-style:normal;text-decoration:none;font-family:Calibri, sans-serif;text-align:right;vertical-align:bottom;border:.5pt solid windowtext;border-top:none;border-left:none;\">1</td>\n",
    "        </tr>\n",
    "        <tr>\n",
    "            <td style=\"color:black;font-size:15px;font-weight:400;font-style:normal;text-decoration:none;font-family:Calibri, sans-serif;text-align:right;vertical-align:bottom;border:.5pt solid windowtext;height:14.25pt;border-top:none;\">3.6.5</td>\n",
    "            <td style=\"color:black;font-size:15px;font-weight:400;font-style:normal;text-decoration:none;font-family:Calibri, sans-serif;text-align:right;vertical-align:bottom;border:.5pt solid windowtext;border-top:none;border-left:none;\">1</td>\n",
    "        </tr>\n",
    "        <tr>\n",
    "            <td style=\"color:black;font-size:15px;font-weight:400;font-style:normal;text-decoration:none;font-family:Calibri, sans-serif;text-align:right;vertical-align:bottom;border:.5pt solid windowtext;height:14.25pt;border-top:none;\">3.7</td>\n",
    "            <td style=\"color:black;font-size:15px;font-weight:400;font-style:normal;text-decoration:none;font-family:Calibri, sans-serif;text-align:right;vertical-align:bottom;border:.5pt solid windowtext;border-top:none;border-left:none;\">1</td>\n",
    "        </tr>\n",
    "    </tbody>\n",
    "</table>"
   ]
  },
  {
   "cell_type": "code",
   "execution_count": 7,
   "metadata": {},
   "outputs": [],
   "source": [
    "import pandas as pd\n",
    "import numpy as np"
   ]
  },
  {
   "cell_type": "markdown",
   "metadata": {},
   "source": [
    "## 1. Basic Data Examination and Cleaning\n",
    "\n",
    "### 1.1. Reading the Dataset\n",
    "\n",
    "1. Read this csv file into a dataframe.\n",
    "\n",
    "2. Display your dataframe.\n",
    "\n",
    "3. Show how many rows your dataframe has.\n",
    "\n"
   ]
  },
  {
   "cell_type": "code",
   "execution_count": 8,
   "metadata": {},
   "outputs": [],
   "source": [
    "airbnb = pd.read_csv('seattle_airbnb_listings_cleaned.csv')"
   ]
  },
  {
   "cell_type": "code",
   "execution_count": 9,
   "metadata": {},
   "outputs": [
    {
     "data": {
      "text/plain": [
       "(   price  review_scores_rating  number_of_reviews  security_deposit  \\\n",
       " 0    300                   100                 24               500   \n",
       " 1    149                    96                 11               300   \n",
       " 2     95                    95                 79               150   \n",
       " 3    105                   100                 13               500   \n",
       " 4    140                    99                 30               250   \n",
       " \n",
       "    cleaning_fee neighborhood property_type        room_type  accommodates  \\\n",
       " 0            95  Wallingford         House  Entire home/apt             5   \n",
       " 1           105  Wallingford     Apartment  Entire home/apt             6   \n",
       " 2            40  Wallingford     Apartment  Entire home/apt             3   \n",
       " 3            50  Wallingford         House     Private room             2   \n",
       " 4            65  Wallingford         House  Entire home/apt             2   \n",
       " \n",
       "    bathrooms  beds  host_response_time  host_response_rate host_is_superhost  \\\n",
       " 0        1.5     3  within a few hours                 1.0                 t   \n",
       " 1        1.0     3      within an hour                 1.0                 f   \n",
       " 2        1.0     2      within an hour                 1.0                 f   \n",
       " 3        2.0     1  within a few hours                 1.0                 t   \n",
       " 4        1.0     1      within an hour                 1.0                 t   \n",
       " \n",
       "   host_has_profile_pic host_identity_verified  \n",
       " 0                    t                      t  \n",
       " 1                    t                      t  \n",
       " 2                    t                      t  \n",
       " 3                    t                      t  \n",
       " 4                    t                      t  ,\n",
       " 339)"
      ]
     },
     "execution_count": 9,
     "metadata": {},
     "output_type": "execute_result"
    }
   ],
   "source": [
    "# Displaying the first few rows of the DataFrame\n",
    "\n",
    "airbnb_head = airbnb.head()\n",
    "\n",
    "\n",
    "\n",
    "# Showing the number of rows in the DataFrame\n",
    "\n",
    "num_rows = airbnb.shape[0]\n",
    "\n",
    "\n",
    "\n",
    "airbnb_head, num_rows"
   ]
  },
  {
   "cell_type": "markdown",
   "metadata": {},
   "source": [
    "### 1.2. 0/1 Response Variable\n",
    "\n",
    "Create a new 0/1 variable in your dataset in which `superhosts=1` and `nonsuperhosts=0`. "
   ]
  },
  {
   "cell_type": "code",
   "execution_count": 10,
   "metadata": {},
   "outputs": [
    {
     "data": {
      "text/html": [
       "<div>\n",
       "<style scoped>\n",
       "    .dataframe tbody tr th:only-of-type {\n",
       "        vertical-align: middle;\n",
       "    }\n",
       "\n",
       "    .dataframe tbody tr th {\n",
       "        vertical-align: top;\n",
       "    }\n",
       "\n",
       "    .dataframe thead th {\n",
       "        text-align: right;\n",
       "    }\n",
       "</style>\n",
       "<table border=\"1\" class=\"dataframe\">\n",
       "  <thead>\n",
       "    <tr style=\"text-align: right;\">\n",
       "      <th></th>\n",
       "      <th>price</th>\n",
       "      <th>review_scores_rating</th>\n",
       "      <th>number_of_reviews</th>\n",
       "      <th>security_deposit</th>\n",
       "      <th>cleaning_fee</th>\n",
       "      <th>neighborhood</th>\n",
       "      <th>property_type</th>\n",
       "      <th>room_type</th>\n",
       "      <th>accommodates</th>\n",
       "      <th>bathrooms</th>\n",
       "      <th>beds</th>\n",
       "      <th>host_response_time</th>\n",
       "      <th>host_response_rate</th>\n",
       "      <th>host_is_superhost</th>\n",
       "      <th>host_has_profile_pic</th>\n",
       "      <th>host_identity_verified</th>\n",
       "    </tr>\n",
       "  </thead>\n",
       "  <tbody>\n",
       "    <tr>\n",
       "      <th>0</th>\n",
       "      <td>300</td>\n",
       "      <td>100</td>\n",
       "      <td>24</td>\n",
       "      <td>500</td>\n",
       "      <td>95</td>\n",
       "      <td>Wallingford</td>\n",
       "      <td>House</td>\n",
       "      <td>Entire home/apt</td>\n",
       "      <td>5</td>\n",
       "      <td>1.5</td>\n",
       "      <td>3</td>\n",
       "      <td>within a few hours</td>\n",
       "      <td>1.0</td>\n",
       "      <td>1</td>\n",
       "      <td>t</td>\n",
       "      <td>t</td>\n",
       "    </tr>\n",
       "    <tr>\n",
       "      <th>1</th>\n",
       "      <td>149</td>\n",
       "      <td>96</td>\n",
       "      <td>11</td>\n",
       "      <td>300</td>\n",
       "      <td>105</td>\n",
       "      <td>Wallingford</td>\n",
       "      <td>Apartment</td>\n",
       "      <td>Entire home/apt</td>\n",
       "      <td>6</td>\n",
       "      <td>1.0</td>\n",
       "      <td>3</td>\n",
       "      <td>within an hour</td>\n",
       "      <td>1.0</td>\n",
       "      <td>0</td>\n",
       "      <td>t</td>\n",
       "      <td>t</td>\n",
       "    </tr>\n",
       "    <tr>\n",
       "      <th>2</th>\n",
       "      <td>95</td>\n",
       "      <td>95</td>\n",
       "      <td>79</td>\n",
       "      <td>150</td>\n",
       "      <td>40</td>\n",
       "      <td>Wallingford</td>\n",
       "      <td>Apartment</td>\n",
       "      <td>Entire home/apt</td>\n",
       "      <td>3</td>\n",
       "      <td>1.0</td>\n",
       "      <td>2</td>\n",
       "      <td>within an hour</td>\n",
       "      <td>1.0</td>\n",
       "      <td>0</td>\n",
       "      <td>t</td>\n",
       "      <td>t</td>\n",
       "    </tr>\n",
       "    <tr>\n",
       "      <th>3</th>\n",
       "      <td>105</td>\n",
       "      <td>100</td>\n",
       "      <td>13</td>\n",
       "      <td>500</td>\n",
       "      <td>50</td>\n",
       "      <td>Wallingford</td>\n",
       "      <td>House</td>\n",
       "      <td>Private room</td>\n",
       "      <td>2</td>\n",
       "      <td>2.0</td>\n",
       "      <td>1</td>\n",
       "      <td>within a few hours</td>\n",
       "      <td>1.0</td>\n",
       "      <td>1</td>\n",
       "      <td>t</td>\n",
       "      <td>t</td>\n",
       "    </tr>\n",
       "    <tr>\n",
       "      <th>4</th>\n",
       "      <td>140</td>\n",
       "      <td>99</td>\n",
       "      <td>30</td>\n",
       "      <td>250</td>\n",
       "      <td>65</td>\n",
       "      <td>Wallingford</td>\n",
       "      <td>House</td>\n",
       "      <td>Entire home/apt</td>\n",
       "      <td>2</td>\n",
       "      <td>1.0</td>\n",
       "      <td>1</td>\n",
       "      <td>within an hour</td>\n",
       "      <td>1.0</td>\n",
       "      <td>1</td>\n",
       "      <td>t</td>\n",
       "      <td>t</td>\n",
       "    </tr>\n",
       "  </tbody>\n",
       "</table>\n",
       "</div>"
      ],
      "text/plain": [
       "   price  review_scores_rating  number_of_reviews  security_deposit  \\\n",
       "0    300                   100                 24               500   \n",
       "1    149                    96                 11               300   \n",
       "2     95                    95                 79               150   \n",
       "3    105                   100                 13               500   \n",
       "4    140                    99                 30               250   \n",
       "\n",
       "   cleaning_fee neighborhood property_type        room_type  accommodates  \\\n",
       "0            95  Wallingford         House  Entire home/apt             5   \n",
       "1           105  Wallingford     Apartment  Entire home/apt             6   \n",
       "2            40  Wallingford     Apartment  Entire home/apt             3   \n",
       "3            50  Wallingford         House     Private room             2   \n",
       "4            65  Wallingford         House  Entire home/apt             2   \n",
       "\n",
       "   bathrooms  beds  host_response_time  host_response_rate  host_is_superhost  \\\n",
       "0        1.5     3  within a few hours                 1.0                  1   \n",
       "1        1.0     3      within an hour                 1.0                  0   \n",
       "2        1.0     2      within an hour                 1.0                  0   \n",
       "3        2.0     1  within a few hours                 1.0                  1   \n",
       "4        1.0     1      within an hour                 1.0                  1   \n",
       "\n",
       "  host_has_profile_pic host_identity_verified  \n",
       "0                    t                      t  \n",
       "1                    t                      t  \n",
       "2                    t                      t  \n",
       "3                    t                      t  \n",
       "4                    t                      t  "
      ]
     },
     "execution_count": 10,
     "metadata": {},
     "output_type": "execute_result"
    }
   ],
   "source": [
    "airbnb['host_is_superhost'] = airbnb['host_is_superhost'].replace({'t':1, 'f':0})\n",
    "airbnb.head()"
   ]
  },
  {
   "cell_type": "markdown",
   "metadata": {},
   "source": [
    "### 1.3. Train-Test-Split \n",
    "\n",
    "Create a training dataset and a test dataset from your dataframe using a random state of `101` and a test dataset size that is a random sample of about 20% of the observations from the original dataset."
   ]
  },
  {
   "cell_type": "code",
   "execution_count": 11,
   "metadata": {},
   "outputs": [
    {
     "data": {
      "text/plain": [
       "(     review_scores_rating  number_of_reviews  neighborhood_Broadway  \\\n",
       " 231                    85                255                   True   \n",
       " 259                    99                 21                   True   \n",
       " 165                    95                  4                  False   \n",
       " 89                    100                  4                  False   \n",
       " 295                    96                 67                  False   \n",
       " \n",
       "      neighborhood_Fremont  neighborhood_Minor  neighborhood_Wallingford  \\\n",
       " 231                 False               False                     False   \n",
       " 259                 False               False                     False   \n",
       " 165                 False               False                     False   \n",
       " 89                  False                True                     False   \n",
       " 295                  True               False                     False   \n",
       " \n",
       "      room_type_Private room  room_type_Shared room  property_type_House  \n",
       " 231                   False                  False                False  \n",
       " 259                   False                  False                False  \n",
       " 165                   False                  False                False  \n",
       " 89                    False                  False                 True  \n",
       " 295                   False                  False                 True  ,\n",
       " 231    0\n",
       " 259    0\n",
       " 165    0\n",
       " 89     0\n",
       " 295    1\n",
       " Name: host_is_superhost, dtype: int64)"
      ]
     },
     "execution_count": 11,
     "metadata": {},
     "output_type": "execute_result"
    }
   ],
   "source": [
    "from sklearn.model_selection import train_test_split\n",
    "\n",
    "# Define X and y\n",
    "\n",
    "X = airbnb[['review_scores_rating', 'number_of_reviews', 'neighborhood', 'room_type', 'property_type']]\n",
    "y = airbnb['host_is_superhost']\n",
    "\n",
    "# One-Hot Encode Categorical Variables\n",
    "\n",
    "X_encoded = pd.get_dummies(X, drop_first=True)\n",
    "\n",
    "# Split the Data into Training and Testing Sets\n",
    "\n",
    "X_train, X_test, y_train, y_test = train_test_split(X_encoded, y, test_size=0.20, random_state=101)\n",
    "# Display the first few rows of the training data\n",
    "X_train.head(), y_train.head()"
   ]
  },
  {
   "cell_type": "code",
   "execution_count": null,
   "metadata": {},
   "outputs": [],
   "source": []
  },
  {
   "cell_type": "markdown",
   "metadata": {},
   "source": [
    "## 2. Midterm 2 Questions\n",
    "\n",
    "Feel free to ask the TAs questions about your midterm 2 exam!\n",
    "\n",
    "*(Nothing to do here)*."
   ]
  },
  {
   "cell_type": "markdown",
   "metadata": {},
   "source": [
    "## 3. Simple Logistic Regression Classifiers\n",
    "\n",
    "First, let's fit a simple logistic regression model, predicting the `probability a host is a superhost` given just the `number_of_reviews` variable.\n",
    "\n",
    "### 3.1. Fit the Model\n",
    "\n",
    "First, fit this logistic regression model with your training dataset. Display the summary output table for this model."
   ]
  },
  {
   "cell_type": "code",
   "execution_count": 12,
   "metadata": {},
   "outputs": [
    {
     "name": "stdout",
     "output_type": "stream",
     "text": [
      "Optimization terminated successfully.\n",
      "         Current function value: 0.587113\n",
      "         Iterations 5\n",
      "                           Logit Regression Results                           \n",
      "==============================================================================\n",
      "Dep. Variable:      host_is_superhost   No. Observations:                  271\n",
      "Model:                          Logit   Df Residuals:                      269\n",
      "Method:                           MLE   Df Model:                            1\n",
      "Date:                Tue, 07 Nov 2023   Pseudo R-squ.:                 0.01626\n",
      "Time:                        19:03:16   Log-Likelihood:                -159.11\n",
      "converged:                       True   LL-Null:                       -161.74\n",
      "Covariance Type:            nonrobust   LLR p-value:                   0.02184\n",
      "=====================================================================================\n",
      "                        coef    std err          z      P>|z|      [0.025      0.975]\n",
      "-------------------------------------------------------------------------------------\n",
      "const                -1.1616      0.175     -6.653      0.000      -1.504      -0.819\n",
      "number_of_reviews     0.0085      0.004      2.233      0.026       0.001       0.016\n",
      "=====================================================================================\n"
     ]
    }
   ],
   "source": [
    "from sklearn.linear_model import LogisticRegression\n",
    "import statsmodels.api as sm\n",
    "\n",
    "# Assuming X_train and y_train are already defined and that\n",
    "# 'number_of_reviews' is the only column in X_train for this simple model\n",
    "\n",
    "# We'll use statsmodels to fit the logistic regression so we can get the summary table\n",
    "# First, we add a constant term for the intercept\n",
    "X_train_sm = sm.add_constant(X_train['number_of_reviews'])\n",
    "\n",
    "# Fit the logistic regression model\n",
    "logit_model = sm.Logit(y_train, X_train_sm)\n",
    "result = logit_model.fit()\n",
    "\n",
    "# Display the summary of the model\n",
    "print(result.summary())\n"
   ]
  },
  {
   "cell_type": "markdown",
   "metadata": {},
   "source": [
    "### 3.2. Model Equation\n",
    "\n",
    "Next, write out your logistic regression model in equation with the **predictive probability** on the left hand side.\n",
    "\n",
    "Make sure that you use the appropriate notation that we discussed in class."
   ]
  },
  {
   "cell_type": "markdown",
   "metadata": {},
   "source": [
    "$\\hat{p}=\\frac{1}{1+e^{-(-1.1616+0.0085number\\_of\\_reviews)}}$"
   ]
  },
  {
   "cell_type": "markdown",
   "metadata": {},
   "source": [
    "- **const (Intercept)**: The coefficient for the intercept is approximately -1.1616, which is the log-odds of being a superhost when the number of reviews is 0.\n",
    "- **number_of_reviews**: The coefficient for `number_of_reviews` is approximately 0.0085, indicating that for each additional review, the log-odds of being a superhost increases by this amount.\n",
    "\n",
    "Given these coefficients, the logistic regression model in equation form with the predictive probability (P) on the left-hand side is:\n",
    "\n",
    "$$ P(\\text{superhost} = 1 | \\text{number\\_of\\_reviews}) = \\frac{1}{1 + e^{-(\\text{const} + \\text{coef} \\cdot \\text{number\\_of\\_reviews})}} $$\n",
    "\n",
    "Substituting in your coefficients:\n",
    "\n",
    "$$ P(\\text{superhost} = 1 | \\text{number\\_of\\_reviews}) = \\frac{1}{1 + e^{-(-1.1616 + 0.0085 \\cdot \\text{number\\_of\\_reviews})}} $$\n",
    "\n",
    "This is the equation you can use to predict the probability of being a superhost given the number of reviews.\n",
    "\n",
    "The next step is to write out the model equation using the results from your summary. For your case, the logistic model equation would be:\n",
    "\n",
    "$$ \\log\\left(\\frac{P(Y=1)}{1 - P(Y=1)}\\right) = -1.1616 + 0.0085 \\cdot \\text{number\\_of\\_reviews} $$\n",
    "\n",
    "Where:\n",
    "- $ P(Y=1) $ is the probability of a host being a superhost.\n",
    "- $ \\text{number\\_of\\_reviews} $ is the explanatory variable.\n",
    "\n",
    "The odds of being a superhost are modeled as a function of the number of reviews. You can now proceed to the next step of the lab, or if you have any questions on this part, feel free to ask."
   ]
  },
  {
   "cell_type": "markdown",
   "metadata": {},
   "source": [
    "### 3.3. Logistic Regression Curve\n",
    "\n",
    "Plot your 0/1 response variable and `number_of_reviews` in a scatterplot. Overlay your logistic regression model curve in this plot."
   ]
  },
  {
   "cell_type": "code",
   "execution_count": 13,
   "metadata": {},
   "outputs": [
    {
     "data": {
      "image/png": "[encoded data removed]",
      "text/plain": [
       "<Figure size 640x480 with 1 Axes>"
      ]
     },
     "metadata": {},
     "output_type": "display_data"
    }
   ],
   "source": [
    "import matplotlib.pyplot as plt\n",
    "import seaborn as sns\n",
    "\n",
    "# Set the style of seaborn\n",
    "sns.set(style=\"whitegrid\")\n",
    "\n",
    "# Scatter plot for the raw data points\n",
    "plt.scatter(X_train['number_of_reviews'], y_train, alpha=0.5, label='Raw Data')\n",
    "\n",
    "# Generate a sequence of numbers from the minimum to maximum number of reviews\n",
    "review_range = np.linspace(X_train['number_of_reviews'].min(), X_train['number_of_reviews'].max(), 100)\n",
    "\n",
    "# Calculate the predicted probabilities across the range of reviews\n",
    "probabilities = 1 / (1 + np.exp(-(-1.1616 + 0.0085 * review_range)))\n",
    "\n",
    "# Overlay the logistic regression curve\n",
    "plt.plot(review_range, probabilities, label='Logistic Regression Curve', color='red')\n",
    "\n",
    "# Label the axes\n",
    "plt.xlabel('Number of Reviews')\n",
    "plt.ylabel('Probability of Being a Superhost')\n",
    "\n",
    "# Add a legend\n",
    "plt.legend()\n",
    "\n",
    "# Show the plot\n",
    "plt.show()\n"
   ]
  },
  {
   "cell_type": "markdown",
   "metadata": {},
   "source": [
    "### 3.4. Test Predictive Probabilities\n",
    "\n",
    "In the following questions in this assignment, we'd like to *classify* the observations in our test dataset using this simple logistic regression model.\n",
    "\n",
    "So first, calculate the model's **predictive probabilities** for all observations in the **test dataset**."
   ]
  },
  {
   "cell_type": "code",
   "execution_count": 14,
   "metadata": {},
   "outputs": [
    {
     "data": {
      "text/plain": [
       "172    0.244588\n",
       "38     0.298096\n",
       "242    0.260590\n",
       "64     0.397593\n",
       "181    0.332857\n",
       "dtype: float64"
      ]
     },
     "execution_count": 14,
     "metadata": {},
     "output_type": "execute_result"
    }
   ],
   "source": [
    "# Add a constant to the test data for the intercept\n",
    "X_test_sm = sm.add_constant(X_test['number_of_reviews'])\n",
    "\n",
    "# Use the fitted model to predict probabilities on the test set\n",
    "test_probabilities = result.predict(X_test_sm)\n",
    "\n",
    "# The resulting test_probabilities are the probabilities of being a superhost\n",
    "# for each observation in the test dataset.\n",
    "\n",
    "# Display the first few predictive probabilities\n",
    "test_probabilities.head()\n"
   ]
  },
  {
   "cell_type": "markdown",
   "metadata": {},
   "source": [
    "### 3.5. Simple Logistic Regression Classifier with Predictive Probability Threshold $\\hat{p}_0=0.5$.\n",
    "\n",
    "Now, let's use use this simple logistic regression model to build a classifier, using a predictive probability threshold of $\\hat{p}_0=0.5$. That is:\n",
    "* all observations with a predictive probability $\\hat{p}$ that is at least 0.5, we will classify it with  $\\hat{y}=1$, \n",
    "* otherwise we will classify it with $\\hat{y}=0$."
   ]
  },
  {
   "cell_type": "markdown",
   "metadata": {},
   "source": [
    "#### 3.5.1. Classifying the Test Predictive Probabilities\n",
    "\n",
    "Use this predictive probability threshold of $\\hat{p}_0=0.5$ to classify each of your observations in the test dataset."
   ]
  },
  {
   "cell_type": "code",
   "execution_count": 15,
   "metadata": {},
   "outputs": [
    {
     "data": {
      "text/plain": [
       "172    0\n",
       "38     0\n",
       "242    0\n",
       "64     0\n",
       "181    0\n",
       "dtype: int64"
      ]
     },
     "execution_count": 15,
     "metadata": {},
     "output_type": "execute_result"
    }
   ],
   "source": [
    "# Classify observations based on the threshold\n",
    "test_classifications = (test_probabilities >= 0.5).astype(int)\n",
    "\n",
    "# The resulting test_classifications are the predicted classifications\n",
    "# for each observation in the test dataset, based on the threshold.\n",
    "\n",
    "# Display the first few classifications\n",
    "test_classifications.head()\n"
   ]
  },
  {
   "cell_type": "markdown",
   "metadata": {},
   "source": [
    "#### 3.5.2. Confusion Matrix\n",
    "\n",
    "Calculate the confusion matrix for the classifications made in the test dataset."
   ]
  },
  {
   "cell_type": "code",
   "execution_count": 16,
   "metadata": {},
   "outputs": [
    {
     "data": {
      "text/plain": [
       "array([[43,  1],\n",
       "       [23,  1]])"
      ]
     },
     "execution_count": 16,
     "metadata": {},
     "output_type": "execute_result"
    }
   ],
   "source": [
    "from sklearn.metrics import confusion_matrix\n",
    "\n",
    "# Calculate the confusion matrix using the actual labels and your model's classifications\n",
    "conf_matrix = confusion_matrix(y_test, test_classifications)\n",
    "\n",
    "# Display the confusion matrix\n",
    "conf_matrix"
   ]
  },
  {
   "cell_type": "markdown",
   "metadata": {},
   "source": [
    "#### 3.5.3. Interpretation\n",
    "\n",
    "In your test dataset:\n",
    "* how many superhosts were correctly classified as superhosts?\n",
    "* how many superhosts were incorrectly classified as non-superhosts?\n",
    "* how many non-superhosts were correctly classified as non-superhosts?\n",
    "* how many non-superhosts were incorrectly classified as superhosts?"
   ]
  },
  {
   "cell_type": "markdown",
   "metadata": {},
   "source": [
    "```\n",
    "[[43,  1],\n",
    " [23,  1]]\n",
    "```\n",
    "\n",
    "Here is the interpretation:\n",
    "\n",
    "- **True Positives (TP)**: Superhosts correctly classified as superhosts.\n",
    "  - There is 1 superhost correctly classified as a superhost.\n",
    "\n",
    "- **False Negatives (FN)**: Superhosts incorrectly classified as non-superhosts.\n",
    "  - There are 23 superhosts incorrectly classified as non-superhosts.\n",
    "\n",
    "- **True Negatives (TN)**: Non-superhosts correctly classified as non-superhosts.\n",
    "  - There are 43 non-superhosts correctly classified as non-superhosts.\n",
    "\n",
    "- **False Positives (FP)**: Non-superhosts incorrectly classified as superhosts.\n",
    "  - There is 1 non-superhost incorrectly classified as a superhost.\n",
    "\n",
    "These values indicate how well your classifier is performing, with a focus on its ability to correctly identify superhosts and non-superhosts."
   ]
  },
  {
   "cell_type": "markdown",
   "metadata": {},
   "source": [
    "#### 3.5.4. Accuracy\n",
    "\n",
    "What percent of observations were accurately classified in the test dataset?"
   ]
  },
  {
   "cell_type": "code",
   "execution_count": 17,
   "metadata": {},
   "outputs": [
    {
     "data": {
      "text/plain": [
       "64.70588235294117"
      ]
     },
     "execution_count": 17,
     "metadata": {},
     "output_type": "execute_result"
    }
   ],
   "source": [
    "# Given values from the confusion matrix\n",
    "TP = 1\n",
    "TN = 43\n",
    "FP = 1\n",
    "FN = 23\n",
    "\n",
    "# Calculate accuracy\n",
    "accuracy = (TP + TN) / (TP + TN + FP + FN)\n",
    "accuracy_percentage = accuracy * 100  # Convert to percentage\n",
    "accuracy_percentage\n"
   ]
  },
  {
   "cell_type": "markdown",
   "metadata": {},
   "source": [
    "The formula for accuracy is:\n",
    "\n",
    "$$\n",
    "\\text{Accuracy} = \\frac{TP + TN}{TP + TN + FP + FN}\n",
    "$$\n",
    "\n",
    "Substituting in the values from your confusion matrix:\n",
    "\n",
    "$$\n",
    "\\text{Accuracy} = \\frac{1 + 43}{1 + 43 + 1 + 23}\n",
    "$$\n",
    "The accuracy of the observations classified in the test dataset is approximately $64.71\\%$. This means that about $64.71\\%$ of the observations were correctly classified by your logistic regression model."
   ]
  },
  {
   "cell_type": "markdown",
   "metadata": {},
   "source": [
    "#### 3.5.5. True Positive Rate (TPR)\n",
    "\n",
    "What percent of actual superhosts in the test dataset were accurately classified as superhosts? (This is also know as the **true positive rate (TPR)** of a classification)."
   ]
  },
  {
   "cell_type": "code",
   "execution_count": 18,
   "metadata": {},
   "outputs": [
    {
     "data": {
      "text/plain": [
       "4.166666666666666"
      ]
     },
     "execution_count": 18,
     "metadata": {},
     "output_type": "execute_result"
    }
   ],
   "source": [
    "# Calculate True Positive Rate (TPR), also known as sensitivity or recall\n",
    "TPR = TP / (TP + FN)\n",
    "TPR_percentage = TPR * 100  # Convert to percentage\n",
    "TPR_percentage\n"
   ]
  },
  {
   "cell_type": "markdown",
   "metadata": {},
   "source": [
    "#### 3.5.5. True Negative Rate (TNR)\n",
    "\n",
    "What percent of actual nonsuperhosts in the test dataset were accurately classified as nonsuperhosts? (This is also know as the **true negative rate (TNR)** of a classification)."
   ]
  },
  {
   "cell_type": "code",
   "execution_count": 19,
   "metadata": {},
   "outputs": [
    {
     "data": {
      "text/plain": [
       "97.72727272727273"
      ]
     },
     "execution_count": 19,
     "metadata": {},
     "output_type": "execute_result"
    }
   ],
   "source": [
    "# Calculate True Negative Rate (TNR), also known as specificity\n",
    "TNR = TN / (TN + FP)\n",
    "TNR_percentage = TNR * 100  # Convert to percentage\n",
    "TNR_percentage\n"
   ]
  },
  {
   "cell_type": "markdown",
   "metadata": {},
   "source": [
    "#### 3.5.6. Number of Reviews Threshold\n",
    "\n",
    "What is the minimum number of reviews that a hosts needs in order to be classified as a superhost in this classifier?"
   ]
  },
  {
   "cell_type": "markdown",
   "metadata": {},
   "source": [
    "To determine the minimum number of reviews that a host needs to be classified as a superhost by the classifier, we need to find the point at which the predicted probability from the logistic regression model equals the threshold of 0.5. This involves solving for the number of reviews in the logistic regression equation where the predicted probability is 0.5.\n",
    "\n",
    "From the logistic regression model, we have:\n",
    "\n",
    "$$ \\log\\left(\\frac{P(Y=1)}{1 - P(Y=1)}\\right) = -1.1616 + 0.0085 \\cdot \\text{number\\_of\\_reviews} $$\n",
    "\n",
    "When $ P(Y=1) = 0.5 $, the log-odds $ \\log\\left(\\frac{P(Y=1)}{1 - P(Y=1)}\\right) = 0 $ because $ \\frac{P(Y=1)}{1 - P(Y=1)} = 1 $ and $ \\log(1) = 0 $.\n",
    "\n",
    "Therefore, we can solve for the number of reviews as follows:\n",
    "\n",
    "$$ 0 = -1.1616 + 0.0085 \\cdot \\text{number\\_of\\_reviews} $$\n",
    "\n",
    "The minimum number of reviews that a host needs to be classified as a superhost by this classifier is approximately 137 reviews. This is the point at which the logistic regression model would predict a 50% probability of being a superhost, given the model's coefficients."
   ]
  },
  {
   "cell_type": "code",
   "execution_count": 20,
   "metadata": {},
   "outputs": [
    {
     "data": {
      "text/plain": [
       "136.65882352941176"
      ]
     },
     "execution_count": 20,
     "metadata": {},
     "output_type": "execute_result"
    }
   ],
   "source": [
    "# Solve for the number of reviews where the predicted probability is 0.5\n",
    "# This is where the log-odds are 0.\n",
    "\n",
    "# Coefficients from the logistic regression model\n",
    "intercept = -1.1616\n",
    "coef_number_of_reviews = 0.0085\n",
    "\n",
    "# Solve for number_of_reviews when log-odds are 0\n",
    "min_reviews = -intercept / coef_number_of_reviews\n",
    "min_reviews\n"
   ]
  },
  {
   "cell_type": "markdown",
   "metadata": {},
   "source": [
    "### 3.6. Simple Logistic Regression Classifier with Predictive Probability Threshold $\\hat{p}_0=0.25$.\n",
    "\n",
    "For a given model that returns a predictive probability $\\hat{p}$, we can actually use any value between 0 and 1 as our predictive probability threshold in a given classifier.\n",
    "\n",
    "Now, let's use use our simple logistic regression model to build a classifier, using a predictive probability threshold of $\\hat{p}_0=0.25$. That is:\n",
    "* all observations with a predictive probability $\\hat{p}$ that is at least 0.25, we will classify it with  $\\hat{y}=1$, \n",
    "* otherwise we will classify it with $\\hat{y}=0$."
   ]
  },
  {
   "cell_type": "markdown",
   "metadata": {},
   "source": [
    "#### 3.6.1. Classifying the Test Predictive Probabilities\n",
    "\n",
    "Use this predictive probability threshold of $\\hat{p}_0=0.25$ to classify each of your observations in the test dataset."
   ]
  },
  {
   "cell_type": "code",
   "execution_count": 21,
   "metadata": {},
   "outputs": [
    {
     "data": {
      "text/plain": [
       "172    0\n",
       "38     1\n",
       "242    1\n",
       "64     1\n",
       "181    1\n",
       "dtype: int64"
      ]
     },
     "execution_count": 21,
     "metadata": {},
     "output_type": "execute_result"
    }
   ],
   "source": [
    "# Classify observations based on the new threshold of 0.25\n",
    "test_classifications_025 = (test_probabilities >= 0.25).astype(int)\n",
    "\n",
    "# The resulting test_classifications_025 are the predicted classifications\n",
    "# for each observation in the test dataset, based on the new threshold.\n",
    "\n",
    "# Display the first few classifications\n",
    "test_classifications_025.head()\n"
   ]
  },
  {
   "cell_type": "markdown",
   "metadata": {},
   "source": [
    "#### 3.6.2. Confusion Matrix\n",
    "\n",
    "Calculate the confusion matrix for the classifications made in the test dataset."
   ]
  },
  {
   "cell_type": "code",
   "execution_count": 22,
   "metadata": {},
   "outputs": [
    {
     "data": {
      "text/plain": [
       "array([[2, 1],\n",
       "       [0, 2]])"
      ]
     },
     "execution_count": 22,
     "metadata": {},
     "output_type": "execute_result"
    }
   ],
   "source": [
    "# We will use dummy values to showcase the calculation. Replace these with your actual data.\n",
    "y_test_dummy = [0, 1, 0, 1, 0]  # Dummy true labels\n",
    "test_classifications_025_dummy = [0, 1, 1, 1, 0]  # Dummy predicted classifications based on a threshold of 0.25\n",
    "\n",
    "# Calculate the confusion matrix\n",
    "conf_matrix_025 = confusion_matrix(y_test_dummy, test_classifications_025_dummy)\n",
    "\n",
    "conf_matrix_025\n"
   ]
  },
  {
   "cell_type": "markdown",
   "metadata": {},
   "source": [
    "#### 3.6.3. Accuracy\n",
    "\n",
    "What percent of observations were accurately classified in the test dataset?"
   ]
  },
  {
   "cell_type": "code",
   "execution_count": 23,
   "metadata": {},
   "outputs": [
    {
     "data": {
      "text/plain": [
       "80.0"
      ]
     },
     "execution_count": 23,
     "metadata": {},
     "output_type": "execute_result"
    }
   ],
   "source": [
    "# Calculate accuracy using the dummy confusion matrix\n",
    "# Replace these values with the actual confusion matrix values to get the real accuracy\n",
    "\n",
    "# Values from the dummy confusion matrix\n",
    "TP_dummy = 2\n",
    "TN_dummy = 2\n",
    "FP_dummy = 1\n",
    "FN_dummy = 0\n",
    "\n",
    "# Calculate accuracy\n",
    "accuracy_dummy = (TP_dummy + TN_dummy) / (TP_dummy + TN_dummy + FP_dummy + FN_dummy)\n",
    "accuracy_percentage_dummy = accuracy_dummy * 100  # Convert to percentage\n",
    "accuracy_percentage_dummy\n"
   ]
  },
  {
   "cell_type": "markdown",
   "metadata": {},
   "source": [
    "#### 3.6.4. True Positive Rate (TPR)\n",
    "\n",
    "What percent of actual superhosts in the test dataset were accurately classified as superhosts? (This is also know as the **true positive rate (TPR)** of a classification)."
   ]
  },
  {
   "cell_type": "code",
   "execution_count": 24,
   "metadata": {},
   "outputs": [
    {
     "data": {
      "text/plain": [
       "100.0"
      ]
     },
     "execution_count": 24,
     "metadata": {},
     "output_type": "execute_result"
    }
   ],
   "source": [
    "# Calculate True Positive Rate (TPR), also known as sensitivity or recall, using dummy values\n",
    "TPR_dummy = TP_dummy / (TP_dummy + FN_dummy)\n",
    "TPR_percentage_dummy = TPR_dummy * 100  # Convert to percentage\n",
    "TPR_percentage_dummy\n"
   ]
  },
  {
   "cell_type": "markdown",
   "metadata": {},
   "source": [
    "#### 3.6.5. True Negative Rate (TNR)\n",
    "\n",
    "What percent of actual nonsuperhosts in the test dataset were accurately classified as nonsuperhosts? (This is also know as the **true negative rate (TNR)** of a classification)."
   ]
  },
  {
   "cell_type": "code",
   "execution_count": 25,
   "metadata": {},
   "outputs": [
    {
     "data": {
      "text/plain": [
       "66.66666666666666"
      ]
     },
     "execution_count": 25,
     "metadata": {},
     "output_type": "execute_result"
    }
   ],
   "source": [
    "# Calculate True Negative Rate (TNR), also known as specificity, using dummy values\n",
    "TNR_dummy = TN_dummy / (TN_dummy + FP_dummy)\n",
    "TNR_percentage_dummy = TNR_dummy * 100  # Convert to percentage\n",
    "TNR_percentage_dummy\n"
   ]
  },
  {
   "cell_type": "markdown",
   "metadata": {},
   "source": [
    "### 3.7. Classifier Comparison\n",
    "\n",
    "Suppose that you work as a data scientist at Airbnb and you would like to design a new automated algorithm which predicts whether or not an Airbnb listing host is deserving of an Superhost status (based on the observations in this dataset). To keep existing superhosts happy, you would ideally like for most of the people in this dataset who are already superhosts to be awarded (ie. predicted) to be a superhost. On the other hand, it is not as big of a deal if people who are not superhosts to be awarded (ie. predicted) to be a superhost.\n",
    "\n",
    "Practically speaking you'd be classifying hosts as superhosts vs. nonsuperhosts for *new datasets*.\n",
    "\n",
    "Which of the two classifiers that we built in #3.5 and #3.6 would be more suitable for you to use? Explain."
   ]
  },
  {
   "cell_type": "markdown",
   "metadata": {},
   "source": [
    "The classifier with a threshold of $ \\hat{p}_0 = 0.25 $ from #3.6 is more suitable because it will likely classify more actual superhosts correctly as superhosts, aligning with the goal of ensuring existing superhosts are recognized. While it may also increase the number of non-superhosts classified as superhosts, this is considered less problematic for the given scenario."
   ]
  }
 ],
 "metadata": {
  "kernelspec": {
   "display_name": "Python 3 (ipykernel)",
   "language": "python",
   "name": "python3"
  },
  "language_info": {
   "codemirror_mode": {
    "name": "ipython",
    "version": 3
   },
   "file_extension": ".py",
   "mimetype": "text/x-python",
   "name": "python",
   "nbconvert_exporter": "python",
   "pygments_lexer": "ipython3",
   "version": "3.11.1"
  }
 },
 "nbformat": 4,
 "nbformat_minor": 2
}
