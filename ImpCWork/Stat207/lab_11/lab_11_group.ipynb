{
 "cells": [
  {
   "cell_type": "markdown",
   "metadata": {},
   "source": [
    "# STAT 207 Lab Assignment 11 - Group Part - [13.25 Points]\n",
    "\n",
    "\n",
    "\n",
    "## <u>Case Study</u>: Predicting Airbnb Superhost Status\n",
    "\n",
    "Suppose that you have a spare room in your house (in Seattle) and you are considering advertising this room to guests on Airbnb. Airbnb superhosts are considered to be experienced hosts who provide a shining example for other hosts, and extraordinary experiences for their guests. Once a host reaches Superhost status, a superhost badge will automatically appear on their listing and profile to help guests identify them. You would like to assess your chances of being named a superhost with your property.\n",
    "\n",
    "The following dataset is a sample (assume random) of available Airbnb listings in Seattle, WA. These listings were collected in January 2016, and filtered to just contain listings from the five most popular Seattlbe neighborhoods (for Airbnb listings) and just contain listings that are either in a house or apartment property.\n",
    "\n",
    "This dataset contains the following variables.\n",
    "\n",
    "**Listing Information**\n",
    "The dataset contains the following information about the Airbnb *listing*:\n",
    "* <u>price</u>: price of the listing (per night)(in US dollars)\n",
    "* <u>review_scores_rating</u>: the average rating of the listing [0,100] (100 is the best)\n",
    "* <u>number_of_reviews</u>: the number of reviews for the listing\n",
    "* <u>security_deposit</u>: the security deposit required for the listing (in US dollars)\n",
    "* <u>cleaning_fee</u>: the cleaning fee required for the listing (in US dollars)\n",
    "* <u>neighborhood</u>: the neighborhood of Seattle the listing is located in\n",
    "* <u>property_type</u>: is the listing in a 'House' or 'Apartment'\n",
    "* <u>room_type</u>: is the listing a 'Entire home/apt', 'Private room', or 'Shared room'\n",
    "* <u>accommodates</u>: how many guests will the listing accommodate\n",
    "* <u>bathrooms</u>:how many bathrooms does the listing have\n",
    "* <u>beds</u>: how many beds does the listing have\n",
    "\n",
    "**Host Information**\n",
    "The dataset also contains the following information about the *host* of the given Airbnb listing:\n",
    "* <u>host_is_superhost</u>: is the host a \"superhost\": t=True, f=False\n",
    "* <u>host_has_profile_pic</u>: does the host have a profile pic in their bio: t=True, f=False\n",
    "* <u>host_response_time</u>: how fast will the host respond to requests (on average)\n",
    "\n",
    "## Research Goals\n",
    "\n",
    "The primary research goal that we will pursue in this group lab will be to build a predictive model that effectively predicts the `probability a Seattle Airbnb host is a **superhost**` for ***LISTINGS IN THIS DATASET*** given some combination of the available explanatory variables.\n",
    "\n",
    "\n",
    "\n",
    "## Points\n",
    "\n",
    "<p>&nbsp;</p>\n",
    "<table style=\"border: none;border-collapse: collapse;width:102pt;\">\n",
    "    <tbody>\n",
    "        <tr>\n",
    "            <td style=\"color:black;font-size:15px;font-weight:700;font-style:normal;text-decoration:none;font-family:Calibri, sans-serif;text-align:right;vertical-align:bottom;border:.5pt solid windowtext;height:14.25pt;width:51pt;\">Problem</td>\n",
    "            <td style=\"color:black;font-size:15px;font-weight:700;font-style:normal;text-decoration:none;font-family:Calibri, sans-serif;text-align:general;vertical-align:bottom;border:.5pt solid windowtext;border-left:none;width:51pt;\">Points</td>\n",
    "        </tr>\n",
    "        <tr>\n",
    "            <td style=\"color:black;font-size:15px;font-weight:400;font-style:normal;text-decoration:none;font-family:Calibri, sans-serif;text-align:right;vertical-align:bottom;border:.5pt solid windowtext;height:14.25pt;border-top:none;\">1.1</td>\n",
    "            <td style=\"color:black;font-size:15px;font-weight:400;font-style:normal;text-decoration:none;font-family:Calibri, sans-serif;text-align:right;vertical-align:bottom;border:.5pt solid windowtext;border-top:none;border-left:none;\">0.25</td>\n",
    "        </tr>\n",
    "        <tr>\n",
    "            <td style=\"color:black;font-size:15px;font-weight:400;font-style:normal;text-decoration:none;font-family:Calibri, sans-serif;text-align:right;vertical-align:bottom;border:.5pt solid windowtext;height:14.25pt;border-top:none;\">1.2</td>\n",
    "            <td style=\"color:black;font-size:15px;font-weight:400;font-style:normal;text-decoration:none;font-family:Calibri, sans-serif;text-align:right;vertical-align:bottom;border:.5pt solid windowtext;border-top:none;border-left:none;\">0.5</td>\n",
    "        </tr>\n",
    "        <tr>\n",
    "            <td style=\"color:black;font-size:15px;font-weight:400;font-style:normal;text-decoration:none;font-family:Calibri, sans-serif;text-align:right;vertical-align:bottom;border:.5pt solid windowtext;height:14.25pt;border-top:none;\">2.1</td>\n",
    "            <td style=\"color:black;font-size:15px;font-weight:400;font-style:normal;text-decoration:none;font-family:Calibri, sans-serif;text-align:right;vertical-align:bottom;border:.5pt solid windowtext;border-top:none;border-left:none;\">0.5</td>\n",
    "        </tr>\n",
    "        <tr>\n",
    "            <td style=\"color:black;font-size:15px;font-weight:400;font-style:normal;text-decoration:none;font-family:Calibri, sans-serif;text-align:right;vertical-align:bottom;border:.5pt solid windowtext;height:14.25pt;border-top:none;\">2.2</td>\n",
    "            <td style=\"color:black;font-size:15px;font-weight:400;font-style:normal;text-decoration:none;font-family:Calibri, sans-serif;text-align:right;vertical-align:bottom;border:.5pt solid windowtext;border-top:none;border-left:none;\">0.75</td>\n",
    "        </tr>\n",
    "        <tr>\n",
    "            <td style=\"color:black;font-size:15px;font-weight:400;font-style:normal;text-decoration:none;font-family:Calibri, sans-serif;text-align:right;vertical-align:bottom;border:.5pt solid windowtext;height:14.25pt;border-top:none;\">3.1</td>\n",
    "            <td style=\"color:black;font-size:15px;font-weight:400;font-style:normal;text-decoration:none;font-family:Calibri, sans-serif;text-align:right;vertical-align:bottom;border:.5pt solid windowtext;border-top:none;border-left:none;\">1.25</td>\n",
    "        </tr>\n",
    "        <tr>\n",
    "            <td style=\"color:black;font-size:15px;font-weight:400;font-style:normal;text-decoration:none;font-family:Calibri, sans-serif;text-align:right;vertical-align:bottom;border:.5pt solid windowtext;height:14.25pt;border-top:none;\">3.2</td>\n",
    "            <td style=\"color:black;font-size:15px;font-weight:400;font-style:normal;text-decoration:none;font-family:Calibri, sans-serif;text-align:right;vertical-align:bottom;border:.5pt solid windowtext;border-top:none;border-left:none;\">1</td>\n",
    "        </tr>\n",
    "        <tr>\n",
    "            <td style=\"color:black;font-size:15px;font-weight:400;font-style:normal;text-decoration:none;font-family:Calibri, sans-serif;text-align:right;vertical-align:bottom;border:.5pt solid windowtext;height:14.25pt;border-top:none;\">3.3.1</td>\n",
    "            <td style=\"color:black;font-size:15px;font-weight:400;font-style:normal;text-decoration:none;font-family:Calibri, sans-serif;text-align:right;vertical-align:bottom;border:.5pt solid windowtext;border-top:none;border-left:none;\">1</td>\n",
    "        </tr>\n",
    "        <tr>\n",
    "            <td style=\"color:black;font-size:15px;font-weight:400;font-style:normal;text-decoration:none;font-family:Calibri, sans-serif;text-align:right;vertical-align:bottom;border:.5pt solid windowtext;height:14.25pt;border-top:none;\">3.3.2</td>\n",
    "            <td style=\"color:black;font-size:15px;font-weight:400;font-style:normal;text-decoration:none;font-family:Calibri, sans-serif;text-align:right;vertical-align:bottom;border:.5pt solid windowtext;border-top:none;border-left:none;\">1</td>\n",
    "        </tr>\n",
    "        <tr>\n",
    "            <td style=\"color:black;font-size:15px;font-weight:400;font-style:normal;text-decoration:none;font-family:Calibri, sans-serif;text-align:right;vertical-align:bottom;border:.5pt solid windowtext;height:14.25pt;border-top:none;\">3.3.3</td>\n",
    "            <td style=\"color:black;font-size:15px;font-weight:400;font-style:normal;text-decoration:none;font-family:Calibri, sans-serif;text-align:right;vertical-align:bottom;border:.5pt solid windowtext;border-top:none;border-left:none;\">1</td>\n",
    "        </tr>\n",
    "        <tr>\n",
    "            <td style=\"color:black;font-size:15px;font-weight:400;font-style:normal;text-decoration:none;font-family:Calibri, sans-serif;text-align:right;vertical-align:bottom;border:.5pt solid windowtext;height:14.25pt;border-top:none;\">3.4.1</td>\n",
    "            <td style=\"color:black;font-size:15px;font-weight:400;font-style:normal;text-decoration:none;font-family:Calibri, sans-serif;text-align:right;vertical-align:bottom;border:.5pt solid windowtext;border-top:none;border-left:none;\">1</td>\n",
    "        </tr>\n",
    "        <tr>\n",
    "            <td style=\"color:black;font-size:15px;font-weight:400;font-style:normal;text-decoration:none;font-family:Calibri, sans-serif;text-align:right;vertical-align:bottom;border:.5pt solid windowtext;height:14.25pt;border-top:none;\">3.4.2</td>\n",
    "            <td style=\"color:black;font-size:15px;font-weight:400;font-style:normal;text-decoration:none;font-family:Calibri, sans-serif;text-align:right;vertical-align:bottom;border:.5pt solid windowtext;border-top:none;border-left:none;\">1</td>\n",
    "        </tr>\n",
    "        <tr>\n",
    "            <td style=\"color:black;font-size:15px;font-weight:400;font-style:normal;text-decoration:none;font-family:Calibri, sans-serif;text-align:right;vertical-align:bottom;border:.5pt solid windowtext;height:14.25pt;border-top:none;\">3.4.3</td>\n",
    "            <td style=\"color:black;font-size:15px;font-weight:400;font-style:normal;text-decoration:none;font-family:Calibri, sans-serif;text-align:right;vertical-align:bottom;border:.5pt solid windowtext;border-top:none;border-left:none;\">1</td>\n",
    "        </tr>\n",
    "        <tr>\n",
    "            <td style=\"color:black;font-size:15px;font-weight:400;font-style:normal;text-decoration:none;font-family:Calibri, sans-serif;text-align:right;vertical-align:bottom;border:.5pt solid windowtext;height:14.25pt;border-top:none;\">3.4.1</td>\n",
    "            <td style=\"color:black;font-size:15px;font-weight:400;font-style:normal;text-decoration:none;font-family:Calibri, sans-serif;text-align:right;vertical-align:bottom;border:.5pt solid windowtext;border-top:none;border-left:none;\">1</td>\n",
    "        </tr>\n",
    "        <tr>\n",
    "            <td style=\"color:black;font-size:15px;font-weight:400;font-style:normal;text-decoration:none;font-family:Calibri, sans-serif;text-align:right;vertical-align:bottom;border:.5pt solid windowtext;height:14.25pt;border-top:none;\">3.4.2</td>\n",
    "            <td style=\"color:black;font-size:15px;font-weight:400;font-style:normal;text-decoration:none;font-family:Calibri, sans-serif;text-align:right;vertical-align:bottom;border:.5pt solid windowtext;border-top:none;border-left:none;\">1</td>\n",
    "        </tr>\n",
    "        <tr>\n",
    "            <td style=\"color:black;font-size:15px;font-weight:400;font-style:normal;text-decoration:none;font-family:Calibri, sans-serif;text-align:right;vertical-align:bottom;border:.5pt solid windowtext;height:14.25pt;border-top:none;\">3.4.3</td>\n",
    "            <td style=\"color:black;font-size:15px;font-weight:400;font-style:normal;text-decoration:none;font-family:Calibri, sans-serif;text-align:right;vertical-align:bottom;border:.5pt solid windowtext;border-top:none;border-left:none;\">1</td>\n",
    "        </tr>\n",
    "    </tbody>\n",
    "</table>"
   ]
  },
  {
   "cell_type": "code",
   "execution_count": 1,
   "metadata": {},
   "outputs": [],
   "source": [
    "import pandas as pd\n",
    "import numpy as np"
   ]
  },
  {
   "cell_type": "markdown",
   "metadata": {},
   "source": [
    "## 1. Basic Data Examination and Manipulation\n",
    "\n",
    "### 1.1. Basics\n",
    "1. Read this csv file into a dataframe.\n",
    "\n",
    "2. Display your dataframe.\n",
    "\n",
    "3. Show how many rows your dataframe has.\n",
    "\n"
   ]
  },
  {
   "cell_type": "code",
   "execution_count": 2,
   "metadata": {},
   "outputs": [],
   "source": [
    "airbnb = pd.read_csv('seattle_airbnb_listings_cleaned.csv')"
   ]
  },
  {
   "cell_type": "code",
   "execution_count": 3,
   "metadata": {},
   "outputs": [
    {
     "data": {
      "text/plain": [
       "(   price  review_scores_rating  number_of_reviews  security_deposit  \\\n",
       " 0    300                   100                 24               500   \n",
       " 1    149                    96                 11               300   \n",
       " 2     95                    95                 79               150   \n",
       " 3    105                   100                 13               500   \n",
       " 4    140                    99                 30               250   \n",
       " \n",
       "    cleaning_fee neighborhood property_type        room_type  accommodates  \\\n",
       " 0            95  Wallingford         House  Entire home/apt             5   \n",
       " 1           105  Wallingford     Apartment  Entire home/apt             6   \n",
       " 2            40  Wallingford     Apartment  Entire home/apt             3   \n",
       " 3            50  Wallingford         House     Private room             2   \n",
       " 4            65  Wallingford         House  Entire home/apt             2   \n",
       " \n",
       "    bathrooms  beds  host_response_time  host_response_rate host_is_superhost  \\\n",
       " 0        1.5     3  within a few hours                 1.0                 t   \n",
       " 1        1.0     3      within an hour                 1.0                 f   \n",
       " 2        1.0     2      within an hour                 1.0                 f   \n",
       " 3        2.0     1  within a few hours                 1.0                 t   \n",
       " 4        1.0     1      within an hour                 1.0                 t   \n",
       " \n",
       "   host_has_profile_pic host_identity_verified  \n",
       " 0                    t                      t  \n",
       " 1                    t                      t  \n",
       " 2                    t                      t  \n",
       " 3                    t                      t  \n",
       " 4                    t                      t  ,\n",
       " 339)"
      ]
     },
     "execution_count": 3,
     "metadata": {},
     "output_type": "execute_result"
    }
   ],
   "source": [
    "airbnb_head = airbnb.head()\n",
    "num_rows = len(airbnb)\n",
    "\n",
    "airbnb_head, num_rows"
   ]
  },
  {
   "cell_type": "markdown",
   "metadata": {},
   "source": [
    "### 1.2. 0/1 Response Variable\n",
    "\n",
    "Create a new 0/1 variable in your dataset in which `superhosts=1` and `nonsuperhosts=0`. "
   ]
  },
  {
   "cell_type": "code",
   "execution_count": 4,
   "metadata": {},
   "outputs": [
    {
     "data": {
      "text/html": [
       "<div>\n",
       "<style scoped>\n",
       "    .dataframe tbody tr th:only-of-type {\n",
       "        vertical-align: middle;\n",
       "    }\n",
       "\n",
       "    .dataframe tbody tr th {\n",
       "        vertical-align: top;\n",
       "    }\n",
       "\n",
       "    .dataframe thead th {\n",
       "        text-align: right;\n",
       "    }\n",
       "</style>\n",
       "<table border=\"1\" class=\"dataframe\">\n",
       "  <thead>\n",
       "    <tr style=\"text-align: right;\">\n",
       "      <th></th>\n",
       "      <th>price</th>\n",
       "      <th>review_scores_rating</th>\n",
       "      <th>number_of_reviews</th>\n",
       "      <th>security_deposit</th>\n",
       "      <th>cleaning_fee</th>\n",
       "      <th>neighborhood</th>\n",
       "      <th>property_type</th>\n",
       "      <th>room_type</th>\n",
       "      <th>accommodates</th>\n",
       "      <th>bathrooms</th>\n",
       "      <th>beds</th>\n",
       "      <th>host_response_time</th>\n",
       "      <th>host_response_rate</th>\n",
       "      <th>host_is_superhost</th>\n",
       "      <th>host_has_profile_pic</th>\n",
       "      <th>host_identity_verified</th>\n",
       "    </tr>\n",
       "  </thead>\n",
       "  <tbody>\n",
       "    <tr>\n",
       "      <th>0</th>\n",
       "      <td>300</td>\n",
       "      <td>100</td>\n",
       "      <td>24</td>\n",
       "      <td>500</td>\n",
       "      <td>95</td>\n",
       "      <td>Wallingford</td>\n",
       "      <td>House</td>\n",
       "      <td>Entire home/apt</td>\n",
       "      <td>5</td>\n",
       "      <td>1.5</td>\n",
       "      <td>3</td>\n",
       "      <td>within a few hours</td>\n",
       "      <td>1.0</td>\n",
       "      <td>1</td>\n",
       "      <td>t</td>\n",
       "      <td>t</td>\n",
       "    </tr>\n",
       "    <tr>\n",
       "      <th>1</th>\n",
       "      <td>149</td>\n",
       "      <td>96</td>\n",
       "      <td>11</td>\n",
       "      <td>300</td>\n",
       "      <td>105</td>\n",
       "      <td>Wallingford</td>\n",
       "      <td>Apartment</td>\n",
       "      <td>Entire home/apt</td>\n",
       "      <td>6</td>\n",
       "      <td>1.0</td>\n",
       "      <td>3</td>\n",
       "      <td>within an hour</td>\n",
       "      <td>1.0</td>\n",
       "      <td>0</td>\n",
       "      <td>t</td>\n",
       "      <td>t</td>\n",
       "    </tr>\n",
       "    <tr>\n",
       "      <th>2</th>\n",
       "      <td>95</td>\n",
       "      <td>95</td>\n",
       "      <td>79</td>\n",
       "      <td>150</td>\n",
       "      <td>40</td>\n",
       "      <td>Wallingford</td>\n",
       "      <td>Apartment</td>\n",
       "      <td>Entire home/apt</td>\n",
       "      <td>3</td>\n",
       "      <td>1.0</td>\n",
       "      <td>2</td>\n",
       "      <td>within an hour</td>\n",
       "      <td>1.0</td>\n",
       "      <td>0</td>\n",
       "      <td>t</td>\n",
       "      <td>t</td>\n",
       "    </tr>\n",
       "    <tr>\n",
       "      <th>3</th>\n",
       "      <td>105</td>\n",
       "      <td>100</td>\n",
       "      <td>13</td>\n",
       "      <td>500</td>\n",
       "      <td>50</td>\n",
       "      <td>Wallingford</td>\n",
       "      <td>House</td>\n",
       "      <td>Private room</td>\n",
       "      <td>2</td>\n",
       "      <td>2.0</td>\n",
       "      <td>1</td>\n",
       "      <td>within a few hours</td>\n",
       "      <td>1.0</td>\n",
       "      <td>1</td>\n",
       "      <td>t</td>\n",
       "      <td>t</td>\n",
       "    </tr>\n",
       "    <tr>\n",
       "      <th>4</th>\n",
       "      <td>140</td>\n",
       "      <td>99</td>\n",
       "      <td>30</td>\n",
       "      <td>250</td>\n",
       "      <td>65</td>\n",
       "      <td>Wallingford</td>\n",
       "      <td>House</td>\n",
       "      <td>Entire home/apt</td>\n",
       "      <td>2</td>\n",
       "      <td>1.0</td>\n",
       "      <td>1</td>\n",
       "      <td>within an hour</td>\n",
       "      <td>1.0</td>\n",
       "      <td>1</td>\n",
       "      <td>t</td>\n",
       "      <td>t</td>\n",
       "    </tr>\n",
       "  </tbody>\n",
       "</table>\n",
       "</div>"
      ],
      "text/plain": [
       "   price  review_scores_rating  number_of_reviews  security_deposit  \\\n",
       "0    300                   100                 24               500   \n",
       "1    149                    96                 11               300   \n",
       "2     95                    95                 79               150   \n",
       "3    105                   100                 13               500   \n",
       "4    140                    99                 30               250   \n",
       "\n",
       "   cleaning_fee neighborhood property_type        room_type  accommodates  \\\n",
       "0            95  Wallingford         House  Entire home/apt             5   \n",
       "1           105  Wallingford     Apartment  Entire home/apt             6   \n",
       "2            40  Wallingford     Apartment  Entire home/apt             3   \n",
       "3            50  Wallingford         House     Private room             2   \n",
       "4            65  Wallingford         House  Entire home/apt             2   \n",
       "\n",
       "   bathrooms  beds  host_response_time  host_response_rate  host_is_superhost  \\\n",
       "0        1.5     3  within a few hours                 1.0                  1   \n",
       "1        1.0     3      within an hour                 1.0                  0   \n",
       "2        1.0     2      within an hour                 1.0                  0   \n",
       "3        2.0     1  within a few hours                 1.0                  1   \n",
       "4        1.0     1      within an hour                 1.0                  1   \n",
       "\n",
       "  host_has_profile_pic host_identity_verified  \n",
       "0                    t                      t  \n",
       "1                    t                      t  \n",
       "2                    t                      t  \n",
       "3                    t                      t  \n",
       "4                    t                      t  "
      ]
     },
     "execution_count": 4,
     "metadata": {},
     "output_type": "execute_result"
    }
   ],
   "source": [
    "airbnb['host_is_superhost'] = airbnb['host_is_superhost'].replace({'t':1, 'f':0})\n",
    "airbnb.head()"
   ]
  },
  {
   "cell_type": "markdown",
   "metadata": {},
   "source": [
    "## 2. Model\n",
    "\n",
    "In the interest of time, let's build a logistic regression model, which will predict the `probability that a host is a superhost` given:\n",
    "\n",
    "* `review_scores_rating`\n",
    "* `property_type`\n",
    "* `room_type`\n",
    "\n",
    "### 2.1. Fit the Model\n",
    "\n",
    "Fit this \"full\" logistic regression model and show the summary output table."
   ]
  },
  {
   "cell_type": "code",
   "execution_count": 10,
   "metadata": {},
   "outputs": [
    {
     "name": "stdout",
     "output_type": "stream",
     "text": [
      "Optimization terminated successfully.\n",
      "         Current function value: 0.520745\n",
      "         Iterations 7\n",
      "                           Logit Regression Results                           \n",
      "==============================================================================\n",
      "Dep. Variable:      host_is_superhost   No. Observations:                  271\n",
      "Model:                          Logit   Df Residuals:                      266\n",
      "Method:                           MLE   Df Model:                            4\n",
      "Date:                Tue, 07 Nov 2023   Pseudo R-squ.:                  0.1275\n",
      "Time:                        20:20:19   Log-Likelihood:                -141.12\n",
      "converged:                       True   LL-Null:                       -161.74\n",
      "Covariance Type:            nonrobust   LLR p-value:                 2.409e-08\n",
      "==========================================================================================\n",
      "                             coef    std err          z      P>|z|      [0.025      0.975]\n",
      "------------------------------------------------------------------------------------------\n",
      "const                    -21.1818      4.605     -4.600      0.000     -30.207     -12.156\n",
      "review_scores_rating       0.2123      0.048      4.460      0.000       0.119       0.306\n",
      "property_type_House       -0.2317      0.321     -0.723      0.470      -0.860       0.397\n",
      "room_type_Private room     0.2610      0.408      0.640      0.522      -0.538       1.060\n",
      "room_type_Shared room     -1.8260      1.073     -1.703      0.089      -3.928       0.276\n",
      "==========================================================================================\n"
     ]
    }
   ],
   "source": [
    "import statsmodels.api as sm\n",
    "from sklearn.model_selection import train_test_split\n",
    "# Selecting the features and target variable\n",
    "X = airbnb[['review_scores_rating', 'property_type', 'room_type']]\n",
    "y = airbnb['host_is_superhost']\n",
    "\n",
    "# One-Hot Encode categorical variables\n",
    "X_encoded = pd.get_dummies(X, columns=['property_type', 'room_type'], drop_first=True)\n",
    "\n",
    "# Convert boolean columns to integer type explicitly\n",
    "X_encoded = X_encoded.apply(pd.to_numeric, errors='coerce')\n",
    "\n",
    "# Drop any rows with NaN values that may have been introduced during encoding or conversion\n",
    "X_encoded.dropna(inplace=True)\n",
    "y = y.loc[X_encoded.index]\n",
    "\n",
    "# Split the data into training and test sets if not already done\n",
    "X_train, X_test, y_train, y_test = train_test_split(X_encoded, y, test_size=0.2, random_state=101)\n",
    "\n",
    "# Convert boolean columns to integers\n",
    "X_train['property_type_House'] = X_train['property_type_House'].astype(int)\n",
    "X_train['room_type_Private room'] = X_train['room_type_Private room'].astype(int)\n",
    "X_train['room_type_Shared room'] = X_train['room_type_Shared room'].astype(int)\n",
    "\n",
    "# Check for NaN values and handle them if any\n",
    "if X_train.isnull().values.any():\n",
    "    # Handle NaN values, for example by filling them or dropping the rows\n",
    "    X_train = X_train.fillna(method='ffill')  # Example: forward-fill\n",
    "\n",
    "# Proceed with fitting the logistic regression model\n",
    "X_train_sm = sm.add_constant(X_train)\n",
    "logit_model = sm.Logit(y_train, X_train_sm)\n",
    "result = logit_model.fit()\n",
    "print(result.summary())\n"
   ]
  },
  {
   "cell_type": "markdown",
   "metadata": {},
   "source": [
    "### 2.2. Model Equation\n",
    "\n",
    "Write the equation for the resulting logistic regression model that has the predicted **odds** on the left-hand side. Make sure to use the appropriate notation discussed in class."
   ]
  },
  {
   "cell_type": "markdown",
   "metadata": {},
   "source": [
    "The logistic regression model you've fit provides an equation for the log-odds (logarithm of the odds) of the target variable being 1 (i.e., the host being a superhost). The log-odds can be written as:\n",
    "\n",
    "$$ \\log\\left(\\frac{P(Y=1)}{1 - P(Y=1)}\\right) = \\beta_0 + \\beta_1 \\cdot \\text{review\\_scores\\_rating} + \\beta_2 \\cdot \\text{property\\_type\\_House} + \\beta_3 \\cdot \\text{room\\_type\\_Private room} + \\beta_4 \\cdot \\text{room\\_type\\_Shared room} $$\n",
    "\n",
    "Substituting in the coefficients from your model's summary:\n",
    "\n",
    "$$ \\log\\left(\\frac{P(Y=1)}{1 - P(Y=1)}\\right) = -21.1818 + 0.2123 \\cdot \\text{review\\_scores\\_rating} - 0.2317 \\cdot \\text{property\\_type\\_House} + 0.2610 \\cdot \\text{room\\_type\\_Private room} - 1.8260 \\cdot \\text{room\\_type\\_Shared room} $$\n",
    "\n",
    "This is the equation for predicting the log-odds of being a superhost given the `review_scores_rating`, and whether the listing is a house, private room, or shared room. To use this model for prediction, you would insert the actual values for `review_scores_rating`, `property_type_House`, `room_type_Private room`, and `room_type_Shared room` into the equation and solve for $ P(Y=1) $, which gives the predicted probability of being a superhost."
   ]
  },
  {
   "cell_type": "markdown",
   "metadata": {},
   "source": [
    "## 3. Slope and Intercept Interpretations\n",
    "\n",
    "### 3.1. Baseline Odds\n",
    "\n",
    "Calculate the baseline odds for this model and put it into words. Make sure to use non-misleading language discussed in class."
   ]
  },
  {
   "cell_type": "code",
   "execution_count": null,
   "metadata": {},
   "outputs": [],
   "source": [
    "import numpy as np\n",
    "\n",
    "# Coefficient for the intercept\n",
    "intercept = -21.1818\n",
    "\n",
    "# Calculate the baseline odds\n",
    "baseline_odds = np.exp(intercept)\n",
    "baseline_odds\n"
   ]
  },
  {
   "cell_type": "markdown",
   "metadata": {},
   "source": [
    "The baseline odds in a logistic regression model are the odds of the outcome occurring (in this case, being a superhost) when all predictor variables are set to 0. In the context of your model, the baseline odds would correspond to the odds of being a superhost for a listing that is not a house (since `property_type_House` would be 0), is not a private room (since `room_type_Private room` would be 0), is not a shared room (since `room_type_Shared room` would be 0), and has a `review_scores_rating` of 0.\n",
    "\n",
    "Given the logistic regression equation:\n",
    "\n",
    "$$ \\log\\left(\\frac{P(Y=1)}{1 - P(Y=1)}\\right) = -21.1818 + 0.2123 \\cdot \\text{review\\_scores\\_rating} - 0.2317 \\cdot \\text{property\\_type\\_House} + 0.2610 \\cdot \\text{room\\_type\\_Private room} - 1.8260 \\cdot \\text{room\\_type\\_Shared room} $$\n",
    "\n",
    "The baseline log-odds when all variables are 0 is -21.1818. To find the baseline odds, we exponentiate the baseline log-odds:\n",
    "\n",
    "$$ \\text{Baseline Odds} = e^{-21.1818} $$\n",
    "\n",
    "The baseline odds for this model are approximately $ 6.32 \\times 10^{-10} $. \n",
    "\n",
    "In practical terms, this number represents the odds of a listing being a superhost when it is not a house, not a private room, not a shared room, and has a review score rating of 0 (which is not realistic since the review score rating scale starts from 1 to 100). Given the extremely small odds, it indicates that under these conditions, it is highly unlikely for a listing to be classified as a superhost. \n",
    "\n",
    "This interpretation aligns with the understanding that a listing with the lowest possible score (or no reviews) and not fitting the typical property and room type categories would be very unlikely to achieve superhost status. "
   ]
  },
  {
   "cell_type": "markdown",
   "metadata": {},
   "source": [
    "### 3.2. Prose Baseline Odds\n",
    "\n",
    "The baseline odds that you calculated in 3.1 is a numerical odds. Put this numerical odds into prose form."
   ]
  },
  {
   "cell_type": "markdown",
   "metadata": {},
   "source": [
    "The baseline odds of approximately $ 6.32 \\times 10^{-10} $ can be translated into prose as follows:\n",
    "\n",
    "The baseline odds indicate that, before considering any specific attributes of the listing, the likelihood of any given Airbnb listing being classified as a superhost is extremely low, almost negligible. Specifically, for a hypothetical listing with no reviews and not categorized as a house, private room, or shared room, the odds of being a superhost are so small that they are practically zero. This reflects that such a listing would almost certainly not be a superhost. \n",
    "\n"
   ]
  },
  {
   "cell_type": "markdown",
   "metadata": {},
   "source": [
    "### 3.3. Odds Multiplier for Review Scores Rating"
   ]
  },
  {
   "cell_type": "markdown",
   "metadata": {},
   "source": [
    "#### 3.3.1. Odds Multiplier\n",
    "\n",
    "Calculate the odds multiplier for review scores rating and put it into words. Make sure to use non-misleading language discussed in class."
   ]
  },
  {
   "cell_type": "code",
   "execution_count": 11,
   "metadata": {},
   "outputs": [
    {
     "data": {
      "text/plain": [
       "1.236518785076245"
      ]
     },
     "execution_count": 11,
     "metadata": {},
     "output_type": "execute_result"
    }
   ],
   "source": [
    "# Coefficient for review_scores_rating\n",
    "coef_review_scores_rating = 0.2123\n",
    "\n",
    "# Calculate the odds multiplier for review_scores_rating\n",
    "odds_multiplier_review_scores_rating = np.exp(coef_review_scores_rating)\n",
    "odds_multiplier_review_scores_rating\n"
   ]
  },
  {
   "cell_type": "markdown",
   "metadata": {},
   "source": [
    "The odds multiplier for a variable in logistic regression is the factor by which the odds are multiplied for a one-unit increase in that variable. In the case of the `review_scores_rating`, the coefficient is approximately $ 0.2123 $. This coefficient represents the log odds multiplier. To find the actual odds multiplier, we exponentiate this coefficient:\n",
    "\n",
    "$$ \\text{Odds Multiplier for review\\_scores\\_rating} = e^{0.2123} $$\n",
    "\n",
    "Let's calculate this odds multiplier.\n",
    "\n",
    "The odds multiplier for `review_scores_rating` is approximately $1.237$.\n",
    "\n",
    "Putting this into prose:\n",
    "\n",
    "For each additional point increase in the review scores rating, the odds of the listing being classified as a superhost increase by a factor of about $1.237$, all else being equal. This means that higher-rated listings are more likely to be superhosts, with the likelihood increasing progressively with the review score.\""
   ]
  },
  {
   "cell_type": "markdown",
   "metadata": {},
   "source": [
    "#### 3.3.2. Applying the Odds Multiplier\n",
    "\n",
    "Suppose that an Airbnb host currently has a review scores rating of 8. The odds of her being a superhost was predicted to be 2 by this model. If she were to increase her review scores rating to 9, what would the model predict her new odds to be?"
   ]
  },
  {
   "cell_type": "code",
   "execution_count": 12,
   "metadata": {},
   "outputs": [
    {
     "data": {
      "text/plain": [
       "2.47303757015249"
      ]
     },
     "execution_count": 12,
     "metadata": {},
     "output_type": "execute_result"
    }
   ],
   "source": [
    "# Current odds\n",
    "current_odds = 2\n",
    "\n",
    "# Calculate the new odds after increasing the review scores rating by 1\n",
    "new_odds = current_odds * odds_multiplier_review_scores_rating\n",
    "new_odds\n"
   ]
  },
  {
   "cell_type": "markdown",
   "metadata": {},
   "source": [
    "If the host's odds of being a superhost are currently predicted to be 2 with a review scores rating of 8, and the odds multiplier for an increase of one point in the review scores rating is approximately 1.237, then we can calculate the new odds by multiplying the current odds by the odds multiplier.\n",
    "\n",
    "$$ \\text{New Odds} = \\text{Current Odds} \\times \\text{Odds Multiplier} $$\n",
    "\n",
    "Substituting the values we have:\n",
    "\n",
    "$$ \\text{New Odds} = 2 \\times 1.237 $$\n",
    "\n",
    "Let's compute the new odds.\n",
    "\n",
    "If the Airbnb host were to increase her review scores rating from 8 to 9, the model would predict her new odds of being a superhost to be approximately 2.473. This means that with the improvement in her review score by one point, the likelihood of her being classified as a superhost increases according to the model's prediction."
   ]
  },
  {
   "cell_type": "markdown",
   "metadata": {},
   "source": [
    "#### 3.3.3. Review Scores and Superhost Status\n",
    "\n",
    "Visualize the relationships between `host_is_superhost` and `review_scores_rating`.\n",
    "\n",
    "Does your odds multiplier of `review_scores_rating` interpretation match what your visualization suggests about the relationship between `host_is_superhost` and `review_scores_rating`? Explain."
   ]
  },
  {
   "cell_type": "code",
   "execution_count": 14,
   "metadata": {},
   "outputs": [
    {
     "data": {
      "image/png": "[encoded data removed]",
      "text/plain": [
       "<Figure size 640x480 with 1 Axes>"
      ]
     },
     "metadata": {},
     "output_type": "display_data"
    }
   ],
   "source": [
    "import matplotlib.pyplot as plt\n",
    "import seaborn as sns\n",
    "\n",
    "sns.scatterplot(x='review_scores_rating', y='host_is_superhost', data=airbnb)\n",
    "\n",
    "sns.regplot(x='review_scores_rating', y='host_is_superhost', data=airbnb, logistic=True, ci=None)\n",
    "\n",
    "plt.xlabel('Review Scores Rating')\n",
    "plt.ylabel('Is Superhost')\n",
    "plt.title('Relationship between Review Scores Rating and Superhost Status')\n",
    "plt.show()"
   ]
  },
  {
   "cell_type": "markdown",
   "metadata": {},
   "source": [
    "The curve in the plot shows an upward trend, indicating that as the `review_scores_rating` increases, the probability of being a superhost also increases. This is consistent with the odds multiplier for `review_scores_rating` that we calculated, which indicated that higher review scores are associated with higher odds of a host being a superhost.\n",
    "\n",
    "The plot further solidifies this interpretation by showing that the probability of being a superhost is quite low for lower review scores but increases sharply as the scores approach the higher end of the scale. This visual representation aligns with the quantitative interpretation provided by the odds multiplier, validating that the model's output is in harmony with the observed data trends."
   ]
  },
  {
   "cell_type": "markdown",
   "metadata": {},
   "source": [
    "### 3.4. Odds Ratio of House vs. Apartment Listings"
   ]
  },
  {
   "cell_type": "markdown",
   "metadata": {},
   "source": [
    "#### 3.4.1. Odds Ratio\n",
    "\n",
    "Calculate the odds ratio for <u>house</u> vs. <u>apartment</u> listings in this model and put it into words. Make sure to use non-misleading language discussed in class."
   ]
  },
  {
   "cell_type": "code",
   "execution_count": 15,
   "metadata": {},
   "outputs": [
    {
     "data": {
      "text/plain": [
       "0.7931840428298198"
      ]
     },
     "execution_count": 15,
     "metadata": {},
     "output_type": "execute_result"
    }
   ],
   "source": [
    "# Coefficient for property_type_House\n",
    "coef_property_type_house = -0.2317\n",
    "\n",
    "# Calculate the odds ratio for property_type_House\n",
    "odds_ratio_house_vs_apartment = np.exp(coef_property_type_house)\n",
    "odds_ratio_house_vs_apartment\n"
   ]
  },
  {
   "cell_type": "markdown",
   "metadata": {},
   "source": [
    "The odds ratio in logistic regression is the exponentiation of the coefficient for a binary variable. It represents the change in odds resulting from a unit change in the predictor. In this model, the coefficient for `property_type_House` is approximately $-0.2317$. This coefficient represents the log odds ratio for listings that are houses compared to the baseline category, which in this case is apartments.\n",
    "\n",
    "To find the odds ratio for house listings versus apartment listings, we calculate:\n",
    "\n",
    "$$ \\text{Odds Ratio} = e^{-0.2317} $$\n",
    "\n",
    "The odds ratio for house listings versus apartment listings is approximately $0.793$.\n",
    "\n",
    "The odds of a house listing being classified as a superhost are roughly $0.793$ times the odds of an apartment listing being classified as a superhost, when all other factors are held constant. In other words, house listings are associated with a slightly lower likelihood of being a superhost compared to apartment listings, given the same review scores rating and room type."
   ]
  },
  {
   "cell_type": "markdown",
   "metadata": {},
   "source": [
    "#### 3.4.2. Applying the Odds Ratio\n",
    "\n",
    "Suppose that an Airbnb host is currently listing a private room in their <u>apartment</u>. The model predicts the odds that he is a superhost to be 0.9. If he were to also list a private room in a <u>house</u>, what would the model predict the odds of him being a superhost to be?"
   ]
  },
  {
   "cell_type": "code",
   "execution_count": 16,
   "metadata": {},
   "outputs": [
    {
     "data": {
      "text/plain": [
       "0.7138656385468378"
      ]
     },
     "execution_count": 16,
     "metadata": {},
     "output_type": "execute_result"
    }
   ],
   "source": [
    "# Current odds for listing a private room in an apartment\n",
    "current_odds_apartment = 0.9\n",
    "\n",
    "# Calculate the new odds for listing a private room in a house\n",
    "new_odds_house = current_odds_apartment * odds_ratio_house_vs_apartment\n",
    "new_odds_house\n"
   ]
  },
  {
   "cell_type": "markdown",
   "metadata": {},
   "source": [
    "Given that the model predicts the odds of the host being a superhost to be $0.9$ when listing a private room in an apartment, we can use the odds ratio calculated for house listings (approximately $0.793$) to predict the odds if the host were to list a private room in a house instead.\n",
    "\n",
    "The new odds can be calculated by multiplying the current odds by the odds ratio for houses:\n",
    "\n",
    "$$ \\text{New Odds} = \\text{Current Odds} \\times \\text{Odds Ratio for House} $$\n",
    "\n",
    "$$ \\text{New Odds} = 0.9 \\times 0.793 $$\n",
    "\n",
    "If the Airbnb host were to list a private room in a house instead of an apartment, the model would predict the odds of him being a superhost to be approximately $0.714$. This suggests that the likelihood of achieving superhost status is slightly lower when listing a private room in a house compared to an apartment, all else being equal."
   ]
  },
  {
   "cell_type": "markdown",
   "metadata": {},
   "source": [
    "#### 3.4.3. Property Type and Superhost Status\n",
    "\n",
    "Visualize the relationships between `host_is_superhost` and `property_type`. \n",
    "\n",
    "Does your odds ratio interpretation from 3.4.1 match what your visualization suggests about the relationship between `host_is_superhost` and `property_type`? Explain.\n",
    "\n",
    "*(Hint: `property_type` should be on your x-axis in this visualization in order to best answer the question above).*"
   ]
  },
  {
   "cell_type": "code",
   "execution_count": 17,
   "metadata": {},
   "outputs": [
    {
     "data": {
      "image/png": "[encoded data removed]",
      "text/plain": [
       "<Figure size 640x480 with 1 Axes>"
      ]
     },
     "metadata": {},
     "output_type": "display_data"
    }
   ],
   "source": [
    "sns.barplot(x='property_type', y='host_is_superhost', data=airbnb, estimator=lambda x: sum(x) / len(x))\n",
    "\n",
    "plt.xlabel('Property Type')\n",
    "plt.ylabel('Proportion of Superhosts')\n",
    "plt.title('Relationship between Property Type and Superhost Status')\n",
    "plt.show()"
   ]
  },
  {
   "cell_type": "markdown",
   "metadata": {},
   "source": [
    "From the chart, it appears that the proportion of superhosts in apartments is slightly higher than that of houses, which is consistent with the odds ratio interpretation from 3.4.1. The odds ratio calculated was less than 1, indicating that being a house is associated with a lower likelihood of being a superhost compared to being an apartment.\n",
    "\n",
    "The visualization supports this finding, as the height of the bar for apartments is higher than the bar for houses, suggesting a higher proportion of superhosts among apartment listings. This visual evidence aligns with the quantitative odds ratio we computed, which suggested that house listings are slightly less likely to be superhosts than apartment listings when all other factors are held constant."
   ]
  },
  {
   "cell_type": "markdown",
   "metadata": {},
   "source": [
    "### 3.5. Odds Ratio of Shared Room vs. Whole House/Apartment Listings"
   ]
  },
  {
   "cell_type": "markdown",
   "metadata": {},
   "source": [
    "#### 3.5.1. Odds Ratio\n",
    "\n",
    "Calculate the odds ratio for <u>shared room</u> vs. <u>whole house/apartment</u> listings in this model and put it into words. Make sure to use non-misleading language discussed in class."
   ]
  },
  {
   "cell_type": "code",
   "execution_count": 18,
   "metadata": {},
   "outputs": [
    {
     "data": {
      "text/plain": [
       "0.16105650706760616"
      ]
     },
     "execution_count": 18,
     "metadata": {},
     "output_type": "execute_result"
    }
   ],
   "source": [
    "# Coefficient for room_type_Shared room\n",
    "coef_room_type_shared_room = -1.8260\n",
    "\n",
    "# Calculate the odds ratio for room_type_Shared room\n",
    "odds_ratio_shared_room_vs_whole = np.exp(coef_room_type_shared_room)\n",
    "odds_ratio_shared_room_vs_whole\n"
   ]
  },
  {
   "cell_type": "markdown",
   "metadata": {},
   "source": [
    "The odds ratio for a variable in logistic regression can be obtained by exponentiating the coefficient for that variable. In this model, the coefficient for `room_type_Shared room` is $-1.8260$. This coefficient represents the log odds ratio for listings that are shared rooms compared to the baseline category, which, given the coding of your variables, would be an entire home or apartment.\n",
    "\n",
    "To find the odds ratio for shared room listings versus whole house/apartment listings, we calculate:\n",
    "\n",
    "$$ \\text{Odds Ratio} = e^{-1.8260} $$\n",
    "\n",
    "The odds ratio for shared room listings versus whole house/apartment listings is approximately $0.161$.\n",
    "\n",
    "Putting this into words:\n",
    "\n",
    "The odds of a shared room listing being classified as a superhost are about $0.161$ times the odds of a whole house or apartment listing being classified as a superhost, when all other factors are constant. This means that shared room listings have a considerably lower likelihood of being a superhost compared to entire homes or apartments. In more tangible terms, shared rooms are significantly less likely to achieve superhost status than listings that offer the entire place to guests."
   ]
  },
  {
   "cell_type": "markdown",
   "metadata": {},
   "source": [
    "#### 3.5.2. Applying the Odds Ratio\n",
    "\n",
    "Suppose that an Airbnb host is currently listing their <u>shared room</u>. The model predicts the odds that she is a superhost to be 9. If she were instead to list her <u>whole house</u>, what would the model predict the odds of her being a superhost to be?"
   ]
  },
  {
   "cell_type": "code",
   "execution_count": 20,
   "metadata": {},
   "outputs": [
    {
     "data": {
      "text/plain": [
       "55.881008248999834"
      ]
     },
     "execution_count": 20,
     "metadata": {},
     "output_type": "execute_result"
    }
   ],
   "source": [
    "# Current odds for listing a shared room\n",
    "current_odds_shared_room = 9\n",
    "\n",
    "# Calculate the new odds for listing a whole house\n",
    "new_odds_whole_house = current_odds_shared_room / odds_ratio_shared_room_vs_whole\n",
    "new_odds_whole_house\n"
   ]
  },
  {
   "cell_type": "markdown",
   "metadata": {},
   "source": [
    "If the model predicts the odds of the host being a superhost to be 9 when listing a shared room, we can use the odds ratio calculated for shared rooms versus whole house/apartment listings (approximately $0.161$) to predict the odds if the host were to list the whole house instead.\n",
    "\n",
    "To find the new odds, we would divide the current odds by the odds ratio for shared rooms:\n",
    "\n",
    "$$ \\text{New Odds} = \\frac{\\text{Current Odds}}{\\text{Odds Ratio for Shared Room}} $$\n",
    "\n",
    "$$ \\text{New Odds} = \\frac{9}{0.161} $$\n",
    "\n",
    "If the host switches from listing a shared room to listing the whole house, the model would predict the odds of her being a superhost to increase to approximately $55.88$. This substantial increase in the odds reflects the significantly higher likelihood of achieving superhost status with a whole house listing compared to a shared room, as indicated by the model."
   ]
  },
  {
   "cell_type": "markdown",
   "metadata": {},
   "source": [
    "#### 3.5.3. Room Type and Superhost Status\n",
    "\n",
    "Visualize the relationships between `host_is_superhost` and `room_type`. \n",
    "\n",
    "Does your odds ratio interpretation from 3.5.1 match what your visualization suggests about the relationship between `host_is_superhost` and `room_type`? Explain.\n",
    "\n",
    "*(Hint: `room_type` should be on your x-axis in this visualization in order to best answer the question above).*"
   ]
  },
  {
   "cell_type": "code",
   "execution_count": 21,
   "metadata": {},
   "outputs": [
    {
     "data": {
      "image/png": "[encoded data removed]",
      "text/plain": [
       "<Figure size 640x480 with 1 Axes>"
      ]
     },
     "metadata": {},
     "output_type": "display_data"
    }
   ],
   "source": [
    "sns.barplot(x='room_type', y='host_is_superhost', data=airbnb, estimator=lambda x: sum(x) / len(x))\n",
    "\n",
    "plt.xlabel('Room Type')\n",
    "plt.ylabel('Proportion of Superhosts')\n",
    "plt.title('Relationship between Room Type and Superhost Status')\n",
    "plt.show()\n"
   ]
  },
  {
   "cell_type": "markdown",
   "metadata": {},
   "source": [
    "It's evident from the chart that the proportion of superhosts is substantially lower for shared rooms compared to entire homes/apartments and private rooms.\n",
    "\n",
    "This visual representation aligns with the odds ratio interpretation from 3.5.1. The odds ratio calculated was significantly less than 1 for shared rooms, indicating that they are less likely to be associated with superhost status compared to entire homes/apartments. The visualization supports this finding, as it shows a visibly lower proportion of superhosts among shared room listings.\n",
    "\n",
    "In conclusion, the odds ratio interpretation is consistent with what the visualization suggests about the relationship between `host_is_superhost` and `room_type`: shared room listings have a lower likelihood of being superhosts when all other factors are held constant."
   ]
  },
  {
   "cell_type": "markdown",
   "metadata": {},
   "source": [
    "Josh, Ivan, Sophia, and I all worked on the group lab collaboratively during the lab time."
   ]
  }
 ],
 "metadata": {
  "kernelspec": {
   "display_name": "Python 3 (ipykernel)",
   "language": "python",
   "name": "python3"
  },
  "language_info": {
   "codemirror_mode": {
    "name": "ipython",
    "version": 3
   },
   "file_extension": ".py",
   "mimetype": "text/x-python",
   "name": "python",
   "nbconvert_exporter": "python",
   "pygments_lexer": "ipython3",
   "version": "3.11.1"
  }
 },
 "nbformat": 4,
 "nbformat_minor": 2
}
