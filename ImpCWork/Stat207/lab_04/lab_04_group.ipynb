{
 "cells": [
  {
   "cell_type": "markdown",
   "metadata": {},
   "source": [
    "# STAT 207 Lab Assignment 4 - Group Part - [12 total points] - Solutions\n",
    "\n",
    "This group lab will also be atypical in that the number of points is larger than the typical 5."
   ]
  },
  {
   "cell_type": "markdown",
   "metadata": {},
   "source": [
    "Sophie Bustos is submitting for our group."
   ]
  },
  {
   "cell_type": "markdown",
   "metadata": {},
   "source": [
    "## <u>Case Study</u>: Comparing Movie Ratings based on Famous Actors\n",
    "\n",
    "\n",
    "\n",
    "### Movie Rating Dataset Information\n",
    "\n",
    "In the individual and group assignments we will use the data in the `imdb.csv` to pursue our research goals.\n",
    "\n",
    "Each row in the `imdb.csv` file contains the following information about **POPULAR** `films` as well as `series` listed on IMDB.\n",
    "* `Name`\n",
    "* `Date`: the date film/series was released.\n",
    "* `Rate`: the rating of the film/series\n",
    "* `Votes`: how many votes this film/series received on IMDB\n",
    "* `Genre`: a **list** of genres that the film/series is considered to be. Most films/series have multiple genres listed (ex: 'Action, Adventure, Thriller')\n",
    "* `Duration`: the duration of the film/series\n",
    "* `Type`: whether the row is a `Film` or `Series`\n",
    "* `Certificate`: the content rating of the film (ex: 'G', 'PG', 'PG-13', 'R')\n",
    "* `Nudity`: the amount of nudity in the film/series\n",
    "* `Violence`: the amount of violence in the film/series\n",
    "* `Profanity`: the amount of profanity in the film/series\n",
    "* `Alcohol`: the amount of alcohol in the film/series\n",
    "* `Frightening`: the amount of frightening content in the film/series\n",
    "\n",
    "### Movie Actors Dataset Information\n",
    "\n",
    "In addition, in the group assignments we will use the data in the `ReelView.csv` to pursue our research goals.\n",
    "Each row in the `ReelView.csv` file contains the following additional information about `films` as well as `series` listed on the ReelView website.\n",
    "\n",
    "* `title`\n",
    "* `release_date`\n",
    "* `director`: the director of the film/series\n",
    "* `cast`: the list of actors in the film/series\n",
    "\n",
    "\n",
    "\n",
    "\n",
    "### Group Assignment Goal\n",
    "\n",
    "In this group assignment you will pick two famous actors and compare the distribution of ratings for films that these actors each apppear in.\n",
    "\n",
    "<p>&nbsp;</p>\n",
    "<table style=\"border: none;border-collapse: collapse;width:102pt;\">\n",
    "    <tbody>\n",
    "        <tr>\n",
    "            <td style=\"color:black;font-size:15px;font-weight:700;font-style:normal;text-decoration:none;font-family:Calibri, sans-serif;text-align:general;vertical-align:bottom;border:.5pt solid windowtext;height:14.25pt;width:51pt;\">Problem</td>\n",
    "            <td style=\"color:black;font-size:15px;font-weight:700;font-style:normal;text-decoration:none;font-family:Calibri, sans-serif;text-align:general;vertical-align:bottom;border:.5pt solid windowtext;border-left:none;width:51pt;\">Points</td>\n",
    "        </tr>\n",
    "        <tr>\n",
    "            <td style=\"color:black;font-size:15px;font-weight:400;font-style:normal;text-decoration:none;font-family:Calibri, sans-serif;text-align:right;vertical-align:bottom;border:.5pt solid windowtext;height:14.25pt;border-top:none;\">1</td>\n",
    "            <td style=\"color:black;font-size:15px;font-weight:400;font-style:normal;text-decoration:none;font-family:Calibri, sans-serif;text-align:right;vertical-align:bottom;border:.5pt solid windowtext;border-top:none;border-left:none;\">1.5</td>\n",
    "        </tr>\n",
    "        <tr>\n",
    "            <td style=\"color:black;font-size:15px;font-weight:400;font-style:normal;text-decoration:none;font-family:Calibri, sans-serif;text-align:right;vertical-align:bottom;border:.5pt solid windowtext;height:14.25pt;border-top:none;\">2.1</td>\n",
    "            <td style=\"color:black;font-size:15px;font-weight:400;font-style:normal;text-decoration:none;font-family:Calibri, sans-serif;text-align:right;vertical-align:bottom;border:.5pt solid windowtext;border-top:none;border-left:none;\">1.5</td>\n",
    "        </tr>\n",
    "        <tr>\n",
    "            <td style=\"color:black;font-size:15px;font-weight:400;font-style:normal;text-decoration:none;font-family:Calibri, sans-serif;text-align:right;vertical-align:bottom;border:.5pt solid windowtext;height:14.25pt;border-top:none;\">2.2</td>\n",
    "            <td style=\"color:black;font-size:15px;font-weight:400;font-style:normal;text-decoration:none;font-family:Calibri, sans-serif;text-align:right;vertical-align:bottom;border:.5pt solid windowtext;border-top:none;border-left:none;\">1.5</td>\n",
    "        </tr>\n",
    "        <tr>\n",
    "            <td style=\"color:black;font-size:15px;font-weight:400;font-style:normal;text-decoration:none;font-family:Calibri, sans-serif;text-align:right;vertical-align:bottom;border:.5pt solid windowtext;height:14.25pt;border-top:none;\">2.3</td>\n",
    "            <td style=\"color:black;font-size:15px;font-weight:400;font-style:normal;text-decoration:none;font-family:Calibri, sans-serif;text-align:right;vertical-align:bottom;border:.5pt solid windowtext;border-top:none;border-left:none;\">1.5</td>\n",
    "        </tr>\n",
    "        <tr>\n",
    "            <td style=\"color:black;font-size:15px;font-weight:400;font-style:normal;text-decoration:none;font-family:Calibri, sans-serif;text-align:right;vertical-align:bottom;border:.5pt solid windowtext;height:14.25pt;border-top:none;\">2.4</td>\n",
    "            <td style=\"color:black;font-size:15px;font-weight:400;font-style:normal;text-decoration:none;font-family:Calibri, sans-serif;text-align:right;vertical-align:bottom;border:.5pt solid windowtext;border-top:none;border-left:none;\">1.5</td>\n",
    "        </tr>\n",
    "        <tr>\n",
    "            <td style=\"color:black;font-size:15px;font-weight:400;font-style:normal;text-decoration:none;font-family:Calibri, sans-serif;text-align:right;vertical-align:bottom;border:.5pt solid windowtext;height:14.25pt;border-top:none;\">2.5</td>\n",
    "            <td style=\"color:black;font-size:15px;font-weight:400;font-style:normal;text-decoration:none;font-family:Calibri, sans-serif;text-align:right;vertical-align:bottom;border:.5pt solid windowtext;border-top:none;border-left:none;\">1.5</td>\n",
    "        </tr>\n",
    "        <tr>\n",
    "            <td style=\"color:black;font-size:15px;font-weight:400;font-style:normal;text-decoration:none;font-family:Calibri, sans-serif;text-align:right;vertical-align:bottom;border:.5pt solid windowtext;height:14.25pt;border-top:none;\">2.6</td>\n",
    "            <td style=\"color:black;font-size:15px;font-weight:400;font-style:normal;text-decoration:none;font-family:Calibri, sans-serif;text-align:right;vertical-align:bottom;border:.5pt solid windowtext;border-top:none;border-left:none;\">1.5</td>\n",
    "        </tr>\n",
    "        <tr>\n",
    "            <td style=\"color:black;font-size:15px;font-weight:400;font-style:normal;text-decoration:none;font-family:Calibri, sans-serif;text-align:right;vertical-align:bottom;border:.5pt solid windowtext;height:14.25pt;border-top:none;\">2.7</td>\n",
    "            <td style=\"color:black;font-size:15px;font-weight:400;font-style:normal;text-decoration:none;font-family:Calibri, sans-serif;text-align:right;vertical-align:bottom;border:.5pt solid windowtext;border-top:none;border-left:none;\">1.5</td>\n",
    "        </tr>\n",
    "        <tr>\n",
    "            <td style=\"color:black;font-size:15px;font-weight:400;font-style:normal;text-decoration:none;font-family:Calibri, sans-serif;text-align:right;vertical-align:bottom;border:.5pt solid windowtext;height:14.25pt;border-top:none;\">3.1</td>\n",
    "            <td style=\"color:black;font-size:15px;font-weight:400;font-style:normal;text-decoration:none;font-family:Calibri, sans-serif;text-align:right;vertical-align:bottom;border:.5pt solid windowtext;border-top:none;border-left:none;\">1.5</td>\n",
    "        </tr>\n",
    "        <tr>\n",
    "            <td style=\"color:black;font-size:15px;font-weight:400;font-style:normal;text-decoration:none;font-family:Calibri, sans-serif;text-align:right;vertical-align:bottom;border:.5pt solid windowtext;height:14.25pt;border-top:none;\">3.2</td>\n",
    "            <td style=\"color:black;font-size:15px;font-weight:400;font-style:normal;text-decoration:none;font-family:Calibri, sans-serif;text-align:right;vertical-align:bottom;border:.5pt solid windowtext;border-top:none;border-left:none;\">1.5</td>\n",
    "        </tr>\n",
    "        <tr>\n",
    "            <td style=\"color:black;font-size:15px;font-weight:400;font-style:normal;text-decoration:none;font-family:Calibri, sans-serif;text-align:right;vertical-align:bottom;border:.5pt solid windowtext;height:14.25pt;border-top:none;\">3.3</td>\n",
    "            <td style=\"color:black;font-size:15px;font-weight:400;font-style:normal;text-decoration:none;font-family:Calibri, sans-serif;text-align:right;vertical-align:bottom;border:.5pt solid windowtext;border-top:none;border-left:none;\">1.5</td>\n",
    "        </tr>\n",
    "        <tr>\n",
    "            <td style=\"color:black;font-size:15px;font-weight:400;font-style:normal;text-decoration:none;font-family:Calibri, sans-serif;text-align:right;vertical-align:bottom;border:.5pt solid windowtext;height:14.25pt;border-top:none;\">3.4</td>\n",
    "            <td style=\"color:black;font-size:15px;font-weight:400;font-style:normal;text-decoration:none;font-family:Calibri, sans-serif;text-align:right;vertical-align:bottom;border:.5pt solid windowtext;border-top:none;border-left:none;\">1.5</td>\n",
    "        </tr>\n",
    "        <tr>\n",
    "            <td style=\"color:black;font-size:15px;font-weight:400;font-style:normal;text-decoration:none;font-family:Calibri, sans-serif;text-align:right;vertical-align:bottom;border:.5pt solid windowtext;height:14.25pt;border-top:none;\">3.5</td>\n",
    "            <td style=\"color:black;font-size:15px;font-weight:400;font-style:normal;text-decoration:none;font-family:Calibri, sans-serif;text-align:right;vertical-align:bottom;border:.5pt solid windowtext;border-top:none;border-left:none;\">1.5</td>\n",
    "        </tr>\n",
    "        <tr>\n",
    "            <td style=\"color:black;font-size:15px;font-weight:400;font-style:normal;text-decoration:none;font-family:Calibri, sans-serif;text-align:right;vertical-align:bottom;border:.5pt solid windowtext;height:14.25pt;border-top:none;\">4</td>\n",
    "            <td style=\"color:black;font-size:15px;font-weight:400;font-style:normal;text-decoration:none;font-family:Calibri, sans-serif;text-align:right;vertical-align:bottom;border:.5pt solid windowtext;border-top:none;border-left:none;\">1.5</td>\n",
    "        </tr>\n",
    "    </tbody>\n",
    "</table>\n",
    "\n",
    "\n"
   ]
  },
  {
   "cell_type": "code",
   "execution_count": 2,
   "metadata": {},
   "outputs": [],
   "source": [
    "import pandas as pd\n",
    "import numpy as np\n",
    "import seaborn as sns\n",
    "import matplotlib.pyplot as plt"
   ]
  },
  {
   "cell_type": "markdown",
   "metadata": {},
   "source": [
    "## 1. IMDB Dataset\n",
    "\n",
    "### 1.1. Reading the csv\n",
    "\n",
    "1. Read the `imdb.csv` into a dataframe. The strings that are used to represent missing values in this csv file are `No Rate`, `No Votes`, and `None`. Make sure that these values are converted to NaN values when you read the csv file.\n",
    "2. Show the first 5 rows.\n",
    "3. Show how many rows this dataframe has."
   ]
  },
  {
   "cell_type": "code",
   "execution_count": 3,
   "metadata": {},
   "outputs": [
    {
     "data": {
      "text/html": [
       "<div>\n",
       "<style scoped>\n",
       "    .dataframe tbody tr th:only-of-type {\n",
       "        vertical-align: middle;\n",
       "    }\n",
       "\n",
       "    .dataframe tbody tr th {\n",
       "        vertical-align: top;\n",
       "    }\n",
       "\n",
       "    .dataframe thead th {\n",
       "        text-align: right;\n",
       "    }\n",
       "</style>\n",
       "<table border=\"1\" class=\"dataframe\">\n",
       "  <thead>\n",
       "    <tr style=\"text-align: right;\">\n",
       "      <th></th>\n",
       "      <th>Name</th>\n",
       "      <th>Date</th>\n",
       "      <th>Rate</th>\n",
       "      <th>Votes</th>\n",
       "      <th>Genre</th>\n",
       "      <th>Duration</th>\n",
       "      <th>Type</th>\n",
       "      <th>Certificate</th>\n",
       "      <th>Nudity</th>\n",
       "      <th>Violence</th>\n",
       "      <th>Profanity</th>\n",
       "      <th>Alcohol</th>\n",
       "      <th>Frightening</th>\n",
       "    </tr>\n",
       "  </thead>\n",
       "  <tbody>\n",
       "    <tr>\n",
       "      <th>0</th>\n",
       "      <td>No Time to Die</td>\n",
       "      <td>2021</td>\n",
       "      <td>7.6</td>\n",
       "      <td>107163.0</td>\n",
       "      <td>Action, Adventure, Thriller</td>\n",
       "      <td>163.0</td>\n",
       "      <td>Film</td>\n",
       "      <td>PG-13</td>\n",
       "      <td>Mild</td>\n",
       "      <td>Moderate</td>\n",
       "      <td>Mild</td>\n",
       "      <td>Mild</td>\n",
       "      <td>Moderate</td>\n",
       "    </tr>\n",
       "    <tr>\n",
       "      <th>1</th>\n",
       "      <td>The Guilty</td>\n",
       "      <td>2021</td>\n",
       "      <td>6.3</td>\n",
       "      <td>64375.0</td>\n",
       "      <td>Crime, Drama, Thriller</td>\n",
       "      <td>90.0</td>\n",
       "      <td>Film</td>\n",
       "      <td>R</td>\n",
       "      <td>NaN</td>\n",
       "      <td>NaN</td>\n",
       "      <td>Severe</td>\n",
       "      <td>NaN</td>\n",
       "      <td>Moderate</td>\n",
       "    </tr>\n",
       "    <tr>\n",
       "      <th>2</th>\n",
       "      <td>The Many Saints of Newark</td>\n",
       "      <td>2021</td>\n",
       "      <td>6.4</td>\n",
       "      <td>27145.0</td>\n",
       "      <td>Crime, Drama</td>\n",
       "      <td>120.0</td>\n",
       "      <td>Film</td>\n",
       "      <td>R</td>\n",
       "      <td>Moderate</td>\n",
       "      <td>Severe</td>\n",
       "      <td>Severe</td>\n",
       "      <td>Moderate</td>\n",
       "      <td>Moderate</td>\n",
       "    </tr>\n",
       "    <tr>\n",
       "      <th>3</th>\n",
       "      <td>Venom: Let There Be Carnage</td>\n",
       "      <td>2021</td>\n",
       "      <td>6.4</td>\n",
       "      <td>30443.0</td>\n",
       "      <td>Action, Adventure, Sci-Fi</td>\n",
       "      <td>97.0</td>\n",
       "      <td>Film</td>\n",
       "      <td>PG-13</td>\n",
       "      <td>NaN</td>\n",
       "      <td>Moderate</td>\n",
       "      <td>Moderate</td>\n",
       "      <td>Mild</td>\n",
       "      <td>Moderate</td>\n",
       "    </tr>\n",
       "    <tr>\n",
       "      <th>4</th>\n",
       "      <td>Dune</td>\n",
       "      <td>2021</td>\n",
       "      <td>8.3</td>\n",
       "      <td>84636.0</td>\n",
       "      <td>Action, Adventure, Drama</td>\n",
       "      <td>155.0</td>\n",
       "      <td>Film</td>\n",
       "      <td>PG-13</td>\n",
       "      <td>NaN</td>\n",
       "      <td>Moderate</td>\n",
       "      <td>NaN</td>\n",
       "      <td>Mild</td>\n",
       "      <td>Moderate</td>\n",
       "    </tr>\n",
       "  </tbody>\n",
       "</table>\n",
       "</div>"
      ],
      "text/plain": [
       "                          Name  Date  Rate     Votes  \\\n",
       "0               No Time to Die  2021   7.6  107163.0   \n",
       "1                   The Guilty  2021   6.3   64375.0   \n",
       "2    The Many Saints of Newark  2021   6.4   27145.0   \n",
       "3  Venom: Let There Be Carnage  2021   6.4   30443.0   \n",
       "4                         Dune  2021   8.3   84636.0   \n",
       "\n",
       "                         Genre  Duration  Type Certificate    Nudity  \\\n",
       "0  Action, Adventure, Thriller     163.0  Film       PG-13      Mild   \n",
       "1       Crime, Drama, Thriller      90.0  Film           R       NaN   \n",
       "2                 Crime, Drama     120.0  Film           R  Moderate   \n",
       "3    Action, Adventure, Sci-Fi      97.0  Film       PG-13       NaN   \n",
       "4     Action, Adventure, Drama     155.0  Film       PG-13       NaN   \n",
       "\n",
       "   Violence Profanity   Alcohol Frightening  \n",
       "0  Moderate      Mild      Mild    Moderate  \n",
       "1       NaN    Severe       NaN    Moderate  \n",
       "2    Severe    Severe  Moderate    Moderate  \n",
       "3  Moderate  Moderate      Mild    Moderate  \n",
       "4  Moderate       NaN      Mild    Moderate  "
      ]
     },
     "execution_count": 3,
     "metadata": {},
     "output_type": "execute_result"
    }
   ],
   "source": [
    "imdb = pd.read_csv('imdb.csv', na_values=['None', 'No Rate', 'No Votes'])\n",
    "imdb.head(5)"
   ]
  },
  {
   "cell_type": "code",
   "execution_count": 4,
   "metadata": {
    "scrolled": true
   },
   "outputs": [
    {
     "data": {
      "text/plain": [
       "(6178, 13)"
      ]
     },
     "execution_count": 4,
     "metadata": {},
     "output_type": "execute_result"
    }
   ],
   "source": [
    "imdb.shape"
   ]
  },
  {
   "cell_type": "markdown",
   "metadata": {},
   "source": [
    "### 1.2. Missing Value Cleaning\n",
    "\n",
    "1. First create a dataframe that only contains the the columns that we care about for this pre-analsys: `Name`, `Rate`, `Date`, and `Type`.\n",
    "2. Then drop all rows with NaN values from this dataframe.\n",
    "3. How many rows did we drop?"
   ]
  },
  {
   "cell_type": "code",
   "execution_count": 6,
   "metadata": {},
   "outputs": [],
   "source": [
    "imdb_NRDT = imdb[['Name','Rate','Date','Type']]\n",
    "imdb_NRDT_dropped = imdb_NRDT.dropna()"
   ]
  },
  {
   "cell_type": "code",
   "execution_count": 9,
   "metadata": {},
   "outputs": [
    {
     "data": {
      "text/plain": [
       "185"
      ]
     },
     "execution_count": 9,
     "metadata": {},
     "output_type": "execute_result"
    }
   ],
   "source": [
    "imdb_NRDT.shape[0] - imdb_NRDT_dropped.shape[0]"
   ]
  },
  {
   "cell_type": "markdown",
   "metadata": {},
   "source": [
    "185 rows were dropped."
   ]
  },
  {
   "cell_type": "markdown",
   "metadata": {},
   "source": [
    "### 1.3. Looking for Duplicate Names\n",
    "\n",
    "#### 1.3.1. Duplicate Example\n",
    "\n",
    "Create a dataframe that is only comprised of rows with the Name 'Twin Peaks'.\n",
    "\n"
   ]
  },
  {
   "cell_type": "code",
   "execution_count": 11,
   "metadata": {},
   "outputs": [],
   "source": [
    "TPs = imdb_NRDT_dropped[imdb_NRDT_dropped.Name == 'Twin Peaks']"
   ]
  },
  {
   "cell_type": "markdown",
   "metadata": {},
   "source": [
    "#### 1.3.2. List of Non-Duplicated Movie Names\n",
    "\n",
    "Unfortunately, what you'll see in 1.3.1 is that there are multiple 'Twin Peaks' series with the same `Name` (and Date for that matter), but a different set of other values.\n",
    "\n",
    "It's possible that this series is a **duplicate** and/orrepresents some sort of \"entry error\" on the part of whoever compiled this dataset. Unfortunately, duplicate or \"entry error\" rows in a dataframe can complicate our analyses.\n",
    "\n",
    "To make things easier for our analysis, let's create a list of all movie `Names` in this dataframe that have ONLY ONE ROW in the dataset that corresponds to it.\n"
   ]
  },
  {
   "cell_type": "code",
   "execution_count": 12,
   "metadata": {},
   "outputs": [
    {
     "data": {
      "text/plain": [
       "Name\n",
       "King Kong                                 5\n",
       "The Mummy                                 4\n",
       "The Equalizer                             4\n",
       "Lost in Space                             4\n",
       "Rogue                                     4\n",
       "                                         ..\n",
       "Russian Doll                              1\n",
       "Sseulsseulhago Chalranhashin: Dokkaebi    1\n",
       "Warning                                   1\n",
       "Hitmen                                    1\n",
       "Blackhat                                  1\n",
       "Name: count, Length: 4678, dtype: int64"
      ]
     },
     "execution_count": 12,
     "metadata": {},
     "output_type": "execute_result"
    }
   ],
   "source": [
    "noDupCnt = imdb_NRDT_dropped['Name'].value_counts()\n",
    "noDupCnt"
   ]
  },
  {
   "cell_type": "code",
   "execution_count": 17,
   "metadata": {},
   "outputs": [],
   "source": [
    "OneCnt = noDupCnt[noDupCnt == 1]\n",
    "OneCnt\n",
    "OneCntInd = OneCnt.index"
   ]
  },
  {
   "cell_type": "markdown",
   "metadata": {},
   "source": [
    "#### 1.3.3. Dropping Movies with Duplicate Names\n",
    "\n",
    "Finally, use this `Name` list from 1.3.2 to drop all rows that correspond to a `Name` that had more than one row assigned to it. (Or in other words drop the movies that we considered \"duplicates\").\n",
    "\n",
    "How many additional rows did you drop?"
   ]
  },
  {
   "cell_type": "code",
   "execution_count": 18,
   "metadata": {},
   "outputs": [
    {
     "data": {
      "text/html": [
       "<div>\n",
       "<style scoped>\n",
       "    .dataframe tbody tr th:only-of-type {\n",
       "        vertical-align: middle;\n",
       "    }\n",
       "\n",
       "    .dataframe tbody tr th {\n",
       "        vertical-align: top;\n",
       "    }\n",
       "\n",
       "    .dataframe thead th {\n",
       "        text-align: right;\n",
       "    }\n",
       "</style>\n",
       "<table border=\"1\" class=\"dataframe\">\n",
       "  <thead>\n",
       "    <tr style=\"text-align: right;\">\n",
       "      <th></th>\n",
       "      <th>Name</th>\n",
       "      <th>Rate</th>\n",
       "      <th>Date</th>\n",
       "      <th>Type</th>\n",
       "    </tr>\n",
       "  </thead>\n",
       "  <tbody>\n",
       "    <tr>\n",
       "      <th>0</th>\n",
       "      <td>No Time to Die</td>\n",
       "      <td>7.6</td>\n",
       "      <td>2021</td>\n",
       "      <td>Film</td>\n",
       "    </tr>\n",
       "    <tr>\n",
       "      <th>2</th>\n",
       "      <td>The Many Saints of Newark</td>\n",
       "      <td>6.4</td>\n",
       "      <td>2021</td>\n",
       "      <td>Film</td>\n",
       "    </tr>\n",
       "    <tr>\n",
       "      <th>3</th>\n",
       "      <td>Venom: Let There Be Carnage</td>\n",
       "      <td>6.4</td>\n",
       "      <td>2021</td>\n",
       "      <td>Film</td>\n",
       "    </tr>\n",
       "    <tr>\n",
       "      <th>5</th>\n",
       "      <td>Ted Lasso</td>\n",
       "      <td>8.8</td>\n",
       "      <td>2021</td>\n",
       "      <td>Series</td>\n",
       "    </tr>\n",
       "    <tr>\n",
       "      <th>6</th>\n",
       "      <td>Free Guy</td>\n",
       "      <td>7.3</td>\n",
       "      <td>2021</td>\n",
       "      <td>Film</td>\n",
       "    </tr>\n",
       "    <tr>\n",
       "      <th>...</th>\n",
       "      <td>...</td>\n",
       "      <td>...</td>\n",
       "      <td>...</td>\n",
       "      <td>...</td>\n",
       "    </tr>\n",
       "    <tr>\n",
       "      <th>3873</th>\n",
       "      <td>Sinister 2</td>\n",
       "      <td>5.3</td>\n",
       "      <td>2015</td>\n",
       "      <td>Film</td>\n",
       "    </tr>\n",
       "    <tr>\n",
       "      <th>3874</th>\n",
       "      <td>Weekend at Bernie's</td>\n",
       "      <td>6.4</td>\n",
       "      <td>1989</td>\n",
       "      <td>Film</td>\n",
       "    </tr>\n",
       "    <tr>\n",
       "      <th>3875</th>\n",
       "      <td>È stata la mano di Dio</td>\n",
       "      <td>7.3</td>\n",
       "      <td>2021</td>\n",
       "      <td>Film</td>\n",
       "    </tr>\n",
       "    <tr>\n",
       "      <th>3876</th>\n",
       "      <td>Mud</td>\n",
       "      <td>7.4</td>\n",
       "      <td>2012</td>\n",
       "      <td>Film</td>\n",
       "    </tr>\n",
       "    <tr>\n",
       "      <th>3877</th>\n",
       "      <td>La pianiste</td>\n",
       "      <td>7.5</td>\n",
       "      <td>2001</td>\n",
       "      <td>Film</td>\n",
       "    </tr>\n",
       "  </tbody>\n",
       "</table>\n",
       "<p>3433 rows × 4 columns</p>\n",
       "</div>"
      ],
      "text/plain": [
       "                             Name  Rate  Date    Type\n",
       "0                  No Time to Die   7.6  2021    Film\n",
       "2       The Many Saints of Newark   6.4  2021    Film\n",
       "3     Venom: Let There Be Carnage   6.4  2021    Film\n",
       "5                       Ted Lasso   8.8  2021  Series\n",
       "6                        Free Guy   7.3  2021    Film\n",
       "...                           ...   ...   ...     ...\n",
       "3873                   Sinister 2   5.3  2015    Film\n",
       "3874          Weekend at Bernie's   6.4  1989    Film\n",
       "3875       È stata la mano di Dio   7.3  2021    Film\n",
       "3876                          Mud   7.4  2012    Film\n",
       "3877                  La pianiste   7.5  2001    Film\n",
       "\n",
       "[3433 rows x 4 columns]"
      ]
     },
     "execution_count": 18,
     "metadata": {},
     "output_type": "execute_result"
    }
   ],
   "source": [
    "NRDTName = imdb_NRDT_dropped[imdb_NRDT_dropped['Name'].isin(OneCntInd)]\n",
    "NRDTName"
   ]
  },
  {
   "cell_type": "code",
   "execution_count": 19,
   "metadata": {},
   "outputs": [
    {
     "data": {
      "text/plain": [
       "2560"
      ]
     },
     "execution_count": 19,
     "metadata": {},
     "output_type": "execute_result"
    }
   ],
   "source": [
    "imdb_NRDT_dropped.shape[0] - NRDTName.shape[0] "
   ]
  },
  {
   "cell_type": "markdown",
   "metadata": {},
   "source": [
    "## 2. ReelView Dataset\n",
    "\n",
    "### 2.1. Reading the csv\n",
    "\n",
    "1. Read the `ReelView.csv` into a dataframe. The strings that are used to represent missing values in this csv file are \"\". So your pd.read_csv() function should automatically convert these values to NaN without you having to specify that \"\" is a missing value string.\n",
    "2. Show the first 5 rows.\n",
    "3. Show how many rows this dataframe has."
   ]
  },
  {
   "cell_type": "code",
   "execution_count": 20,
   "metadata": {},
   "outputs": [
    {
     "data": {
      "text/plain": [
       "(3990, 4)"
      ]
     },
     "execution_count": 20,
     "metadata": {},
     "output_type": "execute_result"
    }
   ],
   "source": [
    "RV = pd.read_csv('ReelView.csv')\n",
    "RV.shape"
   ]
  },
  {
   "cell_type": "code",
   "execution_count": 21,
   "metadata": {},
   "outputs": [
    {
     "data": {
      "text/html": [
       "<div>\n",
       "<style scoped>\n",
       "    .dataframe tbody tr th:only-of-type {\n",
       "        vertical-align: middle;\n",
       "    }\n",
       "\n",
       "    .dataframe tbody tr th {\n",
       "        vertical-align: top;\n",
       "    }\n",
       "\n",
       "    .dataframe thead th {\n",
       "        text-align: right;\n",
       "    }\n",
       "</style>\n",
       "<table border=\"1\" class=\"dataframe\">\n",
       "  <thead>\n",
       "    <tr style=\"text-align: right;\">\n",
       "      <th></th>\n",
       "      <th>title</th>\n",
       "      <th>release_date</th>\n",
       "      <th>director</th>\n",
       "      <th>cast</th>\n",
       "    </tr>\n",
       "  </thead>\n",
       "  <tbody>\n",
       "    <tr>\n",
       "      <th>0</th>\n",
       "      <td>Terms of Endearment</td>\n",
       "      <td>1983.0</td>\n",
       "      <td>James L. Brooks</td>\n",
       "      <td>Shirley MacLaine, Debra Winger, Jack Nicholson...</td>\n",
       "    </tr>\n",
       "    <tr>\n",
       "      <th>1</th>\n",
       "      <td>1917</td>\n",
       "      <td>2019.0</td>\n",
       "      <td>Sam Mendes</td>\n",
       "      <td>George MacKay, Dean-Charles Chapman</td>\n",
       "    </tr>\n",
       "    <tr>\n",
       "      <th>2</th>\n",
       "      <td>Spies in Disguise</td>\n",
       "      <td>2019.0</td>\n",
       "      <td>Nick Bruno, Troy Quane</td>\n",
       "      <td>Will Smith, Tom Holland, Rashida Jones, Ben Me...</td>\n",
       "    </tr>\n",
       "    <tr>\n",
       "      <th>3</th>\n",
       "      <td>Just Mercy</td>\n",
       "      <td>2019.0</td>\n",
       "      <td>Destin Daniel Cretton</td>\n",
       "      <td>Michael B. Jordan, Jamie Foxx, Brie Larson, Ti...</td>\n",
       "    </tr>\n",
       "    <tr>\n",
       "      <th>4</th>\n",
       "      <td>Little Women</td>\n",
       "      <td>2019.0</td>\n",
       "      <td>Greta Gerwig</td>\n",
       "      <td>Saoirse Ronan, Chris Cooper, Louis Garrel, Jam...</td>\n",
       "    </tr>\n",
       "  </tbody>\n",
       "</table>\n",
       "</div>"
      ],
      "text/plain": [
       "                 title  release_date                director  \\\n",
       "0  Terms of Endearment        1983.0         James L. Brooks   \n",
       "1                 1917        2019.0              Sam Mendes   \n",
       "2    Spies in Disguise        2019.0  Nick Bruno, Troy Quane   \n",
       "3           Just Mercy        2019.0   Destin Daniel Cretton   \n",
       "4         Little Women        2019.0            Greta Gerwig   \n",
       "\n",
       "                                                cast  \n",
       "0  Shirley MacLaine, Debra Winger, Jack Nicholson...  \n",
       "1                George MacKay, Dean-Charles Chapman  \n",
       "2  Will Smith, Tom Holland, Rashida Jones, Ben Me...  \n",
       "3  Michael B. Jordan, Jamie Foxx, Brie Larson, Ti...  \n",
       "4  Saoirse Ronan, Chris Cooper, Louis Garrel, Jam...  "
      ]
     },
     "execution_count": 21,
     "metadata": {},
     "output_type": "execute_result"
    }
   ],
   "source": [
    "RV.head(5)"
   ]
  },
  {
   "cell_type": "markdown",
   "metadata": {},
   "source": [
    "### 2.2. Missing Value Cleaning\n",
    "1. First create a dataframe that only contains the the columns that we care about for this pre-analsys: `title`, `release_date`, and `cast`.\n",
    "2. Then drop all rows with NaN values from this dataframe.\n",
    "3. How many rows did we drop?"
   ]
  },
  {
   "cell_type": "code",
   "execution_count": 24,
   "metadata": {},
   "outputs": [],
   "source": [
    "RV_TRC = RV[['title','release_date','cast']]\n",
    "TRC_dropped = RV_TRC.dropna()"
   ]
  },
  {
   "cell_type": "code",
   "execution_count": 25,
   "metadata": {},
   "outputs": [
    {
     "data": {
      "text/plain": [
       "296"
      ]
     },
     "execution_count": 25,
     "metadata": {},
     "output_type": "execute_result"
    }
   ],
   "source": [
    "RV_TRC.shape[0]-TRC_dropped.shape[0]\n"
   ]
  },
  {
   "cell_type": "markdown",
   "metadata": {},
   "source": [
    "296 rows dropped."
   ]
  },
  {
   "cell_type": "markdown",
   "metadata": {},
   "source": [
    "### 2.3. Duplicate Name Cleaning\n",
    "\n",
    "#### 2.3.1. List of Non-Duplicated Movie Names\n",
    "\n",
    "Create a list of all movie `title`s in this dataframe that have ONLY ONE ROW in the dataset that corresponds to it."
   ]
  },
  {
   "cell_type": "code",
   "execution_count": 26,
   "metadata": {},
   "outputs": [],
   "source": [
    "TCnt = TRC_dropped['title'].value_counts()"
   ]
  },
  {
   "cell_type": "code",
   "execution_count": 27,
   "metadata": {},
   "outputs": [],
   "source": [
    "TSingleCnt = TCnt[TCnt == 1]"
   ]
  },
  {
   "cell_type": "markdown",
   "metadata": {},
   "source": [
    "#### 2.3.2. Dropping Movies with Duplicate Names\n",
    "\n",
    "Finally, use this `title` list from 2.3.1 to drop all rows that correspond to a `title` that had more than one row assigned to it. (Or in other words drop the movies that we considered \"duplicates\").\n",
    "\n",
    "How many additional rows did you drop?"
   ]
  },
  {
   "cell_type": "code",
   "execution_count": 29,
   "metadata": {},
   "outputs": [
    {
     "data": {
      "text/html": [
       "<div>\n",
       "<style scoped>\n",
       "    .dataframe tbody tr th:only-of-type {\n",
       "        vertical-align: middle;\n",
       "    }\n",
       "\n",
       "    .dataframe tbody tr th {\n",
       "        vertical-align: top;\n",
       "    }\n",
       "\n",
       "    .dataframe thead th {\n",
       "        text-align: right;\n",
       "    }\n",
       "</style>\n",
       "<table border=\"1\" class=\"dataframe\">\n",
       "  <thead>\n",
       "    <tr style=\"text-align: right;\">\n",
       "      <th></th>\n",
       "      <th>title</th>\n",
       "      <th>release_date</th>\n",
       "      <th>cast</th>\n",
       "    </tr>\n",
       "  </thead>\n",
       "  <tbody>\n",
       "    <tr>\n",
       "      <th>0</th>\n",
       "      <td>Terms of Endearment</td>\n",
       "      <td>1983.0</td>\n",
       "      <td>Shirley MacLaine, Debra Winger, Jack Nicholson...</td>\n",
       "    </tr>\n",
       "    <tr>\n",
       "      <th>1</th>\n",
       "      <td>1917</td>\n",
       "      <td>2019.0</td>\n",
       "      <td>George MacKay, Dean-Charles Chapman</td>\n",
       "    </tr>\n",
       "    <tr>\n",
       "      <th>2</th>\n",
       "      <td>Spies in Disguise</td>\n",
       "      <td>2019.0</td>\n",
       "      <td>Will Smith, Tom Holland, Rashida Jones, Ben Me...</td>\n",
       "    </tr>\n",
       "    <tr>\n",
       "      <th>3</th>\n",
       "      <td>Just Mercy</td>\n",
       "      <td>2019.0</td>\n",
       "      <td>Michael B. Jordan, Jamie Foxx, Brie Larson, Ti...</td>\n",
       "    </tr>\n",
       "    <tr>\n",
       "      <th>5</th>\n",
       "      <td>Bombshell</td>\n",
       "      <td>2019.0</td>\n",
       "      <td>Charlize Theron, Nicole Kidman, Margot Robbie,...</td>\n",
       "    </tr>\n",
       "    <tr>\n",
       "      <th>...</th>\n",
       "      <td>...</td>\n",
       "      <td>...</td>\n",
       "      <td>...</td>\n",
       "    </tr>\n",
       "    <tr>\n",
       "      <th>3985</th>\n",
       "      <td>Music of Chance, The</td>\n",
       "      <td>1993.0</td>\n",
       "      <td>Mandy Patinkin, James Spader, M. Emmet Walsh, ...</td>\n",
       "    </tr>\n",
       "    <tr>\n",
       "      <th>3986</th>\n",
       "      <td>Ultraviolet</td>\n",
       "      <td>2006.0</td>\n",
       "      <td>Milla Jovovich, Cameron Bright, Nick Chinlund,...</td>\n",
       "    </tr>\n",
       "    <tr>\n",
       "      <th>3987</th>\n",
       "      <td>Speed 2</td>\n",
       "      <td>1997.0</td>\n",
       "      <td>Sandra Bullock, Jason Patric, Willem Dafoe, Te...</td>\n",
       "    </tr>\n",
       "    <tr>\n",
       "      <th>3988</th>\n",
       "      <td>Ex, The</td>\n",
       "      <td>2007.0</td>\n",
       "      <td>Zach Braff, Amanda Peet, Jason Bateman, Charle...</td>\n",
       "    </tr>\n",
       "    <tr>\n",
       "      <th>3989</th>\n",
       "      <td>Venus</td>\n",
       "      <td>2006.0</td>\n",
       "      <td>Peter O'Toole, Jodie Whittaker, Leslie Phillip...</td>\n",
       "    </tr>\n",
       "  </tbody>\n",
       "</table>\n",
       "<p>3550 rows × 3 columns</p>\n",
       "</div>"
      ],
      "text/plain": [
       "                     title  release_date  \\\n",
       "0      Terms of Endearment        1983.0   \n",
       "1                     1917        2019.0   \n",
       "2        Spies in Disguise        2019.0   \n",
       "3               Just Mercy        2019.0   \n",
       "5                Bombshell        2019.0   \n",
       "...                    ...           ...   \n",
       "3985  Music of Chance, The        1993.0   \n",
       "3986           Ultraviolet        2006.0   \n",
       "3987               Speed 2        1997.0   \n",
       "3988               Ex, The        2007.0   \n",
       "3989                 Venus        2006.0   \n",
       "\n",
       "                                                   cast  \n",
       "0     Shirley MacLaine, Debra Winger, Jack Nicholson...  \n",
       "1                   George MacKay, Dean-Charles Chapman  \n",
       "2     Will Smith, Tom Holland, Rashida Jones, Ben Me...  \n",
       "3     Michael B. Jordan, Jamie Foxx, Brie Larson, Ti...  \n",
       "5     Charlize Theron, Nicole Kidman, Margot Robbie,...  \n",
       "...                                                 ...  \n",
       "3985  Mandy Patinkin, James Spader, M. Emmet Walsh, ...  \n",
       "3986  Milla Jovovich, Cameron Bright, Nick Chinlund,...  \n",
       "3987  Sandra Bullock, Jason Patric, Willem Dafoe, Te...  \n",
       "3988  Zach Braff, Amanda Peet, Jason Bateman, Charle...  \n",
       "3989  Peter O'Toole, Jodie Whittaker, Leslie Phillip...  \n",
       "\n",
       "[3550 rows x 3 columns]"
      ]
     },
     "execution_count": 29,
     "metadata": {},
     "output_type": "execute_result"
    }
   ],
   "source": [
    "RV_T = TRC_dropped[TRC_dropped['title'].isin(TSingleCnt.index)]\n",
    "RV_T"
   ]
  },
  {
   "cell_type": "code",
   "execution_count": 30,
   "metadata": {},
   "outputs": [
    {
     "data": {
      "text/plain": [
       "144"
      ]
     },
     "execution_count": 30,
     "metadata": {},
     "output_type": "execute_result"
    }
   ],
   "source": [
    "TRC_dropped.shape[0] - RV_T.shape[0]"
   ]
  },
  {
   "cell_type": "markdown",
   "metadata": {},
   "source": [
    "Dropped 144 rows."
   ]
  },
  {
   "cell_type": "markdown",
   "metadata": {},
   "source": [
    "## 3. Merging the Two Dataframes\n",
    "\n",
    "We'd next like to merge these two cleaned dataframes on the `Name` (ie. `title`) of the film/series.\n",
    "\n",
    "### 3.1. Outer Join Merge\n",
    "\n",
    "First, it's possible that not every `Name` in the ratings dataframe may have a match to every `title` in the actors dataframe, and vice versa. To help us assess how many movies in each dataframe don't have a match, let's first perform an **outer join** merge of the two dataframes on the `Name` (ie. `title`) of the movie/film."
   ]
  },
  {
   "cell_type": "code",
   "execution_count": 31,
   "metadata": {},
   "outputs": [],
   "source": [
    "merged_df = pd.merge(RV_T, NRDTName,\n",
    "            how = 'outer',\n",
    "            left_on = ['title'],\n",
    "            right_on = ['Name'])"
   ]
  },
  {
   "cell_type": "markdown",
   "metadata": {},
   "source": [
    "### 3.2. Rating Dataset `Names` with No Match\n",
    "\n",
    "First, how many movie `Names` in our ratings dataframe did not have a match with a movie `title` in our actors dataframe?\n",
    "\n",
    "Hint: The **.isna().sum()** functions might help you."
   ]
  },
  {
   "cell_type": "code",
   "execution_count": 32,
   "metadata": {},
   "outputs": [
    {
     "data": {
      "text/plain": [
       "2627"
      ]
     },
     "execution_count": 32,
     "metadata": {},
     "output_type": "execute_result"
    }
   ],
   "source": [
    "merged_df['Name'].isna().sum()"
   ]
  },
  {
   "cell_type": "markdown",
   "metadata": {},
   "source": [
    "2627 names have no match."
   ]
  },
  {
   "cell_type": "markdown",
   "metadata": {},
   "source": [
    "### 3.3. Actor Dataset `titles` with No Match\n",
    "\n",
    "Next, how many movie `titles` in our actors dataframe did not have a match with a movie `Name` in our ratings dataframe?\n",
    "\n",
    "Hint: The **.isna().sum()** functions might help you."
   ]
  },
  {
   "cell_type": "code",
   "execution_count": 33,
   "metadata": {},
   "outputs": [
    {
     "data": {
      "text/plain": [
       "2510"
      ]
     },
     "execution_count": 33,
     "metadata": {},
     "output_type": "execute_result"
    }
   ],
   "source": [
    "merged_df['title'].isna().sum()"
   ]
  },
  {
   "cell_type": "markdown",
   "metadata": {},
   "source": [
    "2510 titles have no match."
   ]
  },
  {
   "cell_type": "markdown",
   "metadata": {},
   "source": [
    "### 3.4. Inner Join Merge\n",
    "\n",
    "Let's next perform an **inner join** merge of ratings dataframe and the actors dataframe on the `Name` (ie. `title`) of the movie/film."
   ]
  },
  {
   "cell_type": "code",
   "execution_count": 34,
   "metadata": {},
   "outputs": [],
   "source": [
    "merged_dfI = pd.merge(RV_T, NRDTName,\n",
    "            how = 'inner',\n",
    "            left_on = ['title'],\n",
    "            right_on = ['Name'])"
   ]
  },
  {
   "cell_type": "markdown",
   "metadata": {},
   "source": [
    "### 3.5. Rating and Actor Dataset `Name`(`title`) Matches\n",
    "\n",
    "How many `Name`(`title`) matches were there in the rating and actor dataset?"
   ]
  },
  {
   "cell_type": "code",
   "execution_count": 35,
   "metadata": {},
   "outputs": [
    {
     "data": {
      "text/plain": [
       "923"
      ]
     },
     "execution_count": 35,
     "metadata": {},
     "output_type": "execute_result"
    }
   ],
   "source": [
    "len(merged_dfI)"
   ]
  },
  {
   "cell_type": "markdown",
   "metadata": {},
   "source": [
    "We have 923 matches."
   ]
  },
  {
   "cell_type": "markdown",
   "metadata": {},
   "source": [
    "### 3.6. Representativeness of the Merged Dataset\n",
    "\n",
    "Would you be comfortable stating that this new joined dataset is *representative* of the ratings of all the POPULAR films/series that were listed in our original `imdb.csv` file? Why or why not?"
   ]
  },
  {
   "cell_type": "markdown",
   "metadata": {},
   "source": [
    "The inner-joined dataset doesn't include all movies from the original `imdb.csv`. It represents matches without considering popularity during the merge or new dataframe creation."
   ]
  },
  {
   "cell_type": "markdown",
   "metadata": {},
   "source": [
    "## 4. Creating Famous Actor Variables\n",
    "\n",
    "### 4.1. Famous Actor Variable 1: CHOOSE YOUR OWN\n",
    "\n",
    "Use this merged dataframe from #3.4 to create a new variable that indicates whether or not a famous actor was in the film. You can choose your own famous actor. Make sure that it's an actor in at least one film in this merged dataframe from #3.4."
   ]
  },
  {
   "cell_type": "code",
   "execution_count": 37,
   "metadata": {},
   "outputs": [
    {
     "data": {
      "text/plain": [
       "5"
      ]
     },
     "execution_count": 37,
     "metadata": {},
     "output_type": "execute_result"
    }
   ],
   "source": [
    "castCHK = merged_dfI['cast'].apply(lambda x: ('Sandra Bullock' in x))\n",
    "castCHK.sum()"
   ]
  },
  {
   "cell_type": "code",
   "execution_count": 39,
   "metadata": {},
   "outputs": [
    {
     "data": {
      "text/html": [
       "<div>\n",
       "<style scoped>\n",
       "    .dataframe tbody tr th:only-of-type {\n",
       "        vertical-align: middle;\n",
       "    }\n",
       "\n",
       "    .dataframe tbody tr th {\n",
       "        vertical-align: top;\n",
       "    }\n",
       "\n",
       "    .dataframe thead th {\n",
       "        text-align: right;\n",
       "    }\n",
       "</style>\n",
       "<table border=\"1\" class=\"dataframe\">\n",
       "  <thead>\n",
       "    <tr style=\"text-align: right;\">\n",
       "      <th></th>\n",
       "      <th>title</th>\n",
       "      <th>release_date</th>\n",
       "      <th>cast</th>\n",
       "      <th>Name</th>\n",
       "      <th>Rate</th>\n",
       "      <th>Date</th>\n",
       "      <th>Type</th>\n",
       "      <th>Sandra Bullock</th>\n",
       "    </tr>\n",
       "  </thead>\n",
       "  <tbody>\n",
       "    <tr>\n",
       "      <th>0</th>\n",
       "      <td>1917</td>\n",
       "      <td>2019.0</td>\n",
       "      <td>George MacKay, Dean-Charles Chapman</td>\n",
       "      <td>1917</td>\n",
       "      <td>8.3</td>\n",
       "      <td>2019</td>\n",
       "      <td>Film</td>\n",
       "      <td>False</td>\n",
       "    </tr>\n",
       "    <tr>\n",
       "      <th>1</th>\n",
       "      <td>Just Mercy</td>\n",
       "      <td>2019.0</td>\n",
       "      <td>Michael B. Jordan, Jamie Foxx, Brie Larson, Ti...</td>\n",
       "      <td>Just Mercy</td>\n",
       "      <td>7.6</td>\n",
       "      <td>2019</td>\n",
       "      <td>Film</td>\n",
       "      <td>False</td>\n",
       "    </tr>\n",
       "    <tr>\n",
       "      <th>2</th>\n",
       "      <td>Bombshell</td>\n",
       "      <td>2019.0</td>\n",
       "      <td>Charlize Theron, Nicole Kidman, Margot Robbie,...</td>\n",
       "      <td>Bombshell</td>\n",
       "      <td>6.8</td>\n",
       "      <td>2019</td>\n",
       "      <td>Film</td>\n",
       "      <td>False</td>\n",
       "    </tr>\n",
       "    <tr>\n",
       "      <th>3</th>\n",
       "      <td>Cats</td>\n",
       "      <td>2019.0</td>\n",
       "      <td>Francesca Hayward, Judi Dench, Ian McKellan, I...</td>\n",
       "      <td>Cats</td>\n",
       "      <td>2.7</td>\n",
       "      <td>2019</td>\n",
       "      <td>Film</td>\n",
       "      <td>False</td>\n",
       "    </tr>\n",
       "    <tr>\n",
       "      <th>4</th>\n",
       "      <td>Uncut Gems</td>\n",
       "      <td>2019.0</td>\n",
       "      <td>Adam Sandler, Julia Fox, Kevin Garnett, Idina ...</td>\n",
       "      <td>Uncut Gems</td>\n",
       "      <td>7.4</td>\n",
       "      <td>2019</td>\n",
       "      <td>Film</td>\n",
       "      <td>False</td>\n",
       "    </tr>\n",
       "    <tr>\n",
       "      <th>...</th>\n",
       "      <td>...</td>\n",
       "      <td>...</td>\n",
       "      <td>...</td>\n",
       "      <td>...</td>\n",
       "      <td>...</td>\n",
       "      <td>...</td>\n",
       "      <td>...</td>\n",
       "      <td>...</td>\n",
       "    </tr>\n",
       "    <tr>\n",
       "      <th>918</th>\n",
       "      <td>Body of Lies</td>\n",
       "      <td>2008.0</td>\n",
       "      <td>Leonardo DiCaprio, Russell Crowe, Mark Strong,...</td>\n",
       "      <td>Body of Lies</td>\n",
       "      <td>7.1</td>\n",
       "      <td>2008</td>\n",
       "      <td>Film</td>\n",
       "      <td>False</td>\n",
       "    </tr>\n",
       "    <tr>\n",
       "      <th>919</th>\n",
       "      <td>Boogie Nights</td>\n",
       "      <td>1997.0</td>\n",
       "      <td>Mark Wahlberg, Melora Walters, Alfred Molina, ...</td>\n",
       "      <td>Boogie Nights</td>\n",
       "      <td>7.9</td>\n",
       "      <td>1997</td>\n",
       "      <td>Film</td>\n",
       "      <td>False</td>\n",
       "    </tr>\n",
       "    <tr>\n",
       "      <th>920</th>\n",
       "      <td>Ocean's Eight</td>\n",
       "      <td>2018.0</td>\n",
       "      <td>Sandra Bullock, Richard Armitage, Anne Hathawa...</td>\n",
       "      <td>Ocean's Eight</td>\n",
       "      <td>6.3</td>\n",
       "      <td>2018</td>\n",
       "      <td>Film</td>\n",
       "      <td>True</td>\n",
       "    </tr>\n",
       "    <tr>\n",
       "      <th>921</th>\n",
       "      <td>Hereditary</td>\n",
       "      <td>2018.0</td>\n",
       "      <td>Toni Collette, Gabriel Byrne, Alex Wolff, Mill...</td>\n",
       "      <td>Hereditary</td>\n",
       "      <td>7.3</td>\n",
       "      <td>2018</td>\n",
       "      <td>Film</td>\n",
       "      <td>False</td>\n",
       "    </tr>\n",
       "    <tr>\n",
       "      <th>922</th>\n",
       "      <td>Upgrade</td>\n",
       "      <td>2018.0</td>\n",
       "      <td>Logan Marshall-Green, Benedict Hardie, Betty G...</td>\n",
       "      <td>Upgrade</td>\n",
       "      <td>7.5</td>\n",
       "      <td>2018</td>\n",
       "      <td>Film</td>\n",
       "      <td>False</td>\n",
       "    </tr>\n",
       "  </tbody>\n",
       "</table>\n",
       "<p>923 rows × 8 columns</p>\n",
       "</div>"
      ],
      "text/plain": [
       "             title  release_date  \\\n",
       "0             1917        2019.0   \n",
       "1       Just Mercy        2019.0   \n",
       "2        Bombshell        2019.0   \n",
       "3             Cats        2019.0   \n",
       "4       Uncut Gems        2019.0   \n",
       "..             ...           ...   \n",
       "918   Body of Lies        2008.0   \n",
       "919  Boogie Nights        1997.0   \n",
       "920  Ocean's Eight        2018.0   \n",
       "921     Hereditary        2018.0   \n",
       "922        Upgrade        2018.0   \n",
       "\n",
       "                                                  cast           Name  Rate  \\\n",
       "0                  George MacKay, Dean-Charles Chapman           1917   8.3   \n",
       "1    Michael B. Jordan, Jamie Foxx, Brie Larson, Ti...     Just Mercy   7.6   \n",
       "2    Charlize Theron, Nicole Kidman, Margot Robbie,...      Bombshell   6.8   \n",
       "3    Francesca Hayward, Judi Dench, Ian McKellan, I...           Cats   2.7   \n",
       "4    Adam Sandler, Julia Fox, Kevin Garnett, Idina ...     Uncut Gems   7.4   \n",
       "..                                                 ...            ...   ...   \n",
       "918  Leonardo DiCaprio, Russell Crowe, Mark Strong,...   Body of Lies   7.1   \n",
       "919  Mark Wahlberg, Melora Walters, Alfred Molina, ...  Boogie Nights   7.9   \n",
       "920  Sandra Bullock, Richard Armitage, Anne Hathawa...  Ocean's Eight   6.3   \n",
       "921  Toni Collette, Gabriel Byrne, Alex Wolff, Mill...     Hereditary   7.3   \n",
       "922  Logan Marshall-Green, Benedict Hardie, Betty G...        Upgrade   7.5   \n",
       "\n",
       "     Date  Type  Sandra Bullock  \n",
       "0    2019  Film           False  \n",
       "1    2019  Film           False  \n",
       "2    2019  Film           False  \n",
       "3    2019  Film           False  \n",
       "4    2019  Film           False  \n",
       "..    ...   ...             ...  \n",
       "918  2008  Film           False  \n",
       "919  1997  Film           False  \n",
       "920  2018  Film            True  \n",
       "921  2018  Film           False  \n",
       "922  2018  Film           False  \n",
       "\n",
       "[923 rows x 8 columns]"
      ]
     },
     "execution_count": 39,
     "metadata": {},
     "output_type": "execute_result"
    }
   ],
   "source": [
    "merged_dfI['Sandra Bullock'] = castCHK\n",
    "merged_dfI"
   ]
  },
  {
   "cell_type": "markdown",
   "metadata": {},
   "source": [
    "### 4.2. Famous Actor Variable 2: CHOOSE YOUR OWN\n",
    "\n",
    "Use this merged dataframe from #3.4 to create a new variable that indicates whether or not a famous actor was in the film. You can choose your own famous actor. Make sure that it's an actor in at least one film in this merged dataframe from #3.4."
   ]
  },
  {
   "cell_type": "code",
   "execution_count": 40,
   "metadata": {},
   "outputs": [
    {
     "data": {
      "text/plain": [
       "7"
      ]
     },
     "execution_count": 40,
     "metadata": {},
     "output_type": "execute_result"
    }
   ],
   "source": [
    "castCHK2 = merged_dfI['cast'].apply(lambda x: ('Adam Sandler' in x))\n",
    "castCHK2.sum()"
   ]
  },
  {
   "cell_type": "code",
   "execution_count": 41,
   "metadata": {},
   "outputs": [
    {
     "data": {
      "text/html": [
       "<div>\n",
       "<style scoped>\n",
       "    .dataframe tbody tr th:only-of-type {\n",
       "        vertical-align: middle;\n",
       "    }\n",
       "\n",
       "    .dataframe tbody tr th {\n",
       "        vertical-align: top;\n",
       "    }\n",
       "\n",
       "    .dataframe thead th {\n",
       "        text-align: right;\n",
       "    }\n",
       "</style>\n",
       "<table border=\"1\" class=\"dataframe\">\n",
       "  <thead>\n",
       "    <tr style=\"text-align: right;\">\n",
       "      <th></th>\n",
       "      <th>title</th>\n",
       "      <th>release_date</th>\n",
       "      <th>cast</th>\n",
       "      <th>Name</th>\n",
       "      <th>Rate</th>\n",
       "      <th>Date</th>\n",
       "      <th>Type</th>\n",
       "      <th>Sandra Bullock</th>\n",
       "      <th>Adam Sandler</th>\n",
       "    </tr>\n",
       "  </thead>\n",
       "  <tbody>\n",
       "    <tr>\n",
       "      <th>0</th>\n",
       "      <td>1917</td>\n",
       "      <td>2019.0</td>\n",
       "      <td>George MacKay, Dean-Charles Chapman</td>\n",
       "      <td>1917</td>\n",
       "      <td>8.3</td>\n",
       "      <td>2019</td>\n",
       "      <td>Film</td>\n",
       "      <td>False</td>\n",
       "      <td>False</td>\n",
       "    </tr>\n",
       "    <tr>\n",
       "      <th>1</th>\n",
       "      <td>Just Mercy</td>\n",
       "      <td>2019.0</td>\n",
       "      <td>Michael B. Jordan, Jamie Foxx, Brie Larson, Ti...</td>\n",
       "      <td>Just Mercy</td>\n",
       "      <td>7.6</td>\n",
       "      <td>2019</td>\n",
       "      <td>Film</td>\n",
       "      <td>False</td>\n",
       "      <td>False</td>\n",
       "    </tr>\n",
       "    <tr>\n",
       "      <th>2</th>\n",
       "      <td>Bombshell</td>\n",
       "      <td>2019.0</td>\n",
       "      <td>Charlize Theron, Nicole Kidman, Margot Robbie,...</td>\n",
       "      <td>Bombshell</td>\n",
       "      <td>6.8</td>\n",
       "      <td>2019</td>\n",
       "      <td>Film</td>\n",
       "      <td>False</td>\n",
       "      <td>False</td>\n",
       "    </tr>\n",
       "    <tr>\n",
       "      <th>3</th>\n",
       "      <td>Cats</td>\n",
       "      <td>2019.0</td>\n",
       "      <td>Francesca Hayward, Judi Dench, Ian McKellan, I...</td>\n",
       "      <td>Cats</td>\n",
       "      <td>2.7</td>\n",
       "      <td>2019</td>\n",
       "      <td>Film</td>\n",
       "      <td>False</td>\n",
       "      <td>False</td>\n",
       "    </tr>\n",
       "    <tr>\n",
       "      <th>4</th>\n",
       "      <td>Uncut Gems</td>\n",
       "      <td>2019.0</td>\n",
       "      <td>Adam Sandler, Julia Fox, Kevin Garnett, Idina ...</td>\n",
       "      <td>Uncut Gems</td>\n",
       "      <td>7.4</td>\n",
       "      <td>2019</td>\n",
       "      <td>Film</td>\n",
       "      <td>False</td>\n",
       "      <td>True</td>\n",
       "    </tr>\n",
       "    <tr>\n",
       "      <th>...</th>\n",
       "      <td>...</td>\n",
       "      <td>...</td>\n",
       "      <td>...</td>\n",
       "      <td>...</td>\n",
       "      <td>...</td>\n",
       "      <td>...</td>\n",
       "      <td>...</td>\n",
       "      <td>...</td>\n",
       "      <td>...</td>\n",
       "    </tr>\n",
       "    <tr>\n",
       "      <th>918</th>\n",
       "      <td>Body of Lies</td>\n",
       "      <td>2008.0</td>\n",
       "      <td>Leonardo DiCaprio, Russell Crowe, Mark Strong,...</td>\n",
       "      <td>Body of Lies</td>\n",
       "      <td>7.1</td>\n",
       "      <td>2008</td>\n",
       "      <td>Film</td>\n",
       "      <td>False</td>\n",
       "      <td>False</td>\n",
       "    </tr>\n",
       "    <tr>\n",
       "      <th>919</th>\n",
       "      <td>Boogie Nights</td>\n",
       "      <td>1997.0</td>\n",
       "      <td>Mark Wahlberg, Melora Walters, Alfred Molina, ...</td>\n",
       "      <td>Boogie Nights</td>\n",
       "      <td>7.9</td>\n",
       "      <td>1997</td>\n",
       "      <td>Film</td>\n",
       "      <td>False</td>\n",
       "      <td>False</td>\n",
       "    </tr>\n",
       "    <tr>\n",
       "      <th>920</th>\n",
       "      <td>Ocean's Eight</td>\n",
       "      <td>2018.0</td>\n",
       "      <td>Sandra Bullock, Richard Armitage, Anne Hathawa...</td>\n",
       "      <td>Ocean's Eight</td>\n",
       "      <td>6.3</td>\n",
       "      <td>2018</td>\n",
       "      <td>Film</td>\n",
       "      <td>True</td>\n",
       "      <td>False</td>\n",
       "    </tr>\n",
       "    <tr>\n",
       "      <th>921</th>\n",
       "      <td>Hereditary</td>\n",
       "      <td>2018.0</td>\n",
       "      <td>Toni Collette, Gabriel Byrne, Alex Wolff, Mill...</td>\n",
       "      <td>Hereditary</td>\n",
       "      <td>7.3</td>\n",
       "      <td>2018</td>\n",
       "      <td>Film</td>\n",
       "      <td>False</td>\n",
       "      <td>False</td>\n",
       "    </tr>\n",
       "    <tr>\n",
       "      <th>922</th>\n",
       "      <td>Upgrade</td>\n",
       "      <td>2018.0</td>\n",
       "      <td>Logan Marshall-Green, Benedict Hardie, Betty G...</td>\n",
       "      <td>Upgrade</td>\n",
       "      <td>7.5</td>\n",
       "      <td>2018</td>\n",
       "      <td>Film</td>\n",
       "      <td>False</td>\n",
       "      <td>False</td>\n",
       "    </tr>\n",
       "  </tbody>\n",
       "</table>\n",
       "<p>923 rows × 9 columns</p>\n",
       "</div>"
      ],
      "text/plain": [
       "             title  release_date  \\\n",
       "0             1917        2019.0   \n",
       "1       Just Mercy        2019.0   \n",
       "2        Bombshell        2019.0   \n",
       "3             Cats        2019.0   \n",
       "4       Uncut Gems        2019.0   \n",
       "..             ...           ...   \n",
       "918   Body of Lies        2008.0   \n",
       "919  Boogie Nights        1997.0   \n",
       "920  Ocean's Eight        2018.0   \n",
       "921     Hereditary        2018.0   \n",
       "922        Upgrade        2018.0   \n",
       "\n",
       "                                                  cast           Name  Rate  \\\n",
       "0                  George MacKay, Dean-Charles Chapman           1917   8.3   \n",
       "1    Michael B. Jordan, Jamie Foxx, Brie Larson, Ti...     Just Mercy   7.6   \n",
       "2    Charlize Theron, Nicole Kidman, Margot Robbie,...      Bombshell   6.8   \n",
       "3    Francesca Hayward, Judi Dench, Ian McKellan, I...           Cats   2.7   \n",
       "4    Adam Sandler, Julia Fox, Kevin Garnett, Idina ...     Uncut Gems   7.4   \n",
       "..                                                 ...            ...   ...   \n",
       "918  Leonardo DiCaprio, Russell Crowe, Mark Strong,...   Body of Lies   7.1   \n",
       "919  Mark Wahlberg, Melora Walters, Alfred Molina, ...  Boogie Nights   7.9   \n",
       "920  Sandra Bullock, Richard Armitage, Anne Hathawa...  Ocean's Eight   6.3   \n",
       "921  Toni Collette, Gabriel Byrne, Alex Wolff, Mill...     Hereditary   7.3   \n",
       "922  Logan Marshall-Green, Benedict Hardie, Betty G...        Upgrade   7.5   \n",
       "\n",
       "     Date  Type  Sandra Bullock  Adam Sandler  \n",
       "0    2019  Film           False         False  \n",
       "1    2019  Film           False         False  \n",
       "2    2019  Film           False         False  \n",
       "3    2019  Film           False         False  \n",
       "4    2019  Film           False          True  \n",
       "..    ...   ...             ...           ...  \n",
       "918  2008  Film           False         False  \n",
       "919  1997  Film           False         False  \n",
       "920  2018  Film            True         False  \n",
       "921  2018  Film           False         False  \n",
       "922  2018  Film           False         False  \n",
       "\n",
       "[923 rows x 9 columns]"
      ]
     },
     "execution_count": 41,
     "metadata": {},
     "output_type": "execute_result"
    }
   ],
   "source": [
    "merged_dfI['Adam Sandler'] = castCHK2\n",
    "merged_dfI"
   ]
  },
  {
   "cell_type": "markdown",
   "metadata": {},
   "source": [
    "### 4.3. Actor Rating Comparison\n",
    "\n",
    "Create two boxplots.\n",
    "1. One boxplot should show the ratings distribution of films with your first actor in the cast.\n",
    "2. One boxplot should show the ratings distribution of films with your second actor in the cast.\n",
    "3. Does one of these actor's movies have a comparatively much higher distribution of ratings than the other actor? Explain."
   ]
  },
  {
   "cell_type": "code",
   "execution_count": 43,
   "metadata": {},
   "outputs": [
    {
     "data": {
      "text/html": [
       "<div>\n",
       "<style scoped>\n",
       "    .dataframe tbody tr th:only-of-type {\n",
       "        vertical-align: middle;\n",
       "    }\n",
       "\n",
       "    .dataframe tbody tr th {\n",
       "        vertical-align: top;\n",
       "    }\n",
       "\n",
       "    .dataframe thead th {\n",
       "        text-align: right;\n",
       "    }\n",
       "</style>\n",
       "<table border=\"1\" class=\"dataframe\">\n",
       "  <thead>\n",
       "    <tr style=\"text-align: right;\">\n",
       "      <th></th>\n",
       "      <th>release_date</th>\n",
       "      <th>Rate</th>\n",
       "      <th>Date</th>\n",
       "    </tr>\n",
       "  </thead>\n",
       "  <tbody>\n",
       "    <tr>\n",
       "      <th>count</th>\n",
       "      <td>5.000000</td>\n",
       "      <td>5.000000</td>\n",
       "      <td>5.000000</td>\n",
       "    </tr>\n",
       "    <tr>\n",
       "      <th>mean</th>\n",
       "      <td>2009.400000</td>\n",
       "      <td>6.700000</td>\n",
       "      <td>2009.400000</td>\n",
       "    </tr>\n",
       "    <tr>\n",
       "      <th>std</th>\n",
       "      <td>9.502631</td>\n",
       "      <td>0.731437</td>\n",
       "      <td>9.502631</td>\n",
       "    </tr>\n",
       "    <tr>\n",
       "      <th>min</th>\n",
       "      <td>1994.000000</td>\n",
       "      <td>5.900000</td>\n",
       "      <td>1994.000000</td>\n",
       "    </tr>\n",
       "    <tr>\n",
       "      <th>25%</th>\n",
       "      <td>2007.000000</td>\n",
       "      <td>6.300000</td>\n",
       "      <td>2007.000000</td>\n",
       "    </tr>\n",
       "    <tr>\n",
       "      <th>50%</th>\n",
       "      <td>2013.000000</td>\n",
       "      <td>6.400000</td>\n",
       "      <td>2013.000000</td>\n",
       "    </tr>\n",
       "    <tr>\n",
       "      <th>75%</th>\n",
       "      <td>2015.000000</td>\n",
       "      <td>7.200000</td>\n",
       "      <td>2015.000000</td>\n",
       "    </tr>\n",
       "    <tr>\n",
       "      <th>max</th>\n",
       "      <td>2018.000000</td>\n",
       "      <td>7.700000</td>\n",
       "      <td>2018.000000</td>\n",
       "    </tr>\n",
       "  </tbody>\n",
       "</table>\n",
       "</div>"
      ],
      "text/plain": [
       "       release_date      Rate         Date\n",
       "count      5.000000  5.000000     5.000000\n",
       "mean    2009.400000  6.700000  2009.400000\n",
       "std        9.502631  0.731437     9.502631\n",
       "min     1994.000000  5.900000  1994.000000\n",
       "25%     2007.000000  6.300000  2007.000000\n",
       "50%     2013.000000  6.400000  2013.000000\n",
       "75%     2015.000000  7.200000  2015.000000\n",
       "max     2018.000000  7.700000  2018.000000"
      ]
     },
     "execution_count": 43,
     "metadata": {},
     "output_type": "execute_result"
    },
    {
     "data": {
      "image/png": "[encoded data removed]",
      "text/plain": [
       "<Figure size 640x480 with 1 Axes>"
      ]
     },
     "metadata": {},
     "output_type": "display_data"
    }
   ],
   "source": [
    "San = merged_dfI[merged_dfI['Sandra Bullock'] == True]\n",
    "sns.boxplot(x = San['Rate'])\n",
    "San.describe()"
   ]
  },
  {
   "cell_type": "code",
   "execution_count": 44,
   "metadata": {},
   "outputs": [
    {
     "data": {
      "text/html": [
       "<div>\n",
       "<style scoped>\n",
       "    .dataframe tbody tr th:only-of-type {\n",
       "        vertical-align: middle;\n",
       "    }\n",
       "\n",
       "    .dataframe tbody tr th {\n",
       "        vertical-align: top;\n",
       "    }\n",
       "\n",
       "    .dataframe thead th {\n",
       "        text-align: right;\n",
       "    }\n",
       "</style>\n",
       "<table border=\"1\" class=\"dataframe\">\n",
       "  <thead>\n",
       "    <tr style=\"text-align: right;\">\n",
       "      <th></th>\n",
       "      <th>release_date</th>\n",
       "      <th>Rate</th>\n",
       "      <th>Date</th>\n",
       "    </tr>\n",
       "  </thead>\n",
       "  <tbody>\n",
       "    <tr>\n",
       "      <th>count</th>\n",
       "      <td>7.000000</td>\n",
       "      <td>7.000000</td>\n",
       "      <td>7.000000</td>\n",
       "    </tr>\n",
       "    <tr>\n",
       "      <th>mean</th>\n",
       "      <td>2009.428571</td>\n",
       "      <td>6.742857</td>\n",
       "      <td>2009.428571</td>\n",
       "    </tr>\n",
       "    <tr>\n",
       "      <th>std</th>\n",
       "      <td>7.435436</td>\n",
       "      <td>0.475595</td>\n",
       "      <td>7.435436</td>\n",
       "    </tr>\n",
       "    <tr>\n",
       "      <th>min</th>\n",
       "      <td>1996.000000</td>\n",
       "      <td>6.000000</td>\n",
       "      <td>1996.000000</td>\n",
       "    </tr>\n",
       "    <tr>\n",
       "      <th>25%</th>\n",
       "      <td>2007.000000</td>\n",
       "      <td>6.450000</td>\n",
       "      <td>2007.000000</td>\n",
       "    </tr>\n",
       "    <tr>\n",
       "      <th>50%</th>\n",
       "      <td>2011.000000</td>\n",
       "      <td>6.800000</td>\n",
       "      <td>2011.000000</td>\n",
       "    </tr>\n",
       "    <tr>\n",
       "      <th>75%</th>\n",
       "      <td>2013.000000</td>\n",
       "      <td>7.050000</td>\n",
       "      <td>2013.000000</td>\n",
       "    </tr>\n",
       "    <tr>\n",
       "      <th>max</th>\n",
       "      <td>2019.000000</td>\n",
       "      <td>7.400000</td>\n",
       "      <td>2019.000000</td>\n",
       "    </tr>\n",
       "  </tbody>\n",
       "</table>\n",
       "</div>"
      ],
      "text/plain": [
       "       release_date      Rate         Date\n",
       "count      7.000000  7.000000     7.000000\n",
       "mean    2009.428571  6.742857  2009.428571\n",
       "std        7.435436  0.475595     7.435436\n",
       "min     1996.000000  6.000000  1996.000000\n",
       "25%     2007.000000  6.450000  2007.000000\n",
       "50%     2011.000000  6.800000  2011.000000\n",
       "75%     2013.000000  7.050000  2013.000000\n",
       "max     2019.000000  7.400000  2019.000000"
      ]
     },
     "execution_count": 44,
     "metadata": {},
     "output_type": "execute_result"
    },
    {
     "data": {
      "image/png": "[encoded data removed]",
      "text/plain": [
       "<Figure size 640x480 with 1 Axes>"
      ]
     },
     "metadata": {},
     "output_type": "display_data"
    }
   ],
   "source": [
    "Adam = merged_dfI[merged_dfI['Adam Sandler'] == True]\n",
    "sns.boxplot(x = Adam['Rate'])\n",
    "Adam.describe()"
   ]
  },
  {
   "cell_type": "markdown",
   "metadata": {},
   "source": [
    "The distributions between the actors are similar, with only minor differences in numbers. Neither actor stands out significantly from the other."
   ]
  },
  {
   "cell_type": "markdown",
   "metadata": {},
   "source": [
    "### Contribution Report\n",
    "These contribution reports should be included in all group lab assignments. In this contribution report below you should list of the following:\n",
    "1. Names of each team member.\n",
    "2. Contributions of each team member to report.\n",
    "\n",
    "*For example:*\n",
    "\n",
    "*<u>Teammates:</u>*\n",
    "\n",
    "*1. Charles Ancel did 1,2,3*\n",
    "\n",
    "*2. Sophia Bustos did number 4, and 5*"
   ]
  }
 ],
 "metadata": {
  "kernelspec": {
   "display_name": "Python 3 (ipykernel)",
   "language": "python",
   "name": "python3"
  },
  "language_info": {
   "codemirror_mode": {
    "name": "ipython",
    "version": 3
   },
   "file_extension": ".py",
   "mimetype": "text/x-python",
   "name": "python",
   "nbconvert_exporter": "python",
   "pygments_lexer": "ipython3",
   "version": "3.11.1"
  }
 },
 "nbformat": 4,
 "nbformat_minor": 2
}
