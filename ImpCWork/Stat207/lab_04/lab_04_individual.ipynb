{
 "cells": [
  {
   "cell_type": "markdown",
   "metadata": {},
   "source": [
    "# STAT 207 Lab Assignment 4 - Individual Part - [18 total points] - Solutions\n",
    "\n",
    "This individual lab will also be atypical in that the number of points is less than 25."
   ]
  },
  {
   "cell_type": "markdown",
   "metadata": {},
   "source": [
    "## <u>Case Study</u>: Predicting Movie Ratings for *New Datasets*\n",
    "\n",
    "\n",
    "\n",
    "### Movie Rating Dataset Information\n",
    "\n",
    "In the individual and group assignments we will use the data in the `imdb.csv` to pursue our research goals.\n",
    "\n",
    "Each row in the `imdb.csv` file contains the following information about **POPULAR** `films` as well as `series` listed on IMDB.\n",
    "* `Name`\n",
    "* `Date`: the date film/series was released.\n",
    "* `Rate`: the rating of the film/series\n",
    "* `Votes`: how many votes this film/series received on IMDB\n",
    "* `Genre`: a **list** of genres that the film/series is considered to be. Most films/series have multiple genres listed (ex: 'Action, Adventure, Thriller')\n",
    "* `Duration`: the duration of the film/series\n",
    "* `Type`: whether the row is a `Film` or `Series`\n",
    "* `Certificate`: the content rating of the film (ex: 'G', 'PG', 'PG-13', 'R')\n",
    "* `Nudity`: the amount of nudity in the film/series\n",
    "* `Violence`: the amount of violence in the film/series\n",
    "* `Profanity`: the amount of profanity in the film/series\n",
    "* `Alcohol`: the amount of alcohol in the film/series\n",
    "* `Frightening`: the amount of frightening content in the film/series\n",
    "\n",
    "(We will *not* merge this `imdb.csv` ratings dataframe with the actors dataframe in the `ReelView.csv` due to how few rows there were left over after the merge that we saw in the group assignment).\n",
    "\n",
    "\n",
    "### Individual Assignment Research Goal\n",
    "\n",
    "In this individual assignment we would like to build a linear regression model that will predict `Rate` based on other available explanatory variables in the dataset. Ideally, we would like to be to effectively *use* the model that we select to predict the `Rate` of *new* Popular IMDB listed movies that come out. So in other words, we would like to build a linear regression model that we can infer has good `Rate` predictions for *new datasets*.\n",
    "\n",
    "We will fit multiple possible linear regression models and evaluate which of these models might best help us meet our research goal.\n",
    "\n",
    "\n",
    "<p>&nbsp;</p>\n",
    "<table style=\"border: none;border-collapse: collapse;width:102pt;\">\n",
    "    <tbody>\n",
    "        <tr>\n",
    "            <td style=\"color:black;font-size:15px;font-weight:700;font-style:normal;text-decoration:none;font-family:Calibri, sans-serif;text-align:right;vertical-align:bottom;border:.5pt solid windowtext;height:14.25pt;width:51pt;\">Problem</td>\n",
    "            <td style=\"color:black;font-size:15px;font-weight:700;font-style:normal;text-decoration:none;font-family:Calibri, sans-serif;text-align:general;vertical-align:bottom;border:.5pt solid windowtext;border-left:none;width:51pt;\">Points</td>\n",
    "        </tr>\n",
    "        <tr>\n",
    "            <td style=\"color:black;font-size:15px;font-weight:400;font-style:normal;text-decoration:none;font-family:Calibri, sans-serif;text-align:right;vertical-align:bottom;border:.5pt solid windowtext;height:14.25pt;border-top:none;\">1.1</td>\n",
    "            <td style=\"color:black;font-size:15px;font-weight:400;font-style:normal;text-decoration:none;font-family:Calibri, sans-serif;text-align:right;vertical-align:bottom;border:.5pt solid windowtext;border-top:none;border-left:none;\">0.5</td>\n",
    "        </tr>\n",
    "        <tr>\n",
    "            <td style=\"color:black;font-size:15px;font-weight:400;font-style:normal;text-decoration:none;font-family:Calibri, sans-serif;text-align:right;vertical-align:bottom;border:.5pt solid windowtext;height:14.25pt;border-top:none;\">1.2</td>\n",
    "            <td style=\"color:black;font-size:15px;font-weight:400;font-style:normal;text-decoration:none;font-family:Calibri, sans-serif;text-align:right;vertical-align:bottom;border:.5pt solid windowtext;border-top:none;border-left:none;\">0.5</td>\n",
    "        </tr>\n",
    "        <tr>\n",
    "            <td style=\"color:black;font-size:15px;font-weight:400;font-style:normal;text-decoration:none;font-family:Calibri, sans-serif;text-align:right;vertical-align:bottom;border:.5pt solid windowtext;height:14.25pt;border-top:none;\">1.3.1</td>\n",
    "            <td style=\"color:black;font-size:15px;font-weight:400;font-style:normal;text-decoration:none;font-family:Calibri, sans-serif;text-align:right;vertical-align:bottom;border:.5pt solid windowtext;border-top:none;border-left:none;\">0.5</td>\n",
    "        </tr>\n",
    "        <tr>\n",
    "            <td style=\"color:black;font-size:15px;font-weight:400;font-style:normal;text-decoration:none;font-family:Calibri, sans-serif;text-align:right;vertical-align:bottom;border:.5pt solid windowtext;height:14.25pt;border-top:none;\">1.3.2</td>\n",
    "            <td style=\"color:black;font-size:15px;font-weight:400;font-style:normal;text-decoration:none;font-family:Calibri, sans-serif;text-align:right;vertical-align:bottom;border:.5pt solid windowtext;border-top:none;border-left:none;\">0.5</td>\n",
    "        </tr>\n",
    "        <tr>\n",
    "            <td style=\"color:black;font-size:15px;font-weight:400;font-style:normal;text-decoration:none;font-family:Calibri, sans-serif;text-align:right;vertical-align:bottom;border:.5pt solid windowtext;height:14.25pt;border-top:none;\">1.4</td>\n",
    "            <td style=\"color:black;font-size:15px;font-weight:400;font-style:normal;text-decoration:none;font-family:Calibri, sans-serif;text-align:right;vertical-align:bottom;border:.5pt solid windowtext;border-top:none;border-left:none;\">1</td>\n",
    "        </tr>\n",
    "        <tr>\n",
    "            <td style=\"color:black;font-size:15px;font-weight:400;font-style:normal;text-decoration:none;font-family:Calibri, sans-serif;text-align:right;vertical-align:bottom;border:.5pt solid windowtext;height:14.25pt;border-top:none;\">2.1</td>\n",
    "            <td style=\"color:black;font-size:15px;font-weight:400;font-style:normal;text-decoration:none;font-family:Calibri, sans-serif;text-align:right;vertical-align:bottom;border:.5pt solid windowtext;border-top:none;border-left:none;\">1</td>\n",
    "        </tr>\n",
    "        <tr>\n",
    "            <td style=\"color:black;font-size:15px;font-weight:400;font-style:normal;text-decoration:none;font-family:Calibri, sans-serif;text-align:right;vertical-align:bottom;border:.5pt solid windowtext;height:14.25pt;border-top:none;\">2.2</td>\n",
    "            <td style=\"color:black;font-size:15px;font-weight:400;font-style:normal;text-decoration:none;font-family:Calibri, sans-serif;text-align:right;vertical-align:bottom;border:.5pt solid windowtext;border-top:none;border-left:none;\">1</td>\n",
    "        </tr>\n",
    "        <tr>\n",
    "            <td style=\"color:black;font-size:15px;font-weight:400;font-style:normal;text-decoration:none;font-family:Calibri, sans-serif;text-align:right;vertical-align:bottom;border:.5pt solid windowtext;height:14.25pt;border-top:none;\">2.3</td>\n",
    "            <td style=\"color:black;font-size:15px;font-weight:400;font-style:normal;text-decoration:none;font-family:Calibri, sans-serif;text-align:right;vertical-align:bottom;border:.5pt solid windowtext;border-top:none;border-left:none;\">1</td>\n",
    "        </tr>\n",
    "        <tr>\n",
    "            <td style=\"color:black;font-size:15px;font-weight:400;font-style:normal;text-decoration:none;font-family:Calibri, sans-serif;text-align:right;vertical-align:bottom;border:.5pt solid windowtext;height:14.25pt;border-top:none;\">3.1</td>\n",
    "            <td style=\"color:black;font-size:15px;font-weight:400;font-style:normal;text-decoration:none;font-family:Calibri, sans-serif;text-align:right;vertical-align:bottom;border:.5pt solid windowtext;border-top:none;border-left:none;\">1</td>\n",
    "        </tr>\n",
    "        <tr>\n",
    "            <td style=\"color:black;font-size:15px;font-weight:400;font-style:normal;text-decoration:none;font-family:Calibri, sans-serif;text-align:right;vertical-align:bottom;border:.5pt solid windowtext;height:14.25pt;border-top:none;\">3.2</td>\n",
    "            <td style=\"color:black;font-size:15px;font-weight:400;font-style:normal;text-decoration:none;font-family:Calibri, sans-serif;text-align:right;vertical-align:bottom;border:.5pt solid windowtext;border-top:none;border-left:none;\">1</td>\n",
    "        </tr>\n",
    "        <tr>\n",
    "            <td style=\"color:black;font-size:15px;font-weight:400;font-style:normal;text-decoration:none;font-family:Calibri, sans-serif;text-align:right;vertical-align:bottom;border:.5pt solid windowtext;height:14.25pt;border-top:none;\">4</td>\n",
    "            <td style=\"color:black;font-size:15px;font-weight:400;font-style:normal;text-decoration:none;font-family:Calibri, sans-serif;text-align:right;vertical-align:bottom;border:.5pt solid windowtext;border-top:none;border-left:none;\">1</td>\n",
    "        </tr>\n",
    "        <tr>\n",
    "            <td style=\"color:black;font-size:15px;font-weight:400;font-style:normal;text-decoration:none;font-family:Calibri, sans-serif;text-align:right;vertical-align:bottom;border:.5pt solid windowtext;height:14.25pt;border-top:none;\">5.1</td>\n",
    "            <td style=\"color:black;font-size:15px;font-weight:400;font-style:normal;text-decoration:none;font-family:Calibri, sans-serif;text-align:right;vertical-align:bottom;border:.5pt solid windowtext;border-top:none;border-left:none;\">1</td>\n",
    "        </tr>\n",
    "        <tr>\n",
    "            <td style=\"color:black;font-size:15px;font-weight:400;font-style:normal;text-decoration:none;font-family:Calibri, sans-serif;text-align:right;vertical-align:bottom;border:.5pt solid windowtext;height:14.25pt;border-top:none;\">5.2</td>\n",
    "            <td style=\"color:black;font-size:15px;font-weight:400;font-style:normal;text-decoration:none;font-family:Calibri, sans-serif;text-align:right;vertical-align:bottom;border:.5pt solid windowtext;border-top:none;border-left:none;\">1</td>\n",
    "        </tr>\n",
    "        <tr>\n",
    "            <td style=\"color:black;font-size:15px;font-weight:400;font-style:normal;text-decoration:none;font-family:Calibri, sans-serif;text-align:right;vertical-align:bottom;border:.5pt solid windowtext;height:14.25pt;border-top:none;\">5.3</td>\n",
    "            <td style=\"color:black;font-size:15px;font-weight:400;font-style:normal;text-decoration:none;font-family:Calibri, sans-serif;text-align:right;vertical-align:bottom;border:.5pt solid windowtext;border-top:none;border-left:none;\">1</td>\n",
    "        </tr>\n",
    "        <tr>\n",
    "            <td style=\"color:black;font-size:15px;font-weight:400;font-style:normal;text-decoration:none;font-family:Calibri, sans-serif;text-align:right;vertical-align:bottom;border:.5pt solid windowtext;height:14.25pt;border-top:none;\">6.1</td>\n",
    "            <td style=\"color:black;font-size:15px;font-weight:400;font-style:normal;text-decoration:none;font-family:Calibri, sans-serif;text-align:right;vertical-align:bottom;border:.5pt solid windowtext;border-top:none;border-left:none;\">1</td>\n",
    "        </tr>\n",
    "        <tr>\n",
    "            <td style=\"color:black;font-size:15px;font-weight:400;font-style:normal;text-decoration:none;font-family:Calibri, sans-serif;text-align:right;vertical-align:bottom;border:.5pt solid windowtext;height:14.25pt;border-top:none;\">6.2</td>\n",
    "            <td style=\"color:black;font-size:15px;font-weight:400;font-style:normal;text-decoration:none;font-family:Calibri, sans-serif;text-align:right;vertical-align:bottom;border:.5pt solid windowtext;border-top:none;border-left:none;\">1</td>\n",
    "        </tr>\n",
    "        <tr>\n",
    "            <td style=\"color:black;font-size:15px;font-weight:400;font-style:normal;text-decoration:none;font-family:Calibri, sans-serif;text-align:right;vertical-align:bottom;border:.5pt solid windowtext;height:14.25pt;border-top:none;\">6.3</td>\n",
    "            <td style=\"color:black;font-size:15px;font-weight:400;font-style:normal;text-decoration:none;font-family:Calibri, sans-serif;text-align:right;vertical-align:bottom;border:.5pt solid windowtext;border-top:none;border-left:none;\">1</td>\n",
    "        </tr>\n",
    "        <tr>\n",
    "            <td style=\"color:black;font-size:15px;font-weight:400;font-style:normal;text-decoration:none;font-family:Calibri, sans-serif;text-align:right;vertical-align:bottom;border:.5pt solid windowtext;height:14.25pt;border-top:none;\">7.1</td>\n",
    "            <td style=\"color:black;font-size:15px;font-weight:400;font-style:normal;text-decoration:none;font-family:Calibri, sans-serif;text-align:right;vertical-align:bottom;border:.5pt solid windowtext;border-top:none;border-left:none;\">1</td>\n",
    "        </tr>\n",
    "        <tr>\n",
    "            <td style=\"color:black;font-size:15px;font-weight:400;font-style:normal;text-decoration:none;font-family:Calibri, sans-serif;text-align:right;vertical-align:bottom;border:.5pt solid windowtext;height:14.25pt;border-top:none;\">7.2</td>\n",
    "            <td style=\"color:black;font-size:15px;font-weight:400;font-style:normal;text-decoration:none;font-family:Calibri, sans-serif;text-align:right;vertical-align:bottom;border:.5pt solid windowtext;border-top:none;border-left:none;\">1</td>\n",
    "        </tr>\n",
    "        <tr>\n",
    "            <td style=\"color:black;font-size:15px;font-weight:400;font-style:normal;text-decoration:none;font-family:Calibri, sans-serif;text-align:right;vertical-align:bottom;border:.5pt solid windowtext;height:14.25pt;border-top:none;\">7.3</td>\n",
    "            <td style=\"color:black;font-size:15px;font-weight:400;font-style:normal;text-decoration:none;font-family:Calibri, sans-serif;text-align:right;vertical-align:bottom;border:.5pt solid windowtext;border-top:none;border-left:none;\">1</td>\n",
    "        </tr>\n",
    "    </tbody>\n",
    "</table>\n",
    "\n",
    "\n"
   ]
  },
  {
   "cell_type": "code",
   "execution_count": 1,
   "metadata": {},
   "outputs": [],
   "source": [
    "import pandas as pd\n",
    "import numpy as np\n",
    "import seaborn as sns\n",
    "import matplotlib.pyplot as plt"
   ]
  },
  {
   "cell_type": "markdown",
   "metadata": {},
   "source": [
    "## 1. IMDB Dataset\n",
    "\n",
    "### 1.1. Reading the csv\n",
    "\n",
    "1. Read the `imdb.csv` into a dataframe. The strings that are used to represent missing values in this csv file are `No Rate`, `No Votes`, and `None`. Make sure that these values are converted to NaN values when you read the csv file.\n",
    "2. Show the first 5 rows.\n",
    "3. Show how many rows this dataframe has."
   ]
  },
  {
   "cell_type": "code",
   "execution_count": 2,
   "metadata": {},
   "outputs": [
    {
     "data": {
      "text/html": [
       "<div>\n",
       "<style scoped>\n",
       "    .dataframe tbody tr th:only-of-type {\n",
       "        vertical-align: middle;\n",
       "    }\n",
       "\n",
       "    .dataframe tbody tr th {\n",
       "        vertical-align: top;\n",
       "    }\n",
       "\n",
       "    .dataframe thead th {\n",
       "        text-align: right;\n",
       "    }\n",
       "</style>\n",
       "<table border=\"1\" class=\"dataframe\">\n",
       "  <thead>\n",
       "    <tr style=\"text-align: right;\">\n",
       "      <th></th>\n",
       "      <th>Name</th>\n",
       "      <th>Date</th>\n",
       "      <th>Rate</th>\n",
       "      <th>Votes</th>\n",
       "      <th>Genre</th>\n",
       "      <th>Duration</th>\n",
       "      <th>Type</th>\n",
       "      <th>Certificate</th>\n",
       "      <th>Nudity</th>\n",
       "      <th>Violence</th>\n",
       "      <th>Profanity</th>\n",
       "      <th>Alcohol</th>\n",
       "      <th>Frightening</th>\n",
       "    </tr>\n",
       "  </thead>\n",
       "  <tbody>\n",
       "    <tr>\n",
       "      <th>0</th>\n",
       "      <td>No Time to Die</td>\n",
       "      <td>2021</td>\n",
       "      <td>7.6</td>\n",
       "      <td>107163.0</td>\n",
       "      <td>Action, Adventure, Thriller</td>\n",
       "      <td>163.0</td>\n",
       "      <td>Film</td>\n",
       "      <td>PG-13</td>\n",
       "      <td>Mild</td>\n",
       "      <td>Moderate</td>\n",
       "      <td>Mild</td>\n",
       "      <td>Mild</td>\n",
       "      <td>Moderate</td>\n",
       "    </tr>\n",
       "    <tr>\n",
       "      <th>1</th>\n",
       "      <td>The Guilty</td>\n",
       "      <td>2021</td>\n",
       "      <td>6.3</td>\n",
       "      <td>64375.0</td>\n",
       "      <td>Crime, Drama, Thriller</td>\n",
       "      <td>90.0</td>\n",
       "      <td>Film</td>\n",
       "      <td>R</td>\n",
       "      <td>NaN</td>\n",
       "      <td>NaN</td>\n",
       "      <td>Severe</td>\n",
       "      <td>NaN</td>\n",
       "      <td>Moderate</td>\n",
       "    </tr>\n",
       "    <tr>\n",
       "      <th>2</th>\n",
       "      <td>The Many Saints of Newark</td>\n",
       "      <td>2021</td>\n",
       "      <td>6.4</td>\n",
       "      <td>27145.0</td>\n",
       "      <td>Crime, Drama</td>\n",
       "      <td>120.0</td>\n",
       "      <td>Film</td>\n",
       "      <td>R</td>\n",
       "      <td>Moderate</td>\n",
       "      <td>Severe</td>\n",
       "      <td>Severe</td>\n",
       "      <td>Moderate</td>\n",
       "      <td>Moderate</td>\n",
       "    </tr>\n",
       "    <tr>\n",
       "      <th>3</th>\n",
       "      <td>Venom: Let There Be Carnage</td>\n",
       "      <td>2021</td>\n",
       "      <td>6.4</td>\n",
       "      <td>30443.0</td>\n",
       "      <td>Action, Adventure, Sci-Fi</td>\n",
       "      <td>97.0</td>\n",
       "      <td>Film</td>\n",
       "      <td>PG-13</td>\n",
       "      <td>NaN</td>\n",
       "      <td>Moderate</td>\n",
       "      <td>Moderate</td>\n",
       "      <td>Mild</td>\n",
       "      <td>Moderate</td>\n",
       "    </tr>\n",
       "    <tr>\n",
       "      <th>4</th>\n",
       "      <td>Dune</td>\n",
       "      <td>2021</td>\n",
       "      <td>8.3</td>\n",
       "      <td>84636.0</td>\n",
       "      <td>Action, Adventure, Drama</td>\n",
       "      <td>155.0</td>\n",
       "      <td>Film</td>\n",
       "      <td>PG-13</td>\n",
       "      <td>NaN</td>\n",
       "      <td>Moderate</td>\n",
       "      <td>NaN</td>\n",
       "      <td>Mild</td>\n",
       "      <td>Moderate</td>\n",
       "    </tr>\n",
       "  </tbody>\n",
       "</table>\n",
       "</div>"
      ],
      "text/plain": [
       "                          Name  Date  Rate     Votes  \\\n",
       "0               No Time to Die  2021   7.6  107163.0   \n",
       "1                   The Guilty  2021   6.3   64375.0   \n",
       "2    The Many Saints of Newark  2021   6.4   27145.0   \n",
       "3  Venom: Let There Be Carnage  2021   6.4   30443.0   \n",
       "4                         Dune  2021   8.3   84636.0   \n",
       "\n",
       "                         Genre  Duration  Type Certificate    Nudity  \\\n",
       "0  Action, Adventure, Thriller     163.0  Film       PG-13      Mild   \n",
       "1       Crime, Drama, Thriller      90.0  Film           R       NaN   \n",
       "2                 Crime, Drama     120.0  Film           R  Moderate   \n",
       "3    Action, Adventure, Sci-Fi      97.0  Film       PG-13       NaN   \n",
       "4     Action, Adventure, Drama     155.0  Film       PG-13       NaN   \n",
       "\n",
       "   Violence Profanity   Alcohol Frightening  \n",
       "0  Moderate      Mild      Mild    Moderate  \n",
       "1       NaN    Severe       NaN    Moderate  \n",
       "2    Severe    Severe  Moderate    Moderate  \n",
       "3  Moderate  Moderate      Mild    Moderate  \n",
       "4  Moderate       NaN      Mild    Moderate  "
      ]
     },
     "execution_count": 2,
     "metadata": {},
     "output_type": "execute_result"
    }
   ],
   "source": [
    "imdb = pd.read_csv('imdb.csv', na_values=['None', 'No Rate', 'No Votes'])\n",
    "imdb.head(5)"
   ]
  },
  {
   "cell_type": "code",
   "execution_count": 3,
   "metadata": {
    "scrolled": true
   },
   "outputs": [
    {
     "data": {
      "text/plain": [
       "(6178, 13)"
      ]
     },
     "execution_count": 3,
     "metadata": {},
     "output_type": "execute_result"
    }
   ],
   "source": [
    "imdb.shape"
   ]
  },
  {
   "cell_type": "markdown",
   "metadata": {},
   "source": [
    "### 1.2. Missing Value Cleaning\n",
    "\n",
    "1. First create a dataframe that only contains the columns that we care about for this analysis: `Name`, `Rate`, `Date`, `Votes`,`Certificate`, `Type`, `Genre`.\n",
    "2. Then drop all rows with NaN values from this dataframe.\n",
    "3. How many rows did we drop?"
   ]
  },
  {
   "cell_type": "code",
   "execution_count": 4,
   "metadata": {},
   "outputs": [],
   "source": [
    "imdb7 = imdb[[\"Name\", \"Rate\", \"Date\", \"Votes\", \"Certificate\", \"Type\", \"Genre\"]]\n",
    "imdb7_dropped = imdb7.dropna()"
   ]
  },
  {
   "cell_type": "code",
   "execution_count": 5,
   "metadata": {},
   "outputs": [
    {
     "data": {
      "text/plain": [
       "485"
      ]
     },
     "execution_count": 5,
     "metadata": {},
     "output_type": "execute_result"
    }
   ],
   "source": [
    "imdb7.shape[0] - imdb7_dropped.shape[0]"
   ]
  },
  {
   "cell_type": "markdown",
   "metadata": {},
   "source": [
    "We've dropped 485 rows."
   ]
  },
  {
   "cell_type": "markdown",
   "metadata": {},
   "source": [
    "### 1.3. Dropping Duplicate Name Rows\n"
   ]
  },
  {
   "cell_type": "markdown",
   "metadata": {},
   "source": [
    "#### 1.3.1. List of Non-Duplicated Movie Names\n",
    "\n",
    "As we saw in the group assignment, there are rows in this dataframe that have the same movie name. To make things easier for our analysis, let's create a list of all movie `Names` in this dataframe that have ONLY ONE ROW in the dataset that corresponds to it.\n"
   ]
  },
  {
   "cell_type": "code",
   "execution_count": 6,
   "metadata": {},
   "outputs": [],
   "source": [
    "noDups = imdb7_dropped['Name'].value_counts()"
   ]
  },
  {
   "cell_type": "code",
   "execution_count": 8,
   "metadata": {},
   "outputs": [
    {
     "data": {
      "text/plain": [
       "Name\n",
       "House                                 1\n",
       "Buddy Games                           1\n",
       "Master of None                        1\n",
       "American Housewife                    1\n",
       "Elizabeth                             1\n",
       "                                     ..\n",
       "ParaNorman                            1\n",
       "Jupiter's Legacy                      1\n",
       "Friday the 13th: The Final Chapter    1\n",
       "Friday                                1\n",
       "Mannix                                1\n",
       "Name: count, Length: 3298, dtype: int64"
      ]
     },
     "execution_count": 8,
     "metadata": {},
     "output_type": "execute_result"
    }
   ],
   "source": [
    "MNCnt = noDups[noDups == 1]\n",
    "MNCnt"
   ]
  },
  {
   "cell_type": "markdown",
   "metadata": {},
   "source": [
    "#### 1.3.2. Dropping Movies with Duplicate Names\n",
    "\n",
    "Finally, use this `Name` list from 1.3.1 to drop all rows that correspond to a `Name` that had more than one row assigned to it. (Or in other words drop the movies that we considered \"duplicates\").\n",
    "\n",
    "How many additional rows did you drop?"
   ]
  },
  {
   "cell_type": "code",
   "execution_count": 9,
   "metadata": {},
   "outputs": [],
   "source": [
    "imdb7N = imdb7_dropped[imdb7_dropped['Name'].isin(MNCnt.index)]"
   ]
  },
  {
   "cell_type": "code",
   "execution_count": 10,
   "metadata": {},
   "outputs": [
    {
     "data": {
      "text/plain": [
       "2395"
      ]
     },
     "execution_count": 10,
     "metadata": {},
     "output_type": "execute_result"
    }
   ],
   "source": [
    "len(imdb7_dropped) - len(imdb7N)"
   ]
  },
  {
   "cell_type": "markdown",
   "metadata": {},
   "source": [
    "### 1.4. Keeping the Most Common Certificates\n",
    "\n",
    "Finally, let's keep only the movies that correspond to the most \"well known\" content ratings: 'R', 'PG-13', 'PG', 'G'."
   ]
  },
  {
   "cell_type": "code",
   "execution_count": 15,
   "metadata": {},
   "outputs": [
    {
     "data": {
      "text/plain": [
       "(                           Name  Rate  Date     Votes Certificate  Type  \\\n",
       " 0                No Time to Die   7.6  2021  107163.0       PG-13  Film   \n",
       " 2     The Many Saints of Newark   6.4  2021   27145.0           R  Film   \n",
       " 3   Venom: Let There Be Carnage   6.4  2021   30443.0       PG-13  Film   \n",
       " 6                      Free Guy   7.3  2021  153835.0       PG-13  Film   \n",
       " 19                  Black Widow   6.8  2021  246603.0       PG-13  Film   \n",
       " \n",
       "                           Genre  \n",
       " 0   Action, Adventure, Thriller  \n",
       " 2                  Crime, Drama  \n",
       " 3     Action, Adventure, Sci-Fi  \n",
       " 6     Action, Adventure, Comedy  \n",
       " 19    Action, Adventure, Sci-Fi  ,\n",
       " 2081)"
      ]
     },
     "execution_count": 15,
     "metadata": {},
     "output_type": "execute_result"
    }
   ],
   "source": [
    "common_certificates = ['R', 'PG-13', 'PG', 'G']\n",
    "common_certificates_df = imdb7N[imdb7N['Certificate'].isin(common_certificates)]\n",
    "common_certificates_df.head(), common_certificates_df.shape[0]"
   ]
  },
  {
   "cell_type": "markdown",
   "metadata": {},
   "source": [
    "## 2. Pre-Analysis: Movie Names with the Highest Ratings for Each Year\n",
    "\n",
    "Before fitting our linear regression model, let's perform one more pre-analysis. We'd specifically like to find the name(s) of the movies that have the highest `Rate` for each `Date` (ie. year) in the dataset.\n",
    "\n",
    "#2.1 and #2.2 break this down into two steps for you.\n",
    "\n",
    "### 2.1. Dataframe with Highest Ratings\n",
    "\n",
    "First, create a dataframe that shows the highest `Rate` a movie received in each `Date` (ie. year) in the dataframe. Your final dataframe should be comprised of just two columns:\n",
    "* `Date`\n",
    "* `Rate`\n",
    "\n",
    "And your index should be the typical 0,1,2,..."
   ]
  },
  {
   "cell_type": "code",
   "execution_count": 16,
   "metadata": {},
   "outputs": [
    {
     "data": {
      "text/html": [
       "<div>\n",
       "<style scoped>\n",
       "    .dataframe tbody tr th:only-of-type {\n",
       "        vertical-align: middle;\n",
       "    }\n",
       "\n",
       "    .dataframe tbody tr th {\n",
       "        vertical-align: top;\n",
       "    }\n",
       "\n",
       "    .dataframe thead th {\n",
       "        text-align: right;\n",
       "    }\n",
       "</style>\n",
       "<table border=\"1\" class=\"dataframe\">\n",
       "  <thead>\n",
       "    <tr style=\"text-align: right;\">\n",
       "      <th></th>\n",
       "      <th>Date</th>\n",
       "      <th>Rate</th>\n",
       "    </tr>\n",
       "  </thead>\n",
       "  <tbody>\n",
       "    <tr>\n",
       "      <th>0</th>\n",
       "      <td>1939</td>\n",
       "      <td>8.0</td>\n",
       "    </tr>\n",
       "    <tr>\n",
       "      <th>1</th>\n",
       "      <td>1941</td>\n",
       "      <td>8.3</td>\n",
       "    </tr>\n",
       "    <tr>\n",
       "      <th>2</th>\n",
       "      <td>1942</td>\n",
       "      <td>8.5</td>\n",
       "    </tr>\n",
       "    <tr>\n",
       "      <th>3</th>\n",
       "      <td>1946</td>\n",
       "      <td>8.6</td>\n",
       "    </tr>\n",
       "    <tr>\n",
       "      <th>4</th>\n",
       "      <td>1952</td>\n",
       "      <td>8.3</td>\n",
       "    </tr>\n",
       "    <tr>\n",
       "      <th>...</th>\n",
       "      <td>...</td>\n",
       "      <td>...</td>\n",
       "    </tr>\n",
       "    <tr>\n",
       "      <th>67</th>\n",
       "      <td>2018</td>\n",
       "      <td>8.4</td>\n",
       "    </tr>\n",
       "    <tr>\n",
       "      <th>68</th>\n",
       "      <td>2019</td>\n",
       "      <td>8.6</td>\n",
       "    </tr>\n",
       "    <tr>\n",
       "      <th>69</th>\n",
       "      <td>2020</td>\n",
       "      <td>8.4</td>\n",
       "    </tr>\n",
       "    <tr>\n",
       "      <th>70</th>\n",
       "      <td>2021</td>\n",
       "      <td>8.9</td>\n",
       "    </tr>\n",
       "    <tr>\n",
       "      <th>71</th>\n",
       "      <td>2022</td>\n",
       "      <td>6.9</td>\n",
       "    </tr>\n",
       "  </tbody>\n",
       "</table>\n",
       "<p>72 rows × 2 columns</p>\n",
       "</div>"
      ],
      "text/plain": [
       "    Date  Rate\n",
       "0   1939   8.0\n",
       "1   1941   8.3\n",
       "2   1942   8.5\n",
       "3   1946   8.6\n",
       "4   1952   8.3\n",
       "..   ...   ...\n",
       "67  2018   8.4\n",
       "68  2019   8.6\n",
       "69  2020   8.4\n",
       "70  2021   8.9\n",
       "71  2022   6.9\n",
       "\n",
       "[72 rows x 2 columns]"
      ]
     },
     "execution_count": 16,
     "metadata": {},
     "output_type": "execute_result"
    }
   ],
   "source": [
    "highest_ratings_per_year = common_certificates_df.groupby('Date')['Rate'].max().reset_index()\n",
    "\n",
    "highest_ratings_per_year\n"
   ]
  },
  {
   "cell_type": "markdown",
   "metadata": {},
   "source": [
    "### 2.2. Getting the Names of the Movies\n",
    "\n",
    "Next, perform an **inner join merge** of this dataframe from 2.1 and your dataframe from 1.4 on the `Rate` and `Date` columns in both dataframes. "
   ]
  },
  {
   "cell_type": "code",
   "execution_count": 19,
   "metadata": {},
   "outputs": [
    {
     "data": {
      "text/html": [
       "<div>\n",
       "<style scoped>\n",
       "    .dataframe tbody tr th:only-of-type {\n",
       "        vertical-align: middle;\n",
       "    }\n",
       "\n",
       "    .dataframe tbody tr th {\n",
       "        vertical-align: top;\n",
       "    }\n",
       "\n",
       "    .dataframe thead th {\n",
       "        text-align: right;\n",
       "    }\n",
       "</style>\n",
       "<table border=\"1\" class=\"dataframe\">\n",
       "  <thead>\n",
       "    <tr style=\"text-align: right;\">\n",
       "      <th></th>\n",
       "      <th>Date</th>\n",
       "      <th>Rate</th>\n",
       "      <th>Name</th>\n",
       "      <th>Votes</th>\n",
       "      <th>Certificate</th>\n",
       "      <th>Type</th>\n",
       "      <th>Genre</th>\n",
       "    </tr>\n",
       "  </thead>\n",
       "  <tbody>\n",
       "    <tr>\n",
       "      <th>0</th>\n",
       "      <td>1939</td>\n",
       "      <td>8.0</td>\n",
       "      <td>The Wizard of Oz</td>\n",
       "      <td>380235.0</td>\n",
       "      <td>G</td>\n",
       "      <td>Film</td>\n",
       "      <td>Adventure, Family, Fantasy</td>\n",
       "    </tr>\n",
       "    <tr>\n",
       "      <th>1</th>\n",
       "      <td>1941</td>\n",
       "      <td>8.3</td>\n",
       "      <td>Citizen Kane</td>\n",
       "      <td>423573.0</td>\n",
       "      <td>PG</td>\n",
       "      <td>Film</td>\n",
       "      <td>Drama, Mystery</td>\n",
       "    </tr>\n",
       "    <tr>\n",
       "      <th>2</th>\n",
       "      <td>1942</td>\n",
       "      <td>8.5</td>\n",
       "      <td>Casablanca</td>\n",
       "      <td>544369.0</td>\n",
       "      <td>PG</td>\n",
       "      <td>Film</td>\n",
       "      <td>Drama, Romance, War</td>\n",
       "    </tr>\n",
       "    <tr>\n",
       "      <th>3</th>\n",
       "      <td>1946</td>\n",
       "      <td>8.6</td>\n",
       "      <td>It's a Wonderful Life</td>\n",
       "      <td>423418.0</td>\n",
       "      <td>PG</td>\n",
       "      <td>Film</td>\n",
       "      <td>Drama, Family, Fantasy</td>\n",
       "    </tr>\n",
       "    <tr>\n",
       "      <th>4</th>\n",
       "      <td>1952</td>\n",
       "      <td>8.3</td>\n",
       "      <td>Singin' in the Rain</td>\n",
       "      <td>229289.0</td>\n",
       "      <td>G</td>\n",
       "      <td>Film</td>\n",
       "      <td>Comedy, Musical, Romance</td>\n",
       "    </tr>\n",
       "    <tr>\n",
       "      <th>...</th>\n",
       "      <td>...</td>\n",
       "      <td>...</td>\n",
       "      <td>...</td>\n",
       "      <td>...</td>\n",
       "      <td>...</td>\n",
       "      <td>...</td>\n",
       "      <td>...</td>\n",
       "    </tr>\n",
       "    <tr>\n",
       "      <th>77</th>\n",
       "      <td>2018</td>\n",
       "      <td>8.4</td>\n",
       "      <td>Capharnaüm</td>\n",
       "      <td>76398.0</td>\n",
       "      <td>R</td>\n",
       "      <td>Film</td>\n",
       "      <td>Drama</td>\n",
       "    </tr>\n",
       "    <tr>\n",
       "      <th>78</th>\n",
       "      <td>2019</td>\n",
       "      <td>8.6</td>\n",
       "      <td>Gisaengchung</td>\n",
       "      <td>669620.0</td>\n",
       "      <td>R</td>\n",
       "      <td>Film</td>\n",
       "      <td>Comedy, Drama, Thriller</td>\n",
       "    </tr>\n",
       "    <tr>\n",
       "      <th>79</th>\n",
       "      <td>2020</td>\n",
       "      <td>8.4</td>\n",
       "      <td>Hamilton</td>\n",
       "      <td>74919.0</td>\n",
       "      <td>PG-13</td>\n",
       "      <td>Film</td>\n",
       "      <td>Biography, Drama, History</td>\n",
       "    </tr>\n",
       "    <tr>\n",
       "      <th>80</th>\n",
       "      <td>2021</td>\n",
       "      <td>8.9</td>\n",
       "      <td>The Black Phone</td>\n",
       "      <td>132.0</td>\n",
       "      <td>R</td>\n",
       "      <td>Film</td>\n",
       "      <td>Horror</td>\n",
       "    </tr>\n",
       "    <tr>\n",
       "      <th>81</th>\n",
       "      <td>2022</td>\n",
       "      <td>6.9</td>\n",
       "      <td>Hotel Transylvania: Transformania</td>\n",
       "      <td>316.0</td>\n",
       "      <td>PG</td>\n",
       "      <td>Film</td>\n",
       "      <td>Animation, Adventure, Comedy</td>\n",
       "    </tr>\n",
       "  </tbody>\n",
       "</table>\n",
       "<p>82 rows × 7 columns</p>\n",
       "</div>"
      ],
      "text/plain": [
       "    Date  Rate                               Name     Votes Certificate  Type  \\\n",
       "0   1939   8.0                   The Wizard of Oz  380235.0           G  Film   \n",
       "1   1941   8.3                       Citizen Kane  423573.0          PG  Film   \n",
       "2   1942   8.5                         Casablanca  544369.0          PG  Film   \n",
       "3   1946   8.6              It's a Wonderful Life  423418.0          PG  Film   \n",
       "4   1952   8.3                Singin' in the Rain  229289.0           G  Film   \n",
       "..   ...   ...                                ...       ...         ...   ...   \n",
       "77  2018   8.4                         Capharnaüm   76398.0           R  Film   \n",
       "78  2019   8.6                       Gisaengchung  669620.0           R  Film   \n",
       "79  2020   8.4                           Hamilton   74919.0       PG-13  Film   \n",
       "80  2021   8.9                    The Black Phone     132.0           R  Film   \n",
       "81  2022   6.9  Hotel Transylvania: Transformania     316.0          PG  Film   \n",
       "\n",
       "                           Genre  \n",
       "0     Adventure, Family, Fantasy  \n",
       "1                 Drama, Mystery  \n",
       "2            Drama, Romance, War  \n",
       "3         Drama, Family, Fantasy  \n",
       "4       Comedy, Musical, Romance  \n",
       "..                           ...  \n",
       "77                         Drama  \n",
       "78       Comedy, Drama, Thriller  \n",
       "79     Biography, Drama, History  \n",
       "80                        Horror  \n",
       "81  Animation, Adventure, Comedy  \n",
       "\n",
       "[82 rows x 7 columns]"
      ]
     },
     "execution_count": 19,
     "metadata": {},
     "output_type": "execute_result"
    }
   ],
   "source": [
    "highest_rated_movies_merged = highest_ratings_per_year.merge(common_certificates_df, on=['Date', 'Rate'], how='inner')\n",
    "\n",
    "highest_rated_movies_merged\n"
   ]
  },
  {
   "cell_type": "markdown",
   "metadata": {},
   "source": [
    "### 2.3. Why More Rows?\n",
    "\n",
    "Why do you think your dataframe from 2.2 has more rows than your dataframe in 2.1?"
   ]
  },
  {
   "cell_type": "markdown",
   "metadata": {},
   "source": [
    "The dataframe from 2.2 has more rows than the dataframe from 2.1 because multiple movies in some years share the same highest rating."
   ]
  },
  {
   "cell_type": "markdown",
   "metadata": {},
   "source": [
    "## 3. Additional Explanatory Variable\n",
    "\n",
    "Let's create another explanatory variable to use in some of our linear regression models.\n",
    "\n",
    "### 3.1. Creating is_action Variable\n",
    "\n",
    "Create a new variable in your dataframe from 1.4 that indicates whether or not 'Action' is one of the genres listed in the `Genre` column. If 'Action' is included, your variable should say 'yes'. If not, it should say 'no'.\n",
    "\n"
   ]
  },
  {
   "cell_type": "code",
   "execution_count": 20,
   "metadata": {},
   "outputs": [
    {
     "name": "stderr",
     "output_type": "stream",
     "text": [
      "/var/folders/d8/qgb_8zcs7vl6pjzppspg_0sw0000gn/T/ipykernel_49471/3628362032.py:1: SettingWithCopyWarning: \n",
      "A value is trying to be set on a copy of a slice from a DataFrame.\n",
      "Try using .loc[row_indexer,col_indexer] = value instead\n",
      "\n",
      "See the caveats in the documentation: https://pandas.pydata.org/pandas-docs/stable/user_guide/indexing.html#returning-a-view-versus-a-copy\n",
      "  common_certificates_df['is_action'] = common_certificates_df['Genre'].str.contains('Action').apply(lambda x: 'yes' if x else 'no')\n"
     ]
    }
   ],
   "source": [
    "common_certificates_df['is_action'] = common_certificates_df['Genre'].str.contains('Action').apply(lambda x: 'yes' if x else 'no')"
   ]
  },
  {
   "cell_type": "code",
   "execution_count": 21,
   "metadata": {},
   "outputs": [
    {
     "data": {
      "text/html": [
       "<div>\n",
       "<style scoped>\n",
       "    .dataframe tbody tr th:only-of-type {\n",
       "        vertical-align: middle;\n",
       "    }\n",
       "\n",
       "    .dataframe tbody tr th {\n",
       "        vertical-align: top;\n",
       "    }\n",
       "\n",
       "    .dataframe thead th {\n",
       "        text-align: right;\n",
       "    }\n",
       "</style>\n",
       "<table border=\"1\" class=\"dataframe\">\n",
       "  <thead>\n",
       "    <tr style=\"text-align: right;\">\n",
       "      <th></th>\n",
       "      <th>Name</th>\n",
       "      <th>Genre</th>\n",
       "      <th>is_action</th>\n",
       "    </tr>\n",
       "  </thead>\n",
       "  <tbody>\n",
       "    <tr>\n",
       "      <th>0</th>\n",
       "      <td>No Time to Die</td>\n",
       "      <td>Action, Adventure, Thriller</td>\n",
       "      <td>yes</td>\n",
       "    </tr>\n",
       "    <tr>\n",
       "      <th>2</th>\n",
       "      <td>The Many Saints of Newark</td>\n",
       "      <td>Crime, Drama</td>\n",
       "      <td>no</td>\n",
       "    </tr>\n",
       "    <tr>\n",
       "      <th>3</th>\n",
       "      <td>Venom: Let There Be Carnage</td>\n",
       "      <td>Action, Adventure, Sci-Fi</td>\n",
       "      <td>yes</td>\n",
       "    </tr>\n",
       "    <tr>\n",
       "      <th>6</th>\n",
       "      <td>Free Guy</td>\n",
       "      <td>Action, Adventure, Comedy</td>\n",
       "      <td>yes</td>\n",
       "    </tr>\n",
       "    <tr>\n",
       "      <th>19</th>\n",
       "      <td>Black Widow</td>\n",
       "      <td>Action, Adventure, Sci-Fi</td>\n",
       "      <td>yes</td>\n",
       "    </tr>\n",
       "  </tbody>\n",
       "</table>\n",
       "</div>"
      ],
      "text/plain": [
       "                           Name                        Genre is_action\n",
       "0                No Time to Die  Action, Adventure, Thriller       yes\n",
       "2     The Many Saints of Newark                 Crime, Drama        no\n",
       "3   Venom: Let There Be Carnage    Action, Adventure, Sci-Fi       yes\n",
       "6                      Free Guy    Action, Adventure, Comedy       yes\n",
       "19                  Black Widow    Action, Adventure, Sci-Fi       yes"
      ]
     },
     "execution_count": 21,
     "metadata": {},
     "output_type": "execute_result"
    }
   ],
   "source": [
    "common_certificates_df[['Name', 'Genre', 'is_action']].head()"
   ]
  },
  {
   "cell_type": "markdown",
   "metadata": {},
   "source": [
    "### 3.2. Association with Rating\n",
    "\n",
    "Is there a STRONG association between the `Rate` variable and the `is_action` variable in this dataset? Use the appropriate visualization to determine this and explain your answer."
   ]
  },
  {
   "cell_type": "code",
   "execution_count": 24,
   "metadata": {},
   "outputs": [
    {
     "data": {
      "image/png": "[encoded data removed]",
      "text/plain": [
       "<Figure size 1000x600 with 1 Axes>"
      ]
     },
     "metadata": {},
     "output_type": "display_data"
    }
   ],
   "source": [
    "sns.set_style(\"whitegrid\")\n",
    "plt.figure(figsize=(10, 6))\n",
    "sns.boxplot(x='is_action', y='Rate', data=common_certificates_df, palette='pastel')\n",
    "plt.title('Distribution of Ratings for Action vs. Non-Action Movies')\n",
    "plt.xlabel('Is Action Movie')\n",
    "plt.ylabel('Rating')\n",
    "plt.show()"
   ]
  },
  {
   "cell_type": "markdown",
   "metadata": {},
   "source": [
    "The box plot shows differences in rating distributions between \"Action\" and \"Non-Action\" movies. While \"Action\" movies have a slightly higher median rating and a narrower spread, the overall overlap in ratings suggests there isn't a \"STRONG\" association between movie type and rating."
   ]
  },
  {
   "cell_type": "markdown",
   "metadata": {},
   "source": [
    "## 4. Train-Test-Split\n",
    "\n",
    "Randomly split your cleaned dataframe from 1.4 into a training dataframe and a test dataframe. Your training dataframe should be comprised of 85% of the rows and your test dataframe should be comprised of 15% of the rows. **Use a random_state of 100**."
   ]
  },
  {
   "cell_type": "code",
   "execution_count": 25,
   "metadata": {},
   "outputs": [
    {
     "data": {
      "text/plain": [
       "(1768, 313)"
      ]
     },
     "execution_count": 25,
     "metadata": {},
     "output_type": "execute_result"
    }
   ],
   "source": [
    "from sklearn.model_selection import train_test_split\n",
    "\n",
    "train_df, test_df = train_test_split(common_certificates_df, test_size=0.15, random_state=100)\n",
    "\n",
    "train_rows = train_df.shape[0]\n",
    "test_rows = test_df.shape[0]\n",
    "\n",
    "train_rows, test_rows\n"
   ]
  },
  {
   "cell_type": "code",
   "execution_count": 29,
   "metadata": {},
   "outputs": [
    {
     "name": "stdout",
     "output_type": "stream",
     "text": [
      "0.15040845747236906\n",
      "0.8495915425276309\n",
      "1.0\n"
     ]
    }
   ],
   "source": [
    "print(test_rows/len(common_certificates_df))\n",
    "print(train_rows/len(common_certificates_df))\n",
    "print(train_rows/len(common_certificates_df) + test_rows/len(common_certificates_df))"
   ]
  },
  {
   "cell_type": "markdown",
   "metadata": {},
   "source": [
    "## 5. Training and Testing Model 1\n",
    "\n",
    "### 5.1. Fitting the Linear Regression Model with the Training Dataset\n",
    "\n",
    "First, fit a multiple linear regression model with your **training dataset** that predicts `Rate` with the following three explanatory variables:\n",
    "* `Date`\n",
    "* `Votes`\n",
    "* `Certificate`\n",
    "\n",
    "Show your summary output table for this model."
   ]
  },
  {
   "cell_type": "code",
   "execution_count": 30,
   "metadata": {},
   "outputs": [
    {
     "data": {
      "text/html": [
       "<table class=\"simpletable\">\n",
       "<caption>OLS Regression Results</caption>\n",
       "<tr>\n",
       "  <th>Dep. Variable:</th>          <td>Rate</td>       <th>  R-squared:         </th> <td>   0.367</td> \n",
       "</tr>\n",
       "<tr>\n",
       "  <th>Model:</th>                   <td>OLS</td>       <th>  Adj. R-squared:    </th> <td>   0.365</td> \n",
       "</tr>\n",
       "<tr>\n",
       "  <th>Method:</th>             <td>Least Squares</td>  <th>  F-statistic:       </th> <td>   204.6</td> \n",
       "</tr>\n",
       "<tr>\n",
       "  <th>Date:</th>             <td>Tue, 19 Sep 2023</td> <th>  Prob (F-statistic):</th> <td>3.28e-172</td>\n",
       "</tr>\n",
       "<tr>\n",
       "  <th>Time:</th>                 <td>17:25:08</td>     <th>  Log-Likelihood:    </th> <td> -2034.0</td> \n",
       "</tr>\n",
       "<tr>\n",
       "  <th>No. Observations:</th>      <td>  1768</td>      <th>  AIC:               </th> <td>   4080.</td> \n",
       "</tr>\n",
       "<tr>\n",
       "  <th>Df Residuals:</th>          <td>  1762</td>      <th>  BIC:               </th> <td>   4113.</td> \n",
       "</tr>\n",
       "<tr>\n",
       "  <th>Df Model:</th>              <td>     5</td>      <th>                     </th>     <td> </td>    \n",
       "</tr>\n",
       "<tr>\n",
       "  <th>Covariance Type:</th>      <td>nonrobust</td>    <th>                     </th>     <td> </td>    \n",
       "</tr>\n",
       "</table>\n",
       "<table class=\"simpletable\">\n",
       "<tr>\n",
       "             <td></td>                <th>coef</th>     <th>std err</th>      <th>t</th>      <th>P>|t|</th>  <th>[0.025</th>    <th>0.975]</th>  \n",
       "</tr>\n",
       "<tr>\n",
       "  <th>Intercept</th>               <td>   34.6925</td> <td>    2.833</td> <td>   12.248</td> <td> 0.000</td> <td>   29.137</td> <td>   40.248</td>\n",
       "</tr>\n",
       "<tr>\n",
       "  <th>C(Certificate)[T.PG]</th>    <td>   -0.1990</td> <td>    0.147</td> <td>   -1.353</td> <td> 0.176</td> <td>   -0.487</td> <td>    0.090</td>\n",
       "</tr>\n",
       "<tr>\n",
       "  <th>C(Certificate)[T.PG-13]</th> <td>   -0.4171</td> <td>    0.145</td> <td>   -2.876</td> <td> 0.004</td> <td>   -0.702</td> <td>   -0.133</td>\n",
       "</tr>\n",
       "<tr>\n",
       "  <th>C(Certificate)[T.R]</th>     <td>   -0.2036</td> <td>    0.143</td> <td>   -1.424</td> <td> 0.155</td> <td>   -0.484</td> <td>    0.077</td>\n",
       "</tr>\n",
       "<tr>\n",
       "  <th>Date</th>                    <td>   -0.0140</td> <td>    0.001</td> <td>   -9.824</td> <td> 0.000</td> <td>   -0.017</td> <td>   -0.011</td>\n",
       "</tr>\n",
       "<tr>\n",
       "  <th>Votes</th>                   <td> 1.921e-06</td> <td> 6.83e-08</td> <td>   28.128</td> <td> 0.000</td> <td> 1.79e-06</td> <td> 2.06e-06</td>\n",
       "</tr>\n",
       "</table>\n",
       "<table class=\"simpletable\">\n",
       "<tr>\n",
       "  <th>Omnibus:</th>       <td>304.844</td> <th>  Durbin-Watson:     </th> <td>   2.062</td> \n",
       "</tr>\n",
       "<tr>\n",
       "  <th>Prob(Omnibus):</th> <td> 0.000</td>  <th>  Jarque-Bera (JB):  </th> <td> 698.270</td> \n",
       "</tr>\n",
       "<tr>\n",
       "  <th>Skew:</th>          <td>-0.968</td>  <th>  Prob(JB):          </th> <td>2.36e-152</td>\n",
       "</tr>\n",
       "<tr>\n",
       "  <th>Kurtosis:</th>      <td> 5.394</td>  <th>  Cond. No.          </th> <td>5.54e+07</td> \n",
       "</tr>\n",
       "</table><br/><br/>Notes:<br/>[1] Standard Errors assume that the covariance matrix of the errors is correctly specified.<br/>[2] The condition number is large, 5.54e+07. This might indicate that there are<br/>strong multicollinearity or other numerical problems."
      ],
      "text/plain": [
       "<class 'statsmodels.iolib.summary.Summary'>\n",
       "\"\"\"\n",
       "                            OLS Regression Results                            \n",
       "==============================================================================\n",
       "Dep. Variable:                   Rate   R-squared:                       0.367\n",
       "Model:                            OLS   Adj. R-squared:                  0.365\n",
       "Method:                 Least Squares   F-statistic:                     204.6\n",
       "Date:                Tue, 19 Sep 2023   Prob (F-statistic):          3.28e-172\n",
       "Time:                        17:25:08   Log-Likelihood:                -2034.0\n",
       "No. Observations:                1768   AIC:                             4080.\n",
       "Df Residuals:                    1762   BIC:                             4113.\n",
       "Df Model:                           5                                         \n",
       "Covariance Type:            nonrobust                                         \n",
       "===========================================================================================\n",
       "                              coef    std err          t      P>|t|      [0.025      0.975]\n",
       "-------------------------------------------------------------------------------------------\n",
       "Intercept                  34.6925      2.833     12.248      0.000      29.137      40.248\n",
       "C(Certificate)[T.PG]       -0.1990      0.147     -1.353      0.176      -0.487       0.090\n",
       "C(Certificate)[T.PG-13]    -0.4171      0.145     -2.876      0.004      -0.702      -0.133\n",
       "C(Certificate)[T.R]        -0.2036      0.143     -1.424      0.155      -0.484       0.077\n",
       "Date                       -0.0140      0.001     -9.824      0.000      -0.017      -0.011\n",
       "Votes                    1.921e-06   6.83e-08     28.128      0.000    1.79e-06    2.06e-06\n",
       "==============================================================================\n",
       "Omnibus:                      304.844   Durbin-Watson:                   2.062\n",
       "Prob(Omnibus):                  0.000   Jarque-Bera (JB):              698.270\n",
       "Skew:                          -0.968   Prob(JB):                    2.36e-152\n",
       "Kurtosis:                       5.394   Cond. No.                     5.54e+07\n",
       "==============================================================================\n",
       "\n",
       "Notes:\n",
       "[1] Standard Errors assume that the covariance matrix of the errors is correctly specified.\n",
       "[2] The condition number is large, 5.54e+07. This might indicate that there are\n",
       "strong multicollinearity or other numerical problems.\n",
       "\"\"\""
      ]
     },
     "execution_count": 30,
     "metadata": {},
     "output_type": "execute_result"
    }
   ],
   "source": [
    "import statsmodels.api as sm\n",
    "import statsmodels.formula.api as smf\n",
    "\n",
    "# Create a formula for the regression model\n",
    "formula = 'Rate ~ Date + Votes + C(Certificate)'\n",
    "\n",
    "# Fit the linear regression model using the training dataset\n",
    "model_1 = smf.ols(formula=formula, data=train_df).fit()\n",
    "\n",
    "# Display the summary output table for the model\n",
    "model_1.summary()\n"
   ]
  },
  {
   "cell_type": "markdown",
   "metadata": {},
   "source": [
    "### 5.2. Writing out the linear regression model\n",
    "\n",
    "Write out the linear regression model that was fitted in 5.1. Make sure to use the appropriate notation that was discussed in class."
   ]
  },
  {
   "cell_type": "markdown",
   "metadata": {},
   "source": [
    "Using the standard notation for linear regression, the fitted model can be written as:\n",
    " $$ \\hat{y} = \\beta_0 + \\beta_1 \\times \\text{Certificate (PG)} + \\beta_2 \\times \\text{Certificate (PG-13)} + \\beta_3 \\times \\text{Certificate (R)} + \\beta_4 \\times \\text{Date} + \\beta_5 \\times \\text{Votes} + \\epsilon $$\n",
    "\n",
    "Where:\n",
    "- $ \\hat{y} $ is the predicted movie rating (`Rate`).\n",
    "- $ \\beta_0 $ is the intercept.\n",
    "- $ \\beta_1, \\beta_2, \\beta_3, \\beta_4, $ and $ \\beta_5 $ are the coefficients of the explanatory variables.\n",
    "- $ \\epsilon $ is the error term.\n",
    "\n",
    "Plugging in the estimated coefficients from our model:\n",
    "\n",
    "$$ \\hat{y} = 34.6925 - 0.1990 \\times \\text{Certificate (PG)} - 0.4171 \\times \\text{Certificate (PG-13)} - 0.2036 \\times \\text{Certificate (R)} - 0.0140 \\times \\text{Date} + 1.921 \\times 10^{-6} \\times \\text{Votes} + \\epsilon $$\n",
    "\n",
    "This equation represents the linear relationship between the movie rating and the specified explanatory variables based on the training data.\n",
    "\n",
    "Would you like to proceed with the next steps or have further discussions on this model?"
   ]
  },
  {
   "cell_type": "markdown",
   "metadata": {},
   "source": [
    "### 5.3. Test Dataset RMSE\n",
    "\n",
    "Now, calculate the test dataset RMSE of this model 1."
   ]
  },
  {
   "cell_type": "code",
   "execution_count": 31,
   "metadata": {},
   "outputs": [
    {
     "data": {
      "text/plain": [
       "0.7597949433240458"
      ]
     },
     "execution_count": 31,
     "metadata": {},
     "output_type": "execute_result"
    }
   ],
   "source": [
    "from sklearn.metrics import mean_squared_error\n",
    "\n",
    "# 1. Predict the Rate values for the test dataset using the fitted model\n",
    "test_predictions = model_1.predict(test_df)\n",
    "\n",
    "# 2. Calculate the RMSE for the test dataset\n",
    "rmse_test = np.sqrt(mean_squared_error(test_df['Rate'], test_predictions))\n",
    "\n",
    "rmse_test\n"
   ]
  },
  {
   "cell_type": "markdown",
   "metadata": {},
   "source": [
    "## 6. Training and Testing Model 2\n",
    "\n",
    "### 6.1. Fitting the Linear Regression Model with the Training Dataset\n",
    "\n",
    "Now, fit another multiple linear regression model with your **training dataset** that predicts `Rate` with the following four explanatory variables:\n",
    "* `Date`\n",
    "* `Votes`\n",
    "* `Certificate`\n",
    "* `is_action`\n",
    "\n",
    "Show your summary output table for this model."
   ]
  },
  {
   "cell_type": "code",
   "execution_count": 33,
   "metadata": {},
   "outputs": [
    {
     "data": {
      "text/html": [
       "<table class=\"simpletable\">\n",
       "<caption>OLS Regression Results</caption>\n",
       "<tr>\n",
       "  <th>Dep. Variable:</th>          <td>Rate</td>       <th>  R-squared:         </th> <td>   0.383</td> \n",
       "</tr>\n",
       "<tr>\n",
       "  <th>Model:</th>                   <td>OLS</td>       <th>  Adj. R-squared:    </th> <td>   0.381</td> \n",
       "</tr>\n",
       "<tr>\n",
       "  <th>Method:</th>             <td>Least Squares</td>  <th>  F-statistic:       </th> <td>   182.4</td> \n",
       "</tr>\n",
       "<tr>\n",
       "  <th>Date:</th>             <td>Tue, 19 Sep 2023</td> <th>  Prob (F-statistic):</th> <td>9.30e-181</td>\n",
       "</tr>\n",
       "<tr>\n",
       "  <th>Time:</th>                 <td>17:32:41</td>     <th>  Log-Likelihood:    </th> <td> -2011.4</td> \n",
       "</tr>\n",
       "<tr>\n",
       "  <th>No. Observations:</th>      <td>  1768</td>      <th>  AIC:               </th> <td>   4037.</td> \n",
       "</tr>\n",
       "<tr>\n",
       "  <th>Df Residuals:</th>          <td>  1761</td>      <th>  BIC:               </th> <td>   4075.</td> \n",
       "</tr>\n",
       "<tr>\n",
       "  <th>Df Model:</th>              <td>     6</td>      <th>                     </th>     <td> </td>    \n",
       "</tr>\n",
       "<tr>\n",
       "  <th>Covariance Type:</th>      <td>nonrobust</td>    <th>                     </th>     <td> </td>    \n",
       "</tr>\n",
       "</table>\n",
       "<table class=\"simpletable\">\n",
       "<tr>\n",
       "             <td></td>                <th>coef</th>     <th>std err</th>      <th>t</th>      <th>P>|t|</th>  <th>[0.025</th>    <th>0.975]</th>  \n",
       "</tr>\n",
       "<tr>\n",
       "  <th>Intercept</th>               <td>   33.7503</td> <td>    2.801</td> <td>   12.050</td> <td> 0.000</td> <td>   28.257</td> <td>   39.244</td>\n",
       "</tr>\n",
       "<tr>\n",
       "  <th>C(Certificate)[T.PG]</th>    <td>   -0.1535</td> <td>    0.145</td> <td>   -1.055</td> <td> 0.291</td> <td>   -0.439</td> <td>    0.132</td>\n",
       "</tr>\n",
       "<tr>\n",
       "  <th>C(Certificate)[T.PG-13]</th> <td>   -0.3161</td> <td>    0.144</td> <td>   -2.195</td> <td> 0.028</td> <td>   -0.599</td> <td>   -0.034</td>\n",
       "</tr>\n",
       "<tr>\n",
       "  <th>C(Certificate)[T.R]</th>     <td>   -0.1523</td> <td>    0.141</td> <td>   -1.077</td> <td> 0.282</td> <td>   -0.430</td> <td>    0.125</td>\n",
       "</tr>\n",
       "<tr>\n",
       "  <th>C(is_action)[T.yes]</th>     <td>   -0.2681</td> <td>    0.040</td> <td>   -6.748</td> <td> 0.000</td> <td>   -0.346</td> <td>   -0.190</td>\n",
       "</tr>\n",
       "<tr>\n",
       "  <th>Date</th>                    <td>   -0.0135</td> <td>    0.001</td> <td>   -9.598</td> <td> 0.000</td> <td>   -0.016</td> <td>   -0.011</td>\n",
       "</tr>\n",
       "<tr>\n",
       "  <th>Votes</th>                   <td> 1.973e-06</td> <td> 6.79e-08</td> <td>   29.062</td> <td> 0.000</td> <td> 1.84e-06</td> <td> 2.11e-06</td>\n",
       "</tr>\n",
       "</table>\n",
       "<table class=\"simpletable\">\n",
       "<tr>\n",
       "  <th>Omnibus:</th>       <td>342.275</td> <th>  Durbin-Watson:     </th> <td>   2.065</td> \n",
       "</tr>\n",
       "<tr>\n",
       "  <th>Prob(Omnibus):</th> <td> 0.000</td>  <th>  Jarque-Bera (JB):  </th> <td> 842.203</td> \n",
       "</tr>\n",
       "<tr>\n",
       "  <th>Skew:</th>          <td>-1.050</td>  <th>  Prob(JB):          </th> <td>1.31e-183</td>\n",
       "</tr>\n",
       "<tr>\n",
       "  <th>Kurtosis:</th>      <td> 5.650</td>  <th>  Cond. No.          </th> <td>5.55e+07</td> \n",
       "</tr>\n",
       "</table><br/><br/>Notes:<br/>[1] Standard Errors assume that the covariance matrix of the errors is correctly specified.<br/>[2] The condition number is large, 5.55e+07. This might indicate that there are<br/>strong multicollinearity or other numerical problems."
      ],
      "text/plain": [
       "<class 'statsmodels.iolib.summary.Summary'>\n",
       "\"\"\"\n",
       "                            OLS Regression Results                            \n",
       "==============================================================================\n",
       "Dep. Variable:                   Rate   R-squared:                       0.383\n",
       "Model:                            OLS   Adj. R-squared:                  0.381\n",
       "Method:                 Least Squares   F-statistic:                     182.4\n",
       "Date:                Tue, 19 Sep 2023   Prob (F-statistic):          9.30e-181\n",
       "Time:                        17:32:41   Log-Likelihood:                -2011.4\n",
       "No. Observations:                1768   AIC:                             4037.\n",
       "Df Residuals:                    1761   BIC:                             4075.\n",
       "Df Model:                           6                                         \n",
       "Covariance Type:            nonrobust                                         \n",
       "===========================================================================================\n",
       "                              coef    std err          t      P>|t|      [0.025      0.975]\n",
       "-------------------------------------------------------------------------------------------\n",
       "Intercept                  33.7503      2.801     12.050      0.000      28.257      39.244\n",
       "C(Certificate)[T.PG]       -0.1535      0.145     -1.055      0.291      -0.439       0.132\n",
       "C(Certificate)[T.PG-13]    -0.3161      0.144     -2.195      0.028      -0.599      -0.034\n",
       "C(Certificate)[T.R]        -0.1523      0.141     -1.077      0.282      -0.430       0.125\n",
       "C(is_action)[T.yes]        -0.2681      0.040     -6.748      0.000      -0.346      -0.190\n",
       "Date                       -0.0135      0.001     -9.598      0.000      -0.016      -0.011\n",
       "Votes                    1.973e-06   6.79e-08     29.062      0.000    1.84e-06    2.11e-06\n",
       "==============================================================================\n",
       "Omnibus:                      342.275   Durbin-Watson:                   2.065\n",
       "Prob(Omnibus):                  0.000   Jarque-Bera (JB):              842.203\n",
       "Skew:                          -1.050   Prob(JB):                    1.31e-183\n",
       "Kurtosis:                       5.650   Cond. No.                     5.55e+07\n",
       "==============================================================================\n",
       "\n",
       "Notes:\n",
       "[1] Standard Errors assume that the covariance matrix of the errors is correctly specified.\n",
       "[2] The condition number is large, 5.55e+07. This might indicate that there are\n",
       "strong multicollinearity or other numerical problems.\n",
       "\"\"\""
      ]
     },
     "execution_count": 33,
     "metadata": {},
     "output_type": "execute_result"
    }
   ],
   "source": [
    "formula_2 = 'Rate ~ Date + Votes + C(Certificate) + C(is_action)'\n",
    "\n",
    "model_2 = smf.ols(formula=formula_2, data=train_df).fit()\n",
    "\n",
    "model_2.summary()\n"
   ]
  },
  {
   "cell_type": "markdown",
   "metadata": {},
   "source": [
    "### 6.2. Writing out the linear regression model\n",
    "\n",
    "Write out the linear regression model that was fitted in 5.1. Make sure to use the appropriate notation that was discussed in class."
   ]
  },
  {
   "cell_type": "markdown",
   "metadata": {},
   "source": [
    "Using the standard notation for linear regression, the fitted Model 2 can be written as:\n",
    "\n",
    "$$\n",
    "\\hat{y} = \\beta_0 + \\beta_1 \\times \\text{Certificate (PG)} + \\beta_2 \\times \\text{Certificate (PG-13)} + \\beta_3 \\times \\text{Certificate (R)} + \\beta_4 \\times \\text{Date} + \\beta_5 \\times \\text{Votes} + \\beta_6 \\times \\text{Is Action (yes)} + \\epsilon\n",
    "$$\n",
    "\n",
    "Where:\n",
    "- $ \\hat{y} $ is the predicted movie rating (`Rate`).\n",
    "- $ \\beta_0 $ is the intercept.\n",
    "- $ \\beta_1, \\beta_2, \\beta_3, \\beta_4, \\beta_5, $ and $ \\beta_6 $ are the coefficients of the explanatory variables.\n",
    "- $ \\epsilon $ is the error term.\n",
    "\n",
    "Plugging in the estimated coefficients from Model 2:\n",
    "\n",
    "$$\n",
    "\\hat{y} = 33.7503 - 0.1535 \\times \\text{Certificate (PG)} - 0.3161 \\times \\text{Certificate (PG-13)} - 0.1523 \\times \\text{Certificate (R)} - 0.0135 \\times \\text{Date} + 1.973 \\times 10^{-6} \\times \\text{Votes} - 0.2681 \\times \\text{Is Action (yes)} + \\epsilon\n",
    "$$\n",
    "\n",
    "This equation represents the linear relationship between the movie rating and the specified explanatory variables based on the training data for Model 2.\n",
    "\n",
    "Would you like to proceed with the next steps or have further discussions on this model?"
   ]
  },
  {
   "cell_type": "markdown",
   "metadata": {},
   "source": [
    "### 6.3. Test Dataset RMSE\n",
    "\n",
    "Now, calculate the test dataset RMSE of this model 2."
   ]
  },
  {
   "cell_type": "code",
   "execution_count": 34,
   "metadata": {},
   "outputs": [
    {
     "data": {
      "text/plain": [
       "0.7465736382874429"
      ]
     },
     "execution_count": 34,
     "metadata": {},
     "output_type": "execute_result"
    }
   ],
   "source": [
    "test_predictions_2 = model_2.predict(test_df)\n",
    "\n",
    "rmse_test_2 = np.sqrt(mean_squared_error(test_df['Rate'], test_predictions_2))\n",
    "\n",
    "rmse_test_2\n"
   ]
  },
  {
   "cell_type": "markdown",
   "metadata": {},
   "source": [
    "## 7. Evaluating Models\n",
    "\n",
    "### 7.1. Which Model is Better for the Research Goal\n",
    "\n",
    "Does this analysis suggest that model 1 or model 2 will be better at predicting the rating of *new movies*? Explain.\n",
    "\n"
   ]
  },
  {
   "cell_type": "markdown",
   "metadata": {},
   "source": [
    "From our results:\n",
    "\n",
    "* RMSE for Model 1: $0.75980$\n",
    "* RMSE for Model 2: $0.74660$\n",
    "\n",
    "\n",
    "Based on the RMSE values, Model 2 is likely to be better at predicting the rating of new movies compared to Model 1. The inclusion of the `is_action` variable in Model 2 appears to have improved its predictive performance slightly."
   ]
  },
  {
   "cell_type": "markdown",
   "metadata": {},
   "source": [
    "### 7.2. Evaluate of the RMSE\n",
    "\n",
    "Calculate the median `Rate` value of the **test dataset** and compare this to the **test RMSE** of model 1 and 2.\n",
    "\n",
    "Evaluate how \"good\" these RMSE values are. Explain."
   ]
  },
  {
   "cell_type": "code",
   "execution_count": 35,
   "metadata": {},
   "outputs": [
    {
     "data": {
      "text/plain": [
       "6.9"
      ]
     },
     "execution_count": 35,
     "metadata": {},
     "output_type": "execute_result"
    }
   ],
   "source": [
    "median_rate_test = test_df['Rate'].median()\n",
    "\n",
    "median_rate_test\n"
   ]
  },
  {
   "cell_type": "markdown",
   "metadata": {},
   "source": [
    "The median `Rate` value of the test dataset is $6.9$.\n",
    "\n",
    "Now, let's evaluate the RMSE values of Model 1 and Model 2 in comparison to this median:\n",
    "\n",
    "- RMSE for Model 1: $0.7598$\n",
    "- RMSE for Model 2: $0.7466$\n",
    "\n",
    "**Evaluation**:\n",
    "The RMSE values represent the average error in predicting the movie rating. When comparing these values to the median rating of $6.9$:\n",
    "\n",
    "- The RMSE for both models is approximately $11\\%$ of the median rating (given $0.75/6.9 \\approx 0.11$). \n",
    "- An RMSE of $0.75$ on a rating scale that likely ranges from 1 to 10 means that, on average, our predictions are off by $0.75$ rating points.\n"
   ]
  },
  {
   "cell_type": "markdown",
   "metadata": {},
   "source": [
    "### 7.3. Rating Prediction\n",
    "\n",
    "Use your model 2 to predict the rating of a movie that is PG-13, not an Action film, was released in 2008, and has 100,000 votes. Calculate this prediction \"by hand\" (ie. don't use a function.)"
   ]
  },
  {
   "cell_type": "markdown",
   "metadata": {},
   "source": [
    "From Model 2, our regression equation is:\n",
    "\n",
    "$$\n",
    "\\hat{y} = \\beta_0 + \\beta_1 \\times \\text{Certificate(PG)} + \\beta_2 \\times \\text{Certificate(PG-13)} + \\beta_3 \\times \\text{Certificate(R)} + \\beta_4 \\times \\text{Date} + \\beta_5 \\times \\text{Votes} + \\beta_6 \\times \\text{Is Action(yes)}\n",
    "$$\n",
    "\n",
    "Where:\n",
    "- $ \\beta_0 $ (Intercept) = 33.7503\n",
    "- $ \\beta_1 $ (Coefficient for Certificate(PG)) = -0.1535\n",
    "- $ \\beta_2 $ (Coefficient for Certificate(PG-13)) = -0.3161\n",
    "- $ \\beta_3 $ (Coefficient for Certificate(R)) = -0.1523\n",
    "- $ \\beta_4 $ (Coefficient for Date) = -0.0135\n",
    "- $ \\beta_5 $ (Coefficient for Votes) = 1.973e-6\n",
    "- $ \\beta_6 $ (Coefficient for Is Action(yes)) = -0.2681\n",
    "\n",
    "Given the movie details:\n",
    "- Certificate(PG) = $0$ (since it's PG-13)\n",
    "- Certificate(PG-13) = $1$\n",
    "- Certificate(R) = $0$\n",
    "- Date = $2008$\n",
    "- Votes = $100,000$\n",
    "- Is Action(yes) = $$ (since it's not an Action film)\n",
    "\n",
    "Plugging in these values, we'll calculate the predicted rating.\n",
    "\n",
    "Using Model 2 and calculating \"by hand,\" the predicted rating for a movie that is PG-13, not an Action film, released in $2008$, and has $100,000$ votes is approximately $6.52$."
   ]
  },
  {
   "cell_type": "code",
   "execution_count": 36,
   "metadata": {},
   "outputs": [
    {
     "data": {
      "text/plain": [
       "6.523500000000004"
      ]
     },
     "execution_count": 36,
     "metadata": {},
     "output_type": "execute_result"
    }
   ],
   "source": [
    "# Coefficients from Model 2\n",
    "beta_0 = 33.7503\n",
    "beta_1 = -0.1535\n",
    "beta_2 = -0.3161\n",
    "beta_3 = -0.1523\n",
    "beta_4 = -0.0135\n",
    "beta_5 = 1.973e-6\n",
    "beta_6 = -0.2681\n",
    "\n",
    "# Given movie details\n",
    "certificate_PG = 0\n",
    "certificate_PG_13 = 1\n",
    "certificate_R = 0\n",
    "date = 2008\n",
    "votes = 100000\n",
    "is_action_yes = 0\n",
    "\n",
    "# Predicted rating using the regression equation\n",
    "predicted_rate = (beta_0 + \n",
    "                  beta_1 * certificate_PG + \n",
    "                  beta_2 * certificate_PG_13 + \n",
    "                  beta_3 * certificate_R + \n",
    "                  beta_4 * date + \n",
    "                  beta_5 * votes + \n",
    "                  beta_6 * is_action_yes)\n",
    "\n",
    "predicted_rate\n"
   ]
  }
 ],
 "metadata": {
  "kernelspec": {
   "display_name": "Python 3 (ipykernel)",
   "language": "python",
   "name": "python3"
  },
  "language_info": {
   "codemirror_mode": {
    "name": "ipython",
    "version": 3
   },
   "file_extension": ".py",
   "mimetype": "text/x-python",
   "name": "python",
   "nbconvert_exporter": "python",
   "pygments_lexer": "ipython3",
   "version": "3.11.1"
  }
 },
 "nbformat": 4,
 "nbformat_minor": 2
}
